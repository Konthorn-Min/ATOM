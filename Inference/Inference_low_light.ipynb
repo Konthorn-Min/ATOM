{
  "cells": [
    {
      "cell_type": "markdown",
      "metadata": {
        "id": "Qyq7AX0xoxKw"
      },
      "source": [
        "#Ref code :\n",
        "<a href=\"https://colab.research.google.com/github/wandb/examples/blob/master/colabs/keras/restorers/Inference_low_light.ipynb\" target=\"_parent\"><img src=\"https://colab.research.google.com/assets/colab-badge.svg\" alt=\"Open In Colab\"/></a>\n",
        "<!--- @wandbcode{restorers-inference} -->"
      ]
    },
    {
      "cell_type": "markdown",
      "source": [
        "Ref code : https://colab.research.google.com/github/wandb/examples/blob/master/colabs/keras/restorers/Inference_low_light.ipynb"
      ],
      "metadata": {
        "id": "qJUonejt7qFL"
      }
    },
    {
      "cell_type": "markdown",
      "metadata": {
        "id": "Syt22c9foxK1"
      },
      "source": [
        "#Pls read : Inference\n",
        "*   เป็นโค้ดที่ดึงค่า  weight  มาจาก Restorers ใน https://github.com/TrystAI/restorers\n",
        "*   โค้ดนี้เป็นการทดลงนำภาพมาปรับปรุงคุณภาพด้วยน้ำหนัก weight ของโมเดล และดูผลลัพธ์ใน wandb"
      ]
    },
    {
      "cell_type": "code",
      "execution_count": null,
      "metadata": {
        "vscode": {
          "languageId": "python"
        },
        "id": "f6gPtT_OoxK2",
        "colab": {
          "base_uri": "https://localhost:8080/"
        },
        "outputId": "5a3008a5-2750-461e-c6a7-24ecf5bae705"
      },
      "outputs": [
        {
          "output_type": "stream",
          "name": "stdout",
          "text": [
            "\u001b[33mWARNING: Running pip as the 'root' user can result in broken permissions and conflicting behaviour with the system package manager. It is recommended to use a virtual environment instead: https://pip.pypa.io/warnings/venv\u001b[0m\u001b[33m\n",
            "\u001b[0mCollecting git+https://github.com/soumik12345/restorers.git\n",
            "  Cloning https://github.com/soumik12345/restorers.git to /tmp/pip-req-build-0djakle3\n",
            "  Running command git clone --filter=blob:none --quiet https://github.com/soumik12345/restorers.git /tmp/pip-req-build-0djakle3\n",
            "  Resolved https://github.com/soumik12345/restorers.git to commit f84b63af3f6b5fc117e2a34eac00880180f8aa0e\n",
            "  Installing build dependencies ... \u001b[?25l\u001b[?25hdone\n",
            "  Getting requirements to build wheel ... \u001b[?25l\u001b[?25hdone\n",
            "  Installing backend dependencies ... \u001b[?25l\u001b[?25hdone\n",
            "  Preparing metadata (pyproject.toml) ... \u001b[?25l\u001b[?25hdone\n",
            "Requirement already satisfied: isort==5.10.1 in /usr/local/lib/python3.10/dist-packages (from restorers==0.0.0) (5.10.1)\n",
            "Requirement already satisfied: black==22.6.0 in /usr/local/lib/python3.10/dist-packages (from restorers==0.0.0) (22.6.0)\n",
            "Requirement already satisfied: pytest==7.1.2 in /usr/local/lib/python3.10/dist-packages (from restorers==0.0.0) (7.1.2)\n",
            "Requirement already satisfied: matplotlib>=3.5.3 in /usr/local/lib/python3.10/dist-packages (from restorers==0.0.0) (3.7.1)\n",
            "Requirement already satisfied: ml-collections==0.1.1 in /usr/local/lib/python3.10/dist-packages (from restorers==0.0.0) (0.1.1)\n",
            "Requirement already satisfied: pillow in /usr/local/lib/python3.10/dist-packages (from restorers==0.0.0) (9.4.0)\n",
            "Requirement already satisfied: tqdm in /usr/local/lib/python3.10/dist-packages (from restorers==0.0.0) (4.66.1)\n",
            "Requirement already satisfied: wandb>=0.13.6 in /usr/local/lib/python3.10/dist-packages (from restorers==0.0.0) (0.16.1)\n",
            "Requirement already satisfied: click>=8.0.0 in /usr/local/lib/python3.10/dist-packages (from black==22.6.0->restorers==0.0.0) (8.1.7)\n",
            "Requirement already satisfied: platformdirs>=2 in /usr/local/lib/python3.10/dist-packages (from black==22.6.0->restorers==0.0.0) (4.1.0)\n",
            "Requirement already satisfied: pathspec>=0.9.0 in /usr/local/lib/python3.10/dist-packages (from black==22.6.0->restorers==0.0.0) (0.12.1)\n",
            "Requirement already satisfied: mypy-extensions>=0.4.3 in /usr/local/lib/python3.10/dist-packages (from black==22.6.0->restorers==0.0.0) (1.0.0)\n",
            "Requirement already satisfied: tomli>=1.1.0 in /usr/local/lib/python3.10/dist-packages (from black==22.6.0->restorers==0.0.0) (2.0.1)\n",
            "Requirement already satisfied: absl-py in /usr/local/lib/python3.10/dist-packages (from ml-collections==0.1.1->restorers==0.0.0) (1.4.0)\n",
            "Requirement already satisfied: PyYAML in /usr/local/lib/python3.10/dist-packages (from ml-collections==0.1.1->restorers==0.0.0) (6.0.1)\n",
            "Requirement already satisfied: six in /usr/local/lib/python3.10/dist-packages (from ml-collections==0.1.1->restorers==0.0.0) (1.16.0)\n",
            "Requirement already satisfied: contextlib2 in /usr/local/lib/python3.10/dist-packages (from ml-collections==0.1.1->restorers==0.0.0) (21.6.0)\n",
            "Requirement already satisfied: attrs>=19.2.0 in /usr/local/lib/python3.10/dist-packages (from pytest==7.1.2->restorers==0.0.0) (23.1.0)\n",
            "Requirement already satisfied: iniconfig in /usr/local/lib/python3.10/dist-packages (from pytest==7.1.2->restorers==0.0.0) (2.0.0)\n",
            "Requirement already satisfied: packaging in /usr/local/lib/python3.10/dist-packages (from pytest==7.1.2->restorers==0.0.0) (23.2)\n",
            "Requirement already satisfied: pluggy<2.0,>=0.12 in /usr/local/lib/python3.10/dist-packages (from pytest==7.1.2->restorers==0.0.0) (1.3.0)\n",
            "Requirement already satisfied: py>=1.8.2 in /usr/local/lib/python3.10/dist-packages (from pytest==7.1.2->restorers==0.0.0) (1.11.0)\n",
            "Requirement already satisfied: contourpy>=1.0.1 in /usr/local/lib/python3.10/dist-packages (from matplotlib>=3.5.3->restorers==0.0.0) (1.2.0)\n",
            "Requirement already satisfied: cycler>=0.10 in /usr/local/lib/python3.10/dist-packages (from matplotlib>=3.5.3->restorers==0.0.0) (0.12.1)\n",
            "Requirement already satisfied: fonttools>=4.22.0 in /usr/local/lib/python3.10/dist-packages (from matplotlib>=3.5.3->restorers==0.0.0) (4.46.0)\n",
            "Requirement already satisfied: kiwisolver>=1.0.1 in /usr/local/lib/python3.10/dist-packages (from matplotlib>=3.5.3->restorers==0.0.0) (1.4.5)\n",
            "Requirement already satisfied: numpy>=1.20 in /usr/local/lib/python3.10/dist-packages (from matplotlib>=3.5.3->restorers==0.0.0) (1.23.5)\n",
            "Requirement already satisfied: pyparsing>=2.3.1 in /usr/local/lib/python3.10/dist-packages (from matplotlib>=3.5.3->restorers==0.0.0) (3.1.1)\n",
            "Requirement already satisfied: python-dateutil>=2.7 in /usr/local/lib/python3.10/dist-packages (from matplotlib>=3.5.3->restorers==0.0.0) (2.8.2)\n",
            "Requirement already satisfied: GitPython!=3.1.29,>=1.0.0 in /usr/local/lib/python3.10/dist-packages (from wandb>=0.13.6->restorers==0.0.0) (3.1.40)\n",
            "Requirement already satisfied: requests<3,>=2.0.0 in /usr/local/lib/python3.10/dist-packages (from wandb>=0.13.6->restorers==0.0.0) (2.31.0)\n",
            "Requirement already satisfied: psutil>=5.0.0 in /usr/local/lib/python3.10/dist-packages (from wandb>=0.13.6->restorers==0.0.0) (5.9.5)\n",
            "Requirement already satisfied: sentry-sdk>=1.0.0 in /usr/local/lib/python3.10/dist-packages (from wandb>=0.13.6->restorers==0.0.0) (1.39.1)\n",
            "Requirement already satisfied: docker-pycreds>=0.4.0 in /usr/local/lib/python3.10/dist-packages (from wandb>=0.13.6->restorers==0.0.0) (0.4.0)\n",
            "Requirement already satisfied: setproctitle in /usr/local/lib/python3.10/dist-packages (from wandb>=0.13.6->restorers==0.0.0) (1.3.3)\n",
            "Requirement already satisfied: setuptools in /usr/local/lib/python3.10/dist-packages (from wandb>=0.13.6->restorers==0.0.0) (69.0.3)\n",
            "Requirement already satisfied: appdirs>=1.4.3 in /usr/local/lib/python3.10/dist-packages (from wandb>=0.13.6->restorers==0.0.0) (1.4.4)\n",
            "Requirement already satisfied: protobuf!=4.21.0,<5,>=3.19.0 in /usr/local/lib/python3.10/dist-packages (from wandb>=0.13.6->restorers==0.0.0) (3.20.3)\n",
            "Requirement already satisfied: gitdb<5,>=4.0.1 in /usr/local/lib/python3.10/dist-packages (from GitPython!=3.1.29,>=1.0.0->wandb>=0.13.6->restorers==0.0.0) (4.0.11)\n",
            "Requirement already satisfied: charset-normalizer<4,>=2 in /usr/local/lib/python3.10/dist-packages (from requests<3,>=2.0.0->wandb>=0.13.6->restorers==0.0.0) (3.3.2)\n",
            "Requirement already satisfied: idna<4,>=2.5 in /usr/local/lib/python3.10/dist-packages (from requests<3,>=2.0.0->wandb>=0.13.6->restorers==0.0.0) (3.6)\n",
            "Requirement already satisfied: urllib3<3,>=1.21.1 in /usr/local/lib/python3.10/dist-packages (from requests<3,>=2.0.0->wandb>=0.13.6->restorers==0.0.0) (2.0.7)\n",
            "Requirement already satisfied: certifi>=2017.4.17 in /usr/local/lib/python3.10/dist-packages (from requests<3,>=2.0.0->wandb>=0.13.6->restorers==0.0.0) (2023.11.17)\n",
            "Requirement already satisfied: smmap<6,>=3.0.1 in /usr/local/lib/python3.10/dist-packages (from gitdb<5,>=4.0.1->GitPython!=3.1.29,>=1.0.0->wandb>=0.13.6->restorers==0.0.0) (5.0.1)\n",
            "\u001b[33mWARNING: Running pip as the 'root' user can result in broken permissions and conflicting behaviour with the system package manager. It is recommended to use a virtual environment instead: https://pip.pypa.io/warnings/venv\u001b[0m\u001b[33m\n",
            "\u001b[0m"
          ]
        }
      ],
      "source": [
        "!pip install -q --upgrade pip setuptools\n",
        "!pip install git+https://github.com/soumik12345/restorers.git"
      ]
    },
    {
      "cell_type": "code",
      "execution_count": null,
      "metadata": {
        "vscode": {
          "languageId": "python"
        },
        "id": "I9zcRpIBoxK3"
      },
      "outputs": [],
      "source": [
        "import os\n",
        "import wandb\n",
        "from restorers.inference import LowLightInferer"
      ]
    },
    {
      "cell_type": "code",
      "execution_count": null,
      "metadata": {
        "vscode": {
          "languageId": "python"
        },
        "id": "-6rdKuuEoxK4",
        "colab": {
          "base_uri": "https://localhost:8080/",
          "height": 143
        },
        "outputId": "3c3111b8-31c3-41e1-ad26-67ff55febe0b"
      },
      "outputs": [
        {
          "output_type": "stream",
          "name": "stderr",
          "text": [
            "\u001b[34m\u001b[1mwandb\u001b[0m: Currently logged in as: \u001b[33mkontorn9944\u001b[0m (\u001b[33mkonthorn\u001b[0m). Use \u001b[1m`wandb login --relogin`\u001b[0m to force relogin\n"
          ]
        },
        {
          "output_type": "display_data",
          "data": {
            "text/plain": [
              "<IPython.core.display.HTML object>"
            ],
            "text/html": [
              "Tracking run with wandb version 0.16.1"
            ]
          },
          "metadata": {}
        },
        {
          "output_type": "display_data",
          "data": {
            "text/plain": [
              "<IPython.core.display.HTML object>"
            ],
            "text/html": [
              "Run data is saved locally in <code>/content/wandb/run-20231227_004310-bhodl97m</code>"
            ]
          },
          "metadata": {}
        },
        {
          "output_type": "display_data",
          "data": {
            "text/plain": [
              "<IPython.core.display.HTML object>"
            ],
            "text/html": [
              "Syncing run <strong><a href='https://wandb.ai/konthorn/low-light-enhancement/runs/bhodl97m' target=\"_blank\">effortless-silence-15</a></strong> to <a href='https://wandb.ai/konthorn/low-light-enhancement' target=\"_blank\">Weights & Biases</a> (<a href='https://wandb.me/run' target=\"_blank\">docs</a>)<br/>"
            ]
          },
          "metadata": {}
        },
        {
          "output_type": "display_data",
          "data": {
            "text/plain": [
              "<IPython.core.display.HTML object>"
            ],
            "text/html": [
              " View project at <a href='https://wandb.ai/konthorn/low-light-enhancement' target=\"_blank\">https://wandb.ai/konthorn/low-light-enhancement</a>"
            ]
          },
          "metadata": {}
        },
        {
          "output_type": "display_data",
          "data": {
            "text/plain": [
              "<IPython.core.display.HTML object>"
            ],
            "text/html": [
              " View run at <a href='https://wandb.ai/konthorn/low-light-enhancement/runs/bhodl97m' target=\"_blank\">https://wandb.ai/konthorn/low-light-enhancement/runs/bhodl97m</a>"
            ]
          },
          "metadata": {}
        },
        {
          "output_type": "execute_result",
          "data": {
            "text/html": [
              "<button onClick=\"this.nextSibling.style.display='block';this.style.display='none';\">Display W&B run</button><iframe src='https://wandb.ai/konthorn/low-light-enhancement/runs/bhodl97m?jupyter=true' style='border:none;width:100%;height:420px;display:none;'></iframe>"
            ],
            "text/plain": [
              "<wandb.sdk.wandb_run.Run at 0x7a0fa08eb8b0>"
            ]
          },
          "metadata": {},
          "execution_count": 3
        }
      ],
      "source": [
        "# initialize a wandb run for inference\n",
        "wandb.init(project=\"low-light-enhancement\", job_type=\"inference\")"
      ]
    },
    {
      "cell_type": "code",
      "execution_count": null,
      "metadata": {
        "vscode": {
          "languageId": "python"
        },
        "id": "6P7N-7GjoxK4",
        "colab": {
          "base_uri": "https://localhost:8080/"
        },
        "outputId": "d553dbf6-4145-4545-e1f4-04cf59a37e31"
      },
      "outputs": [
        {
          "output_type": "stream",
          "name": "stderr",
          "text": [
            "\u001b[34m\u001b[1mwandb\u001b[0m: \\ 1 of 7 files downloaded...\r\u001b[34m\u001b[1mwandb\u001b[0m:   7 of 7 files downloaded.  \n"
          ]
        }
      ],
      "source": [
        "images_artifact = wandb.use_artifact('ml-colabs/low-light-enhancement/run-7ngsohcn-DarkImagesTable:v0', type='run_table')\n",
        "images_artifact_dir = images_artifact.download()\n",
        "sample_image = os.path.join(images_artifact_dir, \"media/images/9eb60f19ca11d567782b/image_2.png\")"
      ]
    },
    {
      "cell_type": "code",
      "execution_count": null,
      "metadata": {
        "vscode": {
          "languageId": "python"
        },
        "id": "O-1q9y6koxK5",
        "colab": {
          "base_uri": "https://localhost:8080/"
        },
        "outputId": "534f68a1-bcee-4205-a91b-b83cb06eefc6"
      },
      "outputs": [
        {
          "output_type": "stream",
          "name": "stderr",
          "text": [
            "\u001b[34m\u001b[1mwandb\u001b[0m: \\ 1 of 5 files downloaded...\r\u001b[34m\u001b[1mwandb\u001b[0m:   5 of 5 files downloaded.  \n"
          ]
        }
      ],
      "source": [
        "# initialize the inferer\n",
        "inferer = LowLightInferer(\n",
        "    resize_factor=1, model_alias=\"Zero-DCE\"\n",
        ")\n",
        "# intialize the model from wandb artifacts\n",
        "inferer.initialize_model_from_wandb_artifact(\n",
        "    # This artifact address corresponds to a Zero-DCE model trained on the LoL dataset\n",
        "    \"konthorn/low-light-enhancement/run_8jz0cmsm_model:v99\"\n",
        ")\n",
        "# infer on a directory of images\n",
        "# inferer.infer(\"./dark_images\")\n",
        "# or infer on a single image\n",
        "inferer.infer(sample_image)"
      ]
    },
    {
      "cell_type": "code",
      "execution_count": null,
      "metadata": {
        "vscode": {
          "languageId": "python"
        },
        "id": "SGKQxBGjoxK5"
      },
      "outputs": [],
      "source": [
        "wandb.finish()"
      ]
    }
  ],
  "metadata": {
    "kernelspec": {
      "display_name": "Python 3",
      "name": "python3"
    },
    "colab": {
      "provenance": []
    }
  },
  "nbformat": 4,
  "nbformat_minor": 0
}