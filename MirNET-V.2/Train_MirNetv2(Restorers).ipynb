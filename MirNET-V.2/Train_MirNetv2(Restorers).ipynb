{
  "cells": [
    {
      "cell_type": "markdown",
      "metadata": {
        "id": "NKGfe83sPy7Y"
      },
      "source": [
        "#ref code!!!\n",
        "<a href=\"https://colab.research.google.com/github/wandb/examples/blob/master/colabs/keras/restorers/Train_MirNetv2_Restorers.ipynb\" target=\"_parent\"><img src=\"https://colab.research.google.com/assets/colab-badge.svg\" alt=\"Open In Colab\"/></a>\n",
        "<!--- @wandbcode{restorers-mirnetv2-train} -->"
      ]
    },
    {
      "cell_type": "markdown",
      "source": [
        "ref code: https://colab.research.google.com/github/wandb/examples/blob/restorers/colabs/keras/restorers/Train_MirNetv2_Restorers.ipynb"
      ],
      "metadata": {
        "id": "3r_LG_-a0mmE"
      }
    },
    {
      "cell_type": "markdown",
      "metadata": {
        "id": "7l1yvDaiPy7c"
      },
      "source": [
        "#Pls read : code Train_MirNetv2\n",
        "*   เป็นโค้ดที่ดึงค่า  weight  มาจาก Restorers ใน https://github.com/TrystAI/restorers\n",
        "*   ในกรณีที่คุณต้องการใช้ ค่า  weight จาก original code (มี task เพิ่มความคมชัด,contrast,ลดnoising) สามารถทดลองดึงได้จาก !git clone https://github.com/swz30/MIRNetv2.git หรือ https://colab.research.google.com/drive/1HN9Sd8UEqB1k_O8RpdRLL8ZUKcxh5LP8#scrollTo=GLDZ9t1pm9JZ\n",
        "*   ในกรณีที่ต้องการเขียนและเทรนโมเดลด้วยตัวเอง สามารถทดลองโค้ด https://colab.research.google.com/drive/1M-ZTWXVHWygfHq4vsFZcGRdh4iJVkGYl?usp=sharing\n",
        "\n",
        "เนื่องจากเราต้องการทดลองความสามารถของ MirNetv2 จึงไม่ได้มีการปรับ  config เพื่อเพิ่มความสามารถในการเทรนโมเดล\n",
        "\n",
        "\n"
      ]
    },
    {
      "cell_type": "markdown",
      "source": [
        "## ดึง  library และ โครงสร้าง model จาก  Github"
      ],
      "metadata": {
        "id": "jIknV8gx08yL"
      }
    },
    {
      "cell_type": "code",
      "execution_count": null,
      "metadata": {
        "id": "uZ9B329OPy7c",
        "colab": {
          "base_uri": "https://localhost:8080/"
        },
        "outputId": "f80a270d-34a0-470d-8773-bdf8a1c83d28"
      },
      "outputs": [
        {
          "output_type": "stream",
          "name": "stdout",
          "text": [
            "\u001b[33mWARNING: Running pip as the 'root' user can result in broken permissions and conflicting behaviour with the system package manager. It is recommended to use a virtual environment instead: https://pip.pypa.io/warnings/venv\u001b[0m\u001b[33m\n",
            "\u001b[0mCollecting git+https://github.com/soumik12345/restorers.git\n",
            "  Cloning https://github.com/soumik12345/restorers.git to /tmp/pip-req-build-y53blcvz\n",
            "  Running command git clone --filter=blob:none --quiet https://github.com/soumik12345/restorers.git /tmp/pip-req-build-y53blcvz\n",
            "  Resolved https://github.com/soumik12345/restorers.git to commit f84b63af3f6b5fc117e2a34eac00880180f8aa0e\n",
            "  Installing build dependencies ... \u001b[?25l\u001b[?25hdone\n",
            "  Getting requirements to build wheel ... \u001b[?25l\u001b[?25hdone\n",
            "  Installing backend dependencies ... \u001b[?25l\u001b[?25hdone\n",
            "  Preparing metadata (pyproject.toml) ... \u001b[?25l\u001b[?25hdone\n",
            "Requirement already satisfied: isort==5.10.1 in /usr/local/lib/python3.10/dist-packages (from restorers==0.0.0) (5.10.1)\n",
            "Requirement already satisfied: black==22.6.0 in /usr/local/lib/python3.10/dist-packages (from restorers==0.0.0) (22.6.0)\n",
            "Requirement already satisfied: pytest==7.1.2 in /usr/local/lib/python3.10/dist-packages (from restorers==0.0.0) (7.1.2)\n",
            "Requirement already satisfied: matplotlib>=3.5.3 in /usr/local/lib/python3.10/dist-packages (from restorers==0.0.0) (3.7.1)\n",
            "Requirement already satisfied: ml-collections==0.1.1 in /usr/local/lib/python3.10/dist-packages (from restorers==0.0.0) (0.1.1)\n",
            "Requirement already satisfied: pillow in /usr/local/lib/python3.10/dist-packages (from restorers==0.0.0) (9.4.0)\n",
            "Requirement already satisfied: tqdm in /usr/local/lib/python3.10/dist-packages (from restorers==0.0.0) (4.66.1)\n",
            "Requirement already satisfied: wandb>=0.13.6 in /usr/local/lib/python3.10/dist-packages (from restorers==0.0.0) (0.16.1)\n",
            "Requirement already satisfied: click>=8.0.0 in /usr/local/lib/python3.10/dist-packages (from black==22.6.0->restorers==0.0.0) (8.1.7)\n",
            "Requirement already satisfied: platformdirs>=2 in /usr/local/lib/python3.10/dist-packages (from black==22.6.0->restorers==0.0.0) (4.1.0)\n",
            "Requirement already satisfied: pathspec>=0.9.0 in /usr/local/lib/python3.10/dist-packages (from black==22.6.0->restorers==0.0.0) (0.12.1)\n",
            "Requirement already satisfied: mypy-extensions>=0.4.3 in /usr/local/lib/python3.10/dist-packages (from black==22.6.0->restorers==0.0.0) (1.0.0)\n",
            "Requirement already satisfied: tomli>=1.1.0 in /usr/local/lib/python3.10/dist-packages (from black==22.6.0->restorers==0.0.0) (2.0.1)\n",
            "Requirement already satisfied: absl-py in /usr/local/lib/python3.10/dist-packages (from ml-collections==0.1.1->restorers==0.0.0) (1.4.0)\n",
            "Requirement already satisfied: PyYAML in /usr/local/lib/python3.10/dist-packages (from ml-collections==0.1.1->restorers==0.0.0) (6.0.1)\n",
            "Requirement already satisfied: six in /usr/local/lib/python3.10/dist-packages (from ml-collections==0.1.1->restorers==0.0.0) (1.16.0)\n",
            "Requirement already satisfied: contextlib2 in /usr/local/lib/python3.10/dist-packages (from ml-collections==0.1.1->restorers==0.0.0) (21.6.0)\n",
            "Requirement already satisfied: attrs>=19.2.0 in /usr/local/lib/python3.10/dist-packages (from pytest==7.1.2->restorers==0.0.0) (23.1.0)\n",
            "Requirement already satisfied: iniconfig in /usr/local/lib/python3.10/dist-packages (from pytest==7.1.2->restorers==0.0.0) (2.0.0)\n",
            "Requirement already satisfied: packaging in /usr/local/lib/python3.10/dist-packages (from pytest==7.1.2->restorers==0.0.0) (23.2)\n",
            "Requirement already satisfied: pluggy<2.0,>=0.12 in /usr/local/lib/python3.10/dist-packages (from pytest==7.1.2->restorers==0.0.0) (1.3.0)\n",
            "Requirement already satisfied: py>=1.8.2 in /usr/local/lib/python3.10/dist-packages (from pytest==7.1.2->restorers==0.0.0) (1.11.0)\n",
            "Requirement already satisfied: contourpy>=1.0.1 in /usr/local/lib/python3.10/dist-packages (from matplotlib>=3.5.3->restorers==0.0.0) (1.2.0)\n",
            "Requirement already satisfied: cycler>=0.10 in /usr/local/lib/python3.10/dist-packages (from matplotlib>=3.5.3->restorers==0.0.0) (0.12.1)\n",
            "Requirement already satisfied: fonttools>=4.22.0 in /usr/local/lib/python3.10/dist-packages (from matplotlib>=3.5.3->restorers==0.0.0) (4.46.0)\n",
            "Requirement already satisfied: kiwisolver>=1.0.1 in /usr/local/lib/python3.10/dist-packages (from matplotlib>=3.5.3->restorers==0.0.0) (1.4.5)\n",
            "Requirement already satisfied: numpy>=1.20 in /usr/local/lib/python3.10/dist-packages (from matplotlib>=3.5.3->restorers==0.0.0) (1.23.5)\n",
            "Requirement already satisfied: pyparsing>=2.3.1 in /usr/local/lib/python3.10/dist-packages (from matplotlib>=3.5.3->restorers==0.0.0) (3.1.1)\n",
            "Requirement already satisfied: python-dateutil>=2.7 in /usr/local/lib/python3.10/dist-packages (from matplotlib>=3.5.3->restorers==0.0.0) (2.8.2)\n",
            "Requirement already satisfied: GitPython!=3.1.29,>=1.0.0 in /usr/local/lib/python3.10/dist-packages (from wandb>=0.13.6->restorers==0.0.0) (3.1.40)\n",
            "Requirement already satisfied: requests<3,>=2.0.0 in /usr/local/lib/python3.10/dist-packages (from wandb>=0.13.6->restorers==0.0.0) (2.31.0)\n",
            "Requirement already satisfied: psutil>=5.0.0 in /usr/local/lib/python3.10/dist-packages (from wandb>=0.13.6->restorers==0.0.0) (5.9.5)\n",
            "Requirement already satisfied: sentry-sdk>=1.0.0 in /usr/local/lib/python3.10/dist-packages (from wandb>=0.13.6->restorers==0.0.0) (1.39.1)\n",
            "Requirement already satisfied: docker-pycreds>=0.4.0 in /usr/local/lib/python3.10/dist-packages (from wandb>=0.13.6->restorers==0.0.0) (0.4.0)\n",
            "Requirement already satisfied: setproctitle in /usr/local/lib/python3.10/dist-packages (from wandb>=0.13.6->restorers==0.0.0) (1.3.3)\n",
            "Requirement already satisfied: setuptools in /usr/local/lib/python3.10/dist-packages (from wandb>=0.13.6->restorers==0.0.0) (69.0.3)\n",
            "Requirement already satisfied: appdirs>=1.4.3 in /usr/local/lib/python3.10/dist-packages (from wandb>=0.13.6->restorers==0.0.0) (1.4.4)\n",
            "Requirement already satisfied: protobuf!=4.21.0,<5,>=3.19.0 in /usr/local/lib/python3.10/dist-packages (from wandb>=0.13.6->restorers==0.0.0) (3.20.3)\n",
            "Requirement already satisfied: gitdb<5,>=4.0.1 in /usr/local/lib/python3.10/dist-packages (from GitPython!=3.1.29,>=1.0.0->wandb>=0.13.6->restorers==0.0.0) (4.0.11)\n",
            "Requirement already satisfied: charset-normalizer<4,>=2 in /usr/local/lib/python3.10/dist-packages (from requests<3,>=2.0.0->wandb>=0.13.6->restorers==0.0.0) (3.3.2)\n",
            "Requirement already satisfied: idna<4,>=2.5 in /usr/local/lib/python3.10/dist-packages (from requests<3,>=2.0.0->wandb>=0.13.6->restorers==0.0.0) (3.6)\n",
            "Requirement already satisfied: urllib3<3,>=1.21.1 in /usr/local/lib/python3.10/dist-packages (from requests<3,>=2.0.0->wandb>=0.13.6->restorers==0.0.0) (2.0.7)\n",
            "Requirement already satisfied: certifi>=2017.4.17 in /usr/local/lib/python3.10/dist-packages (from requests<3,>=2.0.0->wandb>=0.13.6->restorers==0.0.0) (2023.11.17)\n",
            "Requirement already satisfied: smmap<6,>=3.0.1 in /usr/local/lib/python3.10/dist-packages (from gitdb<5,>=4.0.1->GitPython!=3.1.29,>=1.0.0->wandb>=0.13.6->restorers==0.0.0) (5.0.1)\n",
            "\u001b[33mWARNING: Running pip as the 'root' user can result in broken permissions and conflicting behaviour with the system package manager. It is recommended to use a virtual environment instead: https://pip.pypa.io/warnings/venv\u001b[0m\u001b[33m\n",
            "\u001b[0m"
          ]
        }
      ],
      "source": [
        "!pip install -q --upgrade pip setuptools\n",
        "!pip install git+https://github.com/soumik12345/restorers.git"
      ]
    },
    {
      "cell_type": "code",
      "execution_count": null,
      "metadata": {
        "id": "Ve7RN6JhPy7d",
        "colab": {
          "base_uri": "https://localhost:8080/"
        },
        "outputId": "253eed18-a390-49bf-ffb2-addd0fc91fbb"
      },
      "outputs": [
        {
          "output_type": "stream",
          "name": "stderr",
          "text": [
            "/usr/local/lib/python3.10/dist-packages/restorers/dataloader/base/base_low_light_dataloader.py:8: TqdmExperimentalWarning: Using `tqdm.autonotebook.tqdm` in notebook mode. Use `tqdm.tqdm` instead to force console mode (e.g. in jupyter console)\n",
            "  from tqdm.autonotebook import tqdm\n"
          ]
        }
      ],
      "source": [
        "import wandb\n",
        "import tensorflow as tf\n",
        "from restorers.dataloader import LOLDataLoader"
      ]
    },
    {
      "cell_type": "markdown",
      "source": [
        "## log in wandb + Import dataset\n",
        "*   สามารถดู wandb_api_key ของตัวเอง ได้ที่ https://wandb.ai/authorize\n",
        "*   ดึง Lol dataset จาก artifact_address\n",
        "*   ตั้งเงื่อนไขสำหรับชุดข้อมูล\n",
        "\n",
        "\n",
        "\n"
      ],
      "metadata": {
        "id": "y1pbSl3E1R5_"
      }
    },
    {
      "cell_type": "code",
      "execution_count": null,
      "metadata": {
        "id": "OkiEYSniPy7e",
        "colab": {
          "base_uri": "https://localhost:8080/",
          "height": 275,
          "referenced_widgets": [
            "393066b659304b14b8df409421ce76ff",
            "c64fb07fcab3485999a67933817bd994",
            "5f963327273840739abe491853329900",
            "3c6ffea35cfe457d8421d55a3b4d566f",
            "fe13841b632447a0bb995b02c6f52de8",
            "38c567421ba44d938400f12fb4ed7c97",
            "1d5e573ada984d1282082811b87fc0a4",
            "d296efea27e34a7b8af5a3a9008f8569",
            "d2957cb241874a6e845d852f52927949",
            "543d927b2767424aa69544adc3b344f3",
            "f4502ddf9c68412fbedc8173a8a88f5c",
            "899bff136ad34bc9909e9481cee43162",
            "a3b8ffd554174c1bb4f611099c624581",
            "ca3331a7a5cf4b4eb395f5aea55c2c4c",
            "3143c10fd0c34ef781914d12421a7d59",
            "8ac008ff14564a46bbe62a337316c4ce",
            "eab6434655ae42ce88bfc0c205338538",
            "a602c6b95d934363a48e0582a8094048",
            "1de990f232a344d7a216ea3247963829",
            "c9d1627d07c04bcf95e254f1bafaac77",
            "0794511a5bb14efbb1ca86b16d45baef",
            "24401ebb812e457ea79e15b6098b3ac4",
            "c2e4fb6f77f64b3cb9ce1457d6df4871",
            "689413d8548b41a08bb274a1bb6734f2",
            "218b6c7dbdea4049a8e7cb4a8602299e",
            "359737a0ffa54b10ba5034ef283c5762",
            "7237d025d67d48de89b14ca65b69e4dd",
            "1fba78929ca2460a8f8c7fa6650046b4",
            "ab7aedcd14784ec48ad1aa372b9db820",
            "b1b8cd7aabd442d1b190f0fe753073db",
            "fe2e5c8e7f6d482dbf5b0e79688a3828",
            "c5f276adfb2f4e11a4affaaa9b65686b",
            "bb5997878d90400787046328ac75ffad"
          ]
        },
        "outputId": "ce1fbdbe-5783-4f1c-b1b0-cd5b8e76c74a"
      },
      "outputs": [
        {
          "output_type": "stream",
          "name": "stderr",
          "text": [
            "\u001b[34m\u001b[1mwandb\u001b[0m: Currently logged in as: \u001b[33mkontorn9944\u001b[0m (\u001b[33mkonthorn\u001b[0m). Use \u001b[1m`wandb login --relogin`\u001b[0m to force relogin\n"
          ]
        },
        {
          "output_type": "display_data",
          "data": {
            "text/plain": [
              "<IPython.core.display.HTML object>"
            ],
            "text/html": [
              "Tracking run with wandb version 0.16.1"
            ]
          },
          "metadata": {}
        },
        {
          "output_type": "display_data",
          "data": {
            "text/plain": [
              "<IPython.core.display.HTML object>"
            ],
            "text/html": [
              "Run data is saved locally in <code>/content/wandb/run-20231226_132437-95h1rhqi</code>"
            ]
          },
          "metadata": {}
        },
        {
          "output_type": "display_data",
          "data": {
            "text/plain": [
              "<IPython.core.display.HTML object>"
            ],
            "text/html": [
              "Syncing run <strong><a href='https://wandb.ai/konthorn/low-light-enhancement/runs/95h1rhqi' target=\"_blank\">eager-spaceship-2</a></strong> to <a href='https://wandb.ai/konthorn/low-light-enhancement' target=\"_blank\">Weights & Biases</a> (<a href='https://wandb.me/run' target=\"_blank\">docs</a>)<br/>"
            ]
          },
          "metadata": {}
        },
        {
          "output_type": "display_data",
          "data": {
            "text/plain": [
              "<IPython.core.display.HTML object>"
            ],
            "text/html": [
              " View project at <a href='https://wandb.ai/konthorn/low-light-enhancement' target=\"_blank\">https://wandb.ai/konthorn/low-light-enhancement</a>"
            ]
          },
          "metadata": {}
        },
        {
          "output_type": "display_data",
          "data": {
            "text/plain": [
              "<IPython.core.display.HTML object>"
            ],
            "text/html": [
              " View run at <a href='https://wandb.ai/konthorn/low-light-enhancement/runs/95h1rhqi' target=\"_blank\">https://wandb.ai/konthorn/low-light-enhancement/runs/95h1rhqi</a>"
            ]
          },
          "metadata": {}
        },
        {
          "output_type": "stream",
          "name": "stderr",
          "text": [
            "\u001b[34m\u001b[1mwandb\u001b[0m: Downloading large artifact LoL:v0, 331.95MB. 1003 files... \n",
            "\u001b[34m\u001b[1mwandb\u001b[0m:   1003 of 1003 files downloaded.  \n",
            "Done. 0:0:4.2\n"
          ]
        },
        {
          "output_type": "display_data",
          "data": {
            "text/plain": [
              "Generating visualizations for Train images:   0%|          | 0/388 [00:00<?, ?it/s]"
            ],
            "application/vnd.jupyter.widget-view+json": {
              "version_major": 2,
              "version_minor": 0,
              "model_id": "393066b659304b14b8df409421ce76ff"
            }
          },
          "metadata": {}
        },
        {
          "output_type": "display_data",
          "data": {
            "text/plain": [
              "Generating visualizations for Validation images:   0%|          | 0/97 [00:00<?, ?it/s]"
            ],
            "application/vnd.jupyter.widget-view+json": {
              "version_major": 2,
              "version_minor": 0,
              "model_id": "899bff136ad34bc9909e9481cee43162"
            }
          },
          "metadata": {}
        },
        {
          "output_type": "display_data",
          "data": {
            "text/plain": [
              "Generating visualizations for Test images:   0%|          | 0/15 [00:00<?, ?it/s]"
            ],
            "application/vnd.jupyter.widget-view+json": {
              "version_major": 2,
              "version_minor": 0,
              "model_id": "c2e4fb6f77f64b3cb9ce1457d6df4871"
            }
          },
          "metadata": {}
        }
      ],
      "source": [
        "wandb.init(project=\"low-light-enhancement\")\n",
        "data_loader = LOLDataLoader(\n",
        "    image_size=128,\n",
        "    bit_depth=8,\n",
        "    val_split=0.2,\n",
        "    visualize_on_wandb=True,\n",
        "    dataset_artifact_address=\"ml-colabs/dataset/LoL:v0\",\n",
        ")\n",
        "datasets = data_loader.get_datasets(batch_size=2)\n",
        "train_dataset, val_dataset = datasets"
      ]
    },
    {
      "cell_type": "markdown",
      "source": [
        "## Import MirNetv2 from restorers\n",
        "*   ตั้งเงื่อนไขสำหรับ model"
      ],
      "metadata": {
        "id": "EjLpDalC2e-K"
      }
    },
    {
      "cell_type": "code",
      "execution_count": null,
      "metadata": {
        "id": "OTjdrjwwPy7e"
      },
      "outputs": [],
      "source": [
        "from restorers.model import MirNetv2\n",
        "model = MirNetv2(\n",
        "    channels=80,\n",
        "    channel_factor=1.5,\n",
        "    num_mrb_blocks=2,\n",
        "    add_residual_connection=True,\n",
        ")"
      ]
    },
    {
      "cell_type": "code",
      "execution_count": null,
      "metadata": {
        "id": "eq7i9esTPy7f"
      },
      "outputs": [],
      "source": [
        "from restorers.losses import CharbonnierLoss\n",
        "# import Peak Signal-to-Noise Ratio and Structural Similarity metrics,\n",
        "# implemented as part of restorers\n",
        "from restorers.metrics import PSNRMetric, SSIMMetric\n",
        "\n",
        "\n",
        "loss = CharbonnierLoss(\n",
        "    # a small constant to avoid division by zero\n",
        "    epsilon=1e-3,\n",
        "    # type of reduction applied to the loss, it needs to be\n",
        "    # explicitly specified in case of distributed training\n",
        "    reduction=tf.keras.losses.Reduction.SUM,\n",
        ")\n",
        "\n",
        "\n",
        "optimizer = tf.keras.optimizers.experimental.AdamW(learning_rate=2e-4,)\n",
        "\n",
        "psnr_metric = PSNRMetric(max_val=1.0) # peak signal-to-noise ratio metric\n",
        "ssim_metric = SSIMMetric(max_val=1.0) # structural similarity metric\n",
        "\n",
        "model.compile(\n",
        "    optimizer=optimizer, loss=loss, metrics=[psnr_metric, ssim_metric]\n",
        ")"
      ]
    },
    {
      "cell_type": "markdown",
      "source": [
        "##Train model + call back  ผลลัพธ์จากการฝึก"
      ],
      "metadata": {
        "id": "KvaO027t3Isc"
      }
    },
    {
      "cell_type": "code",
      "execution_count": null,
      "metadata": {
        "id": "SkwjpRxtPy7f",
        "colab": {
          "base_uri": "https://localhost:8080/"
        },
        "outputId": "f837dd50-5e64-4ad0-bfb1-b7c51709aca5"
      },
      "outputs": [
        {
          "output_type": "stream",
          "name": "stdout",
          "text": [
            "Epoch 1/100\n",
            "194/194 [==============================] - ETA: 0s - loss: 0.0204 - psnr_metric: 18.2739 - ssim_metric: 0.4857"
          ]
        },
        {
          "output_type": "stream",
          "name": "stderr",
          "text": [
            "WARNING:tensorflow:Compiled the loaded model, but the compiled metrics have yet to be built. `model.compile_metrics` will be empty until you train or evaluate the model.\n",
            "\u001b[34m\u001b[1mwandb\u001b[0m: Adding directory to artifact (./checkpoint)... Done. 0.1s\n"
          ]
        },
        {
          "output_type": "stream",
          "name": "stdout",
          "text": [
            "\b\b\b\b\b\b\b\b\b\b\b\b\b\b\b\b\b\b\b\b\b\b\b\b\b\b\b\b\b\b\b\b\b\b\b\b\b\b\b\b\b\b\b\b\b\b\b\b\b\b\b\b\b\b\b\b\b\b\b\b\b\b\b\b\b\b\b\b\b\b\b\b\b\b\b\b\b\b\b\b\b\b\b\b\b\b\b\b\b\b\b\b\b\b\b\b\b\b\b\b\b\b\b\b\b\b\b\b\b\b\r194/194 [==============================] - 252s 658ms/step - loss: 0.0204 - psnr_metric: 18.2739 - ssim_metric: 0.4857 - val_loss: 0.3384 - val_psnr_metric: 13.6274 - val_ssim_metric: 0.5495\n",
            "Epoch 2/100\n",
            "194/194 [==============================] - ETA: 0s - loss: 0.0151 - psnr_metric: 22.0442 - ssim_metric: 0.5813"
          ]
        },
        {
          "output_type": "stream",
          "name": "stderr",
          "text": [
            "WARNING:tensorflow:Compiled the loaded model, but the compiled metrics have yet to be built. `model.compile_metrics` will be empty until you train or evaluate the model.\n",
            "\u001b[34m\u001b[1mwandb\u001b[0m: Adding directory to artifact (./checkpoint)... Done. 0.1s\n"
          ]
        },
        {
          "output_type": "stream",
          "name": "stdout",
          "text": [
            "\b\b\b\b\b\b\b\b\b\b\b\b\b\b\b\b\b\b\b\b\b\b\b\b\b\b\b\b\b\b\b\b\b\b\b\b\b\b\b\b\b\b\b\b\b\b\b\b\b\b\b\b\b\b\b\b\b\b\b\b\b\b\b\b\b\b\b\b\b\b\b\b\b\b\b\b\b\b\b\b\b\b\b\b\b\b\b\b\b\b\b\b\b\b\b\b\b\b\b\b\b\b\b\b\b\b\b\b\b\b\r194/194 [==============================] - 120s 618ms/step - loss: 0.0151 - psnr_metric: 22.0442 - ssim_metric: 0.5813 - val_loss: 0.3399 - val_psnr_metric: 13.1527 - val_ssim_metric: 0.5250\n",
            "Epoch 3/100\n",
            "194/194 [==============================] - ETA: 0s - loss: 0.0142 - psnr_metric: 23.7493 - ssim_metric: 0.6219"
          ]
        },
        {
          "output_type": "stream",
          "name": "stderr",
          "text": [
            "WARNING:tensorflow:Compiled the loaded model, but the compiled metrics have yet to be built. `model.compile_metrics` will be empty until you train or evaluate the model.\n",
            "\u001b[34m\u001b[1mwandb\u001b[0m: Adding directory to artifact (./checkpoint)... Done. 0.1s\n"
          ]
        },
        {
          "output_type": "stream",
          "name": "stdout",
          "text": [
            "\b\b\b\b\b\b\b\b\b\b\b\b\b\b\b\b\b\b\b\b\b\b\b\b\b\b\b\b\b\b\b\b\b\b\b\b\b\b\b\b\b\b\b\b\b\b\b\b\b\b\b\b\b\b\b\b\b\b\b\b\b\b\b\b\b\b\b\b\b\b\b\b\b\b\b\b\b\b\b\b\b\b\b\b\b\b\b\b\b\b\b\b\b\b\b\b\b\b\b\b\b\b\b\b\b\b\b\b\b\b\r194/194 [==============================] - 121s 625ms/step - loss: 0.0142 - psnr_metric: 23.7493 - ssim_metric: 0.6219 - val_loss: 0.3383 - val_psnr_metric: 13.0615 - val_ssim_metric: 0.5136\n",
            "Epoch 4/100\n",
            "194/194 [==============================] - ETA: 0s - loss: 0.0140 - psnr_metric: 24.2729 - ssim_metric: 0.6256"
          ]
        },
        {
          "output_type": "stream",
          "name": "stderr",
          "text": [
            "WARNING:tensorflow:Compiled the loaded model, but the compiled metrics have yet to be built. `model.compile_metrics` will be empty until you train or evaluate the model.\n",
            "\u001b[34m\u001b[1mwandb\u001b[0m: Adding directory to artifact (./checkpoint)... Done. 0.1s\n"
          ]
        },
        {
          "output_type": "stream",
          "name": "stdout",
          "text": [
            "\b\b\b\b\b\b\b\b\b\b\b\b\b\b\b\b\b\b\b\b\b\b\b\b\b\b\b\b\b\b\b\b\b\b\b\b\b\b\b\b\b\b\b\b\b\b\b\b\b\b\b\b\b\b\b\b\b\b\b\b\b\b\b\b\b\b\b\b\b\b\b\b\b\b\b\b\b\b\b\b\b\b\b\b\b\b\b\b\b\b\b\b\b\b\b\b\b\b\b\b\b\b\b\b\b\b\b\b\b\b\r194/194 [==============================] - 119s 617ms/step - loss: 0.0140 - psnr_metric: 24.2729 - ssim_metric: 0.6256 - val_loss: 0.3395 - val_psnr_metric: 13.0167 - val_ssim_metric: 0.5192\n",
            "Epoch 5/100\n",
            "194/194 [==============================] - ETA: 0s - loss: 0.0148 - psnr_metric: 24.9690 - ssim_metric: 0.6304"
          ]
        },
        {
          "output_type": "stream",
          "name": "stderr",
          "text": [
            "WARNING:tensorflow:Compiled the loaded model, but the compiled metrics have yet to be built. `model.compile_metrics` will be empty until you train or evaluate the model.\n",
            "\u001b[34m\u001b[1mwandb\u001b[0m: Adding directory to artifact (./checkpoint)... Done. 0.1s\n"
          ]
        },
        {
          "output_type": "stream",
          "name": "stdout",
          "text": [
            "\b\b\b\b\b\b\b\b\b\b\b\b\b\b\b\b\b\b\b\b\b\b\b\b\b\b\b\b\b\b\b\b\b\b\b\b\b\b\b\b\b\b\b\b\b\b\b\b\b\b\b\b\b\b\b\b\b\b\b\b\b\b\b\b\b\b\b\b\b\b\b\b\b\b\b\b\b\b\b\b\b\b\b\b\b\b\b\b\b\b\b\b\b\b\b\b\b\b\b\b\b\b\b\b\b\b\b\b\b\b\r194/194 [==============================] - 126s 650ms/step - loss: 0.0148 - psnr_metric: 24.9690 - ssim_metric: 0.6304 - val_loss: 0.3384 - val_psnr_metric: 12.7447 - val_ssim_metric: 0.4863\n",
            "Epoch 6/100\n",
            "194/194 [==============================] - ETA: 0s - loss: 0.0131 - psnr_metric: 25.5111 - ssim_metric: 0.6366"
          ]
        },
        {
          "output_type": "stream",
          "name": "stderr",
          "text": [
            "WARNING:tensorflow:Compiled the loaded model, but the compiled metrics have yet to be built. `model.compile_metrics` will be empty until you train or evaluate the model.\n",
            "\u001b[34m\u001b[1mwandb\u001b[0m: Adding directory to artifact (./checkpoint)... Done. 0.1s\n"
          ]
        },
        {
          "output_type": "stream",
          "name": "stdout",
          "text": [
            "\b\b\b\b\b\b\b\b\b\b\b\b\b\b\b\b\b\b\b\b\b\b\b\b\b\b\b\b\b\b\b\b\b\b\b\b\b\b\b\b\b\b\b\b\b\b\b\b\b\b\b\b\b\b\b\b\b\b\b\b\b\b\b\b\b\b\b\b\b\b\b\b\b\b\b\b\b\b\b\b\b\b\b\b\b\b\b\b\b\b\b\b\b\b\b\b\b\b\b\b\b\b\b\b\b\b\b\b\b\b\r194/194 [==============================] - 120s 619ms/step - loss: 0.0131 - psnr_metric: 25.5111 - ssim_metric: 0.6366 - val_loss: 0.3385 - val_psnr_metric: 12.5811 - val_ssim_metric: 0.4797\n",
            "Epoch 7/100\n",
            "194/194 [==============================] - ETA: 0s - loss: 0.0130 - psnr_metric: 26.0013 - ssim_metric: 0.6480"
          ]
        },
        {
          "output_type": "stream",
          "name": "stderr",
          "text": [
            "WARNING:tensorflow:Compiled the loaded model, but the compiled metrics have yet to be built. `model.compile_metrics` will be empty until you train or evaluate the model.\n",
            "\u001b[34m\u001b[1mwandb\u001b[0m: Adding directory to artifact (./checkpoint)... Done. 0.1s\n"
          ]
        },
        {
          "output_type": "stream",
          "name": "stdout",
          "text": [
            "\b\b\b\b\b\b\b\b\b\b\b\b\b\b\b\b\b\b\b\b\b\b\b\b\b\b\b\b\b\b\b\b\b\b\b\b\b\b\b\b\b\b\b\b\b\b\b\b\b\b\b\b\b\b\b\b\b\b\b\b\b\b\b\b\b\b\b\b\b\b\b\b\b\b\b\b\b\b\b\b\b\b\b\b\b\b\b\b\b\b\b\b\b\b\b\b\b\b\b\b\b\b\b\b\b\b\b\b\b\b\r194/194 [==============================] - 119s 615ms/step - loss: 0.0130 - psnr_metric: 26.0013 - ssim_metric: 0.6480 - val_loss: 0.3379 - val_psnr_metric: 12.6240 - val_ssim_metric: 0.4795\n",
            "Epoch 8/100\n",
            "194/194 [==============================] - ETA: 0s - loss: 0.0144 - psnr_metric: 25.9356 - ssim_metric: 0.6369"
          ]
        },
        {
          "output_type": "stream",
          "name": "stderr",
          "text": [
            "WARNING:tensorflow:Compiled the loaded model, but the compiled metrics have yet to be built. `model.compile_metrics` will be empty until you train or evaluate the model.\n",
            "\u001b[34m\u001b[1mwandb\u001b[0m: Adding directory to artifact (./checkpoint)... Done. 0.2s\n"
          ]
        },
        {
          "output_type": "stream",
          "name": "stdout",
          "text": [
            "\b\b\b\b\b\b\b\b\b\b\b\b\b\b\b\b\b\b\b\b\b\b\b\b\b\b\b\b\b\b\b\b\b\b\b\b\b\b\b\b\b\b\b\b\b\b\b\b\b\b\b\b\b\b\b\b\b\b\b\b\b\b\b\b\b\b\b\b\b\b\b\b\b\b\b\b\b\b\b\b\b\b\b\b\b\b\b\b\b\b\b\b\b\b\b\b\b\b\b\b\b\b\b\b\b\b\b\b\b\b\r194/194 [==============================] - 120s 619ms/step - loss: 0.0144 - psnr_metric: 25.9356 - ssim_metric: 0.6369 - val_loss: 0.3385 - val_psnr_metric: 12.4499 - val_ssim_metric: 0.4646\n",
            "Epoch 9/100\n",
            "194/194 [==============================] - ETA: 0s - loss: 0.0134 - psnr_metric: 27.0226 - ssim_metric: 0.6571"
          ]
        },
        {
          "output_type": "stream",
          "name": "stderr",
          "text": [
            "WARNING:tensorflow:Compiled the loaded model, but the compiled metrics have yet to be built. `model.compile_metrics` will be empty until you train or evaluate the model.\n",
            "\u001b[34m\u001b[1mwandb\u001b[0m: Adding directory to artifact (./checkpoint)... Done. 0.1s\n"
          ]
        },
        {
          "output_type": "stream",
          "name": "stdout",
          "text": [
            "\b\b\b\b\b\b\b\b\b\b\b\b\b\b\b\b\b\b\b\b\b\b\b\b\b\b\b\b\b\b\b\b\b\b\b\b\b\b\b\b\b\b\b\b\b\b\b\b\b\b\b\b\b\b\b\b\b\b\b\b\b\b\b\b\b\b\b\b\b\b\b\b\b\b\b\b\b\b\b\b\b\b\b\b\b\b\b\b\b\b\b\b\b\b\b\b\b\b\b\b\b\b\b\b\b\b\b\b\b\b\r194/194 [==============================] - 121s 623ms/step - loss: 0.0134 - psnr_metric: 27.0226 - ssim_metric: 0.6571 - val_loss: 0.3382 - val_psnr_metric: 12.3848 - val_ssim_metric: 0.4620\n",
            "Epoch 10/100\n",
            "194/194 [==============================] - ETA: 0s - loss: 0.0140 - psnr_metric: 26.4227 - ssim_metric: 0.6431"
          ]
        },
        {
          "output_type": "stream",
          "name": "stderr",
          "text": [
            "WARNING:tensorflow:Compiled the loaded model, but the compiled metrics have yet to be built. `model.compile_metrics` will be empty until you train or evaluate the model.\n",
            "\u001b[34m\u001b[1mwandb\u001b[0m: Adding directory to artifact (./checkpoint)... Done. 0.1s\n"
          ]
        },
        {
          "output_type": "stream",
          "name": "stdout",
          "text": [
            "\b\b\b\b\b\b\b\b\b\b\b\b\b\b\b\b\b\b\b\b\b\b\b\b\b\b\b\b\b\b\b\b\b\b\b\b\b\b\b\b\b\b\b\b\b\b\b\b\b\b\b\b\b\b\b\b\b\b\b\b\b\b\b\b\b\b\b\b\b\b\b\b\b\b\b\b\b\b\b\b\b\b\b\b\b\b\b\b\b\b\b\b\b\b\b\b\b\b\b\b\b\b\b\b\b\b\b\b\b\b\r194/194 [==============================] - 119s 617ms/step - loss: 0.0140 - psnr_metric: 26.4227 - ssim_metric: 0.6431 - val_loss: 0.3393 - val_psnr_metric: 12.4778 - val_ssim_metric: 0.4715\n",
            "Epoch 11/100\n",
            "194/194 [==============================] - ETA: 0s - loss: 0.0159 - psnr_metric: 24.7494 - ssim_metric: 0.6427"
          ]
        },
        {
          "output_type": "stream",
          "name": "stderr",
          "text": [
            "WARNING:tensorflow:Compiled the loaded model, but the compiled metrics have yet to be built. `model.compile_metrics` will be empty until you train or evaluate the model.\n",
            "\u001b[34m\u001b[1mwandb\u001b[0m: Adding directory to artifact (./checkpoint)... Done. 0.1s\n"
          ]
        },
        {
          "output_type": "stream",
          "name": "stdout",
          "text": [
            "\b\b\b\b\b\b\b\b\b\b\b\b\b\b\b\b\b\b\b\b\b\b\b\b\b\b\b\b\b\b\b\b\b\b\b\b\b\b\b\b\b\b\b\b\b\b\b\b\b\b\b\b\b\b\b\b\b\b\b\b\b\b\b\b\b\b\b\b\b\b\b\b\b\b\b\b\b\b\b\b\b\b\b\b\b\b\b\b\b\b\b\b\b\b\b\b\b\b\b\b\b\b\b\b\b\b\b\b\b\b\r194/194 [==============================] - 127s 655ms/step - loss: 0.0159 - psnr_metric: 24.7494 - ssim_metric: 0.6427 - val_loss: 0.3367 - val_psnr_metric: 12.5836 - val_ssim_metric: 0.4763\n",
            "Epoch 12/100\n",
            "194/194 [==============================] - ETA: 0s - loss: 0.0148 - psnr_metric: 27.1658 - ssim_metric: 0.6483"
          ]
        },
        {
          "output_type": "stream",
          "name": "stderr",
          "text": [
            "WARNING:tensorflow:Compiled the loaded model, but the compiled metrics have yet to be built. `model.compile_metrics` will be empty until you train or evaluate the model.\n",
            "\u001b[34m\u001b[1mwandb\u001b[0m: Adding directory to artifact (./checkpoint)... Done. 0.1s\n"
          ]
        },
        {
          "output_type": "stream",
          "name": "stdout",
          "text": [
            "\b\b\b\b\b\b\b\b\b\b\b\b\b\b\b\b\b\b\b\b\b\b\b\b\b\b\b\b\b\b\b\b\b\b\b\b\b\b\b\b\b\b\b\b\b\b\b\b\b\b\b\b\b\b\b\b\b\b\b\b\b\b\b\b\b\b\b\b\b\b\b\b\b\b\b\b\b\b\b\b\b\b\b\b\b\b\b\b\b\b\b\b\b\b\b\b\b\b\b\b\b\b\b\b\b\b\b\b\b\b\r194/194 [==============================] - 120s 620ms/step - loss: 0.0148 - psnr_metric: 27.1658 - ssim_metric: 0.6483 - val_loss: 0.3387 - val_psnr_metric: 12.1713 - val_ssim_metric: 0.4482\n",
            "Epoch 13/100\n",
            "194/194 [==============================] - ETA: 0s - loss: 0.0151 - psnr_metric: 28.2849 - ssim_metric: 0.6540"
          ]
        },
        {
          "output_type": "stream",
          "name": "stderr",
          "text": [
            "WARNING:tensorflow:Compiled the loaded model, but the compiled metrics have yet to be built. `model.compile_metrics` will be empty until you train or evaluate the model.\n",
            "\u001b[34m\u001b[1mwandb\u001b[0m: Adding directory to artifact (./checkpoint)... Done. 0.1s\n"
          ]
        },
        {
          "output_type": "stream",
          "name": "stdout",
          "text": [
            "\b\b\b\b\b\b\b\b\b\b\b\b\b\b\b\b\b\b\b\b\b\b\b\b\b\b\b\b\b\b\b\b\b\b\b\b\b\b\b\b\b\b\b\b\b\b\b\b\b\b\b\b\b\b\b\b\b\b\b\b\b\b\b\b\b\b\b\b\b\b\b\b\b\b\b\b\b\b\b\b\b\b\b\b\b\b\b\b\b\b\b\b\b\b\b\b\b\b\b\b\b\b\b\b\b\b\b\b\b\b\r194/194 [==============================] - 120s 621ms/step - loss: 0.0151 - psnr_metric: 28.2849 - ssim_metric: 0.6540 - val_loss: 0.3380 - val_psnr_metric: 12.1088 - val_ssim_metric: 0.4417\n",
            "Epoch 14/100\n",
            "194/194 [==============================] - ETA: 0s - loss: 0.0139 - psnr_metric: 28.5306 - ssim_metric: 0.6578"
          ]
        },
        {
          "output_type": "stream",
          "name": "stderr",
          "text": [
            "WARNING:tensorflow:Compiled the loaded model, but the compiled metrics have yet to be built. `model.compile_metrics` will be empty until you train or evaluate the model.\n",
            "\u001b[34m\u001b[1mwandb\u001b[0m: Adding directory to artifact (./checkpoint)... Done. 0.1s\n"
          ]
        },
        {
          "output_type": "stream",
          "name": "stdout",
          "text": [
            "\b\b\b\b\b\b\b\b\b\b\b\b\b\b\b\b\b\b\b\b\b\b\b\b\b\b\b\b\b\b\b\b\b\b\b\b\b\b\b\b\b\b\b\b\b\b\b\b\b\b\b\b\b\b\b\b\b\b\b\b\b\b\b\b\b\b\b\b\b\b\b\b\b\b\b\b\b\b\b\b\b\b\b\b\b\b\b\b\b\b\b\b\b\b\b\b\b\b\b\b\b\b\b\b\b\b\b\b\b\b\r194/194 [==============================] - 121s 626ms/step - loss: 0.0139 - psnr_metric: 28.5306 - ssim_metric: 0.6578 - val_loss: 0.3385 - val_psnr_metric: 12.1032 - val_ssim_metric: 0.4411\n",
            "Epoch 15/100\n",
            "194/194 [==============================] - ETA: 0s - loss: 0.0137 - psnr_metric: 28.7253 - ssim_metric: 0.6618"
          ]
        },
        {
          "output_type": "stream",
          "name": "stderr",
          "text": [
            "WARNING:tensorflow:Compiled the loaded model, but the compiled metrics have yet to be built. `model.compile_metrics` will be empty until you train or evaluate the model.\n",
            "\u001b[34m\u001b[1mwandb\u001b[0m: Adding directory to artifact (./checkpoint)... Done. 0.1s\n"
          ]
        },
        {
          "output_type": "stream",
          "name": "stdout",
          "text": [
            "\b\b\b\b\b\b\b\b\b\b\b\b\b\b\b\b\b\b\b\b\b\b\b\b\b\b\b\b\b\b\b\b\b\b\b\b\b\b\b\b\b\b\b\b\b\b\b\b\b\b\b\b\b\b\b\b\b\b\b\b\b\b\b\b\b\b\b\b\b\b\b\b\b\b\b\b\b\b\b\b\b\b\b\b\b\b\b\b\b\b\b\b\b\b\b\b\b\b\b\b\b\b\b\b\b\b\b\b\b\b\r194/194 [==============================] - 122s 627ms/step - loss: 0.0137 - psnr_metric: 28.7253 - ssim_metric: 0.6618 - val_loss: 0.3387 - val_psnr_metric: 12.0617 - val_ssim_metric: 0.4367\n",
            "Epoch 16/100\n",
            "194/194 [==============================] - ETA: 0s - loss: 0.0131 - psnr_metric: 29.0360 - ssim_metric: 0.6716"
          ]
        },
        {
          "output_type": "stream",
          "name": "stderr",
          "text": [
            "WARNING:tensorflow:Compiled the loaded model, but the compiled metrics have yet to be built. `model.compile_metrics` will be empty until you train or evaluate the model.\n",
            "\u001b[34m\u001b[1mwandb\u001b[0m: Adding directory to artifact (./checkpoint)... Done. 0.1s\n"
          ]
        },
        {
          "output_type": "stream",
          "name": "stdout",
          "text": [
            "\b\b\b\b\b\b\b\b\b\b\b\b\b\b\b\b\b\b\b\b\b\b\b\b\b\b\b\b\b\b\b\b\b\b\b\b\b\b\b\b\b\b\b\b\b\b\b\b\b\b\b\b\b\b\b\b\b\b\b\b\b\b\b\b\b\b\b\b\b\b\b\b\b\b\b\b\b\b\b\b\b\b\b\b\b\b\b\b\b\b\b\b\b\b\b\b\b\b\b\b\b\b\b\b\b\b\b\b\b\b\r194/194 [==============================] - 126s 649ms/step - loss: 0.0131 - psnr_metric: 29.0360 - ssim_metric: 0.6716 - val_loss: 0.3388 - val_psnr_metric: 12.0660 - val_ssim_metric: 0.4403\n",
            "Epoch 17/100\n",
            "194/194 [==============================] - ETA: 0s - loss: 0.0140 - psnr_metric: 29.5787 - ssim_metric: 0.6786"
          ]
        },
        {
          "output_type": "stream",
          "name": "stderr",
          "text": [
            "WARNING:tensorflow:Compiled the loaded model, but the compiled metrics have yet to be built. `model.compile_metrics` will be empty until you train or evaluate the model.\n",
            "\u001b[34m\u001b[1mwandb\u001b[0m: Adding directory to artifact (./checkpoint)... Done. 0.1s\n"
          ]
        },
        {
          "output_type": "stream",
          "name": "stdout",
          "text": [
            "\b\b\b\b\b\b\b\b\b\b\b\b\b\b\b\b\b\b\b\b\b\b\b\b\b\b\b\b\b\b\b\b\b\b\b\b\b\b\b\b\b\b\b\b\b\b\b\b\b\b\b\b\b\b\b\b\b\b\b\b\b\b\b\b\b\b\b\b\b\b\b\b\b\b\b\b\b\b\b\b\b\b\b\b\b\b\b\b\b\b\b\b\b\b\b\b\b\b\b\b\b\b\b\b\b\b\b\b\b\b\r194/194 [==============================] - 120s 621ms/step - loss: 0.0140 - psnr_metric: 29.5787 - ssim_metric: 0.6786 - val_loss: 0.3381 - val_psnr_metric: 12.0891 - val_ssim_metric: 0.4387\n",
            "Epoch 18/100\n",
            "194/194 [==============================] - ETA: 0s - loss: 0.0139 - psnr_metric: 29.8042 - ssim_metric: 0.6682"
          ]
        },
        {
          "output_type": "stream",
          "name": "stderr",
          "text": [
            "WARNING:tensorflow:Compiled the loaded model, but the compiled metrics have yet to be built. `model.compile_metrics` will be empty until you train or evaluate the model.\n",
            "\u001b[34m\u001b[1mwandb\u001b[0m: Adding directory to artifact (./checkpoint)... Done. 0.1s\n"
          ]
        },
        {
          "output_type": "stream",
          "name": "stdout",
          "text": [
            "\b\b\b\b\b\b\b\b\b\b\b\b\b\b\b\b\b\b\b\b\b\b\b\b\b\b\b\b\b\b\b\b\b\b\b\b\b\b\b\b\b\b\b\b\b\b\b\b\b\b\b\b\b\b\b\b\b\b\b\b\b\b\b\b\b\b\b\b\b\b\b\b\b\b\b\b\b\b\b\b\b\b\b\b\b\b\b\b\b\b\b\b\b\b\b\b\b\b\b\b\b\b\b\b\b\b\b\b\b\b\r194/194 [==============================] - 125s 645ms/step - loss: 0.0139 - psnr_metric: 29.8042 - ssim_metric: 0.6682 - val_loss: 0.3370 - val_psnr_metric: 12.0920 - val_ssim_metric: 0.4399\n",
            "Epoch 19/100\n",
            "194/194 [==============================] - ETA: 0s - loss: 0.0137 - psnr_metric: 29.0385 - ssim_metric: 0.6737"
          ]
        },
        {
          "output_type": "stream",
          "name": "stderr",
          "text": [
            "WARNING:tensorflow:Compiled the loaded model, but the compiled metrics have yet to be built. `model.compile_metrics` will be empty until you train or evaluate the model.\n",
            "\u001b[34m\u001b[1mwandb\u001b[0m: Adding directory to artifact (./checkpoint)... Done. 0.1s\n"
          ]
        },
        {
          "output_type": "stream",
          "name": "stdout",
          "text": [
            "\b\b\b\b\b\b\b\b\b\b\b\b\b\b\b\b\b\b\b\b\b\b\b\b\b\b\b\b\b\b\b\b\b\b\b\b\b\b\b\b\b\b\b\b\b\b\b\b\b\b\b\b\b\b\b\b\b\b\b\b\b\b\b\b\b\b\b\b\b\b\b\b\b\b\b\b\b\b\b\b\b\b\b\b\b\b\b\b\b\b\b\b\b\b\b\b\b\b\b\b\b\b\b\b\b\b\b\b\b\b\r194/194 [==============================] - 120s 619ms/step - loss: 0.0137 - psnr_metric: 29.0385 - ssim_metric: 0.6737 - val_loss: 0.3382 - val_psnr_metric: 12.0032 - val_ssim_metric: 0.4326\n",
            "Epoch 20/100\n",
            "194/194 [==============================] - ETA: 0s - loss: 0.0143 - psnr_metric: 28.8902 - ssim_metric: 0.6778"
          ]
        },
        {
          "output_type": "stream",
          "name": "stderr",
          "text": [
            "WARNING:tensorflow:Compiled the loaded model, but the compiled metrics have yet to be built. `model.compile_metrics` will be empty until you train or evaluate the model.\n",
            "\u001b[34m\u001b[1mwandb\u001b[0m: Adding directory to artifact (./checkpoint)... Done. 0.1s\n"
          ]
        },
        {
          "output_type": "stream",
          "name": "stdout",
          "text": [
            "\b\b\b\b\b\b\b\b\b\b\b\b\b\b\b\b\b\b\b\b\b\b\b\b\b\b\b\b\b\b\b\b\b\b\b\b\b\b\b\b\b\b\b\b\b\b\b\b\b\b\b\b\b\b\b\b\b\b\b\b\b\b\b\b\b\b\b\b\b\b\b\b\b\b\b\b\b\b\b\b\b\b\b\b\b\b\b\b\b\b\b\b\b\b\b\b\b\b\b\b\b\b\b\b\b\b\b\b\b\b\r194/194 [==============================] - 125s 648ms/step - loss: 0.0143 - psnr_metric: 28.8902 - ssim_metric: 0.6778 - val_loss: 0.3386 - val_psnr_metric: 11.9808 - val_ssim_metric: 0.4290\n",
            "Epoch 21/100\n",
            "194/194 [==============================] - ETA: 0s - loss: 0.0134 - psnr_metric: 30.6003 - ssim_metric: 0.6813"
          ]
        },
        {
          "output_type": "stream",
          "name": "stderr",
          "text": [
            "WARNING:tensorflow:Compiled the loaded model, but the compiled metrics have yet to be built. `model.compile_metrics` will be empty until you train or evaluate the model.\n",
            "\u001b[34m\u001b[1mwandb\u001b[0m: Adding directory to artifact (./checkpoint)... Done. 0.1s\n"
          ]
        },
        {
          "output_type": "stream",
          "name": "stdout",
          "text": [
            "\b\b\b\b\b\b\b\b\b\b\b\b\b\b\b\b\b\b\b\b\b\b\b\b\b\b\b\b\b\b\b\b\b\b\b\b\b\b\b\b\b\b\b\b\b\b\b\b\b\b\b\b\b\b\b\b\b\b\b\b\b\b\b\b\b\b\b\b\b\b\b\b\b\b\b\b\b\b\b\b\b\b\b\b\b\b\b\b\b\b\b\b\b\b\b\b\b\b\b\b\b\b\b\b\b\b\b\b\b\b\r194/194 [==============================] - 120s 621ms/step - loss: 0.0134 - psnr_metric: 30.6003 - ssim_metric: 0.6813 - val_loss: 0.3380 - val_psnr_metric: 12.0012 - val_ssim_metric: 0.4322\n",
            "Epoch 22/100\n",
            "194/194 [==============================] - ETA: 0s - loss: 0.0142 - psnr_metric: 30.4576 - ssim_metric: 0.6707"
          ]
        },
        {
          "output_type": "stream",
          "name": "stderr",
          "text": [
            "WARNING:tensorflow:Compiled the loaded model, but the compiled metrics have yet to be built. `model.compile_metrics` will be empty until you train or evaluate the model.\n",
            "\u001b[34m\u001b[1mwandb\u001b[0m: Adding directory to artifact (./checkpoint)... Done. 0.2s\n"
          ]
        },
        {
          "output_type": "stream",
          "name": "stdout",
          "text": [
            "\b\b\b\b\b\b\b\b\b\b\b\b\b\b\b\b\b\b\b\b\b\b\b\b\b\b\b\b\b\b\b\b\b\b\b\b\b\b\b\b\b\b\b\b\b\b\b\b\b\b\b\b\b\b\b\b\b\b\b\b\b\b\b\b\b\b\b\b\b\b\b\b\b\b\b\b\b\b\b\b\b\b\b\b\b\b\b\b\b\b\b\b\b\b\b\b\b\b\b\b\b\b\b\b\b\b\b\b\b\b\r194/194 [==============================] - 120s 621ms/step - loss: 0.0142 - psnr_metric: 30.4576 - ssim_metric: 0.6707 - val_loss: 0.3386 - val_psnr_metric: 11.9800 - val_ssim_metric: 0.4303\n",
            "Epoch 23/100\n",
            "194/194 [==============================] - ETA: 0s - loss: 0.0137 - psnr_metric: 31.1277 - ssim_metric: 0.6833"
          ]
        },
        {
          "output_type": "stream",
          "name": "stderr",
          "text": [
            "WARNING:tensorflow:Compiled the loaded model, but the compiled metrics have yet to be built. `model.compile_metrics` will be empty until you train or evaluate the model.\n",
            "\u001b[34m\u001b[1mwandb\u001b[0m: Adding directory to artifact (./checkpoint)... Done. 0.2s\n"
          ]
        },
        {
          "output_type": "stream",
          "name": "stdout",
          "text": [
            "\b\b\b\b\b\b\b\b\b\b\b\b\b\b\b\b\b\b\b\b\b\b\b\b\b\b\b\b\b\b\b\b\b\b\b\b\b\b\b\b\b\b\b\b\b\b\b\b\b\b\b\b\b\b\b\b\b\b\b\b\b\b\b\b\b\b\b\b\b\b\b\b\b\b\b\b\b\b\b\b\b\b\b\b\b\b\b\b\b\b\b\b\b\b\b\b\b\b\b\b\b\b\b\b\b\b\b\b\b\b\r194/194 [==============================] - 120s 621ms/step - loss: 0.0137 - psnr_metric: 31.1277 - ssim_metric: 0.6833 - val_loss: 0.3387 - val_psnr_metric: 11.9345 - val_ssim_metric: 0.4259\n",
            "Epoch 24/100\n",
            "194/194 [==============================] - ETA: 0s - loss: 0.0132 - psnr_metric: 31.2089 - ssim_metric: 0.6829"
          ]
        },
        {
          "output_type": "stream",
          "name": "stderr",
          "text": [
            "WARNING:tensorflow:Compiled the loaded model, but the compiled metrics have yet to be built. `model.compile_metrics` will be empty until you train or evaluate the model.\n",
            "\u001b[34m\u001b[1mwandb\u001b[0m: Adding directory to artifact (./checkpoint)... Done. 0.1s\n"
          ]
        },
        {
          "output_type": "stream",
          "name": "stdout",
          "text": [
            "\b\b\b\b\b\b\b\b\b\b\b\b\b\b\b\b\b\b\b\b\b\b\b\b\b\b\b\b\b\b\b\b\b\b\b\b\b\b\b\b\b\b\b\b\b\b\b\b\b\b\b\b\b\b\b\b\b\b\b\b\b\b\b\b\b\b\b\b\b\b\b\b\b\b\b\b\b\b\b\b\b\b\b\b\b\b\b\b\b\b\b\b\b\b\b\b\b\b\b\b\b\b\b\b\b\b\b\b\b\b\r194/194 [==============================] - 121s 622ms/step - loss: 0.0132 - psnr_metric: 31.2089 - ssim_metric: 0.6829 - val_loss: 0.3387 - val_psnr_metric: 11.9418 - val_ssim_metric: 0.4242\n",
            "Epoch 25/100\n",
            "194/194 [==============================] - ETA: 0s - loss: 0.0142 - psnr_metric: 31.4430 - ssim_metric: 0.6745"
          ]
        },
        {
          "output_type": "stream",
          "name": "stderr",
          "text": [
            "WARNING:tensorflow:Compiled the loaded model, but the compiled metrics have yet to be built. `model.compile_metrics` will be empty until you train or evaluate the model.\n",
            "\u001b[34m\u001b[1mwandb\u001b[0m: Adding directory to artifact (./checkpoint)... Done. 0.1s\n"
          ]
        },
        {
          "output_type": "stream",
          "name": "stdout",
          "text": [
            "\b\b\b\b\b\b\b\b\b\b\b\b\b\b\b\b\b\b\b\b\b\b\b\b\b\b\b\b\b\b\b\b\b\b\b\b\b\b\b\b\b\b\b\b\b\b\b\b\b\b\b\b\b\b\b\b\b\b\b\b\b\b\b\b\b\b\b\b\b\b\b\b\b\b\b\b\b\b\b\b\b\b\b\b\b\b\b\b\b\b\b\b\b\b\b\b\b\b\b\b\b\b\b\b\b\b\b\b\b\b\r194/194 [==============================] - 119s 613ms/step - loss: 0.0142 - psnr_metric: 31.4430 - ssim_metric: 0.6745 - val_loss: 0.3388 - val_psnr_metric: 11.9081 - val_ssim_metric: 0.4213\n",
            "Epoch 26/100\n",
            "194/194 [==============================] - ETA: 0s - loss: 0.0131 - psnr_metric: 32.0017 - ssim_metric: 0.6846"
          ]
        },
        {
          "output_type": "stream",
          "name": "stderr",
          "text": [
            "WARNING:tensorflow:Compiled the loaded model, but the compiled metrics have yet to be built. `model.compile_metrics` will be empty until you train or evaluate the model.\n",
            "\u001b[34m\u001b[1mwandb\u001b[0m: Adding directory to artifact (./checkpoint)... Done. 0.1s\n"
          ]
        },
        {
          "output_type": "stream",
          "name": "stdout",
          "text": [
            "\b\b\b\b\b\b\b\b\b\b\b\b\b\b\b\b\b\b\b\b\b\b\b\b\b\b\b\b\b\b\b\b\b\b\b\b\b\b\b\b\b\b\b\b\b\b\b\b\b\b\b\b\b\b\b\b\b\b\b\b\b\b\b\b\b\b\b\b\b\b\b\b\b\b\b\b\b\b\b\b\b\b\b\b\b\b\b\b\b\b\b\b\b\b\b\b\b\b\b\b\b\b\b\b\b\b\b\b\b\b\r194/194 [==============================] - 124s 642ms/step - loss: 0.0131 - psnr_metric: 32.0017 - ssim_metric: 0.6846 - val_loss: 0.3379 - val_psnr_metric: 11.9269 - val_ssim_metric: 0.4265\n",
            "Epoch 27/100\n",
            "194/194 [==============================] - ETA: 0s - loss: 0.0144 - psnr_metric: 31.3038 - ssim_metric: 0.6781"
          ]
        },
        {
          "output_type": "stream",
          "name": "stderr",
          "text": [
            "WARNING:tensorflow:Compiled the loaded model, but the compiled metrics have yet to be built. `model.compile_metrics` will be empty until you train or evaluate the model.\n",
            "\u001b[34m\u001b[1mwandb\u001b[0m: Adding directory to artifact (./checkpoint)... Done. 0.1s\n"
          ]
        },
        {
          "output_type": "stream",
          "name": "stdout",
          "text": [
            "\b\b\b\b\b\b\b\b\b\b\b\b\b\b\b\b\b\b\b\b\b\b\b\b\b\b\b\b\b\b\b\b\b\b\b\b\b\b\b\b\b\b\b\b\b\b\b\b\b\b\b\b\b\b\b\b\b\b\b\b\b\b\b\b\b\b\b\b\b\b\b\b\b\b\b\b\b\b\b\b\b\b\b\b\b\b\b\b\b\b\b\b\b\b\b\b\b\b\b\b\b\b\b\b\b\b\b\b\b\b\r194/194 [==============================] - 119s 613ms/step - loss: 0.0144 - psnr_metric: 31.3038 - ssim_metric: 0.6781 - val_loss: 0.3388 - val_psnr_metric: 11.8739 - val_ssim_metric: 0.4197\n",
            "Epoch 28/100\n",
            "194/194 [==============================] - ETA: 0s - loss: 0.0133 - psnr_metric: 32.3446 - ssim_metric: 0.6870"
          ]
        },
        {
          "output_type": "stream",
          "name": "stderr",
          "text": [
            "WARNING:tensorflow:Compiled the loaded model, but the compiled metrics have yet to be built. `model.compile_metrics` will be empty until you train or evaluate the model.\n",
            "\u001b[34m\u001b[1mwandb\u001b[0m: Adding directory to artifact (./checkpoint)... Done. 0.1s\n"
          ]
        },
        {
          "output_type": "stream",
          "name": "stdout",
          "text": [
            "\b\b\b\b\b\b\b\b\b\b\b\b\b\b\b\b\b\b\b\b\b\b\b\b\b\b\b\b\b\b\b\b\b\b\b\b\b\b\b\b\b\b\b\b\b\b\b\b\b\b\b\b\b\b\b\b\b\b\b\b\b\b\b\b\b\b\b\b\b\b\b\b\b\b\b\b\b\b\b\b\b\b\b\b\b\b\b\b\b\b\b\b\b\b\b\b\b\b\b\b\b\b\b\b\b\b\b\b\b\b\r194/194 [==============================] - 125s 645ms/step - loss: 0.0133 - psnr_metric: 32.3446 - ssim_metric: 0.6870 - val_loss: 0.3387 - val_psnr_metric: 11.9473 - val_ssim_metric: 0.4246\n",
            "Epoch 29/100\n",
            "194/194 [==============================] - ETA: 0s - loss: 0.0142 - psnr_metric: 31.5555 - ssim_metric: 0.6804"
          ]
        },
        {
          "output_type": "stream",
          "name": "stderr",
          "text": [
            "WARNING:tensorflow:Compiled the loaded model, but the compiled metrics have yet to be built. `model.compile_metrics` will be empty until you train or evaluate the model.\n",
            "\u001b[34m\u001b[1mwandb\u001b[0m: Adding directory to artifact (./checkpoint)... Done. 0.1s\n"
          ]
        },
        {
          "output_type": "stream",
          "name": "stdout",
          "text": [
            "\b\b\b\b\b\b\b\b\b\b\b\b\b\b\b\b\b\b\b\b\b\b\b\b\b\b\b\b\b\b\b\b\b\b\b\b\b\b\b\b\b\b\b\b\b\b\b\b\b\b\b\b\b\b\b\b\b\b\b\b\b\b\b\b\b\b\b\b\b\b\b\b\b\b\b\b\b\b\b\b\b\b\b\b\b\b\b\b\b\b\b\b\b\b\b\b\b\b\b\b\b\b\b\b\b\b\b\b\b\b\r194/194 [==============================] - 119s 616ms/step - loss: 0.0142 - psnr_metric: 31.5555 - ssim_metric: 0.6804 - val_loss: 0.3387 - val_psnr_metric: 11.9394 - val_ssim_metric: 0.4249\n",
            "Epoch 30/100\n",
            "194/194 [==============================] - ETA: 0s - loss: 0.0127 - psnr_metric: 32.6542 - ssim_metric: 0.6907"
          ]
        },
        {
          "output_type": "stream",
          "name": "stderr",
          "text": [
            "WARNING:tensorflow:Compiled the loaded model, but the compiled metrics have yet to be built. `model.compile_metrics` will be empty until you train or evaluate the model.\n",
            "\u001b[34m\u001b[1mwandb\u001b[0m: Adding directory to artifact (./checkpoint)... Done. 0.1s\n"
          ]
        },
        {
          "output_type": "stream",
          "name": "stdout",
          "text": [
            "\b\b\b\b\b\b\b\b\b\b\b\b\b\b\b\b\b\b\b\b\b\b\b\b\b\b\b\b\b\b\b\b\b\b\b\b\b\b\b\b\b\b\b\b\b\b\b\b\b\b\b\b\b\b\b\b\b\b\b\b\b\b\b\b\b\b\b\b\b\b\b\b\b\b\b\b\b\b\b\b\b\b\b\b\b\b\b\b\b\b\b\b\b\b\b\b\b\b\b\b\b\b\b\b\b\b\b\b\b\b\r194/194 [==============================] - 119s 612ms/step - loss: 0.0127 - psnr_metric: 32.6542 - ssim_metric: 0.6907 - val_loss: 0.3388 - val_psnr_metric: 11.8618 - val_ssim_metric: 0.4189\n",
            "Epoch 31/100\n",
            "194/194 [==============================] - ETA: 0s - loss: 0.0142 - psnr_metric: 30.7237 - ssim_metric: 0.6774"
          ]
        },
        {
          "output_type": "stream",
          "name": "stderr",
          "text": [
            "WARNING:tensorflow:Compiled the loaded model, but the compiled metrics have yet to be built. `model.compile_metrics` will be empty until you train or evaluate the model.\n",
            "\u001b[34m\u001b[1mwandb\u001b[0m: Adding directory to artifact (./checkpoint)... Done. 0.2s\n"
          ]
        },
        {
          "output_type": "stream",
          "name": "stdout",
          "text": [
            "\b\b\b\b\b\b\b\b\b\b\b\b\b\b\b\b\b\b\b\b\b\b\b\b\b\b\b\b\b\b\b\b\b\b\b\b\b\b\b\b\b\b\b\b\b\b\b\b\b\b\b\b\b\b\b\b\b\b\b\b\b\b\b\b\b\b\b\b\b\b\b\b\b\b\b\b\b\b\b\b\b\b\b\b\b\b\b\b\b\b\b\b\b\b\b\b\b\b\b\b\b\b\b\b\b\b\b\b\b\b\r194/194 [==============================] - 120s 619ms/step - loss: 0.0142 - psnr_metric: 30.7237 - ssim_metric: 0.6774 - val_loss: 0.3388 - val_psnr_metric: 12.1056 - val_ssim_metric: 0.4383\n",
            "Epoch 32/100\n",
            "194/194 [==============================] - ETA: 0s - loss: 0.0138 - psnr_metric: 31.2365 - ssim_metric: 0.6762"
          ]
        },
        {
          "output_type": "stream",
          "name": "stderr",
          "text": [
            "WARNING:tensorflow:Compiled the loaded model, but the compiled metrics have yet to be built. `model.compile_metrics` will be empty until you train or evaluate the model.\n",
            "\u001b[34m\u001b[1mwandb\u001b[0m: Adding directory to artifact (./checkpoint)... Done. 0.1s\n"
          ]
        },
        {
          "output_type": "stream",
          "name": "stdout",
          "text": [
            "\b\b\b\b\b\b\b\b\b\b\b\b\b\b\b\b\b\b\b\b\b\b\b\b\b\b\b\b\b\b\b\b\b\b\b\b\b\b\b\b\b\b\b\b\b\b\b\b\b\b\b\b\b\b\b\b\b\b\b\b\b\b\b\b\b\b\b\b\b\b\b\b\b\b\b\b\b\b\b\b\b\b\b\b\b\b\b\b\b\b\b\b\b\b\b\b\b\b\b\b\b\b\b\b\b\b\b\b\b\b\r194/194 [==============================] - 120s 619ms/step - loss: 0.0138 - psnr_metric: 31.2365 - ssim_metric: 0.6762 - val_loss: 0.3383 - val_psnr_metric: 11.9204 - val_ssim_metric: 0.4231\n",
            "Epoch 33/100\n",
            "194/194 [==============================] - ETA: 0s - loss: 0.0140 - psnr_metric: 32.3904 - ssim_metric: 0.6809"
          ]
        },
        {
          "output_type": "stream",
          "name": "stderr",
          "text": [
            "WARNING:tensorflow:Compiled the loaded model, but the compiled metrics have yet to be built. `model.compile_metrics` will be empty until you train or evaluate the model.\n",
            "\u001b[34m\u001b[1mwandb\u001b[0m: Adding directory to artifact (./checkpoint)... Done. 0.1s\n"
          ]
        },
        {
          "output_type": "stream",
          "name": "stdout",
          "text": [
            "\b\b\b\b\b\b\b\b\b\b\b\b\b\b\b\b\b\b\b\b\b\b\b\b\b\b\b\b\b\b\b\b\b\b\b\b\b\b\b\b\b\b\b\b\b\b\b\b\b\b\b\b\b\b\b\b\b\b\b\b\b\b\b\b\b\b\b\b\b\b\b\b\b\b\b\b\b\b\b\b\b\b\b\b\b\b\b\b\b\b\b\b\b\b\b\b\b\b\b\b\b\b\b\b\b\b\b\b\b\b\r194/194 [==============================] - 119s 617ms/step - loss: 0.0140 - psnr_metric: 32.3904 - ssim_metric: 0.6809 - val_loss: 0.3385 - val_psnr_metric: 11.9098 - val_ssim_metric: 0.4235\n",
            "Epoch 34/100\n",
            "194/194 [==============================] - ETA: 0s - loss: 0.0135 - psnr_metric: 33.0425 - ssim_metric: 0.6899"
          ]
        },
        {
          "output_type": "stream",
          "name": "stderr",
          "text": [
            "WARNING:tensorflow:Compiled the loaded model, but the compiled metrics have yet to be built. `model.compile_metrics` will be empty until you train or evaluate the model.\n",
            "\u001b[34m\u001b[1mwandb\u001b[0m: Adding directory to artifact (./checkpoint)... Done. 0.1s\n"
          ]
        },
        {
          "output_type": "stream",
          "name": "stdout",
          "text": [
            "\b\b\b\b\b\b\b\b\b\b\b\b\b\b\b\b\b\b\b\b\b\b\b\b\b\b\b\b\b\b\b\b\b\b\b\b\b\b\b\b\b\b\b\b\b\b\b\b\b\b\b\b\b\b\b\b\b\b\b\b\b\b\b\b\b\b\b\b\b\b\b\b\b\b\b\b\b\b\b\b\b\b\b\b\b\b\b\b\b\b\b\b\b\b\b\b\b\b\b\b\b\b\b\b\b\b\b\b\b\b\r194/194 [==============================] - 125s 644ms/step - loss: 0.0135 - psnr_metric: 33.0425 - ssim_metric: 0.6899 - val_loss: 0.3387 - val_psnr_metric: 11.8800 - val_ssim_metric: 0.4206\n",
            "Epoch 35/100\n",
            "194/194 [==============================] - ETA: 0s - loss: 0.0136 - psnr_metric: 32.8605 - ssim_metric: 0.6811"
          ]
        },
        {
          "output_type": "stream",
          "name": "stderr",
          "text": [
            "WARNING:tensorflow:Compiled the loaded model, but the compiled metrics have yet to be built. `model.compile_metrics` will be empty until you train or evaluate the model.\n",
            "\u001b[34m\u001b[1mwandb\u001b[0m: Adding directory to artifact (./checkpoint)... Done. 0.1s\n"
          ]
        },
        {
          "output_type": "stream",
          "name": "stdout",
          "text": [
            "\b\b\b\b\b\b\b\b\b\b\b\b\b\b\b\b\b\b\b\b\b\b\b\b\b\b\b\b\b\b\b\b\b\b\b\b\b\b\b\b\b\b\b\b\b\b\b\b\b\b\b\b\b\b\b\b\b\b\b\b\b\b\b\b\b\b\b\b\b\b\b\b\b\b\b\b\b\b\b\b\b\b\b\b\b\b\b\b\b\b\b\b\b\b\b\b\b\b\b\b\b\b\b\b\b\b\b\b\b\b\r194/194 [==============================] - 124s 642ms/step - loss: 0.0136 - psnr_metric: 32.8605 - ssim_metric: 0.6811 - val_loss: 0.3384 - val_psnr_metric: 11.8913 - val_ssim_metric: 0.4221\n",
            "Epoch 36/100\n",
            "194/194 [==============================] - ETA: 0s - loss: 0.0134 - psnr_metric: 33.0160 - ssim_metric: 0.6900"
          ]
        },
        {
          "output_type": "stream",
          "name": "stderr",
          "text": [
            "WARNING:tensorflow:Compiled the loaded model, but the compiled metrics have yet to be built. `model.compile_metrics` will be empty until you train or evaluate the model.\n",
            "\u001b[34m\u001b[1mwandb\u001b[0m: Adding directory to artifact (./checkpoint)... Done. 0.1s\n"
          ]
        },
        {
          "output_type": "stream",
          "name": "stdout",
          "text": [
            "\b\b\b\b\b\b\b\b\b\b\b\b\b\b\b\b\b\b\b\b\b\b\b\b\b\b\b\b\b\b\b\b\b\b\b\b\b\b\b\b\b\b\b\b\b\b\b\b\b\b\b\b\b\b\b\b\b\b\b\b\b\b\b\b\b\b\b\b\b\b\b\b\b\b\b\b\b\b\b\b\b\b\b\b\b\b\b\b\b\b\b\b\b\b\b\b\b\b\b\b\b\b\b\b\b\b\b\b\b\b\r194/194 [==============================] - 119s 615ms/step - loss: 0.0134 - psnr_metric: 33.0160 - ssim_metric: 0.6900 - val_loss: 0.3387 - val_psnr_metric: 11.8766 - val_ssim_metric: 0.4211\n",
            "Epoch 37/100\n",
            "194/194 [==============================] - ETA: 0s - loss: 0.0138 - psnr_metric: 33.6313 - ssim_metric: 0.6907"
          ]
        },
        {
          "output_type": "stream",
          "name": "stderr",
          "text": [
            "WARNING:tensorflow:Compiled the loaded model, but the compiled metrics have yet to be built. `model.compile_metrics` will be empty until you train or evaluate the model.\n",
            "\u001b[34m\u001b[1mwandb\u001b[0m: Adding directory to artifact (./checkpoint)... Done. 0.1s\n"
          ]
        },
        {
          "output_type": "stream",
          "name": "stdout",
          "text": [
            "\b\b\b\b\b\b\b\b\b\b\b\b\b\b\b\b\b\b\b\b\b\b\b\b\b\b\b\b\b\b\b\b\b\b\b\b\b\b\b\b\b\b\b\b\b\b\b\b\b\b\b\b\b\b\b\b\b\b\b\b\b\b\b\b\b\b\b\b\b\b\b\b\b\b\b\b\b\b\b\b\b\b\b\b\b\b\b\b\b\b\b\b\b\b\b\b\b\b\b\b\b\b\b\b\b\b\b\b\b\b\r194/194 [==============================] - 124s 639ms/step - loss: 0.0138 - psnr_metric: 33.6313 - ssim_metric: 0.6907 - val_loss: 0.3386 - val_psnr_metric: 11.8433 - val_ssim_metric: 0.4153\n",
            "Epoch 38/100\n",
            "194/194 [==============================] - ETA: 0s - loss: 0.0126 - psnr_metric: 34.1267 - ssim_metric: 0.6918"
          ]
        },
        {
          "output_type": "stream",
          "name": "stderr",
          "text": [
            "WARNING:tensorflow:Compiled the loaded model, but the compiled metrics have yet to be built. `model.compile_metrics` will be empty until you train or evaluate the model.\n",
            "\u001b[34m\u001b[1mwandb\u001b[0m: Adding directory to artifact (./checkpoint)... Done. 0.1s\n"
          ]
        },
        {
          "output_type": "stream",
          "name": "stdout",
          "text": [
            "\b\b\b\b\b\b\b\b\b\b\b\b\b\b\b\b\b\b\b\b\b\b\b\b\b\b\b\b\b\b\b\b\b\b\b\b\b\b\b\b\b\b\b\b\b\b\b\b\b\b\b\b\b\b\b\b\b\b\b\b\b\b\b\b\b\b\b\b\b\b\b\b\b\b\b\b\b\b\b\b\b\b\b\b\b\b\b\b\b\b\b\b\b\b\b\b\b\b\b\b\b\b\b\b\b\b\b\b\b\b\r194/194 [==============================] - 119s 615ms/step - loss: 0.0126 - psnr_metric: 34.1267 - ssim_metric: 0.6918 - val_loss: 0.3387 - val_psnr_metric: 11.8562 - val_ssim_metric: 0.4155\n",
            "Epoch 39/100\n",
            "194/194 [==============================] - ETA: 0s - loss: 0.0141 - psnr_metric: 33.6720 - ssim_metric: 0.6891"
          ]
        },
        {
          "output_type": "stream",
          "name": "stderr",
          "text": [
            "WARNING:tensorflow:Compiled the loaded model, but the compiled metrics have yet to be built. `model.compile_metrics` will be empty until you train or evaluate the model.\n",
            "\u001b[34m\u001b[1mwandb\u001b[0m: Adding directory to artifact (./checkpoint)... Done. 0.1s\n"
          ]
        },
        {
          "output_type": "stream",
          "name": "stdout",
          "text": [
            "\b\b\b\b\b\b\b\b\b\b\b\b\b\b\b\b\b\b\b\b\b\b\b\b\b\b\b\b\b\b\b\b\b\b\b\b\b\b\b\b\b\b\b\b\b\b\b\b\b\b\b\b\b\b\b\b\b\b\b\b\b\b\b\b\b\b\b\b\b\b\b\b\b\b\b\b\b\b\b\b\b\b\b\b\b\b\b\b\b\b\b\b\b\b\b\b\b\b\b\b\b\b\b\b\b\b\b\b\b\b\r194/194 [==============================] - 119s 614ms/step - loss: 0.0141 - psnr_metric: 33.6720 - ssim_metric: 0.6891 - val_loss: 0.3386 - val_psnr_metric: 11.8864 - val_ssim_metric: 0.4178\n",
            "Epoch 40/100\n",
            "194/194 [==============================] - ETA: 0s - loss: 0.0135 - psnr_metric: 33.2987 - ssim_metric: 0.6973"
          ]
        },
        {
          "output_type": "stream",
          "name": "stderr",
          "text": [
            "WARNING:tensorflow:Compiled the loaded model, but the compiled metrics have yet to be built. `model.compile_metrics` will be empty until you train or evaluate the model.\n",
            "\u001b[34m\u001b[1mwandb\u001b[0m: Adding directory to artifact (./checkpoint)... Done. 0.1s\n"
          ]
        },
        {
          "output_type": "stream",
          "name": "stdout",
          "text": [
            "\b\b\b\b\b\b\b\b\b\b\b\b\b\b\b\b\b\b\b\b\b\b\b\b\b\b\b\b\b\b\b\b\b\b\b\b\b\b\b\b\b\b\b\b\b\b\b\b\b\b\b\b\b\b\b\b\b\b\b\b\b\b\b\b\b\b\b\b\b\b\b\b\b\b\b\b\b\b\b\b\b\b\b\b\b\b\b\b\b\b\b\b\b\b\b\b\b\b\b\b\b\b\b\b\b\b\b\b\b\b\r194/194 [==============================] - 125s 645ms/step - loss: 0.0135 - psnr_metric: 33.2987 - ssim_metric: 0.6973 - val_loss: 0.3377 - val_psnr_metric: 11.9234 - val_ssim_metric: 0.4226\n",
            "Epoch 41/100\n",
            "194/194 [==============================] - ETA: 0s - loss: 0.0138 - psnr_metric: 33.1376 - ssim_metric: 0.6904"
          ]
        },
        {
          "output_type": "stream",
          "name": "stderr",
          "text": [
            "WARNING:tensorflow:Compiled the loaded model, but the compiled metrics have yet to be built. `model.compile_metrics` will be empty until you train or evaluate the model.\n",
            "\u001b[34m\u001b[1mwandb\u001b[0m: Adding directory to artifact (./checkpoint)... Done. 0.1s\n"
          ]
        },
        {
          "output_type": "stream",
          "name": "stdout",
          "text": [
            "\b\b\b\b\b\b\b\b\b\b\b\b\b\b\b\b\b\b\b\b\b\b\b\b\b\b\b\b\b\b\b\b\b\b\b\b\b\b\b\b\b\b\b\b\b\b\b\b\b\b\b\b\b\b\b\b\b\b\b\b\b\b\b\b\b\b\b\b\b\b\b\b\b\b\b\b\b\b\b\b\b\b\b\b\b\b\b\b\b\b\b\b\b\b\b\b\b\b\b\b\b\b\b\b\b\b\b\b\b\b\r194/194 [==============================] - 119s 614ms/step - loss: 0.0138 - psnr_metric: 33.1376 - ssim_metric: 0.6904 - val_loss: 0.3387 - val_psnr_metric: 11.8426 - val_ssim_metric: 0.4146\n",
            "Epoch 42/100\n",
            "194/194 [==============================] - ETA: 0s - loss: 0.0133 - psnr_metric: 33.7411 - ssim_metric: 0.6864"
          ]
        },
        {
          "output_type": "stream",
          "name": "stderr",
          "text": [
            "WARNING:tensorflow:Compiled the loaded model, but the compiled metrics have yet to be built. `model.compile_metrics` will be empty until you train or evaluate the model.\n",
            "\u001b[34m\u001b[1mwandb\u001b[0m: Adding directory to artifact (./checkpoint)... Done. 0.1s\n"
          ]
        },
        {
          "output_type": "stream",
          "name": "stdout",
          "text": [
            "\b\b\b\b\b\b\b\b\b\b\b\b\b\b\b\b\b\b\b\b\b\b\b\b\b\b\b\b\b\b\b\b\b\b\b\b\b\b\b\b\b\b\b\b\b\b\b\b\b\b\b\b\b\b\b\b\b\b\b\b\b\b\b\b\b\b\b\b\b\b\b\b\b\b\b\b\b\b\b\b\b\b\b\b\b\b\b\b\b\b\b\b\b\b\b\b\b\b\b\b\b\b\b\b\b\b\b\b\b\b\r194/194 [==============================] - 119s 612ms/step - loss: 0.0133 - psnr_metric: 33.7411 - ssim_metric: 0.6864 - val_loss: 0.3385 - val_psnr_metric: 11.8435 - val_ssim_metric: 0.4157\n",
            "Epoch 43/100\n",
            "194/194 [==============================] - ETA: 0s - loss: 0.0139 - psnr_metric: 34.7015 - ssim_metric: 0.6984"
          ]
        },
        {
          "output_type": "stream",
          "name": "stderr",
          "text": [
            "WARNING:tensorflow:Compiled the loaded model, but the compiled metrics have yet to be built. `model.compile_metrics` will be empty until you train or evaluate the model.\n",
            "\u001b[34m\u001b[1mwandb\u001b[0m: Adding directory to artifact (./checkpoint)... Done. 0.1s\n"
          ]
        },
        {
          "output_type": "stream",
          "name": "stdout",
          "text": [
            "\b\b\b\b\b\b\b\b\b\b\b\b\b\b\b\b\b\b\b\b\b\b\b\b\b\b\b\b\b\b\b\b\b\b\b\b\b\b\b\b\b\b\b\b\b\b\b\b\b\b\b\b\b\b\b\b\b\b\b\b\b\b\b\b\b\b\b\b\b\b\b\b\b\b\b\b\b\b\b\b\b\b\b\b\b\b\b\b\b\b\b\b\b\b\b\b\b\b\b\b\b\b\b\b\b\b\b\b\b\b\r194/194 [==============================] - 121s 622ms/step - loss: 0.0139 - psnr_metric: 34.7015 - ssim_metric: 0.6984 - val_loss: 0.3387 - val_psnr_metric: 11.8251 - val_ssim_metric: 0.4127\n",
            "Epoch 44/100\n",
            "194/194 [==============================] - ETA: 0s - loss: 0.0133 - psnr_metric: 34.8138 - ssim_metric: 0.6967"
          ]
        },
        {
          "output_type": "stream",
          "name": "stderr",
          "text": [
            "WARNING:tensorflow:Compiled the loaded model, but the compiled metrics have yet to be built. `model.compile_metrics` will be empty until you train or evaluate the model.\n",
            "\u001b[34m\u001b[1mwandb\u001b[0m: Adding directory to artifact (./checkpoint)... Done. 0.1s\n"
          ]
        },
        {
          "output_type": "stream",
          "name": "stdout",
          "text": [
            "\b\b\b\b\b\b\b\b\b\b\b\b\b\b\b\b\b\b\b\b\b\b\b\b\b\b\b\b\b\b\b\b\b\b\b\b\b\b\b\b\b\b\b\b\b\b\b\b\b\b\b\b\b\b\b\b\b\b\b\b\b\b\b\b\b\b\b\b\b\b\b\b\b\b\b\b\b\b\b\b\b\b\b\b\b\b\b\b\b\b\b\b\b\b\b\b\b\b\b\b\b\b\b\b\b\b\b\b\b\b\r194/194 [==============================] - 120s 618ms/step - loss: 0.0133 - psnr_metric: 34.8138 - ssim_metric: 0.6967 - val_loss: 0.3388 - val_psnr_metric: 11.8783 - val_ssim_metric: 0.4209\n",
            "Epoch 45/100\n",
            "194/194 [==============================] - ETA: 0s - loss: 0.0146 - psnr_metric: 33.8540 - ssim_metric: 0.6898"
          ]
        },
        {
          "output_type": "stream",
          "name": "stderr",
          "text": [
            "WARNING:tensorflow:Compiled the loaded model, but the compiled metrics have yet to be built. `model.compile_metrics` will be empty until you train or evaluate the model.\n",
            "\u001b[34m\u001b[1mwandb\u001b[0m: Adding directory to artifact (./checkpoint)... Done. 0.1s\n"
          ]
        },
        {
          "output_type": "stream",
          "name": "stdout",
          "text": [
            "\b\b\b\b\b\b\b\b\b\b\b\b\b\b\b\b\b\b\b\b\b\b\b\b\b\b\b\b\b\b\b\b\b\b\b\b\b\b\b\b\b\b\b\b\b\b\b\b\b\b\b\b\b\b\b\b\b\b\b\b\b\b\b\b\b\b\b\b\b\b\b\b\b\b\b\b\b\b\b\b\b\b\b\b\b\b\b\b\b\b\b\b\b\b\b\b\b\b\b\b\b\b\b\b\b\b\b\b\b\b\r194/194 [==============================] - 125s 644ms/step - loss: 0.0146 - psnr_metric: 33.8540 - ssim_metric: 0.6898 - val_loss: 0.3385 - val_psnr_metric: 11.8530 - val_ssim_metric: 0.4161\n",
            "Epoch 46/100\n",
            "194/194 [==============================] - ETA: 0s - loss: 0.0142 - psnr_metric: 34.7523 - ssim_metric: 0.6930"
          ]
        },
        {
          "output_type": "stream",
          "name": "stderr",
          "text": [
            "WARNING:tensorflow:Compiled the loaded model, but the compiled metrics have yet to be built. `model.compile_metrics` will be empty until you train or evaluate the model.\n",
            "\u001b[34m\u001b[1mwandb\u001b[0m: Adding directory to artifact (./checkpoint)... Done. 0.1s\n"
          ]
        },
        {
          "output_type": "stream",
          "name": "stdout",
          "text": [
            "\b\b\b\b\b\b\b\b\b\b\b\b\b\b\b\b\b\b\b\b\b\b\b\b\b\b\b\b\b\b\b\b\b\b\b\b\b\b\b\b\b\b\b\b\b\b\b\b\b\b\b\b\b\b\b\b\b\b\b\b\b\b\b\b\b\b\b\b\b\b\b\b\b\b\b\b\b\b\b\b\b\b\b\b\b\b\b\b\b\b\b\b\b\b\b\b\b\b\b\b\b\b\b\b\b\b\b\b\b\b\r194/194 [==============================] - 120s 619ms/step - loss: 0.0142 - psnr_metric: 34.7523 - ssim_metric: 0.6930 - val_loss: 0.3387 - val_psnr_metric: 11.8244 - val_ssim_metric: 0.4133\n",
            "Epoch 47/100\n",
            "194/194 [==============================] - ETA: 0s - loss: 0.0128 - psnr_metric: 35.2181 - ssim_metric: 0.6920"
          ]
        },
        {
          "output_type": "stream",
          "name": "stderr",
          "text": [
            "WARNING:tensorflow:Compiled the loaded model, but the compiled metrics have yet to be built. `model.compile_metrics` will be empty until you train or evaluate the model.\n",
            "\u001b[34m\u001b[1mwandb\u001b[0m: Adding directory to artifact (./checkpoint)... Done. 0.1s\n"
          ]
        },
        {
          "output_type": "stream",
          "name": "stdout",
          "text": [
            "\b\b\b\b\b\b\b\b\b\b\b\b\b\b\b\b\b\b\b\b\b\b\b\b\b\b\b\b\b\b\b\b\b\b\b\b\b\b\b\b\b\b\b\b\b\b\b\b\b\b\b\b\b\b\b\b\b\b\b\b\b\b\b\b\b\b\b\b\b\b\b\b\b\b\b\b\b\b\b\b\b\b\b\b\b\b\b\b\b\b\b\b\b\b\b\b\b\b\b\b\b\b\b\b\b\b\b\b\b\b\r194/194 [==============================] - 120s 621ms/step - loss: 0.0128 - psnr_metric: 35.2181 - ssim_metric: 0.6920 - val_loss: 0.3387 - val_psnr_metric: 11.8084 - val_ssim_metric: 0.4122\n",
            "Epoch 48/100\n",
            "194/194 [==============================] - ETA: 0s - loss: 0.0125 - psnr_metric: 35.3910 - ssim_metric: 0.6970"
          ]
        },
        {
          "output_type": "stream",
          "name": "stderr",
          "text": [
            "WARNING:tensorflow:Compiled the loaded model, but the compiled metrics have yet to be built. `model.compile_metrics` will be empty until you train or evaluate the model.\n",
            "\u001b[34m\u001b[1mwandb\u001b[0m: Adding directory to artifact (./checkpoint)... Done. 0.1s\n"
          ]
        },
        {
          "output_type": "stream",
          "name": "stdout",
          "text": [
            "\b\b\b\b\b\b\b\b\b\b\b\b\b\b\b\b\b\b\b\b\b\b\b\b\b\b\b\b\b\b\b\b\b\b\b\b\b\b\b\b\b\b\b\b\b\b\b\b\b\b\b\b\b\b\b\b\b\b\b\b\b\b\b\b\b\b\b\b\b\b\b\b\b\b\b\b\b\b\b\b\b\b\b\b\b\b\b\b\b\b\b\b\b\b\b\b\b\b\b\b\b\b\b\b\b\b\b\b\b\b\r194/194 [==============================] - 121s 624ms/step - loss: 0.0125 - psnr_metric: 35.3910 - ssim_metric: 0.6970 - val_loss: 0.3387 - val_psnr_metric: 11.8256 - val_ssim_metric: 0.4131\n",
            "Epoch 49/100\n",
            "194/194 [==============================] - ETA: 0s - loss: 0.0141 - psnr_metric: 35.0686 - ssim_metric: 0.6986"
          ]
        },
        {
          "output_type": "stream",
          "name": "stderr",
          "text": [
            "WARNING:tensorflow:Compiled the loaded model, but the compiled metrics have yet to be built. `model.compile_metrics` will be empty until you train or evaluate the model.\n",
            "\u001b[34m\u001b[1mwandb\u001b[0m: Adding directory to artifact (./checkpoint)... Done. 0.1s\n"
          ]
        },
        {
          "output_type": "stream",
          "name": "stdout",
          "text": [
            "\b\b\b\b\b\b\b\b\b\b\b\b\b\b\b\b\b\b\b\b\b\b\b\b\b\b\b\b\b\b\b\b\b\b\b\b\b\b\b\b\b\b\b\b\b\b\b\b\b\b\b\b\b\b\b\b\b\b\b\b\b\b\b\b\b\b\b\b\b\b\b\b\b\b\b\b\b\b\b\b\b\b\b\b\b\b\b\b\b\b\b\b\b\b\b\b\b\b\b\b\b\b\b\b\b\b\b\b\b\b\r194/194 [==============================] - 120s 619ms/step - loss: 0.0141 - psnr_metric: 35.0686 - ssim_metric: 0.6986 - val_loss: 0.3380 - val_psnr_metric: 11.8600 - val_ssim_metric: 0.4166\n",
            "Epoch 50/100\n",
            "194/194 [==============================] - ETA: 0s - loss: 0.0135 - psnr_metric: 34.2067 - ssim_metric: 0.6910"
          ]
        },
        {
          "output_type": "stream",
          "name": "stderr",
          "text": [
            "WARNING:tensorflow:Compiled the loaded model, but the compiled metrics have yet to be built. `model.compile_metrics` will be empty until you train or evaluate the model.\n",
            "\u001b[34m\u001b[1mwandb\u001b[0m: Adding directory to artifact (./checkpoint)... Done. 0.1s\n"
          ]
        },
        {
          "output_type": "stream",
          "name": "stdout",
          "text": [
            "\b\b\b\b\b\b\b\b\b\b\b\b\b\b\b\b\b\b\b\b\b\b\b\b\b\b\b\b\b\b\b\b\b\b\b\b\b\b\b\b\b\b\b\b\b\b\b\b\b\b\b\b\b\b\b\b\b\b\b\b\b\b\b\b\b\b\b\b\b\b\b\b\b\b\b\b\b\b\b\b\b\b\b\b\b\b\b\b\b\b\b\b\b\b\b\b\b\b\b\b\b\b\b\b\b\b\b\b\b\b\r194/194 [==============================] - 125s 647ms/step - loss: 0.0135 - psnr_metric: 34.2067 - ssim_metric: 0.6910 - val_loss: 0.3388 - val_psnr_metric: 11.8520 - val_ssim_metric: 0.4145\n",
            "Epoch 51/100\n",
            "194/194 [==============================] - ETA: 0s - loss: 0.0132 - psnr_metric: 35.6619 - ssim_metric: 0.7041"
          ]
        },
        {
          "output_type": "stream",
          "name": "stderr",
          "text": [
            "WARNING:tensorflow:Compiled the loaded model, but the compiled metrics have yet to be built. `model.compile_metrics` will be empty until you train or evaluate the model.\n",
            "\u001b[34m\u001b[1mwandb\u001b[0m: Adding directory to artifact (./checkpoint)... Done. 0.1s\n"
          ]
        },
        {
          "output_type": "stream",
          "name": "stdout",
          "text": [
            "\b\b\b\b\b\b\b\b\b\b\b\b\b\b\b\b\b\b\b\b\b\b\b\b\b\b\b\b\b\b\b\b\b\b\b\b\b\b\b\b\b\b\b\b\b\b\b\b\b\b\b\b\b\b\b\b\b\b\b\b\b\b\b\b\b\b\b\b\b\b\b\b\b\b\b\b\b\b\b\b\b\b\b\b\b\b\b\b\b\b\b\b\b\b\b\b\b\b\b\b\b\b\b\b\b\b\b\b\b\b\r194/194 [==============================] - 125s 647ms/step - loss: 0.0132 - psnr_metric: 35.6619 - ssim_metric: 0.7041 - val_loss: 0.3382 - val_psnr_metric: 11.8420 - val_ssim_metric: 0.4145\n",
            "Epoch 52/100\n",
            "194/194 [==============================] - ETA: 0s - loss: 0.0128 - psnr_metric: 35.9716 - ssim_metric: 0.6964"
          ]
        },
        {
          "output_type": "stream",
          "name": "stderr",
          "text": [
            "WARNING:tensorflow:Compiled the loaded model, but the compiled metrics have yet to be built. `model.compile_metrics` will be empty until you train or evaluate the model.\n",
            "\u001b[34m\u001b[1mwandb\u001b[0m: Adding directory to artifact (./checkpoint)... Done. 0.1s\n"
          ]
        },
        {
          "output_type": "stream",
          "name": "stdout",
          "text": [
            "\b\b\b\b\b\b\b\b\b\b\b\b\b\b\b\b\b\b\b\b\b\b\b\b\b\b\b\b\b\b\b\b\b\b\b\b\b\b\b\b\b\b\b\b\b\b\b\b\b\b\b\b\b\b\b\b\b\b\b\b\b\b\b\b\b\b\b\b\b\b\b\b\b\b\b\b\b\b\b\b\b\b\b\b\b\b\b\b\b\b\b\b\b\b\b\b\b\b\b\b\b\b\b\b\b\b\b\b\b\b\r194/194 [==============================] - 125s 643ms/step - loss: 0.0128 - psnr_metric: 35.9716 - ssim_metric: 0.6964 - val_loss: 0.3385 - val_psnr_metric: 11.8062 - val_ssim_metric: 0.4115\n",
            "Epoch 53/100\n",
            "194/194 [==============================] - ETA: 0s - loss: 0.0136 - psnr_metric: 35.7587 - ssim_metric: 0.6969"
          ]
        },
        {
          "output_type": "stream",
          "name": "stderr",
          "text": [
            "WARNING:tensorflow:Compiled the loaded model, but the compiled metrics have yet to be built. `model.compile_metrics` will be empty until you train or evaluate the model.\n",
            "\u001b[34m\u001b[1mwandb\u001b[0m: Adding directory to artifact (./checkpoint)... Done. 0.1s\n"
          ]
        },
        {
          "output_type": "stream",
          "name": "stdout",
          "text": [
            "\b\b\b\b\b\b\b\b\b\b\b\b\b\b\b\b\b\b\b\b\b\b\b\b\b\b\b\b\b\b\b\b\b\b\b\b\b\b\b\b\b\b\b\b\b\b\b\b\b\b\b\b\b\b\b\b\b\b\b\b\b\b\b\b\b\b\b\b\b\b\b\b\b\b\b\b\b\b\b\b\b\b\b\b\b\b\b\b\b\b\b\b\b\b\b\b\b\b\b\b\b\b\b\b\b\b\b\b\b\b\r194/194 [==============================] - 120s 617ms/step - loss: 0.0136 - psnr_metric: 35.7587 - ssim_metric: 0.6969 - val_loss: 0.3385 - val_psnr_metric: 11.8236 - val_ssim_metric: 0.4131\n",
            "Epoch 54/100\n",
            "194/194 [==============================] - ETA: 0s - loss: 0.0128 - psnr_metric: 35.3380 - ssim_metric: 0.6949"
          ]
        },
        {
          "output_type": "stream",
          "name": "stderr",
          "text": [
            "WARNING:tensorflow:Compiled the loaded model, but the compiled metrics have yet to be built. `model.compile_metrics` will be empty until you train or evaluate the model.\n",
            "\u001b[34m\u001b[1mwandb\u001b[0m: Adding directory to artifact (./checkpoint)... Done. 0.1s\n"
          ]
        },
        {
          "output_type": "stream",
          "name": "stdout",
          "text": [
            "\b\b\b\b\b\b\b\b\b\b\b\b\b\b\b\b\b\b\b\b\b\b\b\b\b\b\b\b\b\b\b\b\b\b\b\b\b\b\b\b\b\b\b\b\b\b\b\b\b\b\b\b\b\b\b\b\b\b\b\b\b\b\b\b\b\b\b\b\b\b\b\b\b\b\b\b\b\b\b\b\b\b\b\b\b\b\b\b\b\b\b\b\b\b\b\b\b\b\b\b\b\b\b\b\b\b\b\b\b\b\r194/194 [==============================] - 120s 620ms/step - loss: 0.0128 - psnr_metric: 35.3380 - ssim_metric: 0.6949 - val_loss: 0.3386 - val_psnr_metric: 11.8086 - val_ssim_metric: 0.4121\n",
            "Epoch 55/100\n",
            "194/194 [==============================] - ETA: 0s - loss: 0.0144 - psnr_metric: 35.6131 - ssim_metric: 0.6977"
          ]
        },
        {
          "output_type": "stream",
          "name": "stderr",
          "text": [
            "WARNING:tensorflow:Compiled the loaded model, but the compiled metrics have yet to be built. `model.compile_metrics` will be empty until you train or evaluate the model.\n",
            "\u001b[34m\u001b[1mwandb\u001b[0m: Adding directory to artifact (./checkpoint)... Done. 0.1s\n"
          ]
        },
        {
          "output_type": "stream",
          "name": "stdout",
          "text": [
            "\b\b\b\b\b\b\b\b\b\b\b\b\b\b\b\b\b\b\b\b\b\b\b\b\b\b\b\b\b\b\b\b\b\b\b\b\b\b\b\b\b\b\b\b\b\b\b\b\b\b\b\b\b\b\b\b\b\b\b\b\b\b\b\b\b\b\b\b\b\b\b\b\b\b\b\b\b\b\b\b\b\b\b\b\b\b\b\b\b\b\b\b\b\b\b\b\b\b\b\b\b\b\b\b\b\b\b\b\b\b\r194/194 [==============================] - 121s 623ms/step - loss: 0.0144 - psnr_metric: 35.6131 - ssim_metric: 0.6977 - val_loss: 0.3385 - val_psnr_metric: 11.8258 - val_ssim_metric: 0.4133\n",
            "Epoch 56/100\n",
            "194/194 [==============================] - ETA: 0s - loss: 0.0136 - psnr_metric: 35.6972 - ssim_metric: 0.6933"
          ]
        },
        {
          "output_type": "stream",
          "name": "stderr",
          "text": [
            "WARNING:tensorflow:Compiled the loaded model, but the compiled metrics have yet to be built. `model.compile_metrics` will be empty until you train or evaluate the model.\n",
            "\u001b[34m\u001b[1mwandb\u001b[0m: Adding directory to artifact (./checkpoint)... Done. 0.1s\n"
          ]
        },
        {
          "output_type": "stream",
          "name": "stdout",
          "text": [
            "\b\b\b\b\b\b\b\b\b\b\b\b\b\b\b\b\b\b\b\b\b\b\b\b\b\b\b\b\b\b\b\b\b\b\b\b\b\b\b\b\b\b\b\b\b\b\b\b\b\b\b\b\b\b\b\b\b\b\b\b\b\b\b\b\b\b\b\b\b\b\b\b\b\b\b\b\b\b\b\b\b\b\b\b\b\b\b\b\b\b\b\b\b\b\b\b\b\b\b\b\b\b\b\b\b\b\b\b\b\b\r194/194 [==============================] - 119s 614ms/step - loss: 0.0136 - psnr_metric: 35.6972 - ssim_metric: 0.6933 - val_loss: 0.3382 - val_psnr_metric: 11.8526 - val_ssim_metric: 0.4164\n",
            "Epoch 57/100\n",
            "194/194 [==============================] - ETA: 0s - loss: 0.0146 - psnr_metric: 35.9670 - ssim_metric: 0.7034"
          ]
        },
        {
          "output_type": "stream",
          "name": "stderr",
          "text": [
            "WARNING:tensorflow:Compiled the loaded model, but the compiled metrics have yet to be built. `model.compile_metrics` will be empty until you train or evaluate the model.\n",
            "\u001b[34m\u001b[1mwandb\u001b[0m: Adding directory to artifact (./checkpoint)... Done. 0.1s\n"
          ]
        },
        {
          "output_type": "stream",
          "name": "stdout",
          "text": [
            "\b\b\b\b\b\b\b\b\b\b\b\b\b\b\b\b\b\b\b\b\b\b\b\b\b\b\b\b\b\b\b\b\b\b\b\b\b\b\b\b\b\b\b\b\b\b\b\b\b\b\b\b\b\b\b\b\b\b\b\b\b\b\b\b\b\b\b\b\b\b\b\b\b\b\b\b\b\b\b\b\b\b\b\b\b\b\b\b\b\b\b\b\b\b\b\b\b\b\b\b\b\b\b\b\b\b\b\b\b\b\r194/194 [==============================] - 120s 622ms/step - loss: 0.0146 - psnr_metric: 35.9670 - ssim_metric: 0.7034 - val_loss: 0.3379 - val_psnr_metric: 11.8430 - val_ssim_metric: 0.4163\n",
            "Epoch 58/100\n",
            "194/194 [==============================] - ETA: 0s - loss: 0.0137 - psnr_metric: 35.6776 - ssim_metric: 0.6962"
          ]
        },
        {
          "output_type": "stream",
          "name": "stderr",
          "text": [
            "WARNING:tensorflow:Compiled the loaded model, but the compiled metrics have yet to be built. `model.compile_metrics` will be empty until you train or evaluate the model.\n",
            "\u001b[34m\u001b[1mwandb\u001b[0m: Adding directory to artifact (./checkpoint)... Done. 0.1s\n"
          ]
        },
        {
          "output_type": "stream",
          "name": "stdout",
          "text": [
            "\b\b\b\b\b\b\b\b\b\b\b\b\b\b\b\b\b\b\b\b\b\b\b\b\b\b\b\b\b\b\b\b\b\b\b\b\b\b\b\b\b\b\b\b\b\b\b\b\b\b\b\b\b\b\b\b\b\b\b\b\b\b\b\b\b\b\b\b\b\b\b\b\b\b\b\b\b\b\b\b\b\b\b\b\b\b\b\b\b\b\b\b\b\b\b\b\b\b\b\b\b\b\b\b\b\b\b\b\b\b\r194/194 [==============================] - 125s 645ms/step - loss: 0.0137 - psnr_metric: 35.6776 - ssim_metric: 0.6962 - val_loss: 0.3386 - val_psnr_metric: 11.8416 - val_ssim_metric: 0.4145\n",
            "Epoch 59/100\n",
            "194/194 [==============================] - ETA: 0s - loss: 0.0144 - psnr_metric: 35.1320 - ssim_metric: 0.6908"
          ]
        },
        {
          "output_type": "stream",
          "name": "stderr",
          "text": [
            "WARNING:tensorflow:Compiled the loaded model, but the compiled metrics have yet to be built. `model.compile_metrics` will be empty until you train or evaluate the model.\n",
            "\u001b[34m\u001b[1mwandb\u001b[0m: Adding directory to artifact (./checkpoint)... Done. 0.1s\n"
          ]
        },
        {
          "output_type": "stream",
          "name": "stdout",
          "text": [
            "\b\b\b\b\b\b\b\b\b\b\b\b\b\b\b\b\b\b\b\b\b\b\b\b\b\b\b\b\b\b\b\b\b\b\b\b\b\b\b\b\b\b\b\b\b\b\b\b\b\b\b\b\b\b\b\b\b\b\b\b\b\b\b\b\b\b\b\b\b\b\b\b\b\b\b\b\b\b\b\b\b\b\b\b\b\b\b\b\b\b\b\b\b\b\b\b\b\b\b\b\b\b\b\b\b\b\b\b\b\b\r194/194 [==============================] - 122s 628ms/step - loss: 0.0144 - psnr_metric: 35.1320 - ssim_metric: 0.6908 - val_loss: 0.3383 - val_psnr_metric: 11.8500 - val_ssim_metric: 0.4165\n",
            "Epoch 60/100\n",
            "194/194 [==============================] - ETA: 0s - loss: 0.0125 - psnr_metric: 35.2080 - ssim_metric: 0.6945"
          ]
        },
        {
          "output_type": "stream",
          "name": "stderr",
          "text": [
            "WARNING:tensorflow:Compiled the loaded model, but the compiled metrics have yet to be built. `model.compile_metrics` will be empty until you train or evaluate the model.\n",
            "\u001b[34m\u001b[1mwandb\u001b[0m: Adding directory to artifact (./checkpoint)... Done. 0.1s\n"
          ]
        },
        {
          "output_type": "stream",
          "name": "stdout",
          "text": [
            "\b\b\b\b\b\b\b\b\b\b\b\b\b\b\b\b\b\b\b\b\b\b\b\b\b\b\b\b\b\b\b\b\b\b\b\b\b\b\b\b\b\b\b\b\b\b\b\b\b\b\b\b\b\b\b\b\b\b\b\b\b\b\b\b\b\b\b\b\b\b\b\b\b\b\b\b\b\b\b\b\b\b\b\b\b\b\b\b\b\b\b\b\b\b\b\b\b\b\b\b\b\b\b\b\b\b\b\b\b\b\r194/194 [==============================] - 127s 655ms/step - loss: 0.0125 - psnr_metric: 35.2080 - ssim_metric: 0.6945 - val_loss: 0.3385 - val_psnr_metric: 11.8344 - val_ssim_metric: 0.4146\n",
            "Epoch 61/100\n",
            "194/194 [==============================] - ETA: 0s - loss: 0.0132 - psnr_metric: 34.7475 - ssim_metric: 0.6840"
          ]
        },
        {
          "output_type": "stream",
          "name": "stderr",
          "text": [
            "WARNING:tensorflow:Compiled the loaded model, but the compiled metrics have yet to be built. `model.compile_metrics` will be empty until you train or evaluate the model.\n",
            "\u001b[34m\u001b[1mwandb\u001b[0m: Adding directory to artifact (./checkpoint)... Done. 0.1s\n"
          ]
        },
        {
          "output_type": "stream",
          "name": "stdout",
          "text": [
            "\b\b\b\b\b\b\b\b\b\b\b\b\b\b\b\b\b\b\b\b\b\b\b\b\b\b\b\b\b\b\b\b\b\b\b\b\b\b\b\b\b\b\b\b\b\b\b\b\b\b\b\b\b\b\b\b\b\b\b\b\b\b\b\b\b\b\b\b\b\b\b\b\b\b\b\b\b\b\b\b\b\b\b\b\b\b\b\b\b\b\b\b\b\b\b\b\b\b\b\b\b\b\b\b\b\b\b\b\b\b\r194/194 [==============================] - 122s 628ms/step - loss: 0.0132 - psnr_metric: 34.7475 - ssim_metric: 0.6840 - val_loss: 0.3386 - val_psnr_metric: 11.8178 - val_ssim_metric: 0.4127\n",
            "Epoch 62/100\n",
            "194/194 [==============================] - ETA: 0s - loss: 0.0143 - psnr_metric: 36.0710 - ssim_metric: 0.6873"
          ]
        },
        {
          "output_type": "stream",
          "name": "stderr",
          "text": [
            "WARNING:tensorflow:Compiled the loaded model, but the compiled metrics have yet to be built. `model.compile_metrics` will be empty until you train or evaluate the model.\n",
            "\u001b[34m\u001b[1mwandb\u001b[0m: Adding directory to artifact (./checkpoint)... Done. 0.1s\n"
          ]
        },
        {
          "output_type": "stream",
          "name": "stdout",
          "text": [
            "\b\b\b\b\b\b\b\b\b\b\b\b\b\b\b\b\b\b\b\b\b\b\b\b\b\b\b\b\b\b\b\b\b\b\b\b\b\b\b\b\b\b\b\b\b\b\b\b\b\b\b\b\b\b\b\b\b\b\b\b\b\b\b\b\b\b\b\b\b\b\b\b\b\b\b\b\b\b\b\b\b\b\b\b\b\b\b\b\b\b\b\b\b\b\b\b\b\b\b\b\b\b\b\b\b\b\b\b\b\b\r194/194 [==============================] - 126s 653ms/step - loss: 0.0143 - psnr_metric: 36.0710 - ssim_metric: 0.6873 - val_loss: 0.3378 - val_psnr_metric: 11.9022 - val_ssim_metric: 0.4216\n",
            "Epoch 63/100\n",
            "194/194 [==============================] - ETA: 0s - loss: 0.0147 - psnr_metric: 34.8820 - ssim_metric: 0.6845"
          ]
        },
        {
          "output_type": "stream",
          "name": "stderr",
          "text": [
            "WARNING:tensorflow:Compiled the loaded model, but the compiled metrics have yet to be built. `model.compile_metrics` will be empty until you train or evaluate the model.\n",
            "\u001b[34m\u001b[1mwandb\u001b[0m: Adding directory to artifact (./checkpoint)... Done. 0.1s\n"
          ]
        },
        {
          "output_type": "stream",
          "name": "stdout",
          "text": [
            "\b\b\b\b\b\b\b\b\b\b\b\b\b\b\b\b\b\b\b\b\b\b\b\b\b\b\b\b\b\b\b\b\b\b\b\b\b\b\b\b\b\b\b\b\b\b\b\b\b\b\b\b\b\b\b\b\b\b\b\b\b\b\b\b\b\b\b\b\b\b\b\b\b\b\b\b\b\b\b\b\b\b\b\b\b\b\b\b\b\b\b\b\b\b\b\b\b\b\b\b\b\b\b\b\b\b\b\b\b\b\r194/194 [==============================] - 122s 627ms/step - loss: 0.0147 - psnr_metric: 34.8820 - ssim_metric: 0.6845 - val_loss: 0.3379 - val_psnr_metric: 11.8491 - val_ssim_metric: 0.4165\n",
            "Epoch 64/100\n",
            "194/194 [==============================] - ETA: 0s - loss: 0.0125 - psnr_metric: 36.4254 - ssim_metric: 0.6999"
          ]
        },
        {
          "output_type": "stream",
          "name": "stderr",
          "text": [
            "WARNING:tensorflow:Compiled the loaded model, but the compiled metrics have yet to be built. `model.compile_metrics` will be empty until you train or evaluate the model.\n",
            "\u001b[34m\u001b[1mwandb\u001b[0m: Adding directory to artifact (./checkpoint)... Done. 0.1s\n"
          ]
        },
        {
          "output_type": "stream",
          "name": "stdout",
          "text": [
            "\b\b\b\b\b\b\b\b\b\b\b\b\b\b\b\b\b\b\b\b\b\b\b\b\b\b\b\b\b\b\b\b\b\b\b\b\b\b\b\b\b\b\b\b\b\b\b\b\b\b\b\b\b\b\b\b\b\b\b\b\b\b\b\b\b\b\b\b\b\b\b\b\b\b\b\b\b\b\b\b\b\b\b\b\b\b\b\b\b\b\b\b\b\b\b\b\b\b\b\b\b\b\b\b\b\b\b\b\b\b\r194/194 [==============================] - 128s 660ms/step - loss: 0.0125 - psnr_metric: 36.4254 - ssim_metric: 0.6999 - val_loss: 0.3387 - val_psnr_metric: 11.8012 - val_ssim_metric: 0.4110\n",
            "Epoch 65/100\n",
            "194/194 [==============================] - ETA: 0s - loss: 0.0136 - psnr_metric: 36.1381 - ssim_metric: 0.7010"
          ]
        },
        {
          "output_type": "stream",
          "name": "stderr",
          "text": [
            "WARNING:tensorflow:Compiled the loaded model, but the compiled metrics have yet to be built. `model.compile_metrics` will be empty until you train or evaluate the model.\n",
            "\u001b[34m\u001b[1mwandb\u001b[0m: Adding directory to artifact (./checkpoint)... Done. 0.1s\n"
          ]
        },
        {
          "output_type": "stream",
          "name": "stdout",
          "text": [
            "\b\b\b\b\b\b\b\b\b\b\b\b\b\b\b\b\b\b\b\b\b\b\b\b\b\b\b\b\b\b\b\b\b\b\b\b\b\b\b\b\b\b\b\b\b\b\b\b\b\b\b\b\b\b\b\b\b\b\b\b\b\b\b\b\b\b\b\b\b\b\b\b\b\b\b\b\b\b\b\b\b\b\b\b\b\b\b\b\b\b\b\b\b\b\b\b\b\b\b\b\b\b\b\b\b\b\b\b\b\b\r194/194 [==============================] - 127s 656ms/step - loss: 0.0136 - psnr_metric: 36.1381 - ssim_metric: 0.7010 - val_loss: 0.3386 - val_psnr_metric: 11.8092 - val_ssim_metric: 0.4115\n",
            "Epoch 66/100\n",
            "194/194 [==============================] - ETA: 0s - loss: 0.0138 - psnr_metric: 36.3278 - ssim_metric: 0.6949"
          ]
        },
        {
          "output_type": "stream",
          "name": "stderr",
          "text": [
            "WARNING:tensorflow:Compiled the loaded model, but the compiled metrics have yet to be built. `model.compile_metrics` will be empty until you train or evaluate the model.\n",
            "\u001b[34m\u001b[1mwandb\u001b[0m: Adding directory to artifact (./checkpoint)... Done. 0.1s\n"
          ]
        },
        {
          "output_type": "stream",
          "name": "stdout",
          "text": [
            "\b\b\b\b\b\b\b\b\b\b\b\b\b\b\b\b\b\b\b\b\b\b\b\b\b\b\b\b\b\b\b\b\b\b\b\b\b\b\b\b\b\b\b\b\b\b\b\b\b\b\b\b\b\b\b\b\b\b\b\b\b\b\b\b\b\b\b\b\b\b\b\b\b\b\b\b\b\b\b\b\b\b\b\b\b\b\b\b\b\b\b\b\b\b\b\b\b\b\b\b\b\b\b\b\b\b\b\b\b\b\r194/194 [==============================] - 122s 629ms/step - loss: 0.0138 - psnr_metric: 36.3278 - ssim_metric: 0.6949 - val_loss: 0.3386 - val_psnr_metric: 11.8023 - val_ssim_metric: 0.4112\n",
            "Epoch 67/100\n",
            "194/194 [==============================] - ETA: 0s - loss: 0.0129 - psnr_metric: 36.2776 - ssim_metric: 0.7016"
          ]
        },
        {
          "output_type": "stream",
          "name": "stderr",
          "text": [
            "WARNING:tensorflow:Compiled the loaded model, but the compiled metrics have yet to be built. `model.compile_metrics` will be empty until you train or evaluate the model.\n",
            "\u001b[34m\u001b[1mwandb\u001b[0m: Adding directory to artifact (./checkpoint)... Done. 0.1s\n"
          ]
        },
        {
          "output_type": "stream",
          "name": "stdout",
          "text": [
            "\b\b\b\b\b\b\b\b\b\b\b\b\b\b\b\b\b\b\b\b\b\b\b\b\b\b\b\b\b\b\b\b\b\b\b\b\b\b\b\b\b\b\b\b\b\b\b\b\b\b\b\b\b\b\b\b\b\b\b\b\b\b\b\b\b\b\b\b\b\b\b\b\b\b\b\b\b\b\b\b\b\b\b\b\b\b\b\b\b\b\b\b\b\b\b\b\b\b\b\b\b\b\b\b\b\b\b\b\b\b\r194/194 [==============================] - 122s 631ms/step - loss: 0.0129 - psnr_metric: 36.2776 - ssim_metric: 0.7016 - val_loss: 0.3386 - val_psnr_metric: 11.8300 - val_ssim_metric: 0.4137\n",
            "Epoch 68/100\n",
            "194/194 [==============================] - ETA: 0s - loss: 0.0140 - psnr_metric: 35.3709 - ssim_metric: 0.6960"
          ]
        },
        {
          "output_type": "stream",
          "name": "stderr",
          "text": [
            "WARNING:tensorflow:Compiled the loaded model, but the compiled metrics have yet to be built. `model.compile_metrics` will be empty until you train or evaluate the model.\n",
            "\u001b[34m\u001b[1mwandb\u001b[0m: Adding directory to artifact (./checkpoint)... Done. 0.1s\n"
          ]
        },
        {
          "output_type": "stream",
          "name": "stdout",
          "text": [
            "\b\b\b\b\b\b\b\b\b\b\b\b\b\b\b\b\b\b\b\b\b\b\b\b\b\b\b\b\b\b\b\b\b\b\b\b\b\b\b\b\b\b\b\b\b\b\b\b\b\b\b\b\b\b\b\b\b\b\b\b\b\b\b\b\b\b\b\b\b\b\b\b\b\b\b\b\b\b\b\b\b\b\b\b\b\b\b\b\b\b\b\b\b\b\b\b\b\b\b\b\b\b\b\b\b\b\b\b\b\b\r194/194 [==============================] - 119s 615ms/step - loss: 0.0140 - psnr_metric: 35.3709 - ssim_metric: 0.6960 - val_loss: 0.3381 - val_psnr_metric: 11.8268 - val_ssim_metric: 0.4144\n",
            "Epoch 69/100\n",
            "194/194 [==============================] - ETA: 0s - loss: 0.0140 - psnr_metric: 35.9202 - ssim_metric: 0.6979"
          ]
        },
        {
          "output_type": "stream",
          "name": "stderr",
          "text": [
            "WARNING:tensorflow:Compiled the loaded model, but the compiled metrics have yet to be built. `model.compile_metrics` will be empty until you train or evaluate the model.\n",
            "\u001b[34m\u001b[1mwandb\u001b[0m: Adding directory to artifact (./checkpoint)... Done. 0.1s\n"
          ]
        },
        {
          "output_type": "stream",
          "name": "stdout",
          "text": [
            "\b\b\b\b\b\b\b\b\b\b\b\b\b\b\b\b\b\b\b\b\b\b\b\b\b\b\b\b\b\b\b\b\b\b\b\b\b\b\b\b\b\b\b\b\b\b\b\b\b\b\b\b\b\b\b\b\b\b\b\b\b\b\b\b\b\b\b\b\b\b\b\b\b\b\b\b\b\b\b\b\b\b\b\b\b\b\b\b\b\b\b\b\b\b\b\b\b\b\b\b\b\b\b\b\b\b\b\b\b\b\r194/194 [==============================] - 127s 658ms/step - loss: 0.0140 - psnr_metric: 35.9202 - ssim_metric: 0.6979 - val_loss: 0.3387 - val_psnr_metric: 11.8013 - val_ssim_metric: 0.4105\n",
            "Epoch 70/100\n",
            "194/194 [==============================] - ETA: 0s - loss: 0.0138 - psnr_metric: 36.2858 - ssim_metric: 0.6946"
          ]
        },
        {
          "output_type": "stream",
          "name": "stderr",
          "text": [
            "WARNING:tensorflow:Compiled the loaded model, but the compiled metrics have yet to be built. `model.compile_metrics` will be empty until you train or evaluate the model.\n",
            "\u001b[34m\u001b[1mwandb\u001b[0m: Adding directory to artifact (./checkpoint)... Done. 0.1s\n"
          ]
        },
        {
          "output_type": "stream",
          "name": "stdout",
          "text": [
            "\b\b\b\b\b\b\b\b\b\b\b\b\b\b\b\b\b\b\b\b\b\b\b\b\b\b\b\b\b\b\b\b\b\b\b\b\b\b\b\b\b\b\b\b\b\b\b\b\b\b\b\b\b\b\b\b\b\b\b\b\b\b\b\b\b\b\b\b\b\b\b\b\b\b\b\b\b\b\b\b\b\b\b\b\b\b\b\b\b\b\b\b\b\b\b\b\b\b\b\b\b\b\b\b\b\b\b\b\b\b\r194/194 [==============================] - 128s 661ms/step - loss: 0.0138 - psnr_metric: 36.2858 - ssim_metric: 0.6946 - val_loss: 0.3384 - val_psnr_metric: 11.7981 - val_ssim_metric: 0.4116\n",
            "Epoch 71/100\n",
            "194/194 [==============================] - ETA: 0s - loss: 0.0139 - psnr_metric: 36.0220 - ssim_metric: 0.6927"
          ]
        },
        {
          "output_type": "stream",
          "name": "stderr",
          "text": [
            "WARNING:tensorflow:Compiled the loaded model, but the compiled metrics have yet to be built. `model.compile_metrics` will be empty until you train or evaluate the model.\n",
            "\u001b[34m\u001b[1mwandb\u001b[0m: Adding directory to artifact (./checkpoint)... Done. 0.1s\n"
          ]
        },
        {
          "output_type": "stream",
          "name": "stdout",
          "text": [
            "\b\b\b\b\b\b\b\b\b\b\b\b\b\b\b\b\b\b\b\b\b\b\b\b\b\b\b\b\b\b\b\b\b\b\b\b\b\b\b\b\b\b\b\b\b\b\b\b\b\b\b\b\b\b\b\b\b\b\b\b\b\b\b\b\b\b\b\b\b\b\b\b\b\b\b\b\b\b\b\b\b\b\b\b\b\b\b\b\b\b\b\b\b\b\b\b\b\b\b\b\b\b\b\b\b\b\b\b\b\b\r194/194 [==============================] - 122s 630ms/step - loss: 0.0139 - psnr_metric: 36.0220 - ssim_metric: 0.6927 - val_loss: 0.3380 - val_psnr_metric: 11.8357 - val_ssim_metric: 0.4149\n",
            "Epoch 72/100\n",
            "194/194 [==============================] - ETA: 0s - loss: 0.0130 - psnr_metric: 35.7366 - ssim_metric: 0.6960"
          ]
        },
        {
          "output_type": "stream",
          "name": "stderr",
          "text": [
            "WARNING:tensorflow:Compiled the loaded model, but the compiled metrics have yet to be built. `model.compile_metrics` will be empty until you train or evaluate the model.\n",
            "\u001b[34m\u001b[1mwandb\u001b[0m: Adding directory to artifact (./checkpoint)... Done. 0.1s\n"
          ]
        },
        {
          "output_type": "stream",
          "name": "stdout",
          "text": [
            "\b\b\b\b\b\b\b\b\b\b\b\b\b\b\b\b\b\b\b\b\b\b\b\b\b\b\b\b\b\b\b\b\b\b\b\b\b\b\b\b\b\b\b\b\b\b\b\b\b\b\b\b\b\b\b\b\b\b\b\b\b\b\b\b\b\b\b\b\b\b\b\b\b\b\b\b\b\b\b\b\b\b\b\b\b\b\b\b\b\b\b\b\b\b\b\b\b\b\b\b\b\b\b\b\b\b\b\b\b\b\r194/194 [==============================] - 122s 631ms/step - loss: 0.0130 - psnr_metric: 35.7366 - ssim_metric: 0.6960 - val_loss: 0.3387 - val_psnr_metric: 11.7989 - val_ssim_metric: 0.4111\n",
            "Epoch 73/100\n",
            "194/194 [==============================] - ETA: 0s - loss: 0.0136 - psnr_metric: 37.0448 - ssim_metric: 0.6989"
          ]
        },
        {
          "output_type": "stream",
          "name": "stderr",
          "text": [
            "WARNING:tensorflow:Compiled the loaded model, but the compiled metrics have yet to be built. `model.compile_metrics` will be empty until you train or evaluate the model.\n",
            "\u001b[34m\u001b[1mwandb\u001b[0m: Adding directory to artifact (./checkpoint)... Done. 0.1s\n"
          ]
        },
        {
          "output_type": "stream",
          "name": "stdout",
          "text": [
            "\b\b\b\b\b\b\b\b\b\b\b\b\b\b\b\b\b\b\b\b\b\b\b\b\b\b\b\b\b\b\b\b\b\b\b\b\b\b\b\b\b\b\b\b\b\b\b\b\b\b\b\b\b\b\b\b\b\b\b\b\b\b\b\b\b\b\b\b\b\b\b\b\b\b\b\b\b\b\b\b\b\b\b\b\b\b\b\b\b\b\b\b\b\b\b\b\b\b\b\b\b\b\b\b\b\b\b\b\b\b\r194/194 [==============================] - 122s 628ms/step - loss: 0.0136 - psnr_metric: 37.0448 - ssim_metric: 0.6989 - val_loss: 0.3387 - val_psnr_metric: 11.8017 - val_ssim_metric: 0.4121\n",
            "Epoch 74/100\n",
            "194/194 [==============================] - ETA: 0s - loss: 0.0141 - psnr_metric: 35.5795 - ssim_metric: 0.6899"
          ]
        },
        {
          "output_type": "stream",
          "name": "stderr",
          "text": [
            "WARNING:tensorflow:Compiled the loaded model, but the compiled metrics have yet to be built. `model.compile_metrics` will be empty until you train or evaluate the model.\n",
            "\u001b[34m\u001b[1mwandb\u001b[0m: Adding directory to artifact (./checkpoint)... Done. 0.1s\n"
          ]
        },
        {
          "output_type": "stream",
          "name": "stdout",
          "text": [
            "\b\b\b\b\b\b\b\b\b\b\b\b\b\b\b\b\b\b\b\b\b\b\b\b\b\b\b\b\b\b\b\b\b\b\b\b\b\b\b\b\b\b\b\b\b\b\b\b\b\b\b\b\b\b\b\b\b\b\b\b\b\b\b\b\b\b\b\b\b\b\b\b\b\b\b\b\b\b\b\b\b\b\b\b\b\b\b\b\b\b\b\b\b\b\b\b\b\b\b\b\b\b\b\b\b\b\b\b\b\b\r194/194 [==============================] - 128s 660ms/step - loss: 0.0141 - psnr_metric: 35.5795 - ssim_metric: 0.6899 - val_loss: 0.3387 - val_psnr_metric: 11.8119 - val_ssim_metric: 0.4125\n",
            "Epoch 75/100\n",
            "194/194 [==============================] - ETA: 0s - loss: 0.0141 - psnr_metric: 36.9311 - ssim_metric: 0.6959"
          ]
        },
        {
          "output_type": "stream",
          "name": "stderr",
          "text": [
            "WARNING:tensorflow:Compiled the loaded model, but the compiled metrics have yet to be built. `model.compile_metrics` will be empty until you train or evaluate the model.\n",
            "\u001b[34m\u001b[1mwandb\u001b[0m: Adding directory to artifact (./checkpoint)... Done. 0.1s\n"
          ]
        },
        {
          "output_type": "stream",
          "name": "stdout",
          "text": [
            "\b\b\b\b\b\b\b\b\b\b\b\b\b\b\b\b\b\b\b\b\b\b\b\b\b\b\b\b\b\b\b\b\b\b\b\b\b\b\b\b\b\b\b\b\b\b\b\b\b\b\b\b\b\b\b\b\b\b\b\b\b\b\b\b\b\b\b\b\b\b\b\b\b\b\b\b\b\b\b\b\b\b\b\b\b\b\b\b\b\b\b\b\b\b\b\b\b\b\b\b\b\b\b\b\b\b\b\b\b\b\r194/194 [==============================] - 122s 630ms/step - loss: 0.0141 - psnr_metric: 36.9311 - ssim_metric: 0.6959 - val_loss: 0.3387 - val_psnr_metric: 11.7833 - val_ssim_metric: 0.4097\n",
            "Epoch 76/100\n",
            "194/194 [==============================] - ETA: 0s - loss: 0.0138 - psnr_metric: 35.6077 - ssim_metric: 0.6941"
          ]
        },
        {
          "output_type": "stream",
          "name": "stderr",
          "text": [
            "WARNING:tensorflow:Compiled the loaded model, but the compiled metrics have yet to be built. `model.compile_metrics` will be empty until you train or evaluate the model.\n",
            "\u001b[34m\u001b[1mwandb\u001b[0m: Adding directory to artifact (./checkpoint)... Done. 0.1s\n"
          ]
        },
        {
          "output_type": "stream",
          "name": "stdout",
          "text": [
            "\b\b\b\b\b\b\b\b\b\b\b\b\b\b\b\b\b\b\b\b\b\b\b\b\b\b\b\b\b\b\b\b\b\b\b\b\b\b\b\b\b\b\b\b\b\b\b\b\b\b\b\b\b\b\b\b\b\b\b\b\b\b\b\b\b\b\b\b\b\b\b\b\b\b\b\b\b\b\b\b\b\b\b\b\b\b\b\b\b\b\b\b\b\b\b\b\b\b\b\b\b\b\b\b\b\b\b\b\b\b\r194/194 [==============================] - 124s 639ms/step - loss: 0.0138 - psnr_metric: 35.6077 - ssim_metric: 0.6941 - val_loss: 0.3387 - val_psnr_metric: 11.7922 - val_ssim_metric: 0.4105\n",
            "Epoch 77/100\n",
            "194/194 [==============================] - ETA: 0s - loss: 0.0139 - psnr_metric: 37.5038 - ssim_metric: 0.7030"
          ]
        },
        {
          "output_type": "stream",
          "name": "stderr",
          "text": [
            "WARNING:tensorflow:Compiled the loaded model, but the compiled metrics have yet to be built. `model.compile_metrics` will be empty until you train or evaluate the model.\n",
            "\u001b[34m\u001b[1mwandb\u001b[0m: Adding directory to artifact (./checkpoint)... Done. 0.1s\n"
          ]
        },
        {
          "output_type": "stream",
          "name": "stdout",
          "text": [
            "\b\b\b\b\b\b\b\b\b\b\b\b\b\b\b\b\b\b\b\b\b\b\b\b\b\b\b\b\b\b\b\b\b\b\b\b\b\b\b\b\b\b\b\b\b\b\b\b\b\b\b\b\b\b\b\b\b\b\b\b\b\b\b\b\b\b\b\b\b\b\b\b\b\b\b\b\b\b\b\b\b\b\b\b\b\b\b\b\b\b\b\b\b\b\b\b\b\b\b\b\b\b\b\b\b\b\b\b\b\b\r194/194 [==============================] - 122s 631ms/step - loss: 0.0139 - psnr_metric: 37.5038 - ssim_metric: 0.7030 - val_loss: 0.3387 - val_psnr_metric: 11.7858 - val_ssim_metric: 0.4101\n",
            "Epoch 78/100\n",
            "194/194 [==============================] - ETA: 0s - loss: 0.0137 - psnr_metric: 37.3944 - ssim_metric: 0.7052"
          ]
        },
        {
          "output_type": "stream",
          "name": "stderr",
          "text": [
            "WARNING:tensorflow:Compiled the loaded model, but the compiled metrics have yet to be built. `model.compile_metrics` will be empty until you train or evaluate the model.\n",
            "\u001b[34m\u001b[1mwandb\u001b[0m: Adding directory to artifact (./checkpoint)... Done. 0.1s\n"
          ]
        },
        {
          "output_type": "stream",
          "name": "stdout",
          "text": [
            "\b\b\b\b\b\b\b\b\b\b\b\b\b\b\b\b\b\b\b\b\b\b\b\b\b\b\b\b\b\b\b\b\b\b\b\b\b\b\b\b\b\b\b\b\b\b\b\b\b\b\b\b\b\b\b\b\b\b\b\b\b\b\b\b\b\b\b\b\b\b\b\b\b\b\b\b\b\b\b\b\b\b\b\b\b\b\b\b\b\b\b\b\b\b\b\b\b\b\b\b\b\b\b\b\b\b\b\b\b\b\r194/194 [==============================] - 121s 623ms/step - loss: 0.0137 - psnr_metric: 37.3944 - ssim_metric: 0.7052 - val_loss: 0.3387 - val_psnr_metric: 11.7825 - val_ssim_metric: 0.4093\n",
            "Epoch 79/100\n",
            "194/194 [==============================] - ETA: 0s - loss: 0.0144 - psnr_metric: 36.7772 - ssim_metric: 0.6877"
          ]
        },
        {
          "output_type": "stream",
          "name": "stderr",
          "text": [
            "WARNING:tensorflow:Compiled the loaded model, but the compiled metrics have yet to be built. `model.compile_metrics` will be empty until you train or evaluate the model.\n",
            "\u001b[34m\u001b[1mwandb\u001b[0m: Adding directory to artifact (./checkpoint)... Done. 0.1s\n"
          ]
        },
        {
          "output_type": "stream",
          "name": "stdout",
          "text": [
            "\b\b\b\b\b\b\b\b\b\b\b\b\b\b\b\b\b\b\b\b\b\b\b\b\b\b\b\b\b\b\b\b\b\b\b\b\b\b\b\b\b\b\b\b\b\b\b\b\b\b\b\b\b\b\b\b\b\b\b\b\b\b\b\b\b\b\b\b\b\b\b\b\b\b\b\b\b\b\b\b\b\b\b\b\b\b\b\b\b\b\b\b\b\b\b\b\b\b\b\b\b\b\b\b\b\b\b\b\b\b\r194/194 [==============================] - 121s 627ms/step - loss: 0.0144 - psnr_metric: 36.7772 - ssim_metric: 0.6877 - val_loss: 0.3387 - val_psnr_metric: 11.7998 - val_ssim_metric: 0.4111\n",
            "Epoch 80/100\n",
            "194/194 [==============================] - ETA: 0s - loss: 0.0141 - psnr_metric: 36.8480 - ssim_metric: 0.6951"
          ]
        },
        {
          "output_type": "stream",
          "name": "stderr",
          "text": [
            "WARNING:tensorflow:Compiled the loaded model, but the compiled metrics have yet to be built. `model.compile_metrics` will be empty until you train or evaluate the model.\n",
            "\u001b[34m\u001b[1mwandb\u001b[0m: Adding directory to artifact (./checkpoint)... Done. 0.1s\n"
          ]
        },
        {
          "output_type": "stream",
          "name": "stdout",
          "text": [
            "\b\b\b\b\b\b\b\b\b\b\b\b\b\b\b\b\b\b\b\b\b\b\b\b\b\b\b\b\b\b\b\b\b\b\b\b\b\b\b\b\b\b\b\b\b\b\b\b\b\b\b\b\b\b\b\b\b\b\b\b\b\b\b\b\b\b\b\b\b\b\b\b\b\b\b\b\b\b\b\b\b\b\b\b\b\b\b\b\b\b\b\b\b\b\b\b\b\b\b\b\b\b\b\b\b\b\b\b\b\b\r194/194 [==============================] - 121s 625ms/step - loss: 0.0141 - psnr_metric: 36.8480 - ssim_metric: 0.6951 - val_loss: 0.3387 - val_psnr_metric: 11.7923 - val_ssim_metric: 0.4101\n",
            "Epoch 81/100\n",
            "194/194 [==============================] - ETA: 0s - loss: 0.0133 - psnr_metric: 36.9375 - ssim_metric: 0.7030"
          ]
        },
        {
          "output_type": "stream",
          "name": "stderr",
          "text": [
            "WARNING:tensorflow:Compiled the loaded model, but the compiled metrics have yet to be built. `model.compile_metrics` will be empty until you train or evaluate the model.\n",
            "\u001b[34m\u001b[1mwandb\u001b[0m: Adding directory to artifact (./checkpoint)... Done. 0.1s\n"
          ]
        },
        {
          "output_type": "stream",
          "name": "stdout",
          "text": [
            "\b\b\b\b\b\b\b\b\b\b\b\b\b\b\b\b\b\b\b\b\b\b\b\b\b\b\b\b\b\b\b\b\b\b\b\b\b\b\b\b\b\b\b\b\b\b\b\b\b\b\b\b\b\b\b\b\b\b\b\b\b\b\b\b\b\b\b\b\b\b\b\b\b\b\b\b\b\b\b\b\b\b\b\b\b\b\b\b\b\b\b\b\b\b\b\b\b\b\b\b\b\b\b\b\b\b\b\b\b\b\r194/194 [==============================] - 123s 635ms/step - loss: 0.0133 - psnr_metric: 36.9375 - ssim_metric: 0.7030 - val_loss: 0.3386 - val_psnr_metric: 11.7943 - val_ssim_metric: 0.4109\n",
            "Epoch 82/100\n",
            "194/194 [==============================] - ETA: 0s - loss: 0.0140 - psnr_metric: 36.4668 - ssim_metric: 0.6958"
          ]
        },
        {
          "output_type": "stream",
          "name": "stderr",
          "text": [
            "WARNING:tensorflow:Compiled the loaded model, but the compiled metrics have yet to be built. `model.compile_metrics` will be empty until you train or evaluate the model.\n",
            "\u001b[34m\u001b[1mwandb\u001b[0m: Adding directory to artifact (./checkpoint)... Done. 0.1s\n"
          ]
        },
        {
          "output_type": "stream",
          "name": "stdout",
          "text": [
            "\b\b\b\b\b\b\b\b\b\b\b\b\b\b\b\b\b\b\b\b\b\b\b\b\b\b\b\b\b\b\b\b\b\b\b\b\b\b\b\b\b\b\b\b\b\b\b\b\b\b\b\b\b\b\b\b\b\b\b\b\b\b\b\b\b\b\b\b\b\b\b\b\b\b\b\b\b\b\b\b\b\b\b\b\b\b\b\b\b\b\b\b\b\b\b\b\b\b\b\b\b\b\b\b\b\b\b\b\b\b\r194/194 [==============================] - 121s 625ms/step - loss: 0.0140 - psnr_metric: 36.4668 - ssim_metric: 0.6958 - val_loss: 0.3386 - val_psnr_metric: 11.7970 - val_ssim_metric: 0.4108\n",
            "Epoch 83/100\n",
            "194/194 [==============================] - ETA: 0s - loss: 0.0139 - psnr_metric: 36.3924 - ssim_metric: 0.6953"
          ]
        },
        {
          "output_type": "stream",
          "name": "stderr",
          "text": [
            "WARNING:tensorflow:Compiled the loaded model, but the compiled metrics have yet to be built. `model.compile_metrics` will be empty until you train or evaluate the model.\n",
            "\u001b[34m\u001b[1mwandb\u001b[0m: Adding directory to artifact (./checkpoint)... Done. 0.1s\n"
          ]
        },
        {
          "output_type": "stream",
          "name": "stdout",
          "text": [
            "\b\b\b\b\b\b\b\b\b\b\b\b\b\b\b\b\b\b\b\b\b\b\b\b\b\b\b\b\b\b\b\b\b\b\b\b\b\b\b\b\b\b\b\b\b\b\b\b\b\b\b\b\b\b\b\b\b\b\b\b\b\b\b\b\b\b\b\b\b\b\b\b\b\b\b\b\b\b\b\b\b\b\b\b\b\b\b\b\b\b\b\b\b\b\b\b\b\b\b\b\b\b\b\b\b\b\b\b\b\b\r194/194 [==============================] - 121s 624ms/step - loss: 0.0139 - psnr_metric: 36.3924 - ssim_metric: 0.6953 - val_loss: 0.3388 - val_psnr_metric: 11.7916 - val_ssim_metric: 0.4098\n",
            "Epoch 84/100\n",
            "194/194 [==============================] - ETA: 0s - loss: 0.0129 - psnr_metric: 37.1130 - ssim_metric: 0.7058"
          ]
        },
        {
          "output_type": "stream",
          "name": "stderr",
          "text": [
            "WARNING:tensorflow:Compiled the loaded model, but the compiled metrics have yet to be built. `model.compile_metrics` will be empty until you train or evaluate the model.\n",
            "\u001b[34m\u001b[1mwandb\u001b[0m: Adding directory to artifact (./checkpoint)... Done. 0.1s\n"
          ]
        },
        {
          "output_type": "stream",
          "name": "stdout",
          "text": [
            "\b\b\b\b\b\b\b\b\b\b\b\b\b\b\b\b\b\b\b\b\b\b\b\b\b\b\b\b\b\b\b\b\b\b\b\b\b\b\b\b\b\b\b\b\b\b\b\b\b\b\b\b\b\b\b\b\b\b\b\b\b\b\b\b\b\b\b\b\b\b\b\b\b\b\b\b\b\b\b\b\b\b\b\b\b\b\b\b\b\b\b\b\b\b\b\b\b\b\b\b\b\b\b\b\b\b\b\b\b\b\r194/194 [==============================] - 128s 659ms/step - loss: 0.0129 - psnr_metric: 37.1130 - ssim_metric: 0.7058 - val_loss: 0.3387 - val_psnr_metric: 11.7949 - val_ssim_metric: 0.4100\n",
            "Epoch 85/100\n",
            "194/194 [==============================] - ETA: 0s - loss: 0.0143 - psnr_metric: 36.5879 - ssim_metric: 0.7010"
          ]
        },
        {
          "output_type": "stream",
          "name": "stderr",
          "text": [
            "WARNING:tensorflow:Compiled the loaded model, but the compiled metrics have yet to be built. `model.compile_metrics` will be empty until you train or evaluate the model.\n",
            "\u001b[34m\u001b[1mwandb\u001b[0m: Adding directory to artifact (./checkpoint)... Done. 0.1s\n"
          ]
        },
        {
          "output_type": "stream",
          "name": "stdout",
          "text": [
            "\b\b\b\b\b\b\b\b\b\b\b\b\b\b\b\b\b\b\b\b\b\b\b\b\b\b\b\b\b\b\b\b\b\b\b\b\b\b\b\b\b\b\b\b\b\b\b\b\b\b\b\b\b\b\b\b\b\b\b\b\b\b\b\b\b\b\b\b\b\b\b\b\b\b\b\b\b\b\b\b\b\b\b\b\b\b\b\b\b\b\b\b\b\b\b\b\b\b\b\b\b\b\b\b\b\b\b\b\b\b\r194/194 [==============================] - 126s 652ms/step - loss: 0.0143 - psnr_metric: 36.5879 - ssim_metric: 0.7010 - val_loss: 0.3381 - val_psnr_metric: 11.8488 - val_ssim_metric: 0.4167\n",
            "Epoch 86/100\n",
            "194/194 [==============================] - ETA: 0s - loss: 0.0138 - psnr_metric: 35.3362 - ssim_metric: 0.6908"
          ]
        },
        {
          "output_type": "stream",
          "name": "stderr",
          "text": [
            "WARNING:tensorflow:Compiled the loaded model, but the compiled metrics have yet to be built. `model.compile_metrics` will be empty until you train or evaluate the model.\n",
            "\u001b[34m\u001b[1mwandb\u001b[0m: Adding directory to artifact (./checkpoint)... Done. 0.1s\n"
          ]
        },
        {
          "output_type": "stream",
          "name": "stdout",
          "text": [
            "\b\b\b\b\b\b\b\b\b\b\b\b\b\b\b\b\b\b\b\b\b\b\b\b\b\b\b\b\b\b\b\b\b\b\b\b\b\b\b\b\b\b\b\b\b\b\b\b\b\b\b\b\b\b\b\b\b\b\b\b\b\b\b\b\b\b\b\b\b\b\b\b\b\b\b\b\b\b\b\b\b\b\b\b\b\b\b\b\b\b\b\b\b\b\b\b\b\b\b\b\b\b\b\b\b\b\b\b\b\b\r194/194 [==============================] - 122s 629ms/step - loss: 0.0138 - psnr_metric: 35.3362 - ssim_metric: 0.6908 - val_loss: 0.3387 - val_psnr_metric: 11.7869 - val_ssim_metric: 0.4097\n",
            "Epoch 87/100\n",
            "194/194 [==============================] - ETA: 0s - loss: 0.0141 - psnr_metric: 36.7940 - ssim_metric: 0.6910"
          ]
        },
        {
          "output_type": "stream",
          "name": "stderr",
          "text": [
            "WARNING:tensorflow:Compiled the loaded model, but the compiled metrics have yet to be built. `model.compile_metrics` will be empty until you train or evaluate the model.\n",
            "\u001b[34m\u001b[1mwandb\u001b[0m: Adding directory to artifact (./checkpoint)... Done. 0.1s\n"
          ]
        },
        {
          "output_type": "stream",
          "name": "stdout",
          "text": [
            "\b\b\b\b\b\b\b\b\b\b\b\b\b\b\b\b\b\b\b\b\b\b\b\b\b\b\b\b\b\b\b\b\b\b\b\b\b\b\b\b\b\b\b\b\b\b\b\b\b\b\b\b\b\b\b\b\b\b\b\b\b\b\b\b\b\b\b\b\b\b\b\b\b\b\b\b\b\b\b\b\b\b\b\b\b\b\b\b\b\b\b\b\b\b\b\b\b\b\b\b\b\b\b\b\b\b\b\b\b\b\r194/194 [==============================] - 122s 630ms/step - loss: 0.0141 - psnr_metric: 36.7940 - ssim_metric: 0.6910 - val_loss: 0.3386 - val_psnr_metric: 11.8000 - val_ssim_metric: 0.4116\n",
            "Epoch 88/100\n",
            "194/194 [==============================] - ETA: 0s - loss: 0.0133 - psnr_metric: 37.2145 - ssim_metric: 0.6988"
          ]
        },
        {
          "output_type": "stream",
          "name": "stderr",
          "text": [
            "WARNING:tensorflow:Compiled the loaded model, but the compiled metrics have yet to be built. `model.compile_metrics` will be empty until you train or evaluate the model.\n",
            "\u001b[34m\u001b[1mwandb\u001b[0m: Adding directory to artifact (./checkpoint)... Done. 0.1s\n"
          ]
        },
        {
          "output_type": "stream",
          "name": "stdout",
          "text": [
            "\b\b\b\b\b\b\b\b\b\b\b\b\b\b\b\b\b\b\b\b\b\b\b\b\b\b\b\b\b\b\b\b\b\b\b\b\b\b\b\b\b\b\b\b\b\b\b\b\b\b\b\b\b\b\b\b\b\b\b\b\b\b\b\b\b\b\b\b\b\b\b\b\b\b\b\b\b\b\b\b\b\b\b\b\b\b\b\b\b\b\b\b\b\b\b\b\b\b\b\b\b\b\b\b\b\b\b\b\b\b\r194/194 [==============================] - 122s 630ms/step - loss: 0.0133 - psnr_metric: 37.2145 - ssim_metric: 0.6988 - val_loss: 0.3387 - val_psnr_metric: 11.7886 - val_ssim_metric: 0.4099\n",
            "Epoch 89/100\n",
            "194/194 [==============================] - ETA: 0s - loss: 0.0133 - psnr_metric: 37.1311 - ssim_metric: 0.6989"
          ]
        },
        {
          "output_type": "stream",
          "name": "stderr",
          "text": [
            "WARNING:tensorflow:Compiled the loaded model, but the compiled metrics have yet to be built. `model.compile_metrics` will be empty until you train or evaluate the model.\n",
            "\u001b[34m\u001b[1mwandb\u001b[0m: Adding directory to artifact (./checkpoint)... Done. 0.1s\n"
          ]
        },
        {
          "output_type": "stream",
          "name": "stdout",
          "text": [
            "\b\b\b\b\b\b\b\b\b\b\b\b\b\b\b\b\b\b\b\b\b\b\b\b\b\b\b\b\b\b\b\b\b\b\b\b\b\b\b\b\b\b\b\b\b\b\b\b\b\b\b\b\b\b\b\b\b\b\b\b\b\b\b\b\b\b\b\b\b\b\b\b\b\b\b\b\b\b\b\b\b\b\b\b\b\b\b\b\b\b\b\b\b\b\b\b\b\b\b\b\b\b\b\b\b\b\b\b\b\b\r194/194 [==============================] - 127s 653ms/step - loss: 0.0133 - psnr_metric: 37.1311 - ssim_metric: 0.6989 - val_loss: 0.3386 - val_psnr_metric: 11.7802 - val_ssim_metric: 0.4101\n",
            "Epoch 90/100\n",
            "194/194 [==============================] - ETA: 0s - loss: 0.0141 - psnr_metric: 37.0012 - ssim_metric: 0.7068"
          ]
        },
        {
          "output_type": "stream",
          "name": "stderr",
          "text": [
            "WARNING:tensorflow:Compiled the loaded model, but the compiled metrics have yet to be built. `model.compile_metrics` will be empty until you train or evaluate the model.\n",
            "\u001b[34m\u001b[1mwandb\u001b[0m: Adding directory to artifact (./checkpoint)... Done. 0.1s\n"
          ]
        },
        {
          "output_type": "stream",
          "name": "stdout",
          "text": [
            "\b\b\b\b\b\b\b\b\b\b\b\b\b\b\b\b\b\b\b\b\b\b\b\b\b\b\b\b\b\b\b\b\b\b\b\b\b\b\b\b\b\b\b\b\b\b\b\b\b\b\b\b\b\b\b\b\b\b\b\b\b\b\b\b\b\b\b\b\b\b\b\b\b\b\b\b\b\b\b\b\b\b\b\b\b\b\b\b\b\b\b\b\b\b\b\b\b\b\b\b\b\b\b\b\b\b\b\b\b\b\r194/194 [==============================] - 122s 632ms/step - loss: 0.0141 - psnr_metric: 37.0012 - ssim_metric: 0.7068 - val_loss: 0.3387 - val_psnr_metric: 11.7879 - val_ssim_metric: 0.4098\n",
            "Epoch 91/100\n",
            "194/194 [==============================] - ETA: 0s - loss: 0.0132 - psnr_metric: 36.7921 - ssim_metric: 0.6938"
          ]
        },
        {
          "output_type": "stream",
          "name": "stderr",
          "text": [
            "WARNING:tensorflow:Compiled the loaded model, but the compiled metrics have yet to be built. `model.compile_metrics` will be empty until you train or evaluate the model.\n",
            "\u001b[34m\u001b[1mwandb\u001b[0m: Adding directory to artifact (./checkpoint)... Done. 0.1s\n"
          ]
        },
        {
          "output_type": "stream",
          "name": "stdout",
          "text": [
            "\b\b\b\b\b\b\b\b\b\b\b\b\b\b\b\b\b\b\b\b\b\b\b\b\b\b\b\b\b\b\b\b\b\b\b\b\b\b\b\b\b\b\b\b\b\b\b\b\b\b\b\b\b\b\b\b\b\b\b\b\b\b\b\b\b\b\b\b\b\b\b\b\b\b\b\b\b\b\b\b\b\b\b\b\b\b\b\b\b\b\b\b\b\b\b\b\b\b\b\b\b\b\b\b\b\b\b\b\b\b\r194/194 [==============================] - 122s 632ms/step - loss: 0.0132 - psnr_metric: 36.7921 - ssim_metric: 0.6938 - val_loss: 0.3387 - val_psnr_metric: 11.7859 - val_ssim_metric: 0.4093\n",
            "Epoch 92/100\n",
            "194/194 [==============================] - ETA: 0s - loss: 0.0144 - psnr_metric: 37.7392 - ssim_metric: 0.6951"
          ]
        },
        {
          "output_type": "stream",
          "name": "stderr",
          "text": [
            "WARNING:tensorflow:Compiled the loaded model, but the compiled metrics have yet to be built. `model.compile_metrics` will be empty until you train or evaluate the model.\n",
            "\u001b[34m\u001b[1mwandb\u001b[0m: Adding directory to artifact (./checkpoint)... Done. 0.1s\n"
          ]
        },
        {
          "output_type": "stream",
          "name": "stdout",
          "text": [
            "\b\b\b\b\b\b\b\b\b\b\b\b\b\b\b\b\b\b\b\b\b\b\b\b\b\b\b\b\b\b\b\b\b\b\b\b\b\b\b\b\b\b\b\b\b\b\b\b\b\b\b\b\b\b\b\b\b\b\b\b\b\b\b\b\b\b\b\b\b\b\b\b\b\b\b\b\b\b\b\b\b\b\b\b\b\b\b\b\b\b\b\b\b\b\b\b\b\b\b\b\b\b\b\b\b\b\b\b\b\b\r194/194 [==============================] - 127s 658ms/step - loss: 0.0144 - psnr_metric: 37.7392 - ssim_metric: 0.6951 - val_loss: 0.3387 - val_psnr_metric: 11.7860 - val_ssim_metric: 0.4096\n",
            "Epoch 93/100\n",
            "194/194 [==============================] - ETA: 0s - loss: 0.0142 - psnr_metric: 36.3514 - ssim_metric: 0.6901"
          ]
        },
        {
          "output_type": "stream",
          "name": "stderr",
          "text": [
            "WARNING:tensorflow:Compiled the loaded model, but the compiled metrics have yet to be built. `model.compile_metrics` will be empty until you train or evaluate the model.\n",
            "\u001b[34m\u001b[1mwandb\u001b[0m: Adding directory to artifact (./checkpoint)... Done. 0.2s\n"
          ]
        },
        {
          "output_type": "stream",
          "name": "stdout",
          "text": [
            "\b\b\b\b\b\b\b\b\b\b\b\b\b\b\b\b\b\b\b\b\b\b\b\b\b\b\b\b\b\b\b\b\b\b\b\b\b\b\b\b\b\b\b\b\b\b\b\b\b\b\b\b\b\b\b\b\b\b\b\b\b\b\b\b\b\b\b\b\b\b\b\b\b\b\b\b\b\b\b\b\b\b\b\b\b\b\b\b\b\b\b\b\b\b\b\b\b\b\b\b\b\b\b\b\b\b\b\b\b\b\r194/194 [==============================] - 122s 629ms/step - loss: 0.0142 - psnr_metric: 36.3514 - ssim_metric: 0.6901 - val_loss: 0.3387 - val_psnr_metric: 11.7938 - val_ssim_metric: 0.4101\n",
            "Epoch 94/100\n",
            "194/194 [==============================] - ETA: 0s - loss: 0.0138 - psnr_metric: 35.9138 - ssim_metric: 0.6928"
          ]
        },
        {
          "output_type": "stream",
          "name": "stderr",
          "text": [
            "WARNING:tensorflow:Compiled the loaded model, but the compiled metrics have yet to be built. `model.compile_metrics` will be empty until you train or evaluate the model.\n",
            "\u001b[34m\u001b[1mwandb\u001b[0m: Adding directory to artifact (./checkpoint)... Done. 0.1s\n"
          ]
        },
        {
          "output_type": "stream",
          "name": "stdout",
          "text": [
            "\b\b\b\b\b\b\b\b\b\b\b\b\b\b\b\b\b\b\b\b\b\b\b\b\b\b\b\b\b\b\b\b\b\b\b\b\b\b\b\b\b\b\b\b\b\b\b\b\b\b\b\b\b\b\b\b\b\b\b\b\b\b\b\b\b\b\b\b\b\b\b\b\b\b\b\b\b\b\b\b\b\b\b\b\b\b\b\b\b\b\b\b\b\b\b\b\b\b\b\b\b\b\b\b\b\b\b\b\b\b\r194/194 [==============================] - 122s 632ms/step - loss: 0.0138 - psnr_metric: 35.9138 - ssim_metric: 0.6928 - val_loss: 0.3386 - val_psnr_metric: 11.7870 - val_ssim_metric: 0.4099\n",
            "Epoch 95/100\n",
            "194/194 [==============================] - ETA: 0s - loss: 0.0128 - psnr_metric: 37.4341 - ssim_metric: 0.7020"
          ]
        },
        {
          "output_type": "stream",
          "name": "stderr",
          "text": [
            "WARNING:tensorflow:Compiled the loaded model, but the compiled metrics have yet to be built. `model.compile_metrics` will be empty until you train or evaluate the model.\n",
            "\u001b[34m\u001b[1mwandb\u001b[0m: Adding directory to artifact (./checkpoint)... Done. 0.1s\n"
          ]
        },
        {
          "output_type": "stream",
          "name": "stdout",
          "text": [
            "\b\b\b\b\b\b\b\b\b\b\b\b\b\b\b\b\b\b\b\b\b\b\b\b\b\b\b\b\b\b\b\b\b\b\b\b\b\b\b\b\b\b\b\b\b\b\b\b\b\b\b\b\b\b\b\b\b\b\b\b\b\b\b\b\b\b\b\b\b\b\b\b\b\b\b\b\b\b\b\b\b\b\b\b\b\b\b\b\b\b\b\b\b\b\b\b\b\b\b\b\b\b\b\b\b\b\b\b\b\b\r194/194 [==============================] - 122s 628ms/step - loss: 0.0128 - psnr_metric: 37.4341 - ssim_metric: 0.7020 - val_loss: 0.3387 - val_psnr_metric: 11.7843 - val_ssim_metric: 0.4095\n",
            "Epoch 96/100\n",
            "194/194 [==============================] - ETA: 0s - loss: 0.0133 - psnr_metric: 37.9142 - ssim_metric: 0.6979"
          ]
        },
        {
          "output_type": "stream",
          "name": "stderr",
          "text": [
            "WARNING:tensorflow:Compiled the loaded model, but the compiled metrics have yet to be built. `model.compile_metrics` will be empty until you train or evaluate the model.\n",
            "\u001b[34m\u001b[1mwandb\u001b[0m: Adding directory to artifact (./checkpoint)... Done. 0.2s\n"
          ]
        },
        {
          "output_type": "stream",
          "name": "stdout",
          "text": [
            "\b\b\b\b\b\b\b\b\b\b\b\b\b\b\b\b\b\b\b\b\b\b\b\b\b\b\b\b\b\b\b\b\b\b\b\b\b\b\b\b\b\b\b\b\b\b\b\b\b\b\b\b\b\b\b\b\b\b\b\b\b\b\b\b\b\b\b\b\b\b\b\b\b\b\b\b\b\b\b\b\b\b\b\b\b\b\b\b\b\b\b\b\b\b\b\b\b\b\b\b\b\b\b\b\b\b\b\b\b\b\r194/194 [==============================] - 123s 634ms/step - loss: 0.0133 - psnr_metric: 37.9142 - ssim_metric: 0.6979 - val_loss: 0.3387 - val_psnr_metric: 11.7879 - val_ssim_metric: 0.4095\n",
            "Epoch 97/100\n",
            "194/194 [==============================] - ETA: 0s - loss: 0.0126 - psnr_metric: 37.0997 - ssim_metric: 0.6946"
          ]
        },
        {
          "output_type": "stream",
          "name": "stderr",
          "text": [
            "WARNING:tensorflow:Compiled the loaded model, but the compiled metrics have yet to be built. `model.compile_metrics` will be empty until you train or evaluate the model.\n",
            "\u001b[34m\u001b[1mwandb\u001b[0m: Adding directory to artifact (./checkpoint)... Done. 0.1s\n"
          ]
        },
        {
          "output_type": "stream",
          "name": "stdout",
          "text": [
            "\b\b\b\b\b\b\b\b\b\b\b\b\b\b\b\b\b\b\b\b\b\b\b\b\b\b\b\b\b\b\b\b\b\b\b\b\b\b\b\b\b\b\b\b\b\b\b\b\b\b\b\b\b\b\b\b\b\b\b\b\b\b\b\b\b\b\b\b\b\b\b\b\b\b\b\b\b\b\b\b\b\b\b\b\b\b\b\b\b\b\b\b\b\b\b\b\b\b\b\b\b\b\b\b\b\b\b\b\b\b\r194/194 [==============================] - 127s 657ms/step - loss: 0.0126 - psnr_metric: 37.0997 - ssim_metric: 0.6946 - val_loss: 0.3387 - val_psnr_metric: 11.7792 - val_ssim_metric: 0.4095\n",
            "Epoch 98/100\n",
            "194/194 [==============================] - ETA: 0s - loss: 0.0145 - psnr_metric: 36.4690 - ssim_metric: 0.6948"
          ]
        },
        {
          "output_type": "stream",
          "name": "stderr",
          "text": [
            "WARNING:tensorflow:Compiled the loaded model, but the compiled metrics have yet to be built. `model.compile_metrics` will be empty until you train or evaluate the model.\n",
            "\u001b[34m\u001b[1mwandb\u001b[0m: Adding directory to artifact (./checkpoint)... Done. 0.1s\n"
          ]
        },
        {
          "output_type": "stream",
          "name": "stdout",
          "text": [
            "\b\b\b\b\b\b\b\b\b\b\b\b\b\b\b\b\b\b\b\b\b\b\b\b\b\b\b\b\b\b\b\b\b\b\b\b\b\b\b\b\b\b\b\b\b\b\b\b\b\b\b\b\b\b\b\b\b\b\b\b\b\b\b\b\b\b\b\b\b\b\b\b\b\b\b\b\b\b\b\b\b\b\b\b\b\b\b\b\b\b\b\b\b\b\b\b\b\b\b\b\b\b\b\b\b\b\b\b\b\b\r194/194 [==============================] - 119s 616ms/step - loss: 0.0145 - psnr_metric: 36.4690 - ssim_metric: 0.6948 - val_loss: 0.3387 - val_psnr_metric: 11.7816 - val_ssim_metric: 0.4095\n",
            "Epoch 99/100\n",
            "194/194 [==============================] - ETA: 0s - loss: 0.0145 - psnr_metric: 36.8263 - ssim_metric: 0.7028"
          ]
        },
        {
          "output_type": "stream",
          "name": "stderr",
          "text": [
            "WARNING:tensorflow:Compiled the loaded model, but the compiled metrics have yet to be built. `model.compile_metrics` will be empty until you train or evaluate the model.\n",
            "\u001b[34m\u001b[1mwandb\u001b[0m: Adding directory to artifact (./checkpoint)... Done. 0.1s\n"
          ]
        },
        {
          "output_type": "stream",
          "name": "stdout",
          "text": [
            "\b\b\b\b\b\b\b\b\b\b\b\b\b\b\b\b\b\b\b\b\b\b\b\b\b\b\b\b\b\b\b\b\b\b\b\b\b\b\b\b\b\b\b\b\b\b\b\b\b\b\b\b\b\b\b\b\b\b\b\b\b\b\b\b\b\b\b\b\b\b\b\b\b\b\b\b\b\b\b\b\b\b\b\b\b\b\b\b\b\b\b\b\b\b\b\b\b\b\b\b\b\b\b\b\b\b\b\b\b\b\r194/194 [==============================] - 123s 635ms/step - loss: 0.0145 - psnr_metric: 36.8263 - ssim_metric: 0.7028 - val_loss: 0.3387 - val_psnr_metric: 11.7901 - val_ssim_metric: 0.4107\n",
            "Epoch 100/100\n",
            "194/194 [==============================] - ETA: 0s - loss: 0.0140 - psnr_metric: 36.6460 - ssim_metric: 0.6924"
          ]
        },
        {
          "output_type": "stream",
          "name": "stderr",
          "text": [
            "WARNING:tensorflow:Compiled the loaded model, but the compiled metrics have yet to be built. `model.compile_metrics` will be empty until you train or evaluate the model.\n",
            "\u001b[34m\u001b[1mwandb\u001b[0m: Adding directory to artifact (./checkpoint)... Done. 0.1s\n"
          ]
        },
        {
          "output_type": "stream",
          "name": "stdout",
          "text": [
            "\b\b\b\b\b\b\b\b\b\b\b\b\b\b\b\b\b\b\b\b\b\b\b\b\b\b\b\b\b\b\b\b\b\b\b\b\b\b\b\b\b\b\b\b\b\b\b\b\b\b\b\b\b\b\b\b\b\b\b\b\b\b\b\b\b\b\b\b\b\b\b\b\b\b\b\b\b\b\b\b\b\b\b\b\b\b\b\b\b\b\b\b\b\b\b\b\b\b\b\b\b\b\b\b\b\b\b\b\b\b\r194/194 [==============================] - 122s 627ms/step - loss: 0.0140 - psnr_metric: 36.6460 - ssim_metric: 0.6924 - val_loss: 0.3387 - val_psnr_metric: 11.7816 - val_ssim_metric: 0.4091\n"
          ]
        },
        {
          "output_type": "execute_result",
          "data": {
            "text/plain": [
              "<keras.src.callbacks.History at 0x7d3ecc4f7e20>"
            ]
          },
          "metadata": {},
          "execution_count": 6
        }
      ],
      "source": [
        "# import the wandb callbacks for keras\n",
        "from wandb.keras import WandbMetricsLogger, WandbModelCheckpoint\n",
        "\n",
        "\n",
        "callbacks = [\n",
        "    # define the metrics logger callback;\n",
        "    # we set the `log_freq=\"batch\"` explicitly\n",
        "    # to the metrics are logged both batch-wise and epoch-wise\n",
        "    WandbMetricsLogger(log_freq=\"batch\"),\n",
        "    # define the model checkpoint callback\n",
        "    WandbModelCheckpoint(\n",
        "        filepath=\"checkpoint\",\n",
        "        monitor=\"val_loss\",\n",
        "        save_best_only=False,\n",
        "        save_weights_only=False,\n",
        "        initial_value_threshold=None,\n",
        "    )\n",
        "]\n",
        "\n",
        "# call model.fit()\n",
        "model.fit(\n",
        "    train_dataset,\n",
        "    validation_data=val_dataset,\n",
        "    epochs=100,\n",
        "    callbacks=callbacks,\n",
        ")"
      ]
    },
    {
      "cell_type": "code",
      "execution_count": null,
      "metadata": {
        "id": "onPIKYL0Py7f",
        "colab": {
          "base_uri": "https://localhost:8080/",
          "height": 829,
          "referenced_widgets": [
            "19304926497641dc811d11072fb19f83",
            "b37a8da57e164efe825638155eddec71",
            "dbe1848ef70e47b9b7ec6cf58767fdfa",
            "715e7c636fb942c197bca3d59692580a",
            "789b1eaafad542438a6186cf995e5b64",
            "b5da1b6c439e42e1959ef674823d3b1b",
            "1742b02846704f5ea783b3f073ba7655",
            "e770483e787e435a99e59b8d047c3e3c"
          ]
        },
        "outputId": "7062b049-ff99-4ee0-ff06-020453e42f79"
      },
      "outputs": [
        {
          "output_type": "display_data",
          "data": {
            "text/plain": [
              "VBox(children=(Label(value='3967.973 MB of 3967.973 MB uploaded (0.084 MB deduped)\\r'), FloatProgress(value=1.…"
            ],
            "application/vnd.jupyter.widget-view+json": {
              "version_major": 2,
              "version_minor": 0,
              "model_id": "19304926497641dc811d11072fb19f83"
            }
          },
          "metadata": {}
        },
        {
          "output_type": "display_data",
          "data": {
            "text/plain": [
              "<IPython.core.display.HTML object>"
            ],
            "text/html": [
              "<style>\n",
              "    table.wandb td:nth-child(1) { padding: 0 10px; text-align: left ; width: auto;} td:nth-child(2) {text-align: left ; width: 100%}\n",
              "    .wandb-row { display: flex; flex-direction: row; flex-wrap: wrap; justify-content: flex-start; width: 100% }\n",
              "    .wandb-col { display: flex; flex-direction: column; flex-basis: 100%; flex: 1; padding: 10px; }\n",
              "    </style>\n",
              "<div class=\"wandb-row\"><div class=\"wandb-col\"><h3>Run history:</h3><br/><table class=\"wandb\"><tr><td>batch/batch_step</td><td>▁▁▁▁▂▂▂▂▂▃▃▃▃▃▃▄▄▄▄▄▅▅▅▅▅▅▆▆▆▆▆▆▇▇▇▇▇███</td></tr><tr><td>batch/learning_rate</td><td>▁▁▁▁▁▁▁▁▁▁▁▁▁▁▁▁▁▁▁▁▁▁▁▁▁▁▁▁▁▁▁▁▁▁▁▁▁▁▁▁</td></tr><tr><td>batch/loss</td><td>▄▇▄▇█▄▆▆▁▇▁▆▃▇▆▃▇▆▂▇▄▇▆▂▇▃▇▇▄▇▃▇▅▁▇▅▃▇▂▇</td></tr><tr><td>batch/psnr_metric</td><td>▁▁▂▂▂▃▃▄▄▄▅▅▅▅▅▆▅▆▆▆▇▆▆▆▅▆▆▆▆▆▇▇▇█▆▇█▆▇▆</td></tr><tr><td>batch/ssim_metric</td><td>▁▃▄▃▃▄▅▅▅▅▇▆▆▅▆▆▆▇▆▆█▆▆▇▅▇▆▆▆▆▇▇▇█▆▆▇▅▆▆</td></tr><tr><td>epoch/epoch</td><td>▁▁▁▁▂▂▂▂▂▃▃▃▃▃▃▄▄▄▄▄▅▅▅▅▅▅▆▆▆▆▆▇▇▇▇▇▇███</td></tr><tr><td>epoch/learning_rate</td><td>▁▁▁▁▁▁▁▁▁▁▁▁▁▁▁▁▁▁▁▁▁▁▁▁▁▁▁▁▁▁▁▁▁▁▁▁▁▁▁▁</td></tr><tr><td>epoch/loss</td><td>█▃▂▃▄▃▂▂▂▂▂▂▃▂▂▂▂▂▂▂▂▁▂▃▂▁▁▂▁▂▂▃▂▁▂▂▃▂▁▂</td></tr><tr><td>epoch/psnr_metric</td><td>▁▃▄▄▃▅▅▅▅▆▆▆▅▆▆▇▆▇▇▇▇▇▇▇▇█▇▇▇▇███████▇██</td></tr><tr><td>epoch/ssim_metric</td><td>▁▅▆▆▆▆▇▇▇▇▇▇▇▇▇▇████████▇████▇█▇████████</td></tr><tr><td>epoch/val_loss</td><td>▇▆▇▇▁▅█▂▅█▅▇███▇███▅▆▇▆▆▇█▇█████▇▇▇▇▇▇██</td></tr><tr><td>epoch/val_psnr_metric</td><td>█▆▄▄▄▂▂▂▂▂▂▂▂▁▁▁▁▁▁▁▁▁▁▁▁▁▁▁▁▁▁▁▁▁▁▁▁▁▁▁</td></tr><tr><td>epoch/val_ssim_metric</td><td>█▆▅▄▄▃▃▃▂▂▂▂▂▂▂▁▁▂▁▁▁▁▁▁▁▁▁▁▁▁▁▁▁▁▁▁▁▁▁▁</td></tr></table><br/></div><div class=\"wandb-col\"><h3>Run summary:</h3><br/><table class=\"wandb\"><tr><td>batch/batch_step</td><td>19399</td></tr><tr><td>batch/learning_rate</td><td>0.0002</td></tr><tr><td>batch/loss</td><td>0.01396</td></tr><tr><td>batch/psnr_metric</td><td>36.64598</td></tr><tr><td>batch/ssim_metric</td><td>0.69243</td></tr><tr><td>epoch/epoch</td><td>99</td></tr><tr><td>epoch/learning_rate</td><td>0.0002</td></tr><tr><td>epoch/loss</td><td>0.01396</td></tr><tr><td>epoch/psnr_metric</td><td>36.64598</td></tr><tr><td>epoch/ssim_metric</td><td>0.69243</td></tr><tr><td>epoch/val_loss</td><td>0.33872</td></tr><tr><td>epoch/val_psnr_metric</td><td>11.78165</td></tr><tr><td>epoch/val_ssim_metric</td><td>0.40914</td></tr></table><br/></div></div>"
            ]
          },
          "metadata": {}
        },
        {
          "output_type": "display_data",
          "data": {
            "text/plain": [
              "<IPython.core.display.HTML object>"
            ],
            "text/html": [
              " View run <strong style=\"color:#cdcd00\">eager-spaceship-2</strong> at: <a href='https://wandb.ai/konthorn/low-light-enhancement/runs/95h1rhqi' target=\"_blank\">https://wandb.ai/konthorn/low-light-enhancement/runs/95h1rhqi</a><br/> View job at <a href='https://wandb.ai/konthorn/low-light-enhancement/jobs/QXJ0aWZhY3RDb2xsZWN0aW9uOjEyNTgwMzk4MA==/version_details/v0' target=\"_blank\">https://wandb.ai/konthorn/low-light-enhancement/jobs/QXJ0aWZhY3RDb2xsZWN0aW9uOjEyNTgwMzk4MA==/version_details/v0</a><br/>Synced 5 W&B file(s), 1 media file(s), 1424 artifact file(s) and 1 other file(s)"
            ]
          },
          "metadata": {}
        },
        {
          "output_type": "display_data",
          "data": {
            "text/plain": [
              "<IPython.core.display.HTML object>"
            ],
            "text/html": [
              "Find logs at: <code>./wandb/run-20231226_132437-95h1rhqi/logs</code>"
            ]
          },
          "metadata": {}
        }
      ],
      "source": [
        "wandb.finish()"
      ]
    }
  ],
  "metadata": {
    "kernelspec": {
      "display_name": "Python 3",
      "name": "python3"
    },
    "colab": {
      "provenance": [],
      "toc_visible": true,
      "gpuType": "T4"
    },
    "accelerator": "GPU",
    "widgets": {
      "application/vnd.jupyter.widget-state+json": {
        "393066b659304b14b8df409421ce76ff": {
          "model_module": "@jupyter-widgets/controls",
          "model_name": "HBoxModel",
          "model_module_version": "1.5.0",
          "state": {
            "_dom_classes": [],
            "_model_module": "@jupyter-widgets/controls",
            "_model_module_version": "1.5.0",
            "_model_name": "HBoxModel",
            "_view_count": null,
            "_view_module": "@jupyter-widgets/controls",
            "_view_module_version": "1.5.0",
            "_view_name": "HBoxView",
            "box_style": "",
            "children": [
              "IPY_MODEL_c64fb07fcab3485999a67933817bd994",
              "IPY_MODEL_5f963327273840739abe491853329900",
              "IPY_MODEL_3c6ffea35cfe457d8421d55a3b4d566f"
            ],
            "layout": "IPY_MODEL_fe13841b632447a0bb995b02c6f52de8"
          }
        },
        "c64fb07fcab3485999a67933817bd994": {
          "model_module": "@jupyter-widgets/controls",
          "model_name": "HTMLModel",
          "model_module_version": "1.5.0",
          "state": {
            "_dom_classes": [],
            "_model_module": "@jupyter-widgets/controls",
            "_model_module_version": "1.5.0",
            "_model_name": "HTMLModel",
            "_view_count": null,
            "_view_module": "@jupyter-widgets/controls",
            "_view_module_version": "1.5.0",
            "_view_name": "HTMLView",
            "description": "",
            "description_tooltip": null,
            "layout": "IPY_MODEL_38c567421ba44d938400f12fb4ed7c97",
            "placeholder": "​",
            "style": "IPY_MODEL_1d5e573ada984d1282082811b87fc0a4",
            "value": "Generating visualizations for Train images: 100%"
          }
        },
        "5f963327273840739abe491853329900": {
          "model_module": "@jupyter-widgets/controls",
          "model_name": "FloatProgressModel",
          "model_module_version": "1.5.0",
          "state": {
            "_dom_classes": [],
            "_model_module": "@jupyter-widgets/controls",
            "_model_module_version": "1.5.0",
            "_model_name": "FloatProgressModel",
            "_view_count": null,
            "_view_module": "@jupyter-widgets/controls",
            "_view_module_version": "1.5.0",
            "_view_name": "ProgressView",
            "bar_style": "success",
            "description": "",
            "description_tooltip": null,
            "layout": "IPY_MODEL_d296efea27e34a7b8af5a3a9008f8569",
            "max": 388,
            "min": 0,
            "orientation": "horizontal",
            "style": "IPY_MODEL_d2957cb241874a6e845d852f52927949",
            "value": 388
          }
        },
        "3c6ffea35cfe457d8421d55a3b4d566f": {
          "model_module": "@jupyter-widgets/controls",
          "model_name": "HTMLModel",
          "model_module_version": "1.5.0",
          "state": {
            "_dom_classes": [],
            "_model_module": "@jupyter-widgets/controls",
            "_model_module_version": "1.5.0",
            "_model_name": "HTMLModel",
            "_view_count": null,
            "_view_module": "@jupyter-widgets/controls",
            "_view_module_version": "1.5.0",
            "_view_name": "HTMLView",
            "description": "",
            "description_tooltip": null,
            "layout": "IPY_MODEL_543d927b2767424aa69544adc3b344f3",
            "placeholder": "​",
            "style": "IPY_MODEL_f4502ddf9c68412fbedc8173a8a88f5c",
            "value": " 388/388 [01:54&lt;00:00,  3.16it/s]"
          }
        },
        "fe13841b632447a0bb995b02c6f52de8": {
          "model_module": "@jupyter-widgets/base",
          "model_name": "LayoutModel",
          "model_module_version": "1.2.0",
          "state": {
            "_model_module": "@jupyter-widgets/base",
            "_model_module_version": "1.2.0",
            "_model_name": "LayoutModel",
            "_view_count": null,
            "_view_module": "@jupyter-widgets/base",
            "_view_module_version": "1.2.0",
            "_view_name": "LayoutView",
            "align_content": null,
            "align_items": null,
            "align_self": null,
            "border": null,
            "bottom": null,
            "display": null,
            "flex": null,
            "flex_flow": null,
            "grid_area": null,
            "grid_auto_columns": null,
            "grid_auto_flow": null,
            "grid_auto_rows": null,
            "grid_column": null,
            "grid_gap": null,
            "grid_row": null,
            "grid_template_areas": null,
            "grid_template_columns": null,
            "grid_template_rows": null,
            "height": null,
            "justify_content": null,
            "justify_items": null,
            "left": null,
            "margin": null,
            "max_height": null,
            "max_width": null,
            "min_height": null,
            "min_width": null,
            "object_fit": null,
            "object_position": null,
            "order": null,
            "overflow": null,
            "overflow_x": null,
            "overflow_y": null,
            "padding": null,
            "right": null,
            "top": null,
            "visibility": null,
            "width": null
          }
        },
        "38c567421ba44d938400f12fb4ed7c97": {
          "model_module": "@jupyter-widgets/base",
          "model_name": "LayoutModel",
          "model_module_version": "1.2.0",
          "state": {
            "_model_module": "@jupyter-widgets/base",
            "_model_module_version": "1.2.0",
            "_model_name": "LayoutModel",
            "_view_count": null,
            "_view_module": "@jupyter-widgets/base",
            "_view_module_version": "1.2.0",
            "_view_name": "LayoutView",
            "align_content": null,
            "align_items": null,
            "align_self": null,
            "border": null,
            "bottom": null,
            "display": null,
            "flex": null,
            "flex_flow": null,
            "grid_area": null,
            "grid_auto_columns": null,
            "grid_auto_flow": null,
            "grid_auto_rows": null,
            "grid_column": null,
            "grid_gap": null,
            "grid_row": null,
            "grid_template_areas": null,
            "grid_template_columns": null,
            "grid_template_rows": null,
            "height": null,
            "justify_content": null,
            "justify_items": null,
            "left": null,
            "margin": null,
            "max_height": null,
            "max_width": null,
            "min_height": null,
            "min_width": null,
            "object_fit": null,
            "object_position": null,
            "order": null,
            "overflow": null,
            "overflow_x": null,
            "overflow_y": null,
            "padding": null,
            "right": null,
            "top": null,
            "visibility": null,
            "width": null
          }
        },
        "1d5e573ada984d1282082811b87fc0a4": {
          "model_module": "@jupyter-widgets/controls",
          "model_name": "DescriptionStyleModel",
          "model_module_version": "1.5.0",
          "state": {
            "_model_module": "@jupyter-widgets/controls",
            "_model_module_version": "1.5.0",
            "_model_name": "DescriptionStyleModel",
            "_view_count": null,
            "_view_module": "@jupyter-widgets/base",
            "_view_module_version": "1.2.0",
            "_view_name": "StyleView",
            "description_width": ""
          }
        },
        "d296efea27e34a7b8af5a3a9008f8569": {
          "model_module": "@jupyter-widgets/base",
          "model_name": "LayoutModel",
          "model_module_version": "1.2.0",
          "state": {
            "_model_module": "@jupyter-widgets/base",
            "_model_module_version": "1.2.0",
            "_model_name": "LayoutModel",
            "_view_count": null,
            "_view_module": "@jupyter-widgets/base",
            "_view_module_version": "1.2.0",
            "_view_name": "LayoutView",
            "align_content": null,
            "align_items": null,
            "align_self": null,
            "border": null,
            "bottom": null,
            "display": null,
            "flex": null,
            "flex_flow": null,
            "grid_area": null,
            "grid_auto_columns": null,
            "grid_auto_flow": null,
            "grid_auto_rows": null,
            "grid_column": null,
            "grid_gap": null,
            "grid_row": null,
            "grid_template_areas": null,
            "grid_template_columns": null,
            "grid_template_rows": null,
            "height": null,
            "justify_content": null,
            "justify_items": null,
            "left": null,
            "margin": null,
            "max_height": null,
            "max_width": null,
            "min_height": null,
            "min_width": null,
            "object_fit": null,
            "object_position": null,
            "order": null,
            "overflow": null,
            "overflow_x": null,
            "overflow_y": null,
            "padding": null,
            "right": null,
            "top": null,
            "visibility": null,
            "width": null
          }
        },
        "d2957cb241874a6e845d852f52927949": {
          "model_module": "@jupyter-widgets/controls",
          "model_name": "ProgressStyleModel",
          "model_module_version": "1.5.0",
          "state": {
            "_model_module": "@jupyter-widgets/controls",
            "_model_module_version": "1.5.0",
            "_model_name": "ProgressStyleModel",
            "_view_count": null,
            "_view_module": "@jupyter-widgets/base",
            "_view_module_version": "1.2.0",
            "_view_name": "StyleView",
            "bar_color": null,
            "description_width": ""
          }
        },
        "543d927b2767424aa69544adc3b344f3": {
          "model_module": "@jupyter-widgets/base",
          "model_name": "LayoutModel",
          "model_module_version": "1.2.0",
          "state": {
            "_model_module": "@jupyter-widgets/base",
            "_model_module_version": "1.2.0",
            "_model_name": "LayoutModel",
            "_view_count": null,
            "_view_module": "@jupyter-widgets/base",
            "_view_module_version": "1.2.0",
            "_view_name": "LayoutView",
            "align_content": null,
            "align_items": null,
            "align_self": null,
            "border": null,
            "bottom": null,
            "display": null,
            "flex": null,
            "flex_flow": null,
            "grid_area": null,
            "grid_auto_columns": null,
            "grid_auto_flow": null,
            "grid_auto_rows": null,
            "grid_column": null,
            "grid_gap": null,
            "grid_row": null,
            "grid_template_areas": null,
            "grid_template_columns": null,
            "grid_template_rows": null,
            "height": null,
            "justify_content": null,
            "justify_items": null,
            "left": null,
            "margin": null,
            "max_height": null,
            "max_width": null,
            "min_height": null,
            "min_width": null,
            "object_fit": null,
            "object_position": null,
            "order": null,
            "overflow": null,
            "overflow_x": null,
            "overflow_y": null,
            "padding": null,
            "right": null,
            "top": null,
            "visibility": null,
            "width": null
          }
        },
        "f4502ddf9c68412fbedc8173a8a88f5c": {
          "model_module": "@jupyter-widgets/controls",
          "model_name": "DescriptionStyleModel",
          "model_module_version": "1.5.0",
          "state": {
            "_model_module": "@jupyter-widgets/controls",
            "_model_module_version": "1.5.0",
            "_model_name": "DescriptionStyleModel",
            "_view_count": null,
            "_view_module": "@jupyter-widgets/base",
            "_view_module_version": "1.2.0",
            "_view_name": "StyleView",
            "description_width": ""
          }
        },
        "899bff136ad34bc9909e9481cee43162": {
          "model_module": "@jupyter-widgets/controls",
          "model_name": "HBoxModel",
          "model_module_version": "1.5.0",
          "state": {
            "_dom_classes": [],
            "_model_module": "@jupyter-widgets/controls",
            "_model_module_version": "1.5.0",
            "_model_name": "HBoxModel",
            "_view_count": null,
            "_view_module": "@jupyter-widgets/controls",
            "_view_module_version": "1.5.0",
            "_view_name": "HBoxView",
            "box_style": "",
            "children": [
              "IPY_MODEL_a3b8ffd554174c1bb4f611099c624581",
              "IPY_MODEL_ca3331a7a5cf4b4eb395f5aea55c2c4c",
              "IPY_MODEL_3143c10fd0c34ef781914d12421a7d59"
            ],
            "layout": "IPY_MODEL_8ac008ff14564a46bbe62a337316c4ce"
          }
        },
        "a3b8ffd554174c1bb4f611099c624581": {
          "model_module": "@jupyter-widgets/controls",
          "model_name": "HTMLModel",
          "model_module_version": "1.5.0",
          "state": {
            "_dom_classes": [],
            "_model_module": "@jupyter-widgets/controls",
            "_model_module_version": "1.5.0",
            "_model_name": "HTMLModel",
            "_view_count": null,
            "_view_module": "@jupyter-widgets/controls",
            "_view_module_version": "1.5.0",
            "_view_name": "HTMLView",
            "description": "",
            "description_tooltip": null,
            "layout": "IPY_MODEL_eab6434655ae42ce88bfc0c205338538",
            "placeholder": "​",
            "style": "IPY_MODEL_a602c6b95d934363a48e0582a8094048",
            "value": "Generating visualizations for Validation images: 100%"
          }
        },
        "ca3331a7a5cf4b4eb395f5aea55c2c4c": {
          "model_module": "@jupyter-widgets/controls",
          "model_name": "FloatProgressModel",
          "model_module_version": "1.5.0",
          "state": {
            "_dom_classes": [],
            "_model_module": "@jupyter-widgets/controls",
            "_model_module_version": "1.5.0",
            "_model_name": "FloatProgressModel",
            "_view_count": null,
            "_view_module": "@jupyter-widgets/controls",
            "_view_module_version": "1.5.0",
            "_view_name": "ProgressView",
            "bar_style": "success",
            "description": "",
            "description_tooltip": null,
            "layout": "IPY_MODEL_1de990f232a344d7a216ea3247963829",
            "max": 97,
            "min": 0,
            "orientation": "horizontal",
            "style": "IPY_MODEL_c9d1627d07c04bcf95e254f1bafaac77",
            "value": 97
          }
        },
        "3143c10fd0c34ef781914d12421a7d59": {
          "model_module": "@jupyter-widgets/controls",
          "model_name": "HTMLModel",
          "model_module_version": "1.5.0",
          "state": {
            "_dom_classes": [],
            "_model_module": "@jupyter-widgets/controls",
            "_model_module_version": "1.5.0",
            "_model_name": "HTMLModel",
            "_view_count": null,
            "_view_module": "@jupyter-widgets/controls",
            "_view_module_version": "1.5.0",
            "_view_name": "HTMLView",
            "description": "",
            "description_tooltip": null,
            "layout": "IPY_MODEL_0794511a5bb14efbb1ca86b16d45baef",
            "placeholder": "​",
            "style": "IPY_MODEL_24401ebb812e457ea79e15b6098b3ac4",
            "value": " 97/97 [00:27&lt;00:00,  3.05it/s]"
          }
        },
        "8ac008ff14564a46bbe62a337316c4ce": {
          "model_module": "@jupyter-widgets/base",
          "model_name": "LayoutModel",
          "model_module_version": "1.2.0",
          "state": {
            "_model_module": "@jupyter-widgets/base",
            "_model_module_version": "1.2.0",
            "_model_name": "LayoutModel",
            "_view_count": null,
            "_view_module": "@jupyter-widgets/base",
            "_view_module_version": "1.2.0",
            "_view_name": "LayoutView",
            "align_content": null,
            "align_items": null,
            "align_self": null,
            "border": null,
            "bottom": null,
            "display": null,
            "flex": null,
            "flex_flow": null,
            "grid_area": null,
            "grid_auto_columns": null,
            "grid_auto_flow": null,
            "grid_auto_rows": null,
            "grid_column": null,
            "grid_gap": null,
            "grid_row": null,
            "grid_template_areas": null,
            "grid_template_columns": null,
            "grid_template_rows": null,
            "height": null,
            "justify_content": null,
            "justify_items": null,
            "left": null,
            "margin": null,
            "max_height": null,
            "max_width": null,
            "min_height": null,
            "min_width": null,
            "object_fit": null,
            "object_position": null,
            "order": null,
            "overflow": null,
            "overflow_x": null,
            "overflow_y": null,
            "padding": null,
            "right": null,
            "top": null,
            "visibility": null,
            "width": null
          }
        },
        "eab6434655ae42ce88bfc0c205338538": {
          "model_module": "@jupyter-widgets/base",
          "model_name": "LayoutModel",
          "model_module_version": "1.2.0",
          "state": {
            "_model_module": "@jupyter-widgets/base",
            "_model_module_version": "1.2.0",
            "_model_name": "LayoutModel",
            "_view_count": null,
            "_view_module": "@jupyter-widgets/base",
            "_view_module_version": "1.2.0",
            "_view_name": "LayoutView",
            "align_content": null,
            "align_items": null,
            "align_self": null,
            "border": null,
            "bottom": null,
            "display": null,
            "flex": null,
            "flex_flow": null,
            "grid_area": null,
            "grid_auto_columns": null,
            "grid_auto_flow": null,
            "grid_auto_rows": null,
            "grid_column": null,
            "grid_gap": null,
            "grid_row": null,
            "grid_template_areas": null,
            "grid_template_columns": null,
            "grid_template_rows": null,
            "height": null,
            "justify_content": null,
            "justify_items": null,
            "left": null,
            "margin": null,
            "max_height": null,
            "max_width": null,
            "min_height": null,
            "min_width": null,
            "object_fit": null,
            "object_position": null,
            "order": null,
            "overflow": null,
            "overflow_x": null,
            "overflow_y": null,
            "padding": null,
            "right": null,
            "top": null,
            "visibility": null,
            "width": null
          }
        },
        "a602c6b95d934363a48e0582a8094048": {
          "model_module": "@jupyter-widgets/controls",
          "model_name": "DescriptionStyleModel",
          "model_module_version": "1.5.0",
          "state": {
            "_model_module": "@jupyter-widgets/controls",
            "_model_module_version": "1.5.0",
            "_model_name": "DescriptionStyleModel",
            "_view_count": null,
            "_view_module": "@jupyter-widgets/base",
            "_view_module_version": "1.2.0",
            "_view_name": "StyleView",
            "description_width": ""
          }
        },
        "1de990f232a344d7a216ea3247963829": {
          "model_module": "@jupyter-widgets/base",
          "model_name": "LayoutModel",
          "model_module_version": "1.2.0",
          "state": {
            "_model_module": "@jupyter-widgets/base",
            "_model_module_version": "1.2.0",
            "_model_name": "LayoutModel",
            "_view_count": null,
            "_view_module": "@jupyter-widgets/base",
            "_view_module_version": "1.2.0",
            "_view_name": "LayoutView",
            "align_content": null,
            "align_items": null,
            "align_self": null,
            "border": null,
            "bottom": null,
            "display": null,
            "flex": null,
            "flex_flow": null,
            "grid_area": null,
            "grid_auto_columns": null,
            "grid_auto_flow": null,
            "grid_auto_rows": null,
            "grid_column": null,
            "grid_gap": null,
            "grid_row": null,
            "grid_template_areas": null,
            "grid_template_columns": null,
            "grid_template_rows": null,
            "height": null,
            "justify_content": null,
            "justify_items": null,
            "left": null,
            "margin": null,
            "max_height": null,
            "max_width": null,
            "min_height": null,
            "min_width": null,
            "object_fit": null,
            "object_position": null,
            "order": null,
            "overflow": null,
            "overflow_x": null,
            "overflow_y": null,
            "padding": null,
            "right": null,
            "top": null,
            "visibility": null,
            "width": null
          }
        },
        "c9d1627d07c04bcf95e254f1bafaac77": {
          "model_module": "@jupyter-widgets/controls",
          "model_name": "ProgressStyleModel",
          "model_module_version": "1.5.0",
          "state": {
            "_model_module": "@jupyter-widgets/controls",
            "_model_module_version": "1.5.0",
            "_model_name": "ProgressStyleModel",
            "_view_count": null,
            "_view_module": "@jupyter-widgets/base",
            "_view_module_version": "1.2.0",
            "_view_name": "StyleView",
            "bar_color": null,
            "description_width": ""
          }
        },
        "0794511a5bb14efbb1ca86b16d45baef": {
          "model_module": "@jupyter-widgets/base",
          "model_name": "LayoutModel",
          "model_module_version": "1.2.0",
          "state": {
            "_model_module": "@jupyter-widgets/base",
            "_model_module_version": "1.2.0",
            "_model_name": "LayoutModel",
            "_view_count": null,
            "_view_module": "@jupyter-widgets/base",
            "_view_module_version": "1.2.0",
            "_view_name": "LayoutView",
            "align_content": null,
            "align_items": null,
            "align_self": null,
            "border": null,
            "bottom": null,
            "display": null,
            "flex": null,
            "flex_flow": null,
            "grid_area": null,
            "grid_auto_columns": null,
            "grid_auto_flow": null,
            "grid_auto_rows": null,
            "grid_column": null,
            "grid_gap": null,
            "grid_row": null,
            "grid_template_areas": null,
            "grid_template_columns": null,
            "grid_template_rows": null,
            "height": null,
            "justify_content": null,
            "justify_items": null,
            "left": null,
            "margin": null,
            "max_height": null,
            "max_width": null,
            "min_height": null,
            "min_width": null,
            "object_fit": null,
            "object_position": null,
            "order": null,
            "overflow": null,
            "overflow_x": null,
            "overflow_y": null,
            "padding": null,
            "right": null,
            "top": null,
            "visibility": null,
            "width": null
          }
        },
        "24401ebb812e457ea79e15b6098b3ac4": {
          "model_module": "@jupyter-widgets/controls",
          "model_name": "DescriptionStyleModel",
          "model_module_version": "1.5.0",
          "state": {
            "_model_module": "@jupyter-widgets/controls",
            "_model_module_version": "1.5.0",
            "_model_name": "DescriptionStyleModel",
            "_view_count": null,
            "_view_module": "@jupyter-widgets/base",
            "_view_module_version": "1.2.0",
            "_view_name": "StyleView",
            "description_width": ""
          }
        },
        "c2e4fb6f77f64b3cb9ce1457d6df4871": {
          "model_module": "@jupyter-widgets/controls",
          "model_name": "HBoxModel",
          "model_module_version": "1.5.0",
          "state": {
            "_dom_classes": [],
            "_model_module": "@jupyter-widgets/controls",
            "_model_module_version": "1.5.0",
            "_model_name": "HBoxModel",
            "_view_count": null,
            "_view_module": "@jupyter-widgets/controls",
            "_view_module_version": "1.5.0",
            "_view_name": "HBoxView",
            "box_style": "",
            "children": [
              "IPY_MODEL_689413d8548b41a08bb274a1bb6734f2",
              "IPY_MODEL_218b6c7dbdea4049a8e7cb4a8602299e",
              "IPY_MODEL_359737a0ffa54b10ba5034ef283c5762"
            ],
            "layout": "IPY_MODEL_7237d025d67d48de89b14ca65b69e4dd"
          }
        },
        "689413d8548b41a08bb274a1bb6734f2": {
          "model_module": "@jupyter-widgets/controls",
          "model_name": "HTMLModel",
          "model_module_version": "1.5.0",
          "state": {
            "_dom_classes": [],
            "_model_module": "@jupyter-widgets/controls",
            "_model_module_version": "1.5.0",
            "_model_name": "HTMLModel",
            "_view_count": null,
            "_view_module": "@jupyter-widgets/controls",
            "_view_module_version": "1.5.0",
            "_view_name": "HTMLView",
            "description": "",
            "description_tooltip": null,
            "layout": "IPY_MODEL_1fba78929ca2460a8f8c7fa6650046b4",
            "placeholder": "​",
            "style": "IPY_MODEL_ab7aedcd14784ec48ad1aa372b9db820",
            "value": "Generating visualizations for Test images: 100%"
          }
        },
        "218b6c7dbdea4049a8e7cb4a8602299e": {
          "model_module": "@jupyter-widgets/controls",
          "model_name": "FloatProgressModel",
          "model_module_version": "1.5.0",
          "state": {
            "_dom_classes": [],
            "_model_module": "@jupyter-widgets/controls",
            "_model_module_version": "1.5.0",
            "_model_name": "FloatProgressModel",
            "_view_count": null,
            "_view_module": "@jupyter-widgets/controls",
            "_view_module_version": "1.5.0",
            "_view_name": "ProgressView",
            "bar_style": "success",
            "description": "",
            "description_tooltip": null,
            "layout": "IPY_MODEL_b1b8cd7aabd442d1b190f0fe753073db",
            "max": 15,
            "min": 0,
            "orientation": "horizontal",
            "style": "IPY_MODEL_fe2e5c8e7f6d482dbf5b0e79688a3828",
            "value": 15
          }
        },
        "359737a0ffa54b10ba5034ef283c5762": {
          "model_module": "@jupyter-widgets/controls",
          "model_name": "HTMLModel",
          "model_module_version": "1.5.0",
          "state": {
            "_dom_classes": [],
            "_model_module": "@jupyter-widgets/controls",
            "_model_module_version": "1.5.0",
            "_model_name": "HTMLModel",
            "_view_count": null,
            "_view_module": "@jupyter-widgets/controls",
            "_view_module_version": "1.5.0",
            "_view_name": "HTMLView",
            "description": "",
            "description_tooltip": null,
            "layout": "IPY_MODEL_c5f276adfb2f4e11a4affaaa9b65686b",
            "placeholder": "​",
            "style": "IPY_MODEL_bb5997878d90400787046328ac75ffad",
            "value": " 15/15 [00:04&lt;00:00,  3.56it/s]"
          }
        },
        "7237d025d67d48de89b14ca65b69e4dd": {
          "model_module": "@jupyter-widgets/base",
          "model_name": "LayoutModel",
          "model_module_version": "1.2.0",
          "state": {
            "_model_module": "@jupyter-widgets/base",
            "_model_module_version": "1.2.0",
            "_model_name": "LayoutModel",
            "_view_count": null,
            "_view_module": "@jupyter-widgets/base",
            "_view_module_version": "1.2.0",
            "_view_name": "LayoutView",
            "align_content": null,
            "align_items": null,
            "align_self": null,
            "border": null,
            "bottom": null,
            "display": null,
            "flex": null,
            "flex_flow": null,
            "grid_area": null,
            "grid_auto_columns": null,
            "grid_auto_flow": null,
            "grid_auto_rows": null,
            "grid_column": null,
            "grid_gap": null,
            "grid_row": null,
            "grid_template_areas": null,
            "grid_template_columns": null,
            "grid_template_rows": null,
            "height": null,
            "justify_content": null,
            "justify_items": null,
            "left": null,
            "margin": null,
            "max_height": null,
            "max_width": null,
            "min_height": null,
            "min_width": null,
            "object_fit": null,
            "object_position": null,
            "order": null,
            "overflow": null,
            "overflow_x": null,
            "overflow_y": null,
            "padding": null,
            "right": null,
            "top": null,
            "visibility": null,
            "width": null
          }
        },
        "1fba78929ca2460a8f8c7fa6650046b4": {
          "model_module": "@jupyter-widgets/base",
          "model_name": "LayoutModel",
          "model_module_version": "1.2.0",
          "state": {
            "_model_module": "@jupyter-widgets/base",
            "_model_module_version": "1.2.0",
            "_model_name": "LayoutModel",
            "_view_count": null,
            "_view_module": "@jupyter-widgets/base",
            "_view_module_version": "1.2.0",
            "_view_name": "LayoutView",
            "align_content": null,
            "align_items": null,
            "align_self": null,
            "border": null,
            "bottom": null,
            "display": null,
            "flex": null,
            "flex_flow": null,
            "grid_area": null,
            "grid_auto_columns": null,
            "grid_auto_flow": null,
            "grid_auto_rows": null,
            "grid_column": null,
            "grid_gap": null,
            "grid_row": null,
            "grid_template_areas": null,
            "grid_template_columns": null,
            "grid_template_rows": null,
            "height": null,
            "justify_content": null,
            "justify_items": null,
            "left": null,
            "margin": null,
            "max_height": null,
            "max_width": null,
            "min_height": null,
            "min_width": null,
            "object_fit": null,
            "object_position": null,
            "order": null,
            "overflow": null,
            "overflow_x": null,
            "overflow_y": null,
            "padding": null,
            "right": null,
            "top": null,
            "visibility": null,
            "width": null
          }
        },
        "ab7aedcd14784ec48ad1aa372b9db820": {
          "model_module": "@jupyter-widgets/controls",
          "model_name": "DescriptionStyleModel",
          "model_module_version": "1.5.0",
          "state": {
            "_model_module": "@jupyter-widgets/controls",
            "_model_module_version": "1.5.0",
            "_model_name": "DescriptionStyleModel",
            "_view_count": null,
            "_view_module": "@jupyter-widgets/base",
            "_view_module_version": "1.2.0",
            "_view_name": "StyleView",
            "description_width": ""
          }
        },
        "b1b8cd7aabd442d1b190f0fe753073db": {
          "model_module": "@jupyter-widgets/base",
          "model_name": "LayoutModel",
          "model_module_version": "1.2.0",
          "state": {
            "_model_module": "@jupyter-widgets/base",
            "_model_module_version": "1.2.0",
            "_model_name": "LayoutModel",
            "_view_count": null,
            "_view_module": "@jupyter-widgets/base",
            "_view_module_version": "1.2.0",
            "_view_name": "LayoutView",
            "align_content": null,
            "align_items": null,
            "align_self": null,
            "border": null,
            "bottom": null,
            "display": null,
            "flex": null,
            "flex_flow": null,
            "grid_area": null,
            "grid_auto_columns": null,
            "grid_auto_flow": null,
            "grid_auto_rows": null,
            "grid_column": null,
            "grid_gap": null,
            "grid_row": null,
            "grid_template_areas": null,
            "grid_template_columns": null,
            "grid_template_rows": null,
            "height": null,
            "justify_content": null,
            "justify_items": null,
            "left": null,
            "margin": null,
            "max_height": null,
            "max_width": null,
            "min_height": null,
            "min_width": null,
            "object_fit": null,
            "object_position": null,
            "order": null,
            "overflow": null,
            "overflow_x": null,
            "overflow_y": null,
            "padding": null,
            "right": null,
            "top": null,
            "visibility": null,
            "width": null
          }
        },
        "fe2e5c8e7f6d482dbf5b0e79688a3828": {
          "model_module": "@jupyter-widgets/controls",
          "model_name": "ProgressStyleModel",
          "model_module_version": "1.5.0",
          "state": {
            "_model_module": "@jupyter-widgets/controls",
            "_model_module_version": "1.5.0",
            "_model_name": "ProgressStyleModel",
            "_view_count": null,
            "_view_module": "@jupyter-widgets/base",
            "_view_module_version": "1.2.0",
            "_view_name": "StyleView",
            "bar_color": null,
            "description_width": ""
          }
        },
        "c5f276adfb2f4e11a4affaaa9b65686b": {
          "model_module": "@jupyter-widgets/base",
          "model_name": "LayoutModel",
          "model_module_version": "1.2.0",
          "state": {
            "_model_module": "@jupyter-widgets/base",
            "_model_module_version": "1.2.0",
            "_model_name": "LayoutModel",
            "_view_count": null,
            "_view_module": "@jupyter-widgets/base",
            "_view_module_version": "1.2.0",
            "_view_name": "LayoutView",
            "align_content": null,
            "align_items": null,
            "align_self": null,
            "border": null,
            "bottom": null,
            "display": null,
            "flex": null,
            "flex_flow": null,
            "grid_area": null,
            "grid_auto_columns": null,
            "grid_auto_flow": null,
            "grid_auto_rows": null,
            "grid_column": null,
            "grid_gap": null,
            "grid_row": null,
            "grid_template_areas": null,
            "grid_template_columns": null,
            "grid_template_rows": null,
            "height": null,
            "justify_content": null,
            "justify_items": null,
            "left": null,
            "margin": null,
            "max_height": null,
            "max_width": null,
            "min_height": null,
            "min_width": null,
            "object_fit": null,
            "object_position": null,
            "order": null,
            "overflow": null,
            "overflow_x": null,
            "overflow_y": null,
            "padding": null,
            "right": null,
            "top": null,
            "visibility": null,
            "width": null
          }
        },
        "bb5997878d90400787046328ac75ffad": {
          "model_module": "@jupyter-widgets/controls",
          "model_name": "DescriptionStyleModel",
          "model_module_version": "1.5.0",
          "state": {
            "_model_module": "@jupyter-widgets/controls",
            "_model_module_version": "1.5.0",
            "_model_name": "DescriptionStyleModel",
            "_view_count": null,
            "_view_module": "@jupyter-widgets/base",
            "_view_module_version": "1.2.0",
            "_view_name": "StyleView",
            "description_width": ""
          }
        },
        "19304926497641dc811d11072fb19f83": {
          "model_module": "@jupyter-widgets/controls",
          "model_name": "VBoxModel",
          "model_module_version": "1.5.0",
          "state": {
            "_dom_classes": [],
            "_model_module": "@jupyter-widgets/controls",
            "_model_module_version": "1.5.0",
            "_model_name": "VBoxModel",
            "_view_count": null,
            "_view_module": "@jupyter-widgets/controls",
            "_view_module_version": "1.5.0",
            "_view_name": "VBoxView",
            "box_style": "",
            "children": [
              "IPY_MODEL_b37a8da57e164efe825638155eddec71",
              "IPY_MODEL_dbe1848ef70e47b9b7ec6cf58767fdfa"
            ],
            "layout": "IPY_MODEL_715e7c636fb942c197bca3d59692580a"
          }
        },
        "b37a8da57e164efe825638155eddec71": {
          "model_module": "@jupyter-widgets/controls",
          "model_name": "LabelModel",
          "model_module_version": "1.5.0",
          "state": {
            "_dom_classes": [],
            "_model_module": "@jupyter-widgets/controls",
            "_model_module_version": "1.5.0",
            "_model_name": "LabelModel",
            "_view_count": null,
            "_view_module": "@jupyter-widgets/controls",
            "_view_module_version": "1.5.0",
            "_view_name": "LabelView",
            "description": "",
            "description_tooltip": null,
            "layout": "IPY_MODEL_789b1eaafad542438a6186cf995e5b64",
            "placeholder": "​",
            "style": "IPY_MODEL_b5da1b6c439e42e1959ef674823d3b1b",
            "value": "3968.343 MB of 3968.343 MB uploaded (0.084 MB deduped)\r"
          }
        },
        "dbe1848ef70e47b9b7ec6cf58767fdfa": {
          "model_module": "@jupyter-widgets/controls",
          "model_name": "FloatProgressModel",
          "model_module_version": "1.5.0",
          "state": {
            "_dom_classes": [],
            "_model_module": "@jupyter-widgets/controls",
            "_model_module_version": "1.5.0",
            "_model_name": "FloatProgressModel",
            "_view_count": null,
            "_view_module": "@jupyter-widgets/controls",
            "_view_module_version": "1.5.0",
            "_view_name": "ProgressView",
            "bar_style": "",
            "description": "",
            "description_tooltip": null,
            "layout": "IPY_MODEL_1742b02846704f5ea783b3f073ba7655",
            "max": 1,
            "min": 0,
            "orientation": "horizontal",
            "style": "IPY_MODEL_e770483e787e435a99e59b8d047c3e3c",
            "value": 1
          }
        },
        "715e7c636fb942c197bca3d59692580a": {
          "model_module": "@jupyter-widgets/base",
          "model_name": "LayoutModel",
          "model_module_version": "1.2.0",
          "state": {
            "_model_module": "@jupyter-widgets/base",
            "_model_module_version": "1.2.0",
            "_model_name": "LayoutModel",
            "_view_count": null,
            "_view_module": "@jupyter-widgets/base",
            "_view_module_version": "1.2.0",
            "_view_name": "LayoutView",
            "align_content": null,
            "align_items": null,
            "align_self": null,
            "border": null,
            "bottom": null,
            "display": null,
            "flex": null,
            "flex_flow": null,
            "grid_area": null,
            "grid_auto_columns": null,
            "grid_auto_flow": null,
            "grid_auto_rows": null,
            "grid_column": null,
            "grid_gap": null,
            "grid_row": null,
            "grid_template_areas": null,
            "grid_template_columns": null,
            "grid_template_rows": null,
            "height": null,
            "justify_content": null,
            "justify_items": null,
            "left": null,
            "margin": null,
            "max_height": null,
            "max_width": null,
            "min_height": null,
            "min_width": null,
            "object_fit": null,
            "object_position": null,
            "order": null,
            "overflow": null,
            "overflow_x": null,
            "overflow_y": null,
            "padding": null,
            "right": null,
            "top": null,
            "visibility": null,
            "width": null
          }
        },
        "789b1eaafad542438a6186cf995e5b64": {
          "model_module": "@jupyter-widgets/base",
          "model_name": "LayoutModel",
          "model_module_version": "1.2.0",
          "state": {
            "_model_module": "@jupyter-widgets/base",
            "_model_module_version": "1.2.0",
            "_model_name": "LayoutModel",
            "_view_count": null,
            "_view_module": "@jupyter-widgets/base",
            "_view_module_version": "1.2.0",
            "_view_name": "LayoutView",
            "align_content": null,
            "align_items": null,
            "align_self": null,
            "border": null,
            "bottom": null,
            "display": null,
            "flex": null,
            "flex_flow": null,
            "grid_area": null,
            "grid_auto_columns": null,
            "grid_auto_flow": null,
            "grid_auto_rows": null,
            "grid_column": null,
            "grid_gap": null,
            "grid_row": null,
            "grid_template_areas": null,
            "grid_template_columns": null,
            "grid_template_rows": null,
            "height": null,
            "justify_content": null,
            "justify_items": null,
            "left": null,
            "margin": null,
            "max_height": null,
            "max_width": null,
            "min_height": null,
            "min_width": null,
            "object_fit": null,
            "object_position": null,
            "order": null,
            "overflow": null,
            "overflow_x": null,
            "overflow_y": null,
            "padding": null,
            "right": null,
            "top": null,
            "visibility": null,
            "width": null
          }
        },
        "b5da1b6c439e42e1959ef674823d3b1b": {
          "model_module": "@jupyter-widgets/controls",
          "model_name": "DescriptionStyleModel",
          "model_module_version": "1.5.0",
          "state": {
            "_model_module": "@jupyter-widgets/controls",
            "_model_module_version": "1.5.0",
            "_model_name": "DescriptionStyleModel",
            "_view_count": null,
            "_view_module": "@jupyter-widgets/base",
            "_view_module_version": "1.2.0",
            "_view_name": "StyleView",
            "description_width": ""
          }
        },
        "1742b02846704f5ea783b3f073ba7655": {
          "model_module": "@jupyter-widgets/base",
          "model_name": "LayoutModel",
          "model_module_version": "1.2.0",
          "state": {
            "_model_module": "@jupyter-widgets/base",
            "_model_module_version": "1.2.0",
            "_model_name": "LayoutModel",
            "_view_count": null,
            "_view_module": "@jupyter-widgets/base",
            "_view_module_version": "1.2.0",
            "_view_name": "LayoutView",
            "align_content": null,
            "align_items": null,
            "align_self": null,
            "border": null,
            "bottom": null,
            "display": null,
            "flex": null,
            "flex_flow": null,
            "grid_area": null,
            "grid_auto_columns": null,
            "grid_auto_flow": null,
            "grid_auto_rows": null,
            "grid_column": null,
            "grid_gap": null,
            "grid_row": null,
            "grid_template_areas": null,
            "grid_template_columns": null,
            "grid_template_rows": null,
            "height": null,
            "justify_content": null,
            "justify_items": null,
            "left": null,
            "margin": null,
            "max_height": null,
            "max_width": null,
            "min_height": null,
            "min_width": null,
            "object_fit": null,
            "object_position": null,
            "order": null,
            "overflow": null,
            "overflow_x": null,
            "overflow_y": null,
            "padding": null,
            "right": null,
            "top": null,
            "visibility": null,
            "width": null
          }
        },
        "e770483e787e435a99e59b8d047c3e3c": {
          "model_module": "@jupyter-widgets/controls",
          "model_name": "ProgressStyleModel",
          "model_module_version": "1.5.0",
          "state": {
            "_model_module": "@jupyter-widgets/controls",
            "_model_module_version": "1.5.0",
            "_model_name": "ProgressStyleModel",
            "_view_count": null,
            "_view_module": "@jupyter-widgets/base",
            "_view_module_version": "1.2.0",
            "_view_name": "StyleView",
            "bar_color": null,
            "description_width": ""
          }
        }
      }
    }
  },
  "nbformat": 4,
  "nbformat_minor": 0
}