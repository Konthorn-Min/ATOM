{
  "cells": [
    {
      "cell_type": "markdown",
      "metadata": {
        "id": "cEsPRVgPBHrj"
      },
      "source": [
        "##ref code!!!:\n",
        "<a href=\"https://colab.research.google.com/github/wandb/examples/blob/master/colabs/keras/restorers/Train_Zero_DCE_Restorers.ipynb\" target=\"_parent\"><img src=\"https://colab.research.google.com/assets/colab-badge.svg\" alt=\"Open In Colab\"/></a>\n",
        "<!--- @wandbcode{restorers-zero-dce-train} -->"
      ]
    },
    {
      "cell_type": "markdown",
      "source": [
        "ref code : https://colab.research.google.com/github/wandb/examples/blob/master/colabs/keras/restorers/Train_Zero_DCE_Restorers.ipynb"
      ],
      "metadata": {
        "id": "Tw_GPifg799S"
      }
    },
    {
      "cell_type": "markdown",
      "metadata": {
        "id": "6GJuIiSqBHrn"
      },
      "source": [
        "#Pls read : code Train_Zero_DCE\n",
        "*   เป็นโค้ดที่ดึงค่า  weight  มาจาก Restorers ใน https://github.com/TrystAI/restorers\n",
        "*   ในกรณีที่ต้องการเขียนและเทรนโมเดลด้วยตัวเอง สามารถทดลอง original code : https://colab.research.google.com/github/wandb/examples/blob/master/colabs/keras/Zero_DCE_Colab_Keras(video).ipynb\n",
        "\n",
        "เนื่องจากเราต้องการทดลองความสามารถของ Zero_DCE จึงไม่ได้มีการปรับ  config เพื่อเพิ่มความสามารถในการเทรนโมเดล\n"
      ]
    },
    {
      "cell_type": "markdown",
      "source": [
        "## ดึง  library และ โครงสร้าง model จาก  Github"
      ],
      "metadata": {
        "id": "h-Mnc25c8-yj"
      }
    },
    {
      "cell_type": "code",
      "execution_count": null,
      "metadata": {
        "vscode": {
          "languageId": "python"
        },
        "id": "u_0htHMHBHro",
        "colab": {
          "base_uri": "https://localhost:8080/"
        },
        "outputId": "67fa37c5-f80c-45c7-90e9-a3c0cc4dc99a"
      },
      "outputs": [
        {
          "output_type": "stream",
          "name": "stdout",
          "text": [
            "\u001b[2K     \u001b[90m━━━━━━━━━━━━━━━━━━━━━━━━━━━━━━━━━━━━━━━━\u001b[0m \u001b[32m2.1/2.1 MB\u001b[0m \u001b[31m8.6 MB/s\u001b[0m eta \u001b[36m0:00:00\u001b[0m\n",
            "\u001b[2K     \u001b[90m━━━━━━━━━━━━━━━━━━━━━━━━━━━━━━━━━━━━━━━━\u001b[0m \u001b[32m819.5/819.5 kB\u001b[0m \u001b[31m14.3 MB/s\u001b[0m eta \u001b[36m0:00:00\u001b[0m\n",
            "\u001b[?25h\u001b[31mERROR: pip's dependency resolver does not currently take into account all the packages that are installed. This behaviour is the source of the following dependency conflicts.\n",
            "ipython 7.34.0 requires jedi>=0.16, which is not installed.\n",
            "lida 0.0.10 requires fastapi, which is not installed.\n",
            "lida 0.0.10 requires kaleido, which is not installed.\n",
            "lida 0.0.10 requires python-multipart, which is not installed.\n",
            "lida 0.0.10 requires uvicorn, which is not installed.\u001b[0m\u001b[31m\n",
            "\u001b[0mCollecting git+https://github.com/soumik12345/restorers.git\n",
            "  Cloning https://github.com/soumik12345/restorers.git to /tmp/pip-req-build-074jdbcp\n",
            "  Running command git clone --filter=blob:none --quiet https://github.com/soumik12345/restorers.git /tmp/pip-req-build-074jdbcp\n",
            "  Resolved https://github.com/soumik12345/restorers.git to commit f84b63af3f6b5fc117e2a34eac00880180f8aa0e\n",
            "  Installing build dependencies ... \u001b[?25l\u001b[?25hdone\n",
            "  Getting requirements to build wheel ... \u001b[?25l\u001b[?25hdone\n",
            "  Installing backend dependencies ... \u001b[?25l\u001b[?25hdone\n",
            "  Preparing metadata (pyproject.toml) ... \u001b[?25l\u001b[?25hdone\n",
            "Collecting isort==5.10.1 (from restorers==0.0.0)\n",
            "  Downloading isort-5.10.1-py3-none-any.whl (103 kB)\n",
            "\u001b[2K     \u001b[90m━━━━━━━━━━━━━━━━━━━━━━━━━━━━━━━━━━━━━━━━\u001b[0m \u001b[32m103.4/103.4 kB\u001b[0m \u001b[31m2.6 MB/s\u001b[0m eta \u001b[36m0:00:00\u001b[0m\n",
            "\u001b[?25hCollecting black==22.6.0 (from restorers==0.0.0)\n",
            "  Downloading black-22.6.0-cp310-cp310-manylinux_2_17_x86_64.manylinux2014_x86_64.whl (1.5 MB)\n",
            "\u001b[2K     \u001b[90m━━━━━━━━━━━━━━━━━━━━━━━━━━━━━━━━━━━━━━━━\u001b[0m \u001b[32m1.5/1.5 MB\u001b[0m \u001b[31m11.4 MB/s\u001b[0m eta \u001b[36m0:00:00\u001b[0m\n",
            "\u001b[?25hCollecting pytest==7.1.2 (from restorers==0.0.0)\n",
            "  Downloading pytest-7.1.2-py3-none-any.whl (297 kB)\n",
            "\u001b[2K     \u001b[90m━━━━━━━━━━━━━━━━━━━━━━━━━━━━━━━━━━━━━━━━\u001b[0m \u001b[32m297.0/297.0 kB\u001b[0m \u001b[31m11.2 MB/s\u001b[0m eta \u001b[36m0:00:00\u001b[0m\n",
            "\u001b[?25hRequirement already satisfied: matplotlib>=3.5.3 in /usr/local/lib/python3.10/dist-packages (from restorers==0.0.0) (3.7.1)\n",
            "Collecting ml-collections==0.1.1 (from restorers==0.0.0)\n",
            "  Downloading ml_collections-0.1.1.tar.gz (77 kB)\n",
            "\u001b[2K     \u001b[90m━━━━━━━━━━━━━━━━━━━━━━━━━━━━━━━━━━━━━━━━\u001b[0m \u001b[32m77.9/77.9 kB\u001b[0m \u001b[31m8.5 MB/s\u001b[0m eta \u001b[36m0:00:00\u001b[0m\n",
            "\u001b[?25h  Preparing metadata (setup.py) ... \u001b[?25l\u001b[?25hdone\n",
            "Requirement already satisfied: pillow in /usr/local/lib/python3.10/dist-packages (from restorers==0.0.0) (9.4.0)\n",
            "Requirement already satisfied: tqdm in /usr/local/lib/python3.10/dist-packages (from restorers==0.0.0) (4.66.1)\n",
            "Collecting wandb>=0.13.6 (from restorers==0.0.0)\n",
            "  Downloading wandb-0.16.1-py3-none-any.whl.metadata (9.8 kB)\n",
            "Requirement already satisfied: click>=8.0.0 in /usr/local/lib/python3.10/dist-packages (from black==22.6.0->restorers==0.0.0) (8.1.7)\n",
            "Requirement already satisfied: platformdirs>=2 in /usr/local/lib/python3.10/dist-packages (from black==22.6.0->restorers==0.0.0) (4.1.0)\n",
            "Collecting pathspec>=0.9.0 (from black==22.6.0->restorers==0.0.0)\n",
            "  Downloading pathspec-0.12.1-py3-none-any.whl.metadata (21 kB)\n",
            "Collecting mypy-extensions>=0.4.3 (from black==22.6.0->restorers==0.0.0)\n",
            "  Downloading mypy_extensions-1.0.0-py3-none-any.whl (4.7 kB)\n",
            "Requirement already satisfied: tomli>=1.1.0 in /usr/local/lib/python3.10/dist-packages (from black==22.6.0->restorers==0.0.0) (2.0.1)\n",
            "Requirement already satisfied: absl-py in /usr/local/lib/python3.10/dist-packages (from ml-collections==0.1.1->restorers==0.0.0) (1.4.0)\n",
            "Requirement already satisfied: PyYAML in /usr/local/lib/python3.10/dist-packages (from ml-collections==0.1.1->restorers==0.0.0) (6.0.1)\n",
            "Requirement already satisfied: six in /usr/local/lib/python3.10/dist-packages (from ml-collections==0.1.1->restorers==0.0.0) (1.16.0)\n",
            "Requirement already satisfied: contextlib2 in /usr/local/lib/python3.10/dist-packages (from ml-collections==0.1.1->restorers==0.0.0) (21.6.0)\n",
            "Requirement already satisfied: attrs>=19.2.0 in /usr/local/lib/python3.10/dist-packages (from pytest==7.1.2->restorers==0.0.0) (23.1.0)\n",
            "Requirement already satisfied: iniconfig in /usr/local/lib/python3.10/dist-packages (from pytest==7.1.2->restorers==0.0.0) (2.0.0)\n",
            "Requirement already satisfied: packaging in /usr/local/lib/python3.10/dist-packages (from pytest==7.1.2->restorers==0.0.0) (23.2)\n",
            "Requirement already satisfied: pluggy<2.0,>=0.12 in /usr/local/lib/python3.10/dist-packages (from pytest==7.1.2->restorers==0.0.0) (1.3.0)\n",
            "Collecting py>=1.8.2 (from pytest==7.1.2->restorers==0.0.0)\n",
            "  Downloading py-1.11.0-py2.py3-none-any.whl (98 kB)\n",
            "\u001b[2K     \u001b[90m━━━━━━━━━━━━━━━━━━━━━━━━━━━━━━━━━━━━━━━━\u001b[0m \u001b[32m98.7/98.7 kB\u001b[0m \u001b[31m10.5 MB/s\u001b[0m eta \u001b[36m0:00:00\u001b[0m\n",
            "\u001b[?25hRequirement already satisfied: contourpy>=1.0.1 in /usr/local/lib/python3.10/dist-packages (from matplotlib>=3.5.3->restorers==0.0.0) (1.2.0)\n",
            "Requirement already satisfied: cycler>=0.10 in /usr/local/lib/python3.10/dist-packages (from matplotlib>=3.5.3->restorers==0.0.0) (0.12.1)\n",
            "Requirement already satisfied: fonttools>=4.22.0 in /usr/local/lib/python3.10/dist-packages (from matplotlib>=3.5.3->restorers==0.0.0) (4.46.0)\n",
            "Requirement already satisfied: kiwisolver>=1.0.1 in /usr/local/lib/python3.10/dist-packages (from matplotlib>=3.5.3->restorers==0.0.0) (1.4.5)\n",
            "Requirement already satisfied: numpy>=1.20 in /usr/local/lib/python3.10/dist-packages (from matplotlib>=3.5.3->restorers==0.0.0) (1.23.5)\n",
            "Requirement already satisfied: pyparsing>=2.3.1 in /usr/local/lib/python3.10/dist-packages (from matplotlib>=3.5.3->restorers==0.0.0) (3.1.1)\n",
            "Requirement already satisfied: python-dateutil>=2.7 in /usr/local/lib/python3.10/dist-packages (from matplotlib>=3.5.3->restorers==0.0.0) (2.8.2)\n",
            "Collecting GitPython!=3.1.29,>=1.0.0 (from wandb>=0.13.6->restorers==0.0.0)\n",
            "  Downloading GitPython-3.1.40-py3-none-any.whl.metadata (12 kB)\n",
            "Requirement already satisfied: requests<3,>=2.0.0 in /usr/local/lib/python3.10/dist-packages (from wandb>=0.13.6->restorers==0.0.0) (2.31.0)\n",
            "Requirement already satisfied: psutil>=5.0.0 in /usr/local/lib/python3.10/dist-packages (from wandb>=0.13.6->restorers==0.0.0) (5.9.5)\n",
            "Collecting sentry-sdk>=1.0.0 (from wandb>=0.13.6->restorers==0.0.0)\n",
            "  Downloading sentry_sdk-1.39.1-py2.py3-none-any.whl.metadata (9.7 kB)\n",
            "Collecting docker-pycreds>=0.4.0 (from wandb>=0.13.6->restorers==0.0.0)\n",
            "  Downloading docker_pycreds-0.4.0-py2.py3-none-any.whl (9.0 kB)\n",
            "Collecting setproctitle (from wandb>=0.13.6->restorers==0.0.0)\n",
            "  Downloading setproctitle-1.3.3-cp310-cp310-manylinux_2_5_x86_64.manylinux1_x86_64.manylinux_2_17_x86_64.manylinux2014_x86_64.whl.metadata (9.9 kB)\n",
            "Requirement already satisfied: setuptools in /usr/local/lib/python3.10/dist-packages (from wandb>=0.13.6->restorers==0.0.0) (69.0.3)\n",
            "Requirement already satisfied: appdirs>=1.4.3 in /usr/local/lib/python3.10/dist-packages (from wandb>=0.13.6->restorers==0.0.0) (1.4.4)\n",
            "Requirement already satisfied: protobuf!=4.21.0,<5,>=3.19.0 in /usr/local/lib/python3.10/dist-packages (from wandb>=0.13.6->restorers==0.0.0) (3.20.3)\n",
            "Collecting gitdb<5,>=4.0.1 (from GitPython!=3.1.29,>=1.0.0->wandb>=0.13.6->restorers==0.0.0)\n",
            "  Downloading gitdb-4.0.11-py3-none-any.whl.metadata (1.2 kB)\n",
            "Requirement already satisfied: charset-normalizer<4,>=2 in /usr/local/lib/python3.10/dist-packages (from requests<3,>=2.0.0->wandb>=0.13.6->restorers==0.0.0) (3.3.2)\n",
            "Requirement already satisfied: idna<4,>=2.5 in /usr/local/lib/python3.10/dist-packages (from requests<3,>=2.0.0->wandb>=0.13.6->restorers==0.0.0) (3.6)\n",
            "Requirement already satisfied: urllib3<3,>=1.21.1 in /usr/local/lib/python3.10/dist-packages (from requests<3,>=2.0.0->wandb>=0.13.6->restorers==0.0.0) (2.0.7)\n",
            "Requirement already satisfied: certifi>=2017.4.17 in /usr/local/lib/python3.10/dist-packages (from requests<3,>=2.0.0->wandb>=0.13.6->restorers==0.0.0) (2023.11.17)\n",
            "Collecting smmap<6,>=3.0.1 (from gitdb<5,>=4.0.1->GitPython!=3.1.29,>=1.0.0->wandb>=0.13.6->restorers==0.0.0)\n",
            "  Downloading smmap-5.0.1-py3-none-any.whl.metadata (4.3 kB)\n",
            "Downloading wandb-0.16.1-py3-none-any.whl (2.1 MB)\n",
            "\u001b[2K   \u001b[90m━━━━━━━━━━━━━━━━━━━━━━━━━━━━━━━━━━━━━━━━\u001b[0m \u001b[32m2.1/2.1 MB\u001b[0m \u001b[31m20.2 MB/s\u001b[0m eta \u001b[36m0:00:00\u001b[0m\n",
            "\u001b[?25hDownloading GitPython-3.1.40-py3-none-any.whl (190 kB)\n",
            "\u001b[2K   \u001b[90m━━━━━━━━━━━━━━━━━━━━━━━━━━━━━━━━━━━━━━━━\u001b[0m \u001b[32m190.6/190.6 kB\u001b[0m \u001b[31m18.9 MB/s\u001b[0m eta \u001b[36m0:00:00\u001b[0m\n",
            "\u001b[?25hDownloading pathspec-0.12.1-py3-none-any.whl (31 kB)\n",
            "Downloading sentry_sdk-1.39.1-py2.py3-none-any.whl (254 kB)\n",
            "\u001b[2K   \u001b[90m━━━━━━━━━━━━━━━━━━━━━━━━━━━━━━━━━━━━━━━━\u001b[0m \u001b[32m254.1/254.1 kB\u001b[0m \u001b[31m15.1 MB/s\u001b[0m eta \u001b[36m0:00:00\u001b[0m\n",
            "\u001b[?25hDownloading setproctitle-1.3.3-cp310-cp310-manylinux_2_5_x86_64.manylinux1_x86_64.manylinux_2_17_x86_64.manylinux2014_x86_64.whl (30 kB)\n",
            "Downloading gitdb-4.0.11-py3-none-any.whl (62 kB)\n",
            "\u001b[2K   \u001b[90m━━━━━━━━━━━━━━━━━━━━━━━━━━━━━━━━━━━━━━━━\u001b[0m \u001b[32m62.7/62.7 kB\u001b[0m \u001b[31m6.9 MB/s\u001b[0m eta \u001b[36m0:00:00\u001b[0m\n",
            "\u001b[?25hDownloading smmap-5.0.1-py3-none-any.whl (24 kB)\n",
            "Building wheels for collected packages: restorers, ml-collections\n",
            "  Building wheel for restorers (pyproject.toml) ... \u001b[?25l\u001b[?25hdone\n",
            "  Created wheel for restorers: filename=restorers-0.0.0-py3-none-any.whl size=45394 sha256=bf1f7b095f40af70ac3584b56a9dd13beaaf3dcf22a7e9bb5d2d7bb1a1188a51\n",
            "  Stored in directory: /tmp/pip-ephem-wheel-cache-6sl6nn_1/wheels/99/55/7e/b3072b89f8b78c2ba6d02fae0a5aa3688ed7d55d76c7109352\n",
            "  Building wheel for ml-collections (setup.py) ... \u001b[?25l\u001b[?25hdone\n",
            "  Created wheel for ml-collections: filename=ml_collections-0.1.1-py3-none-any.whl size=94507 sha256=630ba21ff2b4d37cd5af84b64c69fbfaa52bb748f1ffd26044d5a0b592a15bda\n",
            "  Stored in directory: /root/.cache/pip/wheels/7b/89/c9/a9b87790789e94aadcfc393c283e3ecd5ab916aed0a31be8fe\n",
            "Successfully built restorers ml-collections\n",
            "Installing collected packages: smmap, setproctitle, sentry-sdk, py, pathspec, mypy-extensions, ml-collections, isort, docker-pycreds, pytest, gitdb, black, GitPython, wandb, restorers\n",
            "  Attempting uninstall: pytest\n",
            "    Found existing installation: pytest 7.4.3\n",
            "    Uninstalling pytest-7.4.3:\n",
            "      Successfully uninstalled pytest-7.4.3\n",
            "Successfully installed GitPython-3.1.40 black-22.6.0 docker-pycreds-0.4.0 gitdb-4.0.11 isort-5.10.1 ml-collections-0.1.1 mypy-extensions-1.0.0 pathspec-0.12.1 py-1.11.0 pytest-7.1.2 restorers-0.0.0 sentry-sdk-1.39.1 setproctitle-1.3.3 smmap-5.0.1 wandb-0.16.1\n",
            "\u001b[33mWARNING: Running pip as the 'root' user can result in broken permissions and conflicting behaviour with the system package manager. It is recommended to use a virtual environment instead: https://pip.pypa.io/warnings/venv\u001b[0m\u001b[33m\n",
            "\u001b[0m"
          ]
        }
      ],
      "source": [
        "!pip install -q --upgrade pip setuptools\n",
        "!pip install git+https://github.com/soumik12345/restorers.git"
      ]
    },
    {
      "cell_type": "code",
      "execution_count": null,
      "metadata": {
        "vscode": {
          "languageId": "python"
        },
        "id": "anKCu5lTBHrp"
      },
      "outputs": [],
      "source": [
        "import os\n",
        "from glob import glob\n",
        "\n",
        "import tensorflow as tf\n",
        "\n",
        "import wandb\n",
        "# import the wandb callbacks for keras\n",
        "from wandb.keras import WandbMetricsLogger, WandbModelCheckpoint"
      ]
    },
    {
      "cell_type": "markdown",
      "source": [
        "## log in wandb + Import dataset\n",
        "*   สามารถดู wandb_api_key ของตัวเอง ได้ที่ https://wandb.ai/authorize\n",
        "*   ดึง Lol dataset จาก artifact_address\n",
        "*   ตั้งเงื่อนไขสำหรับชุดข้อมูล"
      ],
      "metadata": {
        "id": "vdNEHNMN9Ds2"
      }
    },
    {
      "cell_type": "code",
      "execution_count": null,
      "metadata": {
        "vscode": {
          "languageId": "python"
        },
        "id": "HdoGOWpRBHrq",
        "colab": {
          "base_uri": "https://localhost:8080/",
          "height": 196
        },
        "outputId": "c4fbace2-c9b1-43e8-cfa5-0884cbb77fbe"
      },
      "outputs": [
        {
          "output_type": "display_data",
          "data": {
            "text/plain": [
              "<IPython.core.display.Javascript object>"
            ],
            "application/javascript": [
              "\n",
              "        window._wandbApiKey = new Promise((resolve, reject) => {\n",
              "            function loadScript(url) {\n",
              "            return new Promise(function(resolve, reject) {\n",
              "                let newScript = document.createElement(\"script\");\n",
              "                newScript.onerror = reject;\n",
              "                newScript.onload = resolve;\n",
              "                document.body.appendChild(newScript);\n",
              "                newScript.src = url;\n",
              "            });\n",
              "            }\n",
              "            loadScript(\"https://cdn.jsdelivr.net/npm/postmate/build/postmate.min.js\").then(() => {\n",
              "            const iframe = document.createElement('iframe')\n",
              "            iframe.style.cssText = \"width:0;height:0;border:none\"\n",
              "            document.body.appendChild(iframe)\n",
              "            const handshake = new Postmate({\n",
              "                container: iframe,\n",
              "                url: 'https://wandb.ai/authorize'\n",
              "            });\n",
              "            const timeout = setTimeout(() => reject(\"Couldn't auto authenticate\"), 5000)\n",
              "            handshake.then(function(child) {\n",
              "                child.on('authorize', data => {\n",
              "                    clearTimeout(timeout)\n",
              "                    resolve(data)\n",
              "                });\n",
              "            });\n",
              "            })\n",
              "        });\n",
              "    "
            ]
          },
          "metadata": {}
        },
        {
          "output_type": "stream",
          "name": "stderr",
          "text": [
            "\u001b[34m\u001b[1mwandb\u001b[0m: Appending key for api.wandb.ai to your netrc file: /root/.netrc\n"
          ]
        },
        {
          "output_type": "display_data",
          "data": {
            "text/plain": [
              "<IPython.core.display.HTML object>"
            ],
            "text/html": [
              "Tracking run with wandb version 0.16.1"
            ]
          },
          "metadata": {}
        },
        {
          "output_type": "display_data",
          "data": {
            "text/plain": [
              "<IPython.core.display.HTML object>"
            ],
            "text/html": [
              "Run data is saved locally in <code>/content/wandb/run-20231226_220323-8jz0cmsm</code>"
            ]
          },
          "metadata": {}
        },
        {
          "output_type": "display_data",
          "data": {
            "text/plain": [
              "<IPython.core.display.HTML object>"
            ],
            "text/html": [
              "Syncing run <strong><a href='https://wandb.ai/konthorn/low-light-enhancement/runs/8jz0cmsm' target=\"_blank\">genial-smoke-8</a></strong> to <a href='https://wandb.ai/konthorn/low-light-enhancement' target=\"_blank\">Weights & Biases</a> (<a href='https://wandb.me/run' target=\"_blank\">docs</a>)<br/>"
            ]
          },
          "metadata": {}
        },
        {
          "output_type": "display_data",
          "data": {
            "text/plain": [
              "<IPython.core.display.HTML object>"
            ],
            "text/html": [
              " View project at <a href='https://wandb.ai/konthorn/low-light-enhancement' target=\"_blank\">https://wandb.ai/konthorn/low-light-enhancement</a>"
            ]
          },
          "metadata": {}
        },
        {
          "output_type": "display_data",
          "data": {
            "text/plain": [
              "<IPython.core.display.HTML object>"
            ],
            "text/html": [
              " View run at <a href='https://wandb.ai/konthorn/low-light-enhancement/runs/8jz0cmsm' target=\"_blank\">https://wandb.ai/konthorn/low-light-enhancement/runs/8jz0cmsm</a>"
            ]
          },
          "metadata": {}
        },
        {
          "output_type": "stream",
          "name": "stderr",
          "text": [
            "\u001b[34m\u001b[1mwandb\u001b[0m: Downloading large artifact LoL:v0, 331.95MB. 1003 files... \n",
            "\u001b[34m\u001b[1mwandb\u001b[0m:   1003 of 1003 files downloaded.  \n",
            "Done. 0:0:17.3\n"
          ]
        }
      ],
      "source": [
        "wandb.init(project=\"low-light-enhancement\", job_type=\"train\")\n",
        "\n",
        "\n",
        "def load_data(image_path):\n",
        "    image = tf.io.read_file(image_path)\n",
        "    image = tf.image.decode_png(image, channels=3)\n",
        "    image = tf.image.resize(\n",
        "        images=image,\n",
        "        size=[256, 256]\n",
        "    )\n",
        "    image = image / ((2 ** 8) - 1)\n",
        "    return image\n",
        "\n",
        "\n",
        "def data_generator(low_light_images):\n",
        "    dataset = tf.data.Dataset.from_tensor_slices((low_light_images))\n",
        "    dataset = dataset.map(load_data, num_parallel_calls=tf.data.AUTOTUNE)\n",
        "    dataset = dataset.batch(8, drop_remainder=True)\n",
        "    return dataset\n",
        "\n",
        "\n",
        "artifact = wandb.use_artifact(\"ml-colabs/dataset/LoL:v0\", type='dataset')\n",
        "artifact_dir = artifact.download()\n",
        "\n",
        "train_low_light_images = sorted(glob(os.path.join(artifact_dir, \"our485\", \"low\", \"*\")))\n",
        "num_train_images = int((1 - 0.2) * len(train_low_light_images))\n",
        "val_low_light_images = train_low_light_images[num_train_images:]\n",
        "train_low_light_images = train_low_light_images[:num_train_images]\n",
        "\n",
        "train_dataset = data_generator(train_low_light_images)\n",
        "val_dataset = data_generator(val_low_light_images)"
      ]
    },
    {
      "cell_type": "markdown",
      "source": [
        "## Import MirNetv2 from restorers\n",
        "*   ตั้งเงื่อนไขสำหรับ model"
      ],
      "metadata": {
        "id": "JbCPieDx9XCw"
      }
    },
    {
      "cell_type": "code",
      "execution_count": null,
      "metadata": {
        "vscode": {
          "languageId": "python"
        },
        "id": "xjCu7Un_BHrq"
      },
      "outputs": [],
      "source": [
        "from restorers.model.zero_dce import ZeroDCE\n",
        "model = ZeroDCE(\n",
        "    num_intermediate_filters=32, # number of filters in the intermediate convolutional layers\n",
        "    num_iterations=8, # number of iterations of enhancement\n",
        "    decoder_channel_factor=1 # factor by which number filters in the decoder of deep curve estimation layer is multiplied\n",
        ")\n",
        "\n",
        "model.compile(\n",
        "    optimizer=tf.keras.optimizers.Adam(learning_rate=1e-4),\n",
        "    weight_exposure_loss=1.0, # weight of the exposure control loss\n",
        "    weight_color_constancy_loss=0.5, # weight of the color constancy loss\n",
        "    weight_illumination_smoothness_loss=20, # weight of the illumination smoothness loss\n",
        ")"
      ]
    },
    {
      "cell_type": "markdown",
      "source": [
        "##Train model + call back  ผลลัพธ์จากการฝึก"
      ],
      "metadata": {
        "id": "qifXJVea9vw9"
      }
    },
    {
      "cell_type": "code",
      "execution_count": null,
      "metadata": {
        "vscode": {
          "languageId": "python"
        },
        "id": "45w75xaGBHrr",
        "colab": {
          "base_uri": "https://localhost:8080/"
        },
        "outputId": "849c52c9-a367-4d5f-bfa5-32dcc197ba3c"
      },
      "outputs": [
        {
          "output_type": "stream",
          "name": "stdout",
          "text": [
            "Epoch 1/100\n",
            " 6/48 [==>...........................] - ETA: 5s - total_loss: 0.5595 - illumination_smoothness_loss: 0.0128 - spatial_constancy_loss: 7.4495e-05 - color_constancy: 4.6791e-04 - exposure_control_loss: 0.3040"
          ]
        },
        {
          "output_type": "stream",
          "name": "stderr",
          "text": [
            "WARNING:tensorflow:Callback method `on_train_batch_end` is slow compared to the batch time (batch time: 0.0153s vs `on_train_batch_end` time: 0.0898s). Check your callbacks.\n"
          ]
        },
        {
          "output_type": "stream",
          "name": "stdout",
          "text": [
            "48/48 [==============================] - ETA: 0s - total_loss: 0.5524 - illumination_smoothness_loss: 0.0130 - spatial_constancy_loss: 1.6746e-04 - color_constancy: 6.5400e-04 - exposure_control_loss: 0.2913"
          ]
        },
        {
          "output_type": "stream",
          "name": "stderr",
          "text": [
            "WARNING:tensorflow:Compiled the loaded model, but the compiled metrics have yet to be built. `model.compile_metrics` will be empty until you train or evaluate the model.\n",
            "\u001b[34m\u001b[1mwandb\u001b[0m: Adding directory to artifact (./checkpoint)... Done. 0.0s\n"
          ]
        },
        {
          "output_type": "stream",
          "name": "stdout",
          "text": [
            "\b\b\b\b\b\b\b\b\b\b\b\b\b\b\b\b\b\b\b\b\b\b\b\b\b\b\b\b\b\b\b\b\b\b\b\b\b\b\b\b\b\b\b\b\b\b\b\b\b\b\b\b\b\b\b\b\b\b\b\b\b\b\b\b\b\b\b\b\b\b\b\b\b\b\b\b\b\b\b\b\b\b\b\b\b\b\b\b\b\b\b\b\b\b\b\b\b\b\b\b\b\b\b\b\b\b\b\b\b\b\b\b\b\b\b\b\b\b\b\b\b\b\b\b\b\b\b\b\b\b\b\b\b\b\b\b\b\b\b\b\b\b\b\b\b\b\b\b\b\b\b\b\b\b\b\b\b\b\b\b\b\b\b\b\b\b\b\b\b\b\b\b\b\b\b\b\b\b\b\b\b\b\b\b\b\b\b\b\b\b\b\b\b\b\b\b\b\b\b\b\b\b\b\b\b\b\b\r48/48 [==============================] - 19s 213ms/step - total_loss: 0.5500 - illumination_smoothness_loss: 0.0129 - spatial_constancy_loss: 1.6446e-04 - color_constancy: 6.4408e-04 - exposure_control_loss: 0.2918 - val_total_loss: 0.3829 - val_illumination_smoothness_loss: 0.0043 - val_spatial_constancy_loss: 6.2235e-05 - val_color_constancy: 6.2323e-05 - val_exposure_control_loss: 0.2960\n",
            "Epoch 2/100\n",
            "48/48 [==============================] - ETA: 0s - total_loss: 0.4168 - illumination_smoothness_loss: 0.0063 - spatial_constancy_loss: 1.1548e-04 - color_constancy: 6.4341e-04 - exposure_control_loss: 0.2910"
          ]
        },
        {
          "output_type": "stream",
          "name": "stderr",
          "text": [
            "WARNING:tensorflow:Compiled the loaded model, but the compiled metrics have yet to be built. `model.compile_metrics` will be empty until you train or evaluate the model.\n",
            "\u001b[34m\u001b[1mwandb\u001b[0m: Adding directory to artifact (./checkpoint)... Done. 0.0s\n"
          ]
        },
        {
          "output_type": "stream",
          "name": "stdout",
          "text": [
            "\b\b\b\b\b\b\b\b\b\b\b\b\b\b\b\b\b\b\b\b\b\b\b\b\b\b\b\b\b\b\b\b\b\b\b\b\b\b\b\b\b\b\b\b\b\b\b\b\b\b\b\b\b\b\b\b\b\b\b\b\b\b\b\b\b\b\b\b\b\b\b\b\b\b\b\b\b\b\b\b\b\b\b\b\b\b\b\b\b\b\b\b\b\b\b\b\b\b\b\b\b\b\b\b\b\b\b\b\b\b\b\b\b\b\b\b\b\b\b\b\b\b\b\b\b\b\b\b\b\b\b\b\b\b\b\b\b\b\b\b\b\b\b\b\b\b\b\b\b\b\b\b\b\b\b\b\b\b\b\b\b\b\b\b\b\b\b\b\b\b\b\b\b\b\b\b\b\b\b\b\b\b\b\b\b\b\b\b\b\b\b\b\b\b\b\b\b\b\b\b\b\b\b\b\b\b\b\r48/48 [==============================] - 8s 175ms/step - total_loss: 0.4161 - illumination_smoothness_loss: 0.0062 - spatial_constancy_loss: 1.1374e-04 - color_constancy: 6.3395e-04 - exposure_control_loss: 0.2914 - val_total_loss: 0.3430 - val_illumination_smoothness_loss: 0.0024 - val_spatial_constancy_loss: 7.6956e-05 - val_color_constancy: 7.1792e-05 - val_exposure_control_loss: 0.2950\n",
            "Epoch 3/100\n",
            "48/48 [==============================] - ETA: 0s - total_loss: 0.3665 - illumination_smoothness_loss: 0.0038 - spatial_constancy_loss: 1.4742e-04 - color_constancy: 6.5115e-04 - exposure_control_loss: 0.2894"
          ]
        },
        {
          "output_type": "stream",
          "name": "stderr",
          "text": [
            "WARNING:tensorflow:Compiled the loaded model, but the compiled metrics have yet to be built. `model.compile_metrics` will be empty until you train or evaluate the model.\n",
            "\u001b[34m\u001b[1mwandb\u001b[0m: Adding directory to artifact (./checkpoint)... Done. 0.0s\n"
          ]
        },
        {
          "output_type": "stream",
          "name": "stdout",
          "text": [
            "\b\b\b\b\b\b\b\b\b\b\b\b\b\b\b\b\b\b\b\b\b\b\b\b\b\b\b\b\b\b\b\b\b\b\b\b\b\b\b\b\b\b\b\b\b\b\b\b\b\b\b\b\b\b\b\b\b\b\b\b\b\b\b\b\b\b\b\b\b\b\b\b\b\b\b\b\b\b\b\b\b\b\b\b\b\b\b\b\b\b\b\b\b\b\b\b\b\b\b\b\b\b\b\b\b\b\b\b\b\b\b\b\b\b\b\b\b\b\b\b\b\b\b\b\b\b\b\b\b\b\b\b\b\b\b\b\b\b\b\b\b\b\b\b\b\b\b\b\b\b\b\b\b\b\b\b\b\b\b\b\b\b\b\b\b\b\b\b\b\b\b\b\b\b\b\b\b\b\b\b\b\b\b\b\b\b\b\b\b\b\b\b\b\b\b\b\b\b\b\b\b\b\b\b\b\b\b\r48/48 [==============================] - 8s 163ms/step - total_loss: 0.3662 - illumination_smoothness_loss: 0.0038 - spatial_constancy_loss: 1.4557e-04 - color_constancy: 6.4185e-04 - exposure_control_loss: 0.2898 - val_total_loss: 0.3242 - val_illumination_smoothness_loss: 0.0015 - val_spatial_constancy_loss: 1.3018e-04 - val_color_constancy: 8.4479e-05 - val_exposure_control_loss: 0.2932\n",
            "Epoch 4/100\n",
            "48/48 [==============================] - ETA: 0s - total_loss: 0.3401 - illumination_smoothness_loss: 0.0026 - spatial_constancy_loss: 2.4317e-04 - color_constancy: 6.8128e-04 - exposure_control_loss: 0.2871"
          ]
        },
        {
          "output_type": "stream",
          "name": "stderr",
          "text": [
            "WARNING:tensorflow:Compiled the loaded model, but the compiled metrics have yet to be built. `model.compile_metrics` will be empty until you train or evaluate the model.\n",
            "\u001b[34m\u001b[1mwandb\u001b[0m: Adding directory to artifact (./checkpoint)... Done. 0.0s\n"
          ]
        },
        {
          "output_type": "stream",
          "name": "stdout",
          "text": [
            "\b\b\b\b\b\b\b\b\b\b\b\b\b\b\b\b\b\b\b\b\b\b\b\b\b\b\b\b\b\b\b\b\b\b\b\b\b\b\b\b\b\b\b\b\b\b\b\b\b\b\b\b\b\b\b\b\b\b\b\b\b\b\b\b\b\b\b\b\b\b\b\b\b\b\b\b\b\b\b\b\b\b\b\b\b\b\b\b\b\b\b\b\b\b\b\b\b\b\b\b\b\b\b\b\b\b\b\b\b\b\b\b\b\b\b\b\b\b\b\b\b\b\b\b\b\b\b\b\b\b\b\b\b\b\b\b\b\b\b\b\b\b\b\b\b\b\b\b\b\b\b\b\b\b\b\b\b\b\b\b\b\b\b\b\b\b\b\b\b\b\b\b\b\b\b\b\b\b\b\b\b\b\b\b\b\b\b\b\b\b\b\b\b\b\b\b\b\b\b\b\b\b\b\b\b\b\b\r48/48 [==============================] - 8s 160ms/step - total_loss: 0.3401 - illumination_smoothness_loss: 0.0026 - spatial_constancy_loss: 2.4034e-04 - color_constancy: 6.7183e-04 - exposure_control_loss: 0.2875 - val_total_loss: 0.3124 - val_illumination_smoothness_loss: 0.0011 - val_spatial_constancy_loss: 2.3181e-04 - val_color_constancy: 9.8662e-05 - val_exposure_control_loss: 0.2906\n",
            "Epoch 5/100\n",
            "48/48 [==============================] - ETA: 0s - total_loss: 0.3238 - illumination_smoothness_loss: 0.0019 - spatial_constancy_loss: 4.1484e-04 - color_constancy: 7.2922e-04 - exposure_control_loss: 0.2842"
          ]
        },
        {
          "output_type": "stream",
          "name": "stderr",
          "text": [
            "WARNING:tensorflow:Compiled the loaded model, but the compiled metrics have yet to be built. `model.compile_metrics` will be empty until you train or evaluate the model.\n",
            "\u001b[34m\u001b[1mwandb\u001b[0m: Adding directory to artifact (./checkpoint)... Done. 0.0s\n"
          ]
        },
        {
          "output_type": "stream",
          "name": "stdout",
          "text": [
            "\b\b\b\b\b\b\b\b\b\b\b\b\b\b\b\b\b\b\b\b\b\b\b\b\b\b\b\b\b\b\b\b\b\b\b\b\b\b\b\b\b\b\b\b\b\b\b\b\b\b\b\b\b\b\b\b\b\b\b\b\b\b\b\b\b\b\b\b\b\b\b\b\b\b\b\b\b\b\b\b\b\b\b\b\b\b\b\b\b\b\b\b\b\b\b\b\b\b\b\b\b\b\b\b\b\b\b\b\b\b\b\b\b\b\b\b\b\b\b\b\b\b\b\b\b\b\b\b\b\b\b\b\b\b\b\b\b\b\b\b\b\b\b\b\b\b\b\b\b\b\b\b\b\b\b\b\b\b\b\b\b\b\b\b\b\b\b\b\b\b\b\b\b\b\b\b\b\b\b\b\b\b\b\b\b\b\b\b\b\b\b\b\b\b\b\b\b\b\b\b\b\b\b\b\b\b\b\r48/48 [==============================] - 8s 166ms/step - total_loss: 0.3239 - illumination_smoothness_loss: 0.0019 - spatial_constancy_loss: 4.1019e-04 - color_constancy: 7.1929e-04 - exposure_control_loss: 0.2846 - val_total_loss: 0.3043 - val_illumination_smoothness_loss: 8.2219e-04 - val_spatial_constancy_loss: 4.0697e-04 - val_color_constancy: 1.1510e-04 - val_exposure_control_loss: 0.2874\n",
            "Epoch 6/100\n",
            "48/48 [==============================] - ETA: 0s - total_loss: 0.3125 - illumination_smoothness_loss: 0.0015 - spatial_constancy_loss: 6.6741e-04 - color_constancy: 7.8919e-04 - exposure_control_loss: 0.2808"
          ]
        },
        {
          "output_type": "stream",
          "name": "stderr",
          "text": [
            "WARNING:tensorflow:Compiled the loaded model, but the compiled metrics have yet to be built. `model.compile_metrics` will be empty until you train or evaluate the model.\n",
            "\u001b[34m\u001b[1mwandb\u001b[0m: Adding directory to artifact (./checkpoint)... Done. 0.0s\n"
          ]
        },
        {
          "output_type": "stream",
          "name": "stdout",
          "text": [
            "\b\b\b\b\b\b\b\b\b\b\b\b\b\b\b\b\b\b\b\b\b\b\b\b\b\b\b\b\b\b\b\b\b\b\b\b\b\b\b\b\b\b\b\b\b\b\b\b\b\b\b\b\b\b\b\b\b\b\b\b\b\b\b\b\b\b\b\b\b\b\b\b\b\b\b\b\b\b\b\b\b\b\b\b\b\b\b\b\b\b\b\b\b\b\b\b\b\b\b\b\b\b\b\b\b\b\b\b\b\b\b\b\b\b\b\b\b\b\b\b\b\b\b\b\b\b\b\b\b\b\b\b\b\b\b\b\b\b\b\b\b\b\b\b\b\b\b\b\b\b\b\b\b\b\b\b\b\b\b\b\b\b\b\b\b\b\b\b\b\b\b\b\b\b\b\b\b\b\b\b\b\b\b\b\b\b\b\b\b\b\b\b\b\b\b\b\b\b\b\b\b\b\b\b\b\b\b\r48/48 [==============================] - 8s 163ms/step - total_loss: 0.3128 - illumination_smoothness_loss: 0.0015 - spatial_constancy_loss: 6.6006e-04 - color_constancy: 7.7861e-04 - exposure_control_loss: 0.2813 - val_total_loss: 0.2982 - val_illumination_smoothness_loss: 6.7443e-04 - val_spatial_constancy_loss: 6.4848e-04 - val_color_constancy: 1.3100e-04 - val_exposure_control_loss: 0.2840\n",
            "Epoch 7/100\n",
            "48/48 [==============================] - ETA: 0s - total_loss: 0.3041 - illumination_smoothness_loss: 0.0013 - spatial_constancy_loss: 9.8387e-04 - color_constancy: 8.5626e-04 - exposure_control_loss: 0.2772"
          ]
        },
        {
          "output_type": "stream",
          "name": "stderr",
          "text": [
            "WARNING:tensorflow:Compiled the loaded model, but the compiled metrics have yet to be built. `model.compile_metrics` will be empty until you train or evaluate the model.\n",
            "\u001b[34m\u001b[1mwandb\u001b[0m: Adding directory to artifact (./checkpoint)... Done. 0.0s\n"
          ]
        },
        {
          "output_type": "stream",
          "name": "stdout",
          "text": [
            "\b\b\b\b\b\b\b\b\b\b\b\b\b\b\b\b\b\b\b\b\b\b\b\b\b\b\b\b\b\b\b\b\b\b\b\b\b\b\b\b\b\b\b\b\b\b\b\b\b\b\b\b\b\b\b\b\b\b\b\b\b\b\b\b\b\b\b\b\b\b\b\b\b\b\b\b\b\b\b\b\b\b\b\b\b\b\b\b\b\b\b\b\b\b\b\b\b\b\b\b\b\b\b\b\b\b\b\b\b\b\b\b\b\b\b\b\b\b\b\b\b\b\b\b\b\b\b\b\b\b\b\b\b\b\b\b\b\b\b\b\b\b\b\b\b\b\b\b\b\b\b\b\b\b\b\b\b\b\b\b\b\b\b\b\b\b\b\b\b\b\b\b\b\b\b\b\b\b\b\b\b\b\b\b\b\b\b\b\b\b\b\b\b\b\b\b\b\b\b\b\b\b\b\b\b\b\b\r48/48 [==============================] - 9s 183ms/step - total_loss: 0.3044 - illumination_smoothness_loss: 0.0013 - spatial_constancy_loss: 9.7320e-04 - color_constancy: 8.4496e-04 - exposure_control_loss: 0.2777 - val_total_loss: 0.2931 - val_illumination_smoothness_loss: 5.8007e-04 - val_spatial_constancy_loss: 9.4797e-04 - val_color_constancy: 1.4875e-04 - val_exposure_control_loss: 0.2805\n",
            "Epoch 8/100\n",
            "48/48 [==============================] - ETA: 0s - total_loss: 0.2973 - illumination_smoothness_loss: 0.0011 - spatial_constancy_loss: 0.0014 - color_constancy: 9.3121e-04 - exposure_control_loss: 0.2736"
          ]
        },
        {
          "output_type": "stream",
          "name": "stderr",
          "text": [
            "WARNING:tensorflow:Compiled the loaded model, but the compiled metrics have yet to be built. `model.compile_metrics` will be empty until you train or evaluate the model.\n",
            "\u001b[34m\u001b[1mwandb\u001b[0m: Adding directory to artifact (./checkpoint)... Done. 0.0s\n"
          ]
        },
        {
          "output_type": "stream",
          "name": "stdout",
          "text": [
            "\b\b\b\b\b\b\b\b\b\b\b\b\b\b\b\b\b\b\b\b\b\b\b\b\b\b\b\b\b\b\b\b\b\b\b\b\b\b\b\b\b\b\b\b\b\b\b\b\b\b\b\b\b\b\b\b\b\b\b\b\b\b\b\b\b\b\b\b\b\b\b\b\b\b\b\b\b\b\b\b\b\b\b\b\b\b\b\b\b\b\b\b\b\b\b\b\b\b\b\b\b\b\b\b\b\b\b\b\b\b\b\b\b\b\b\b\b\b\b\b\b\b\b\b\b\b\b\b\b\b\b\b\b\b\b\b\b\b\b\b\b\b\b\b\b\b\b\b\b\b\b\b\b\b\b\b\b\b\b\b\b\b\b\b\b\b\b\b\b\b\b\b\b\b\b\b\b\b\b\b\b\b\b\b\b\b\b\b\b\b\b\b\b\b\b\b\b\b\b\b\b\b\b\r48/48 [==============================] - 8s 168ms/step - total_loss: 0.2977 - illumination_smoothness_loss: 0.0011 - spatial_constancy_loss: 0.0014 - color_constancy: 9.1917e-04 - exposure_control_loss: 0.2741 - val_total_loss: 0.2885 - val_illumination_smoothness_loss: 5.1505e-04 - val_spatial_constancy_loss: 0.0013 - val_color_constancy: 1.7426e-04 - val_exposure_control_loss: 0.2768\n",
            "Epoch 9/100\n",
            "48/48 [==============================] - ETA: 0s - total_loss: 0.2912 - illumination_smoothness_loss: 9.6539e-04 - spatial_constancy_loss: 0.0019 - color_constancy: 0.0010 - exposure_control_loss: 0.2695"
          ]
        },
        {
          "output_type": "stream",
          "name": "stderr",
          "text": [
            "WARNING:tensorflow:Compiled the loaded model, but the compiled metrics have yet to be built. `model.compile_metrics` will be empty until you train or evaluate the model.\n",
            "\u001b[34m\u001b[1mwandb\u001b[0m: Adding directory to artifact (./checkpoint)... Done. 0.0s\n"
          ]
        },
        {
          "output_type": "stream",
          "name": "stdout",
          "text": [
            "\b\b\b\b\b\b\b\b\b\b\b\b\b\b\b\b\b\b\b\b\b\b\b\b\b\b\b\b\b\b\b\b\b\b\b\b\b\b\b\b\b\b\b\b\b\b\b\b\b\b\b\b\b\b\b\b\b\b\b\b\b\b\b\b\b\b\b\b\b\b\b\b\b\b\b\b\b\b\b\b\b\b\b\b\b\b\b\b\b\b\b\b\b\b\b\b\b\b\b\b\b\b\b\b\b\b\b\b\b\b\b\b\b\b\b\b\b\b\b\b\b\b\b\b\b\b\b\b\b\b\b\b\b\b\b\b\b\b\b\b\b\b\b\b\b\b\b\b\b\b\b\b\b\b\b\b\b\b\b\b\b\b\b\b\b\b\b\b\b\b\b\b\b\b\b\b\b\b\b\b\b\b\b\b\b\b\b\b\b\b\b\b\b\b\b\b\b\b\b\b\b\b\b\r48/48 [==============================] - 8s 161ms/step - total_loss: 0.2916 - illumination_smoothness_loss: 9.5991e-04 - spatial_constancy_loss: 0.0019 - color_constancy: 0.0010 - exposure_control_loss: 0.2700 - val_total_loss: 0.2837 - val_illumination_smoothness_loss: 4.7545e-04 - val_spatial_constancy_loss: 0.0019 - val_color_constancy: 2.0755e-04 - val_exposure_control_loss: 0.2722\n",
            "Epoch 10/100\n",
            "48/48 [==============================] - ETA: 0s - total_loss: 0.2846 - illumination_smoothness_loss: 8.7814e-04 - spatial_constancy_loss: 0.0028 - color_constancy: 0.0012 - exposure_control_loss: 0.2637"
          ]
        },
        {
          "output_type": "stream",
          "name": "stderr",
          "text": [
            "WARNING:tensorflow:Compiled the loaded model, but the compiled metrics have yet to be built. `model.compile_metrics` will be empty until you train or evaluate the model.\n",
            "\u001b[34m\u001b[1mwandb\u001b[0m: Adding directory to artifact (./checkpoint)... Done. 0.0s\n"
          ]
        },
        {
          "output_type": "stream",
          "name": "stdout",
          "text": [
            "\b\b\b\b\b\b\b\b\b\b\b\b\b\b\b\b\b\b\b\b\b\b\b\b\b\b\b\b\b\b\b\b\b\b\b\b\b\b\b\b\b\b\b\b\b\b\b\b\b\b\b\b\b\b\b\b\b\b\b\b\b\b\b\b\b\b\b\b\b\b\b\b\b\b\b\b\b\b\b\b\b\b\b\b\b\b\b\b\b\b\b\b\b\b\b\b\b\b\b\b\b\b\b\b\b\b\b\b\b\b\b\b\b\b\b\b\b\b\b\b\b\b\b\b\b\b\b\b\b\b\b\b\b\b\b\b\b\b\b\b\b\b\b\b\b\b\b\b\b\b\b\b\b\b\b\b\b\b\b\b\b\b\b\b\b\b\b\b\b\b\b\b\b\b\b\b\b\b\b\b\b\b\b\b\b\b\b\b\b\b\b\b\b\b\b\b\b\b\b\b\b\b\b\r48/48 [==============================] - 8s 169ms/step - total_loss: 0.2850 - illumination_smoothness_loss: 8.7359e-04 - spatial_constancy_loss: 0.0027 - color_constancy: 0.0011 - exposure_control_loss: 0.2642 - val_total_loss: 0.2770 - val_illumination_smoothness_loss: 4.5519e-04 - val_spatial_constancy_loss: 0.0031 - val_color_constancy: 2.7474e-04 - val_exposure_control_loss: 0.2647\n",
            "Epoch 11/100\n",
            "48/48 [==============================] - ETA: 0s - total_loss: 0.2732 - illumination_smoothness_loss: 8.4519e-04 - spatial_constancy_loss: 0.0057 - color_constancy: 0.0015 - exposure_control_loss: 0.2498"
          ]
        },
        {
          "output_type": "stream",
          "name": "stderr",
          "text": [
            "WARNING:tensorflow:Compiled the loaded model, but the compiled metrics have yet to be built. `model.compile_metrics` will be empty until you train or evaluate the model.\n",
            "\u001b[34m\u001b[1mwandb\u001b[0m: Adding directory to artifact (./checkpoint)... Done. 0.0s\n"
          ]
        },
        {
          "output_type": "stream",
          "name": "stdout",
          "text": [
            "\b\b\b\b\b\b\b\b\b\b\b\b\b\b\b\b\b\b\b\b\b\b\b\b\b\b\b\b\b\b\b\b\b\b\b\b\b\b\b\b\b\b\b\b\b\b\b\b\b\b\b\b\b\b\b\b\b\b\b\b\b\b\b\b\b\b\b\b\b\b\b\b\b\b\b\b\b\b\b\b\b\b\b\b\b\b\b\b\b\b\b\b\b\b\b\b\b\b\b\b\b\b\b\b\b\b\b\b\b\b\b\b\b\b\b\b\b\b\b\b\b\b\b\b\b\b\b\b\b\b\b\b\b\b\b\b\b\b\b\b\b\b\b\b\b\b\b\b\b\b\b\b\b\b\b\b\b\b\b\b\b\b\b\b\b\b\b\b\b\b\b\b\b\b\b\b\b\b\b\b\b\b\b\b\b\b\b\b\b\b\b\b\b\b\b\b\b\b\b\b\b\b\b\r48/48 [==============================] - 9s 183ms/step - total_loss: 0.2735 - illumination_smoothness_loss: 8.4182e-04 - spatial_constancy_loss: 0.0057 - color_constancy: 0.0015 - exposure_control_loss: 0.2502 - val_total_loss: 0.2593 - val_illumination_smoothness_loss: 5.0884e-04 - val_spatial_constancy_loss: 0.0097 - val_color_constancy: 6.0684e-04 - val_exposure_control_loss: 0.2391\n",
            "Epoch 12/100\n",
            "48/48 [==============================] - ETA: 0s - total_loss: 0.2464 - illumination_smoothness_loss: 8.7117e-04 - spatial_constancy_loss: 0.0274 - color_constancy: 0.0033 - exposure_control_loss: 0.1999"
          ]
        },
        {
          "output_type": "stream",
          "name": "stderr",
          "text": [
            "WARNING:tensorflow:Compiled the loaded model, but the compiled metrics have yet to be built. `model.compile_metrics` will be empty until you train or evaluate the model.\n",
            "\u001b[34m\u001b[1mwandb\u001b[0m: Adding directory to artifact (./checkpoint)... Done. 0.0s\n"
          ]
        },
        {
          "output_type": "stream",
          "name": "stdout",
          "text": [
            "\b\b\b\b\b\b\b\b\b\b\b\b\b\b\b\b\b\b\b\b\b\b\b\b\b\b\b\b\b\b\b\b\b\b\b\b\b\b\b\b\b\b\b\b\b\b\b\b\b\b\b\b\b\b\b\b\b\b\b\b\b\b\b\b\b\b\b\b\b\b\b\b\b\b\b\b\b\b\b\b\b\b\b\b\b\b\b\b\b\b\b\b\b\b\b\b\b\b\b\b\b\b\b\b\b\b\b\b\b\b\b\b\b\b\b\b\b\b\b\b\b\b\b\b\b\b\b\b\b\b\b\b\b\b\b\b\b\b\b\b\b\b\b\b\b\b\b\b\b\b\b\b\b\b\b\b\b\b\b\b\b\b\b\b\b\b\b\b\b\b\b\b\b\b\b\b\b\b\b\b\b\b\b\b\b\b\b\b\b\b\b\b\b\b\b\b\b\b\b\b\b\b\b\r48/48 [==============================] - 8s 164ms/step - total_loss: 0.2465 - illumination_smoothness_loss: 8.6629e-04 - spatial_constancy_loss: 0.0274 - color_constancy: 0.0033 - exposure_control_loss: 0.2001 - val_total_loss: 0.2339 - val_illumination_smoothness_loss: 4.3990e-04 - val_spatial_constancy_loss: 0.0430 - val_color_constancy: 0.0014 - val_exposure_control_loss: 0.1813\n",
            "Epoch 13/100\n",
            "48/48 [==============================] - ETA: 0s - total_loss: 0.2348 - illumination_smoothness_loss: 7.5011e-04 - spatial_constancy_loss: 0.0451 - color_constancy: 0.0048 - exposure_control_loss: 0.1723"
          ]
        },
        {
          "output_type": "stream",
          "name": "stderr",
          "text": [
            "WARNING:tensorflow:Compiled the loaded model, but the compiled metrics have yet to be built. `model.compile_metrics` will be empty until you train or evaluate the model.\n",
            "\u001b[34m\u001b[1mwandb\u001b[0m: Adding directory to artifact (./checkpoint)... Done. 0.0s\n"
          ]
        },
        {
          "output_type": "stream",
          "name": "stdout",
          "text": [
            "\b\b\b\b\b\b\b\b\b\b\b\b\b\b\b\b\b\b\b\b\b\b\b\b\b\b\b\b\b\b\b\b\b\b\b\b\b\b\b\b\b\b\b\b\b\b\b\b\b\b\b\b\b\b\b\b\b\b\b\b\b\b\b\b\b\b\b\b\b\b\b\b\b\b\b\b\b\b\b\b\b\b\b\b\b\b\b\b\b\b\b\b\b\b\b\b\b\b\b\b\b\b\b\b\b\b\b\b\b\b\b\b\b\b\b\b\b\b\b\b\b\b\b\b\b\b\b\b\b\b\b\b\b\b\b\b\b\b\b\b\b\b\b\b\b\b\b\b\b\b\b\b\b\b\b\b\b\b\b\b\b\b\b\b\b\b\b\b\b\b\b\b\b\b\b\b\b\b\b\b\b\b\b\b\b\b\b\b\b\b\b\b\b\b\b\b\b\b\b\b\b\b\b\r48/48 [==============================] - 8s 169ms/step - total_loss: 0.2351 - illumination_smoothness_loss: 7.4410e-04 - spatial_constancy_loss: 0.0448 - color_constancy: 0.0047 - exposure_control_loss: 0.1731 - val_total_loss: 0.2312 - val_illumination_smoothness_loss: 3.5464e-04 - val_spatial_constancy_loss: 0.0447 - val_color_constancy: 0.0010 - val_exposure_control_loss: 0.1789\n",
            "Epoch 14/100\n",
            "48/48 [==============================] - ETA: 0s - total_loss: 0.2321 - illumination_smoothness_loss: 6.2881e-04 - spatial_constancy_loss: 0.0471 - color_constancy: 0.0046 - exposure_control_loss: 0.1702"
          ]
        },
        {
          "output_type": "stream",
          "name": "stderr",
          "text": [
            "WARNING:tensorflow:Compiled the loaded model, but the compiled metrics have yet to be built. `model.compile_metrics` will be empty until you train or evaluate the model.\n",
            "\u001b[34m\u001b[1mwandb\u001b[0m: Adding directory to artifact (./checkpoint)... Done. 0.0s\n"
          ]
        },
        {
          "output_type": "stream",
          "name": "stdout",
          "text": [
            "\b\b\b\b\b\b\b\b\b\b\b\b\b\b\b\b\b\b\b\b\b\b\b\b\b\b\b\b\b\b\b\b\b\b\b\b\b\b\b\b\b\b\b\b\b\b\b\b\b\b\b\b\b\b\b\b\b\b\b\b\b\b\b\b\b\b\b\b\b\b\b\b\b\b\b\b\b\b\b\b\b\b\b\b\b\b\b\b\b\b\b\b\b\b\b\b\b\b\b\b\b\b\b\b\b\b\b\b\b\b\b\b\b\b\b\b\b\b\b\b\b\b\b\b\b\b\b\b\b\b\b\b\b\b\b\b\b\b\b\b\b\b\b\b\b\b\b\b\b\b\b\b\b\b\b\b\b\b\b\b\b\b\b\b\b\b\b\b\b\b\b\b\b\b\b\b\b\b\b\b\b\b\b\b\b\b\b\b\b\b\b\b\b\b\b\b\b\b\b\b\b\b\b\r48/48 [==============================] - 8s 175ms/step - total_loss: 0.2324 - illumination_smoothness_loss: 6.2474e-04 - spatial_constancy_loss: 0.0467 - color_constancy: 0.0046 - exposure_control_loss: 0.1709 - val_total_loss: 0.2304 - val_illumination_smoothness_loss: 3.4796e-04 - val_spatial_constancy_loss: 0.0458 - val_color_constancy: 9.7307e-04 - val_exposure_control_loss: 0.1771\n",
            "Epoch 15/100\n",
            "48/48 [==============================] - ETA: 0s - total_loss: 0.2305 - illumination_smoothness_loss: 5.5409e-04 - spatial_constancy_loss: 0.0478 - color_constancy: 0.0046 - exposure_control_loss: 0.1693"
          ]
        },
        {
          "output_type": "stream",
          "name": "stderr",
          "text": [
            "WARNING:tensorflow:Compiled the loaded model, but the compiled metrics have yet to be built. `model.compile_metrics` will be empty until you train or evaluate the model.\n",
            "\u001b[34m\u001b[1mwandb\u001b[0m: Adding directory to artifact (./checkpoint)... Done. 0.0s\n"
          ]
        },
        {
          "output_type": "stream",
          "name": "stdout",
          "text": [
            "\b\b\b\b\b\b\b\b\b\b\b\b\b\b\b\b\b\b\b\b\b\b\b\b\b\b\b\b\b\b\b\b\b\b\b\b\b\b\b\b\b\b\b\b\b\b\b\b\b\b\b\b\b\b\b\b\b\b\b\b\b\b\b\b\b\b\b\b\b\b\b\b\b\b\b\b\b\b\b\b\b\b\b\b\b\b\b\b\b\b\b\b\b\b\b\b\b\b\b\b\b\b\b\b\b\b\b\b\b\b\b\b\b\b\b\b\b\b\b\b\b\b\b\b\b\b\b\b\b\b\b\b\b\b\b\b\b\b\b\b\b\b\b\b\b\b\b\b\b\b\b\b\b\b\b\b\b\b\b\b\b\b\b\b\b\b\b\b\b\b\b\b\b\b\b\b\b\b\b\b\b\b\b\b\b\b\b\b\b\b\b\b\b\b\b\b\b\b\b\b\b\b\b\r48/48 [==============================] - 8s 161ms/step - total_loss: 0.2308 - illumination_smoothness_loss: 5.5032e-04 - spatial_constancy_loss: 0.0474 - color_constancy: 0.0045 - exposure_control_loss: 0.1701 - val_total_loss: 0.2295 - val_illumination_smoothness_loss: 3.0515e-04 - val_spatial_constancy_loss: 0.0459 - val_color_constancy: 9.6210e-04 - val_exposure_control_loss: 0.1771\n",
            "Epoch 16/100\n",
            "48/48 [==============================] - ETA: 0s - total_loss: 0.2293 - illumination_smoothness_loss: 4.9964e-04 - spatial_constancy_loss: 0.0479 - color_constancy: 0.0046 - exposure_control_loss: 0.1692"
          ]
        },
        {
          "output_type": "stream",
          "name": "stderr",
          "text": [
            "WARNING:tensorflow:Compiled the loaded model, but the compiled metrics have yet to be built. `model.compile_metrics` will be empty until you train or evaluate the model.\n",
            "\u001b[34m\u001b[1mwandb\u001b[0m: Adding directory to artifact (./checkpoint)... Done. 0.0s\n"
          ]
        },
        {
          "output_type": "stream",
          "name": "stdout",
          "text": [
            "\b\b\b\b\b\b\b\b\b\b\b\b\b\b\b\b\b\b\b\b\b\b\b\b\b\b\b\b\b\b\b\b\b\b\b\b\b\b\b\b\b\b\b\b\b\b\b\b\b\b\b\b\b\b\b\b\b\b\b\b\b\b\b\b\b\b\b\b\b\b\b\b\b\b\b\b\b\b\b\b\b\b\b\b\b\b\b\b\b\b\b\b\b\b\b\b\b\b\b\b\b\b\b\b\b\b\b\b\b\b\b\b\b\b\b\b\b\b\b\b\b\b\b\b\b\b\b\b\b\b\b\b\b\b\b\b\b\b\b\b\b\b\b\b\b\b\b\b\b\b\b\b\b\b\b\b\b\b\b\b\b\b\b\b\b\b\b\b\b\b\b\b\b\b\b\b\b\b\b\b\b\b\b\b\b\b\b\b\b\b\b\b\b\b\b\b\b\b\b\b\b\b\b\r48/48 [==============================] - 8s 162ms/step - total_loss: 0.2296 - illumination_smoothness_loss: 4.9612e-04 - spatial_constancy_loss: 0.0475 - color_constancy: 0.0045 - exposure_control_loss: 0.1700 - val_total_loss: 0.2290 - val_illumination_smoothness_loss: 2.7137e-04 - val_spatial_constancy_loss: 0.0460 - val_color_constancy: 9.5967e-04 - val_exposure_control_loss: 0.1771\n",
            "Epoch 17/100\n",
            "48/48 [==============================] - ETA: 0s - total_loss: 0.2284 - illumination_smoothness_loss: 4.5789e-04 - spatial_constancy_loss: 0.0481 - color_constancy: 0.0046 - exposure_control_loss: 0.1689"
          ]
        },
        {
          "output_type": "stream",
          "name": "stderr",
          "text": [
            "WARNING:tensorflow:Compiled the loaded model, but the compiled metrics have yet to be built. `model.compile_metrics` will be empty until you train or evaluate the model.\n",
            "\u001b[34m\u001b[1mwandb\u001b[0m: Adding directory to artifact (./checkpoint)... Done. 0.0s\n"
          ]
        },
        {
          "output_type": "stream",
          "name": "stdout",
          "text": [
            "\b\b\b\b\b\b\b\b\b\b\b\b\b\b\b\b\b\b\b\b\b\b\b\b\b\b\b\b\b\b\b\b\b\b\b\b\b\b\b\b\b\b\b\b\b\b\b\b\b\b\b\b\b\b\b\b\b\b\b\b\b\b\b\b\b\b\b\b\b\b\b\b\b\b\b\b\b\b\b\b\b\b\b\b\b\b\b\b\b\b\b\b\b\b\b\b\b\b\b\b\b\b\b\b\b\b\b\b\b\b\b\b\b\b\b\b\b\b\b\b\b\b\b\b\b\b\b\b\b\b\b\b\b\b\b\b\b\b\b\b\b\b\b\b\b\b\b\b\b\b\b\b\b\b\b\b\b\b\b\b\b\b\b\b\b\b\b\b\b\b\b\b\b\b\b\b\b\b\b\b\b\b\b\b\b\b\b\b\b\b\b\b\b\b\b\b\b\b\b\b\b\b\b\r48/48 [==============================] - 9s 178ms/step - total_loss: 0.2287 - illumination_smoothness_loss: 4.5453e-04 - spatial_constancy_loss: 0.0477 - color_constancy: 0.0045 - exposure_control_loss: 0.1697 - val_total_loss: 0.2285 - val_illumination_smoothness_loss: 2.4417e-04 - val_spatial_constancy_loss: 0.0462 - val_color_constancy: 9.5471e-04 - val_exposure_control_loss: 0.1770\n",
            "Epoch 18/100\n",
            "48/48 [==============================] - ETA: 0s - total_loss: 0.2277 - illumination_smoothness_loss: 4.2117e-04 - spatial_constancy_loss: 0.0482 - color_constancy: 0.0045 - exposure_control_loss: 0.1688"
          ]
        },
        {
          "output_type": "stream",
          "name": "stderr",
          "text": [
            "WARNING:tensorflow:Compiled the loaded model, but the compiled metrics have yet to be built. `model.compile_metrics` will be empty until you train or evaluate the model.\n",
            "\u001b[34m\u001b[1mwandb\u001b[0m: Adding directory to artifact (./checkpoint)... Done. 0.0s\n"
          ]
        },
        {
          "output_type": "stream",
          "name": "stdout",
          "text": [
            "\b\b\b\b\b\b\b\b\b\b\b\b\b\b\b\b\b\b\b\b\b\b\b\b\b\b\b\b\b\b\b\b\b\b\b\b\b\b\b\b\b\b\b\b\b\b\b\b\b\b\b\b\b\b\b\b\b\b\b\b\b\b\b\b\b\b\b\b\b\b\b\b\b\b\b\b\b\b\b\b\b\b\b\b\b\b\b\b\b\b\b\b\b\b\b\b\b\b\b\b\b\b\b\b\b\b\b\b\b\b\b\b\b\b\b\b\b\b\b\b\b\b\b\b\b\b\b\b\b\b\b\b\b\b\b\b\b\b\b\b\b\b\b\b\b\b\b\b\b\b\b\b\b\b\b\b\b\b\b\b\b\b\b\b\b\b\b\b\b\b\b\b\b\b\b\b\b\b\b\b\b\b\b\b\b\b\b\b\b\b\b\b\b\b\b\b\b\b\b\b\b\b\b\r48/48 [==============================] - 9s 177ms/step - total_loss: 0.2280 - illumination_smoothness_loss: 4.1801e-04 - spatial_constancy_loss: 0.0478 - color_constancy: 0.0045 - exposure_control_loss: 0.1696 - val_total_loss: 0.2282 - val_illumination_smoothness_loss: 2.2173e-04 - val_spatial_constancy_loss: 0.0462 - val_color_constancy: 9.5086e-04 - val_exposure_control_loss: 0.1771\n",
            "Epoch 19/100\n",
            "48/48 [==============================] - ETA: 0s - total_loss: 0.2271 - illumination_smoothness_loss: 3.9026e-04 - spatial_constancy_loss: 0.0483 - color_constancy: 0.0045 - exposure_control_loss: 0.1688"
          ]
        },
        {
          "output_type": "stream",
          "name": "stderr",
          "text": [
            "WARNING:tensorflow:Compiled the loaded model, but the compiled metrics have yet to be built. `model.compile_metrics` will be empty until you train or evaluate the model.\n",
            "\u001b[34m\u001b[1mwandb\u001b[0m: Adding directory to artifact (./checkpoint)... Done. 0.0s\n"
          ]
        },
        {
          "output_type": "stream",
          "name": "stdout",
          "text": [
            "\b\b\b\b\b\b\b\b\b\b\b\b\b\b\b\b\b\b\b\b\b\b\b\b\b\b\b\b\b\b\b\b\b\b\b\b\b\b\b\b\b\b\b\b\b\b\b\b\b\b\b\b\b\b\b\b\b\b\b\b\b\b\b\b\b\b\b\b\b\b\b\b\b\b\b\b\b\b\b\b\b\b\b\b\b\b\b\b\b\b\b\b\b\b\b\b\b\b\b\b\b\b\b\b\b\b\b\b\b\b\b\b\b\b\b\b\b\b\b\b\b\b\b\b\b\b\b\b\b\b\b\b\b\b\b\b\b\b\b\b\b\b\b\b\b\b\b\b\b\b\b\b\b\b\b\b\b\b\b\b\b\b\b\b\b\b\b\b\b\b\b\b\b\b\b\b\b\b\b\b\b\b\b\b\b\b\b\b\b\b\b\b\b\b\b\b\b\b\b\b\b\b\b\r48/48 [==============================] - 10s 205ms/step - total_loss: 0.2274 - illumination_smoothness_loss: 3.8724e-04 - spatial_constancy_loss: 0.0478 - color_constancy: 0.0045 - exposure_control_loss: 0.1696 - val_total_loss: 0.2278 - val_illumination_smoothness_loss: 2.0247e-04 - val_spatial_constancy_loss: 0.0460 - val_color_constancy: 9.5145e-04 - val_exposure_control_loss: 0.1773\n",
            "Epoch 20/100\n",
            "48/48 [==============================] - ETA: 0s - total_loss: 0.2266 - illumination_smoothness_loss: 3.6181e-04 - spatial_constancy_loss: 0.0484 - color_constancy: 0.0045 - exposure_control_loss: 0.1687"
          ]
        },
        {
          "output_type": "stream",
          "name": "stderr",
          "text": [
            "WARNING:tensorflow:Compiled the loaded model, but the compiled metrics have yet to be built. `model.compile_metrics` will be empty until you train or evaluate the model.\n",
            "\u001b[34m\u001b[1mwandb\u001b[0m: Adding directory to artifact (./checkpoint)... Done. 0.0s\n"
          ]
        },
        {
          "output_type": "stream",
          "name": "stdout",
          "text": [
            "\b\b\b\b\b\b\b\b\b\b\b\b\b\b\b\b\b\b\b\b\b\b\b\b\b\b\b\b\b\b\b\b\b\b\b\b\b\b\b\b\b\b\b\b\b\b\b\b\b\b\b\b\b\b\b\b\b\b\b\b\b\b\b\b\b\b\b\b\b\b\b\b\b\b\b\b\b\b\b\b\b\b\b\b\b\b\b\b\b\b\b\b\b\b\b\b\b\b\b\b\b\b\b\b\b\b\b\b\b\b\b\b\b\b\b\b\b\b\b\b\b\b\b\b\b\b\b\b\b\b\b\b\b\b\b\b\b\b\b\b\b\b\b\b\b\b\b\b\b\b\b\b\b\b\b\b\b\b\b\b\b\b\b\b\b\b\b\b\b\b\b\b\b\b\b\b\b\b\b\b\b\b\b\b\b\b\b\b\b\b\b\b\b\b\b\b\b\b\b\b\b\b\b\r48/48 [==============================] - 8s 167ms/step - total_loss: 0.2269 - illumination_smoothness_loss: 3.5907e-04 - spatial_constancy_loss: 0.0480 - color_constancy: 0.0045 - exposure_control_loss: 0.1695 - val_total_loss: 0.2276 - val_illumination_smoothness_loss: 1.9001e-04 - val_spatial_constancy_loss: 0.0461 - val_color_constancy: 9.5563e-04 - val_exposure_control_loss: 0.1773\n",
            "Epoch 21/100\n",
            "48/48 [==============================] - ETA: 0s - total_loss: 0.2261 - illumination_smoothness_loss: 3.3737e-04 - spatial_constancy_loss: 0.0484 - color_constancy: 0.0045 - exposure_control_loss: 0.1687"
          ]
        },
        {
          "output_type": "stream",
          "name": "stderr",
          "text": [
            "WARNING:tensorflow:Compiled the loaded model, but the compiled metrics have yet to be built. `model.compile_metrics` will be empty until you train or evaluate the model.\n",
            "\u001b[34m\u001b[1mwandb\u001b[0m: Adding directory to artifact (./checkpoint)... Done. 0.0s\n"
          ]
        },
        {
          "output_type": "stream",
          "name": "stdout",
          "text": [
            "\b\b\b\b\b\b\b\b\b\b\b\b\b\b\b\b\b\b\b\b\b\b\b\b\b\b\b\b\b\b\b\b\b\b\b\b\b\b\b\b\b\b\b\b\b\b\b\b\b\b\b\b\b\b\b\b\b\b\b\b\b\b\b\b\b\b\b\b\b\b\b\b\b\b\b\b\b\b\b\b\b\b\b\b\b\b\b\b\b\b\b\b\b\b\b\b\b\b\b\b\b\b\b\b\b\b\b\b\b\b\b\b\b\b\b\b\b\b\b\b\b\b\b\b\b\b\b\b\b\b\b\b\b\b\b\b\b\b\b\b\b\b\b\b\b\b\b\b\b\b\b\b\b\b\b\b\b\b\b\b\b\b\b\b\b\b\b\b\b\b\b\b\b\b\b\b\b\b\b\b\b\b\b\b\b\b\b\b\b\b\b\b\b\b\b\b\b\b\b\b\b\b\b\r48/48 [==============================] - 8s 168ms/step - total_loss: 0.2265 - illumination_smoothness_loss: 3.3493e-04 - spatial_constancy_loss: 0.0480 - color_constancy: 0.0045 - exposure_control_loss: 0.1695 - val_total_loss: 0.2275 - val_illumination_smoothness_loss: 1.8015e-04 - val_spatial_constancy_loss: 0.0463 - val_color_constancy: 9.6816e-04 - val_exposure_control_loss: 0.1771\n",
            "Epoch 22/100\n",
            "48/48 [==============================] - ETA: 0s - total_loss: 0.2258 - illumination_smoothness_loss: 3.1593e-04 - spatial_constancy_loss: 0.0485 - color_constancy: 0.0045 - exposure_control_loss: 0.1687"
          ]
        },
        {
          "output_type": "stream",
          "name": "stderr",
          "text": [
            "WARNING:tensorflow:Compiled the loaded model, but the compiled metrics have yet to be built. `model.compile_metrics` will be empty until you train or evaluate the model.\n",
            "\u001b[34m\u001b[1mwandb\u001b[0m: Adding directory to artifact (./checkpoint)... Done. 0.0s\n"
          ]
        },
        {
          "output_type": "stream",
          "name": "stdout",
          "text": [
            "\b\b\b\b\b\b\b\b\b\b\b\b\b\b\b\b\b\b\b\b\b\b\b\b\b\b\b\b\b\b\b\b\b\b\b\b\b\b\b\b\b\b\b\b\b\b\b\b\b\b\b\b\b\b\b\b\b\b\b\b\b\b\b\b\b\b\b\b\b\b\b\b\b\b\b\b\b\b\b\b\b\b\b\b\b\b\b\b\b\b\b\b\b\b\b\b\b\b\b\b\b\b\b\b\b\b\b\b\b\b\b\b\b\b\b\b\b\b\b\b\b\b\b\b\b\b\b\b\b\b\b\b\b\b\b\b\b\b\b\b\b\b\b\b\b\b\b\b\b\b\b\b\b\b\b\b\b\b\b\b\b\b\b\b\b\b\b\b\b\b\b\b\b\b\b\b\b\b\b\b\b\b\b\b\b\b\b\b\b\b\b\b\b\b\b\b\b\b\b\b\b\b\b\r48/48 [==============================] - 8s 173ms/step - total_loss: 0.2261 - illumination_smoothness_loss: 3.1365e-04 - spatial_constancy_loss: 0.0481 - color_constancy: 0.0045 - exposure_control_loss: 0.1695 - val_total_loss: 0.2274 - val_illumination_smoothness_loss: 1.7055e-04 - val_spatial_constancy_loss: 0.0464 - val_color_constancy: 9.6539e-04 - val_exposure_control_loss: 0.1771\n",
            "Epoch 23/100\n",
            "48/48 [==============================] - ETA: 0s - total_loss: 0.2254 - illumination_smoothness_loss: 2.9736e-04 - spatial_constancy_loss: 0.0486 - color_constancy: 0.0045 - exposure_control_loss: 0.1686"
          ]
        },
        {
          "output_type": "stream",
          "name": "stderr",
          "text": [
            "WARNING:tensorflow:Compiled the loaded model, but the compiled metrics have yet to be built. `model.compile_metrics` will be empty until you train or evaluate the model.\n",
            "\u001b[34m\u001b[1mwandb\u001b[0m: Adding directory to artifact (./checkpoint)... Done. 0.0s\n"
          ]
        },
        {
          "output_type": "stream",
          "name": "stdout",
          "text": [
            "\b\b\b\b\b\b\b\b\b\b\b\b\b\b\b\b\b\b\b\b\b\b\b\b\b\b\b\b\b\b\b\b\b\b\b\b\b\b\b\b\b\b\b\b\b\b\b\b\b\b\b\b\b\b\b\b\b\b\b\b\b\b\b\b\b\b\b\b\b\b\b\b\b\b\b\b\b\b\b\b\b\b\b\b\b\b\b\b\b\b\b\b\b\b\b\b\b\b\b\b\b\b\b\b\b\b\b\b\b\b\b\b\b\b\b\b\b\b\b\b\b\b\b\b\b\b\b\b\b\b\b\b\b\b\b\b\b\b\b\b\b\b\b\b\b\b\b\b\b\b\b\b\b\b\b\b\b\b\b\b\b\b\b\b\b\b\b\b\b\b\b\b\b\b\b\b\b\b\b\b\b\b\b\b\b\b\b\b\b\b\b\b\b\b\b\b\b\b\b\b\b\b\b\r48/48 [==============================] - 8s 166ms/step - total_loss: 0.2257 - illumination_smoothness_loss: 2.9525e-04 - spatial_constancy_loss: 0.0482 - color_constancy: 0.0045 - exposure_control_loss: 0.1694 - val_total_loss: 0.2272 - val_illumination_smoothness_loss: 1.6024e-04 - val_spatial_constancy_loss: 0.0466 - val_color_constancy: 9.6808e-04 - val_exposure_control_loss: 0.1770\n",
            "Epoch 24/100\n",
            "48/48 [==============================] - ETA: 0s - total_loss: 0.2251 - illumination_smoothness_loss: 2.8081e-04 - spatial_constancy_loss: 0.0486 - color_constancy: 0.0045 - exposure_control_loss: 0.1686"
          ]
        },
        {
          "output_type": "stream",
          "name": "stderr",
          "text": [
            "WARNING:tensorflow:Compiled the loaded model, but the compiled metrics have yet to be built. `model.compile_metrics` will be empty until you train or evaluate the model.\n",
            "\u001b[34m\u001b[1mwandb\u001b[0m: Adding directory to artifact (./checkpoint)... Done. 0.0s\n"
          ]
        },
        {
          "output_type": "stream",
          "name": "stdout",
          "text": [
            "\b\b\b\b\b\b\b\b\b\b\b\b\b\b\b\b\b\b\b\b\b\b\b\b\b\b\b\b\b\b\b\b\b\b\b\b\b\b\b\b\b\b\b\b\b\b\b\b\b\b\b\b\b\b\b\b\b\b\b\b\b\b\b\b\b\b\b\b\b\b\b\b\b\b\b\b\b\b\b\b\b\b\b\b\b\b\b\b\b\b\b\b\b\b\b\b\b\b\b\b\b\b\b\b\b\b\b\b\b\b\b\b\b\b\b\b\b\b\b\b\b\b\b\b\b\b\b\b\b\b\b\b\b\b\b\b\b\b\b\b\b\b\b\b\b\b\b\b\b\b\b\b\b\b\b\b\b\b\b\b\b\b\b\b\b\b\b\b\b\b\b\b\b\b\b\b\b\b\b\b\b\b\b\b\b\b\b\b\b\b\b\b\b\b\b\b\b\b\b\b\b\b\b\r48/48 [==============================] - 9s 184ms/step - total_loss: 0.2254 - illumination_smoothness_loss: 2.7888e-04 - spatial_constancy_loss: 0.0482 - color_constancy: 0.0045 - exposure_control_loss: 0.1694 - val_total_loss: 0.2272 - val_illumination_smoothness_loss: 1.5362e-04 - val_spatial_constancy_loss: 0.0467 - val_color_constancy: 9.7172e-04 - val_exposure_control_loss: 0.1768\n",
            "Epoch 25/100\n",
            "48/48 [==============================] - ETA: 0s - total_loss: 0.2249 - illumination_smoothness_loss: 2.6592e-04 - spatial_constancy_loss: 0.0487 - color_constancy: 0.0045 - exposure_control_loss: 0.1686"
          ]
        },
        {
          "output_type": "stream",
          "name": "stderr",
          "text": [
            "WARNING:tensorflow:Compiled the loaded model, but the compiled metrics have yet to be built. `model.compile_metrics` will be empty until you train or evaluate the model.\n",
            "\u001b[34m\u001b[1mwandb\u001b[0m: Adding directory to artifact (./checkpoint)... Done. 0.0s\n"
          ]
        },
        {
          "output_type": "stream",
          "name": "stdout",
          "text": [
            "\b\b\b\b\b\b\b\b\b\b\b\b\b\b\b\b\b\b\b\b\b\b\b\b\b\b\b\b\b\b\b\b\b\b\b\b\b\b\b\b\b\b\b\b\b\b\b\b\b\b\b\b\b\b\b\b\b\b\b\b\b\b\b\b\b\b\b\b\b\b\b\b\b\b\b\b\b\b\b\b\b\b\b\b\b\b\b\b\b\b\b\b\b\b\b\b\b\b\b\b\b\b\b\b\b\b\b\b\b\b\b\b\b\b\b\b\b\b\b\b\b\b\b\b\b\b\b\b\b\b\b\b\b\b\b\b\b\b\b\b\b\b\b\b\b\b\b\b\b\b\b\b\b\b\b\b\b\b\b\b\b\b\b\b\b\b\b\b\b\b\b\b\b\b\b\b\b\b\b\b\b\b\b\b\b\b\b\b\b\b\b\b\b\b\b\b\b\b\b\b\b\b\b\r48/48 [==============================] - 8s 160ms/step - total_loss: 0.2252 - illumination_smoothness_loss: 2.6412e-04 - spatial_constancy_loss: 0.0483 - color_constancy: 0.0045 - exposure_control_loss: 0.1694 - val_total_loss: 0.2271 - val_illumination_smoothness_loss: 1.4697e-04 - val_spatial_constancy_loss: 0.0468 - val_color_constancy: 9.6518e-04 - val_exposure_control_loss: 0.1768\n",
            "Epoch 26/100\n",
            "48/48 [==============================] - ETA: 0s - total_loss: 0.2246 - illumination_smoothness_loss: 2.5282e-04 - spatial_constancy_loss: 0.0487 - color_constancy: 0.0045 - exposure_control_loss: 0.1686"
          ]
        },
        {
          "output_type": "stream",
          "name": "stderr",
          "text": [
            "WARNING:tensorflow:Compiled the loaded model, but the compiled metrics have yet to be built. `model.compile_metrics` will be empty until you train or evaluate the model.\n",
            "\u001b[34m\u001b[1mwandb\u001b[0m: Adding directory to artifact (./checkpoint)... Done. 0.0s\n"
          ]
        },
        {
          "output_type": "stream",
          "name": "stdout",
          "text": [
            "\b\b\b\b\b\b\b\b\b\b\b\b\b\b\b\b\b\b\b\b\b\b\b\b\b\b\b\b\b\b\b\b\b\b\b\b\b\b\b\b\b\b\b\b\b\b\b\b\b\b\b\b\b\b\b\b\b\b\b\b\b\b\b\b\b\b\b\b\b\b\b\b\b\b\b\b\b\b\b\b\b\b\b\b\b\b\b\b\b\b\b\b\b\b\b\b\b\b\b\b\b\b\b\b\b\b\b\b\b\b\b\b\b\b\b\b\b\b\b\b\b\b\b\b\b\b\b\b\b\b\b\b\b\b\b\b\b\b\b\b\b\b\b\b\b\b\b\b\b\b\b\b\b\b\b\b\b\b\b\b\b\b\b\b\b\b\b\b\b\b\b\b\b\b\b\b\b\b\b\b\b\b\b\b\b\b\b\b\b\b\b\b\b\b\b\b\b\b\b\b\b\b\b\r48/48 [==============================] - 8s 171ms/step - total_loss: 0.2250 - illumination_smoothness_loss: 2.5122e-04 - spatial_constancy_loss: 0.0483 - color_constancy: 0.0045 - exposure_control_loss: 0.1694 - val_total_loss: 0.2270 - val_illumination_smoothness_loss: 1.4348e-04 - val_spatial_constancy_loss: 0.0471 - val_color_constancy: 9.7221e-04 - val_exposure_control_loss: 0.1766\n",
            "Epoch 27/100\n",
            "48/48 [==============================] - ETA: 0s - total_loss: 0.2244 - illumination_smoothness_loss: 2.4110e-04 - spatial_constancy_loss: 0.0488 - color_constancy: 0.0045 - exposure_control_loss: 0.1686"
          ]
        },
        {
          "output_type": "stream",
          "name": "stderr",
          "text": [
            "WARNING:tensorflow:Compiled the loaded model, but the compiled metrics have yet to be built. `model.compile_metrics` will be empty until you train or evaluate the model.\n",
            "\u001b[34m\u001b[1mwandb\u001b[0m: Adding directory to artifact (./checkpoint)... Done. 0.0s\n"
          ]
        },
        {
          "output_type": "stream",
          "name": "stdout",
          "text": [
            "\b\b\b\b\b\b\b\b\b\b\b\b\b\b\b\b\b\b\b\b\b\b\b\b\b\b\b\b\b\b\b\b\b\b\b\b\b\b\b\b\b\b\b\b\b\b\b\b\b\b\b\b\b\b\b\b\b\b\b\b\b\b\b\b\b\b\b\b\b\b\b\b\b\b\b\b\b\b\b\b\b\b\b\b\b\b\b\b\b\b\b\b\b\b\b\b\b\b\b\b\b\b\b\b\b\b\b\b\b\b\b\b\b\b\b\b\b\b\b\b\b\b\b\b\b\b\b\b\b\b\b\b\b\b\b\b\b\b\b\b\b\b\b\b\b\b\b\b\b\b\b\b\b\b\b\b\b\b\b\b\b\b\b\b\b\b\b\b\b\b\b\b\b\b\b\b\b\b\b\b\b\b\b\b\b\b\b\b\b\b\b\b\b\b\b\b\b\b\b\b\b\b\b\r48/48 [==============================] - 9s 178ms/step - total_loss: 0.2248 - illumination_smoothness_loss: 2.3960e-04 - spatial_constancy_loss: 0.0484 - color_constancy: 0.0045 - exposure_control_loss: 0.1694 - val_total_loss: 0.2270 - val_illumination_smoothness_loss: 1.4020e-04 - val_spatial_constancy_loss: 0.0471 - val_color_constancy: 9.6184e-04 - val_exposure_control_loss: 0.1766\n",
            "Epoch 28/100\n",
            "48/48 [==============================] - ETA: 0s - total_loss: 0.2242 - illumination_smoothness_loss: 2.3109e-04 - spatial_constancy_loss: 0.0488 - color_constancy: 0.0045 - exposure_control_loss: 0.1685"
          ]
        },
        {
          "output_type": "stream",
          "name": "stderr",
          "text": [
            "WARNING:tensorflow:Compiled the loaded model, but the compiled metrics have yet to be built. `model.compile_metrics` will be empty until you train or evaluate the model.\n",
            "\u001b[34m\u001b[1mwandb\u001b[0m: Adding directory to artifact (./checkpoint)... Done. 0.0s\n"
          ]
        },
        {
          "output_type": "stream",
          "name": "stdout",
          "text": [
            "\b\b\b\b\b\b\b\b\b\b\b\b\b\b\b\b\b\b\b\b\b\b\b\b\b\b\b\b\b\b\b\b\b\b\b\b\b\b\b\b\b\b\b\b\b\b\b\b\b\b\b\b\b\b\b\b\b\b\b\b\b\b\b\b\b\b\b\b\b\b\b\b\b\b\b\b\b\b\b\b\b\b\b\b\b\b\b\b\b\b\b\b\b\b\b\b\b\b\b\b\b\b\b\b\b\b\b\b\b\b\b\b\b\b\b\b\b\b\b\b\b\b\b\b\b\b\b\b\b\b\b\b\b\b\b\b\b\b\b\b\b\b\b\b\b\b\b\b\b\b\b\b\b\b\b\b\b\b\b\b\b\b\b\b\b\b\b\b\b\b\b\b\b\b\b\b\b\b\b\b\b\b\b\b\b\b\b\b\b\b\b\b\b\b\b\b\b\b\b\b\b\b\b\r48/48 [==============================] - 8s 169ms/step - total_loss: 0.2246 - illumination_smoothness_loss: 2.2982e-04 - spatial_constancy_loss: 0.0484 - color_constancy: 0.0045 - exposure_control_loss: 0.1693 - val_total_loss: 0.2270 - val_illumination_smoothness_loss: 1.4135e-04 - val_spatial_constancy_loss: 0.0475 - val_color_constancy: 9.7591e-04 - val_exposure_control_loss: 0.1763\n",
            "Epoch 29/100\n",
            "48/48 [==============================] - ETA: 0s - total_loss: 0.2241 - illumination_smoothness_loss: 2.2150e-04 - spatial_constancy_loss: 0.0489 - color_constancy: 0.0045 - exposure_control_loss: 0.1685"
          ]
        },
        {
          "output_type": "stream",
          "name": "stderr",
          "text": [
            "WARNING:tensorflow:Compiled the loaded model, but the compiled metrics have yet to be built. `model.compile_metrics` will be empty until you train or evaluate the model.\n",
            "\u001b[34m\u001b[1mwandb\u001b[0m: Adding directory to artifact (./checkpoint)... Done. 0.0s\n"
          ]
        },
        {
          "output_type": "stream",
          "name": "stdout",
          "text": [
            "\b\b\b\b\b\b\b\b\b\b\b\b\b\b\b\b\b\b\b\b\b\b\b\b\b\b\b\b\b\b\b\b\b\b\b\b\b\b\b\b\b\b\b\b\b\b\b\b\b\b\b\b\b\b\b\b\b\b\b\b\b\b\b\b\b\b\b\b\b\b\b\b\b\b\b\b\b\b\b\b\b\b\b\b\b\b\b\b\b\b\b\b\b\b\b\b\b\b\b\b\b\b\b\b\b\b\b\b\b\b\b\b\b\b\b\b\b\b\b\b\b\b\b\b\b\b\b\b\b\b\b\b\b\b\b\b\b\b\b\b\b\b\b\b\b\b\b\b\b\b\b\b\b\b\b\b\b\b\b\b\b\b\b\b\b\b\b\b\b\b\b\b\b\b\b\b\b\b\b\b\b\b\b\b\b\b\b\b\b\b\b\b\b\b\b\b\b\b\b\b\b\b\b\r48/48 [==============================] - 8s 161ms/step - total_loss: 0.2244 - illumination_smoothness_loss: 2.2031e-04 - spatial_constancy_loss: 0.0484 - color_constancy: 0.0045 - exposure_control_loss: 0.1693 - val_total_loss: 0.2270 - val_illumination_smoothness_loss: 1.3823e-04 - val_spatial_constancy_loss: 0.0474 - val_color_constancy: 9.6853e-04 - val_exposure_control_loss: 0.1763\n",
            "Epoch 30/100\n",
            "48/48 [==============================] - ETA: 0s - total_loss: 0.2239 - illumination_smoothness_loss: 2.1304e-04 - spatial_constancy_loss: 0.0489 - color_constancy: 0.0045 - exposure_control_loss: 0.1685"
          ]
        },
        {
          "output_type": "stream",
          "name": "stderr",
          "text": [
            "WARNING:tensorflow:Compiled the loaded model, but the compiled metrics have yet to be built. `model.compile_metrics` will be empty until you train or evaluate the model.\n",
            "\u001b[34m\u001b[1mwandb\u001b[0m: Adding directory to artifact (./checkpoint)... Done. 0.0s\n"
          ]
        },
        {
          "output_type": "stream",
          "name": "stdout",
          "text": [
            "\b\b\b\b\b\b\b\b\b\b\b\b\b\b\b\b\b\b\b\b\b\b\b\b\b\b\b\b\b\b\b\b\b\b\b\b\b\b\b\b\b\b\b\b\b\b\b\b\b\b\b\b\b\b\b\b\b\b\b\b\b\b\b\b\b\b\b\b\b\b\b\b\b\b\b\b\b\b\b\b\b\b\b\b\b\b\b\b\b\b\b\b\b\b\b\b\b\b\b\b\b\b\b\b\b\b\b\b\b\b\b\b\b\b\b\b\b\b\b\b\b\b\b\b\b\b\b\b\b\b\b\b\b\b\b\b\b\b\b\b\b\b\b\b\b\b\b\b\b\b\b\b\b\b\b\b\b\b\b\b\b\b\b\b\b\b\b\b\b\b\b\b\b\b\b\b\b\b\b\b\b\b\b\b\b\b\b\b\b\b\b\b\b\b\b\b\b\b\b\b\b\b\b\r48/48 [==============================] - 8s 166ms/step - total_loss: 0.2243 - illumination_smoothness_loss: 2.1195e-04 - spatial_constancy_loss: 0.0485 - color_constancy: 0.0045 - exposure_control_loss: 0.1693 - val_total_loss: 0.2270 - val_illumination_smoothness_loss: 1.3594e-04 - val_spatial_constancy_loss: 0.0475 - val_color_constancy: 9.6137e-04 - val_exposure_control_loss: 0.1763\n",
            "Epoch 31/100\n",
            "48/48 [==============================] - ETA: 0s - total_loss: 0.2238 - illumination_smoothness_loss: 2.0464e-04 - spatial_constancy_loss: 0.0490 - color_constancy: 0.0045 - exposure_control_loss: 0.1684"
          ]
        },
        {
          "output_type": "stream",
          "name": "stderr",
          "text": [
            "WARNING:tensorflow:Compiled the loaded model, but the compiled metrics have yet to be built. `model.compile_metrics` will be empty until you train or evaluate the model.\n",
            "\u001b[34m\u001b[1mwandb\u001b[0m: Adding directory to artifact (./checkpoint)... Done. 0.0s\n"
          ]
        },
        {
          "output_type": "stream",
          "name": "stdout",
          "text": [
            "\b\b\b\b\b\b\b\b\b\b\b\b\b\b\b\b\b\b\b\b\b\b\b\b\b\b\b\b\b\b\b\b\b\b\b\b\b\b\b\b\b\b\b\b\b\b\b\b\b\b\b\b\b\b\b\b\b\b\b\b\b\b\b\b\b\b\b\b\b\b\b\b\b\b\b\b\b\b\b\b\b\b\b\b\b\b\b\b\b\b\b\b\b\b\b\b\b\b\b\b\b\b\b\b\b\b\b\b\b\b\b\b\b\b\b\b\b\b\b\b\b\b\b\b\b\b\b\b\b\b\b\b\b\b\b\b\b\b\b\b\b\b\b\b\b\b\b\b\b\b\b\b\b\b\b\b\b\b\b\b\b\b\b\b\b\b\b\b\b\b\b\b\b\b\b\b\b\b\b\b\b\b\b\b\b\b\b\b\b\b\b\b\b\b\b\b\b\b\b\b\b\b\b\r48/48 [==============================] - 9s 190ms/step - total_loss: 0.2241 - illumination_smoothness_loss: 2.0359e-04 - spatial_constancy_loss: 0.0486 - color_constancy: 0.0045 - exposure_control_loss: 0.1692 - val_total_loss: 0.2269 - val_illumination_smoothness_loss: 1.3372e-04 - val_spatial_constancy_loss: 0.0475 - val_color_constancy: 9.5611e-04 - val_exposure_control_loss: 0.1763\n",
            "Epoch 32/100\n",
            "48/48 [==============================] - ETA: 0s - total_loss: 0.2236 - illumination_smoothness_loss: 1.9854e-04 - spatial_constancy_loss: 0.0490 - color_constancy: 0.0045 - exposure_control_loss: 0.1684"
          ]
        },
        {
          "output_type": "stream",
          "name": "stderr",
          "text": [
            "WARNING:tensorflow:Compiled the loaded model, but the compiled metrics have yet to be built. `model.compile_metrics` will be empty until you train or evaluate the model.\n",
            "\u001b[34m\u001b[1mwandb\u001b[0m: Adding directory to artifact (./checkpoint)... Done. 0.0s\n"
          ]
        },
        {
          "output_type": "stream",
          "name": "stdout",
          "text": [
            "\b\b\b\b\b\b\b\b\b\b\b\b\b\b\b\b\b\b\b\b\b\b\b\b\b\b\b\b\b\b\b\b\b\b\b\b\b\b\b\b\b\b\b\b\b\b\b\b\b\b\b\b\b\b\b\b\b\b\b\b\b\b\b\b\b\b\b\b\b\b\b\b\b\b\b\b\b\b\b\b\b\b\b\b\b\b\b\b\b\b\b\b\b\b\b\b\b\b\b\b\b\b\b\b\b\b\b\b\b\b\b\b\b\b\b\b\b\b\b\b\b\b\b\b\b\b\b\b\b\b\b\b\b\b\b\b\b\b\b\b\b\b\b\b\b\b\b\b\b\b\b\b\b\b\b\b\b\b\b\b\b\b\b\b\b\b\b\b\b\b\b\b\b\b\b\b\b\b\b\b\b\b\b\b\b\b\b\b\b\b\b\b\b\b\b\b\b\b\b\b\b\b\b\r48/48 [==============================] - 8s 162ms/step - total_loss: 0.2240 - illumination_smoothness_loss: 1.9761e-04 - spatial_constancy_loss: 0.0486 - color_constancy: 0.0045 - exposure_control_loss: 0.1692 - val_total_loss: 0.2270 - val_illumination_smoothness_loss: 1.3474e-04 - val_spatial_constancy_loss: 0.0479 - val_color_constancy: 9.6304e-04 - val_exposure_control_loss: 0.1759\n",
            "Epoch 33/100\n",
            "48/48 [==============================] - ETA: 0s - total_loss: 0.2235 - illumination_smoothness_loss: 1.9083e-04 - spatial_constancy_loss: 0.0491 - color_constancy: 0.0045 - exposure_control_loss: 0.1683"
          ]
        },
        {
          "output_type": "stream",
          "name": "stderr",
          "text": [
            "WARNING:tensorflow:Compiled the loaded model, but the compiled metrics have yet to be built. `model.compile_metrics` will be empty until you train or evaluate the model.\n",
            "\u001b[34m\u001b[1mwandb\u001b[0m: Adding directory to artifact (./checkpoint)... Done. 0.0s\n"
          ]
        },
        {
          "output_type": "stream",
          "name": "stdout",
          "text": [
            "\b\b\b\b\b\b\b\b\b\b\b\b\b\b\b\b\b\b\b\b\b\b\b\b\b\b\b\b\b\b\b\b\b\b\b\b\b\b\b\b\b\b\b\b\b\b\b\b\b\b\b\b\b\b\b\b\b\b\b\b\b\b\b\b\b\b\b\b\b\b\b\b\b\b\b\b\b\b\b\b\b\b\b\b\b\b\b\b\b\b\b\b\b\b\b\b\b\b\b\b\b\b\b\b\b\b\b\b\b\b\b\b\b\b\b\b\b\b\b\b\b\b\b\b\b\b\b\b\b\b\b\b\b\b\b\b\b\b\b\b\b\b\b\b\b\b\b\b\b\b\b\b\b\b\b\b\b\b\b\b\b\b\b\b\b\b\b\b\b\b\b\b\b\b\b\b\b\b\b\b\b\b\b\b\b\b\b\b\b\b\b\b\b\b\b\b\b\b\b\b\b\b\b\r48/48 [==============================] - 8s 169ms/step - total_loss: 0.2238 - illumination_smoothness_loss: 1.8985e-04 - spatial_constancy_loss: 0.0487 - color_constancy: 0.0045 - exposure_control_loss: 0.1691 - val_total_loss: 0.2268 - val_illumination_smoothness_loss: 1.2575e-04 - val_spatial_constancy_loss: 0.0475 - val_color_constancy: 9.6036e-04 - val_exposure_control_loss: 0.1763\n",
            "Epoch 34/100\n",
            "48/48 [==============================] - ETA: 0s - total_loss: 0.2234 - illumination_smoothness_loss: 1.8434e-04 - spatial_constancy_loss: 0.0491 - color_constancy: 0.0045 - exposure_control_loss: 0.1683"
          ]
        },
        {
          "output_type": "stream",
          "name": "stderr",
          "text": [
            "WARNING:tensorflow:Compiled the loaded model, but the compiled metrics have yet to be built. `model.compile_metrics` will be empty until you train or evaluate the model.\n",
            "\u001b[34m\u001b[1mwandb\u001b[0m: Adding directory to artifact (./checkpoint)... Done. 0.0s\n"
          ]
        },
        {
          "output_type": "stream",
          "name": "stdout",
          "text": [
            "\b\b\b\b\b\b\b\b\b\b\b\b\b\b\b\b\b\b\b\b\b\b\b\b\b\b\b\b\b\b\b\b\b\b\b\b\b\b\b\b\b\b\b\b\b\b\b\b\b\b\b\b\b\b\b\b\b\b\b\b\b\b\b\b\b\b\b\b\b\b\b\b\b\b\b\b\b\b\b\b\b\b\b\b\b\b\b\b\b\b\b\b\b\b\b\b\b\b\b\b\b\b\b\b\b\b\b\b\b\b\b\b\b\b\b\b\b\b\b\b\b\b\b\b\b\b\b\b\b\b\b\b\b\b\b\b\b\b\b\b\b\b\b\b\b\b\b\b\b\b\b\b\b\b\b\b\b\b\b\b\b\b\b\b\b\b\b\b\b\b\b\b\b\b\b\b\b\b\b\b\b\b\b\b\b\b\b\b\b\b\b\b\b\b\b\b\b\b\b\b\b\b\b\r48/48 [==============================] - 8s 177ms/step - total_loss: 0.2237 - illumination_smoothness_loss: 1.8347e-04 - spatial_constancy_loss: 0.0487 - color_constancy: 0.0045 - exposure_control_loss: 0.1691 - val_total_loss: 0.2268 - val_illumination_smoothness_loss: 1.2748e-04 - val_spatial_constancy_loss: 0.0480 - val_color_constancy: 9.6423e-04 - val_exposure_control_loss: 0.1758\n",
            "Epoch 35/100\n",
            "48/48 [==============================] - ETA: 0s - total_loss: 0.2233 - illumination_smoothness_loss: 1.7932e-04 - spatial_constancy_loss: 0.0492 - color_constancy: 0.0045 - exposure_control_loss: 0.1682"
          ]
        },
        {
          "output_type": "stream",
          "name": "stderr",
          "text": [
            "WARNING:tensorflow:Compiled the loaded model, but the compiled metrics have yet to be built. `model.compile_metrics` will be empty until you train or evaluate the model.\n",
            "\u001b[34m\u001b[1mwandb\u001b[0m: Adding directory to artifact (./checkpoint)... Done. 0.0s\n"
          ]
        },
        {
          "output_type": "stream",
          "name": "stdout",
          "text": [
            "\b\b\b\b\b\b\b\b\b\b\b\b\b\b\b\b\b\b\b\b\b\b\b\b\b\b\b\b\b\b\b\b\b\b\b\b\b\b\b\b\b\b\b\b\b\b\b\b\b\b\b\b\b\b\b\b\b\b\b\b\b\b\b\b\b\b\b\b\b\b\b\b\b\b\b\b\b\b\b\b\b\b\b\b\b\b\b\b\b\b\b\b\b\b\b\b\b\b\b\b\b\b\b\b\b\b\b\b\b\b\b\b\b\b\b\b\b\b\b\b\b\b\b\b\b\b\b\b\b\b\b\b\b\b\b\b\b\b\b\b\b\b\b\b\b\b\b\b\b\b\b\b\b\b\b\b\b\b\b\b\b\b\b\b\b\b\b\b\b\b\b\b\b\b\b\b\b\b\b\b\b\b\b\b\b\b\b\b\b\b\b\b\b\b\b\b\b\b\b\b\b\b\b\r48/48 [==============================] - 8s 167ms/step - total_loss: 0.2236 - illumination_smoothness_loss: 1.7867e-04 - spatial_constancy_loss: 0.0488 - color_constancy: 0.0045 - exposure_control_loss: 0.1690 - val_total_loss: 0.2269 - val_illumination_smoothness_loss: 1.3510e-04 - val_spatial_constancy_loss: 0.0484 - val_color_constancy: 9.6192e-04 - val_exposure_control_loss: 0.1753\n",
            "Epoch 36/100\n",
            "48/48 [==============================] - ETA: 0s - total_loss: 0.2232 - illumination_smoothness_loss: 1.7320e-04 - spatial_constancy_loss: 0.0492 - color_constancy: 0.0045 - exposure_control_loss: 0.1682"
          ]
        },
        {
          "output_type": "stream",
          "name": "stderr",
          "text": [
            "WARNING:tensorflow:Compiled the loaded model, but the compiled metrics have yet to be built. `model.compile_metrics` will be empty until you train or evaluate the model.\n",
            "\u001b[34m\u001b[1mwandb\u001b[0m: Adding directory to artifact (./checkpoint)... Done. 0.0s\n"
          ]
        },
        {
          "output_type": "stream",
          "name": "stdout",
          "text": [
            "\b\b\b\b\b\b\b\b\b\b\b\b\b\b\b\b\b\b\b\b\b\b\b\b\b\b\b\b\b\b\b\b\b\b\b\b\b\b\b\b\b\b\b\b\b\b\b\b\b\b\b\b\b\b\b\b\b\b\b\b\b\b\b\b\b\b\b\b\b\b\b\b\b\b\b\b\b\b\b\b\b\b\b\b\b\b\b\b\b\b\b\b\b\b\b\b\b\b\b\b\b\b\b\b\b\b\b\b\b\b\b\b\b\b\b\b\b\b\b\b\b\b\b\b\b\b\b\b\b\b\b\b\b\b\b\b\b\b\b\b\b\b\b\b\b\b\b\b\b\b\b\b\b\b\b\b\b\b\b\b\b\b\b\b\b\b\b\b\b\b\b\b\b\b\b\b\b\b\b\b\b\b\b\b\b\b\b\b\b\b\b\b\b\b\b\b\b\b\b\b\b\b\b\r48/48 [==============================] - 8s 166ms/step - total_loss: 0.2235 - illumination_smoothness_loss: 1.7230e-04 - spatial_constancy_loss: 0.0488 - color_constancy: 0.0045 - exposure_control_loss: 0.1690 - val_total_loss: 0.2266 - val_illumination_smoothness_loss: 1.1960e-04 - val_spatial_constancy_loss: 0.0480 - val_color_constancy: 9.5460e-04 - val_exposure_control_loss: 0.1758\n",
            "Epoch 37/100\n",
            "48/48 [==============================] - ETA: 0s - total_loss: 0.2230 - illumination_smoothness_loss: 1.6919e-04 - spatial_constancy_loss: 0.0493 - color_constancy: 0.0045 - exposure_control_loss: 0.1681"
          ]
        },
        {
          "output_type": "stream",
          "name": "stderr",
          "text": [
            "WARNING:tensorflow:Compiled the loaded model, but the compiled metrics have yet to be built. `model.compile_metrics` will be empty until you train or evaluate the model.\n",
            "\u001b[34m\u001b[1mwandb\u001b[0m: Adding directory to artifact (./checkpoint)... Done. 0.0s\n"
          ]
        },
        {
          "output_type": "stream",
          "name": "stdout",
          "text": [
            "\b\b\b\b\b\b\b\b\b\b\b\b\b\b\b\b\b\b\b\b\b\b\b\b\b\b\b\b\b\b\b\b\b\b\b\b\b\b\b\b\b\b\b\b\b\b\b\b\b\b\b\b\b\b\b\b\b\b\b\b\b\b\b\b\b\b\b\b\b\b\b\b\b\b\b\b\b\b\b\b\b\b\b\b\b\b\b\b\b\b\b\b\b\b\b\b\b\b\b\b\b\b\b\b\b\b\b\b\b\b\b\b\b\b\b\b\b\b\b\b\b\b\b\b\b\b\b\b\b\b\b\b\b\b\b\b\b\b\b\b\b\b\b\b\b\b\b\b\b\b\b\b\b\b\b\b\b\b\b\b\b\b\b\b\b\b\b\b\b\b\b\b\b\b\b\b\b\b\b\b\b\b\b\b\b\b\b\b\b\b\b\b\b\b\b\b\b\b\b\b\b\b\b\r48/48 [==============================] - 9s 177ms/step - total_loss: 0.2234 - illumination_smoothness_loss: 1.6856e-04 - spatial_constancy_loss: 0.0489 - color_constancy: 0.0045 - exposure_control_loss: 0.1688 - val_total_loss: 0.2268 - val_illumination_smoothness_loss: 1.2994e-04 - val_spatial_constancy_loss: 0.0485 - val_color_constancy: 9.5902e-04 - val_exposure_control_loss: 0.1752\n",
            "Epoch 38/100\n",
            "48/48 [==============================] - ETA: 0s - total_loss: 0.2229 - illumination_smoothness_loss: 1.6439e-04 - spatial_constancy_loss: 0.0492 - color_constancy: 0.0045 - exposure_control_loss: 0.1682"
          ]
        },
        {
          "output_type": "stream",
          "name": "stderr",
          "text": [
            "WARNING:tensorflow:Compiled the loaded model, but the compiled metrics have yet to be built. `model.compile_metrics` will be empty until you train or evaluate the model.\n",
            "\u001b[34m\u001b[1mwandb\u001b[0m: Adding directory to artifact (./checkpoint)... Done. 0.0s\n"
          ]
        },
        {
          "output_type": "stream",
          "name": "stdout",
          "text": [
            "\b\b\b\b\b\b\b\b\b\b\b\b\b\b\b\b\b\b\b\b\b\b\b\b\b\b\b\b\b\b\b\b\b\b\b\b\b\b\b\b\b\b\b\b\b\b\b\b\b\b\b\b\b\b\b\b\b\b\b\b\b\b\b\b\b\b\b\b\b\b\b\b\b\b\b\b\b\b\b\b\b\b\b\b\b\b\b\b\b\b\b\b\b\b\b\b\b\b\b\b\b\b\b\b\b\b\b\b\b\b\b\b\b\b\b\b\b\b\b\b\b\b\b\b\b\b\b\b\b\b\b\b\b\b\b\b\b\b\b\b\b\b\b\b\b\b\b\b\b\b\b\b\b\b\b\b\b\b\b\b\b\b\b\b\b\b\b\b\b\b\b\b\b\b\b\b\b\b\b\b\b\b\b\b\b\b\b\b\b\b\b\b\b\b\b\b\b\b\b\b\b\b\b\r48/48 [==============================] - 9s 178ms/step - total_loss: 0.2233 - illumination_smoothness_loss: 1.6345e-04 - spatial_constancy_loss: 0.0488 - color_constancy: 0.0045 - exposure_control_loss: 0.1690 - val_total_loss: 0.2264 - val_illumination_smoothness_loss: 1.0938e-04 - val_spatial_constancy_loss: 0.0478 - val_color_constancy: 9.6448e-04 - val_exposure_control_loss: 0.1760\n",
            "Epoch 39/100\n",
            "48/48 [==============================] - ETA: 0s - total_loss: 0.2228 - illumination_smoothness_loss: 1.5955e-04 - spatial_constancy_loss: 0.0495 - color_constancy: 0.0046 - exposure_control_loss: 0.1678"
          ]
        },
        {
          "output_type": "stream",
          "name": "stderr",
          "text": [
            "WARNING:tensorflow:Compiled the loaded model, but the compiled metrics have yet to be built. `model.compile_metrics` will be empty until you train or evaluate the model.\n",
            "\u001b[34m\u001b[1mwandb\u001b[0m: Adding directory to artifact (./checkpoint)... Done. 0.0s\n"
          ]
        },
        {
          "output_type": "stream",
          "name": "stdout",
          "text": [
            "\b\b\b\b\b\b\b\b\b\b\b\b\b\b\b\b\b\b\b\b\b\b\b\b\b\b\b\b\b\b\b\b\b\b\b\b\b\b\b\b\b\b\b\b\b\b\b\b\b\b\b\b\b\b\b\b\b\b\b\b\b\b\b\b\b\b\b\b\b\b\b\b\b\b\b\b\b\b\b\b\b\b\b\b\b\b\b\b\b\b\b\b\b\b\b\b\b\b\b\b\b\b\b\b\b\b\b\b\b\b\b\b\b\b\b\b\b\b\b\b\b\b\b\b\b\b\b\b\b\b\b\b\b\b\b\b\b\b\b\b\b\b\b\b\b\b\b\b\b\b\b\b\b\b\b\b\b\b\b\b\b\b\b\b\b\b\b\b\b\b\b\b\b\b\b\b\b\b\b\b\b\b\b\b\b\b\b\b\b\b\b\b\b\b\b\b\b\b\b\b\b\b\b\r48/48 [==============================] - 8s 161ms/step - total_loss: 0.2232 - illumination_smoothness_loss: 1.5887e-04 - spatial_constancy_loss: 0.0491 - color_constancy: 0.0045 - exposure_control_loss: 0.1686 - val_total_loss: 0.2266 - val_illumination_smoothness_loss: 1.2329e-04 - val_spatial_constancy_loss: 0.0485 - val_color_constancy: 9.5973e-04 - val_exposure_control_loss: 0.1752\n",
            "Epoch 40/100\n",
            "48/48 [==============================] - ETA: 0s - total_loss: 0.2227 - illumination_smoothness_loss: 1.5537e-04 - spatial_constancy_loss: 0.0494 - color_constancy: 0.0045 - exposure_control_loss: 0.1680"
          ]
        },
        {
          "output_type": "stream",
          "name": "stderr",
          "text": [
            "WARNING:tensorflow:Compiled the loaded model, but the compiled metrics have yet to be built. `model.compile_metrics` will be empty until you train or evaluate the model.\n",
            "\u001b[34m\u001b[1mwandb\u001b[0m: Adding directory to artifact (./checkpoint)... Done. 0.0s\n"
          ]
        },
        {
          "output_type": "stream",
          "name": "stdout",
          "text": [
            "\b\b\b\b\b\b\b\b\b\b\b\b\b\b\b\b\b\b\b\b\b\b\b\b\b\b\b\b\b\b\b\b\b\b\b\b\b\b\b\b\b\b\b\b\b\b\b\b\b\b\b\b\b\b\b\b\b\b\b\b\b\b\b\b\b\b\b\b\b\b\b\b\b\b\b\b\b\b\b\b\b\b\b\b\b\b\b\b\b\b\b\b\b\b\b\b\b\b\b\b\b\b\b\b\b\b\b\b\b\b\b\b\b\b\b\b\b\b\b\b\b\b\b\b\b\b\b\b\b\b\b\b\b\b\b\b\b\b\b\b\b\b\b\b\b\b\b\b\b\b\b\b\b\b\b\b\b\b\b\b\b\b\b\b\b\b\b\b\b\b\b\b\b\b\b\b\b\b\b\b\b\b\b\b\b\b\b\b\b\b\b\b\b\b\b\b\b\b\b\b\b\b\b\r48/48 [==============================] - 8s 168ms/step - total_loss: 0.2231 - illumination_smoothness_loss: 1.5451e-04 - spatial_constancy_loss: 0.0490 - color_constancy: 0.0045 - exposure_control_loss: 0.1688 - val_total_loss: 0.2264 - val_illumination_smoothness_loss: 1.0666e-04 - val_spatial_constancy_loss: 0.0479 - val_color_constancy: 9.4464e-04 - val_exposure_control_loss: 0.1759\n",
            "Epoch 41/100\n",
            "48/48 [==============================] - ETA: 0s - total_loss: 0.2226 - illumination_smoothness_loss: 1.5123e-04 - spatial_constancy_loss: 0.0496 - color_constancy: 0.0046 - exposure_control_loss: 0.1678"
          ]
        },
        {
          "output_type": "stream",
          "name": "stderr",
          "text": [
            "WARNING:tensorflow:Compiled the loaded model, but the compiled metrics have yet to be built. `model.compile_metrics` will be empty until you train or evaluate the model.\n",
            "\u001b[34m\u001b[1mwandb\u001b[0m: Adding directory to artifact (./checkpoint)... Done. 0.0s\n"
          ]
        },
        {
          "output_type": "stream",
          "name": "stdout",
          "text": [
            "\b\b\b\b\b\b\b\b\b\b\b\b\b\b\b\b\b\b\b\b\b\b\b\b\b\b\b\b\b\b\b\b\b\b\b\b\b\b\b\b\b\b\b\b\b\b\b\b\b\b\b\b\b\b\b\b\b\b\b\b\b\b\b\b\b\b\b\b\b\b\b\b\b\b\b\b\b\b\b\b\b\b\b\b\b\b\b\b\b\b\b\b\b\b\b\b\b\b\b\b\b\b\b\b\b\b\b\b\b\b\b\b\b\b\b\b\b\b\b\b\b\b\b\b\b\b\b\b\b\b\b\b\b\b\b\b\b\b\b\b\b\b\b\b\b\b\b\b\b\b\b\b\b\b\b\b\b\b\b\b\b\b\b\b\b\b\b\b\b\b\b\b\b\b\b\b\b\b\b\b\b\b\b\b\b\b\b\b\b\b\b\b\b\b\b\b\b\b\b\b\b\b\b\r48/48 [==============================] - 9s 185ms/step - total_loss: 0.2230 - illumination_smoothness_loss: 1.5055e-04 - spatial_constancy_loss: 0.0491 - color_constancy: 0.0045 - exposure_control_loss: 0.1685 - val_total_loss: 0.2265 - val_illumination_smoothness_loss: 1.1706e-04 - val_spatial_constancy_loss: 0.0485 - val_color_constancy: 9.6004e-04 - val_exposure_control_loss: 0.1751\n",
            "Epoch 42/100\n",
            "48/48 [==============================] - ETA: 0s - total_loss: 0.2225 - illumination_smoothness_loss: 1.4916e-04 - spatial_constancy_loss: 0.0496 - color_constancy: 0.0046 - exposure_control_loss: 0.1677"
          ]
        },
        {
          "output_type": "stream",
          "name": "stderr",
          "text": [
            "WARNING:tensorflow:Compiled the loaded model, but the compiled metrics have yet to be built. `model.compile_metrics` will be empty until you train or evaluate the model.\n",
            "\u001b[34m\u001b[1mwandb\u001b[0m: Adding directory to artifact (./checkpoint)... Done. 0.0s\n"
          ]
        },
        {
          "output_type": "stream",
          "name": "stdout",
          "text": [
            "\b\b\b\b\b\b\b\b\b\b\b\b\b\b\b\b\b\b\b\b\b\b\b\b\b\b\b\b\b\b\b\b\b\b\b\b\b\b\b\b\b\b\b\b\b\b\b\b\b\b\b\b\b\b\b\b\b\b\b\b\b\b\b\b\b\b\b\b\b\b\b\b\b\b\b\b\b\b\b\b\b\b\b\b\b\b\b\b\b\b\b\b\b\b\b\b\b\b\b\b\b\b\b\b\b\b\b\b\b\b\b\b\b\b\b\b\b\b\b\b\b\b\b\b\b\b\b\b\b\b\b\b\b\b\b\b\b\b\b\b\b\b\b\b\b\b\b\b\b\b\b\b\b\b\b\b\b\b\b\b\b\b\b\b\b\b\b\b\b\b\b\b\b\b\b\b\b\b\b\b\b\b\b\b\b\b\b\b\b\b\b\b\b\b\b\b\b\b\b\b\b\b\b\r48/48 [==============================] - 8s 163ms/step - total_loss: 0.2229 - illumination_smoothness_loss: 1.4855e-04 - spatial_constancy_loss: 0.0491 - color_constancy: 0.0045 - exposure_control_loss: 0.1685 - val_total_loss: 0.2265 - val_illumination_smoothness_loss: 1.2160e-04 - val_spatial_constancy_loss: 0.0488 - val_color_constancy: 9.5697e-04 - val_exposure_control_loss: 0.1747\n",
            "Epoch 43/100\n",
            "48/48 [==============================] - ETA: 0s - total_loss: 0.2224 - illumination_smoothness_loss: 1.4463e-04 - spatial_constancy_loss: 0.0496 - color_constancy: 0.0046 - exposure_control_loss: 0.1676"
          ]
        },
        {
          "output_type": "stream",
          "name": "stderr",
          "text": [
            "WARNING:tensorflow:Compiled the loaded model, but the compiled metrics have yet to be built. `model.compile_metrics` will be empty until you train or evaluate the model.\n",
            "\u001b[34m\u001b[1mwandb\u001b[0m: Adding directory to artifact (./checkpoint)... Done. 0.0s\n"
          ]
        },
        {
          "output_type": "stream",
          "name": "stdout",
          "text": [
            "\b\b\b\b\b\b\b\b\b\b\b\b\b\b\b\b\b\b\b\b\b\b\b\b\b\b\b\b\b\b\b\b\b\b\b\b\b\b\b\b\b\b\b\b\b\b\b\b\b\b\b\b\b\b\b\b\b\b\b\b\b\b\b\b\b\b\b\b\b\b\b\b\b\b\b\b\b\b\b\b\b\b\b\b\b\b\b\b\b\b\b\b\b\b\b\b\b\b\b\b\b\b\b\b\b\b\b\b\b\b\b\b\b\b\b\b\b\b\b\b\b\b\b\b\b\b\b\b\b\b\b\b\b\b\b\b\b\b\b\b\b\b\b\b\b\b\b\b\b\b\b\b\b\b\b\b\b\b\b\b\b\b\b\b\b\b\b\b\b\b\b\b\b\b\b\b\b\b\b\b\b\b\b\b\b\b\b\b\b\b\b\b\b\b\b\b\b\b\b\b\b\b\b\r48/48 [==============================] - 8s 163ms/step - total_loss: 0.2228 - illumination_smoothness_loss: 1.4397e-04 - spatial_constancy_loss: 0.0492 - color_constancy: 0.0045 - exposure_control_loss: 0.1684 - val_total_loss: 0.2264 - val_illumination_smoothness_loss: 1.1605e-04 - val_spatial_constancy_loss: 0.0488 - val_color_constancy: 9.5333e-04 - val_exposure_control_loss: 0.1748\n",
            "Epoch 44/100\n",
            "48/48 [==============================] - ETA: 0s - total_loss: 0.2223 - illumination_smoothness_loss: 1.4233e-04 - spatial_constancy_loss: 0.0497 - color_constancy: 0.0046 - exposure_control_loss: 0.1676"
          ]
        },
        {
          "output_type": "stream",
          "name": "stderr",
          "text": [
            "WARNING:tensorflow:Compiled the loaded model, but the compiled metrics have yet to be built. `model.compile_metrics` will be empty until you train or evaluate the model.\n",
            "\u001b[34m\u001b[1mwandb\u001b[0m: Adding directory to artifact (./checkpoint)... Done. 0.0s\n"
          ]
        },
        {
          "output_type": "stream",
          "name": "stdout",
          "text": [
            "\b\b\b\b\b\b\b\b\b\b\b\b\b\b\b\b\b\b\b\b\b\b\b\b\b\b\b\b\b\b\b\b\b\b\b\b\b\b\b\b\b\b\b\b\b\b\b\b\b\b\b\b\b\b\b\b\b\b\b\b\b\b\b\b\b\b\b\b\b\b\b\b\b\b\b\b\b\b\b\b\b\b\b\b\b\b\b\b\b\b\b\b\b\b\b\b\b\b\b\b\b\b\b\b\b\b\b\b\b\b\b\b\b\b\b\b\b\b\b\b\b\b\b\b\b\b\b\b\b\b\b\b\b\b\b\b\b\b\b\b\b\b\b\b\b\b\b\b\b\b\b\b\b\b\b\b\b\b\b\b\b\b\b\b\b\b\b\b\b\b\b\b\b\b\b\b\b\b\b\b\b\b\b\b\b\b\b\b\b\b\b\b\b\b\b\b\b\b\b\b\b\b\b\r48/48 [==============================] - 8s 168ms/step - total_loss: 0.2227 - illumination_smoothness_loss: 1.4170e-04 - spatial_constancy_loss: 0.0493 - color_constancy: 0.0045 - exposure_control_loss: 0.1683 - val_total_loss: 0.2263 - val_illumination_smoothness_loss: 1.1671e-04 - val_spatial_constancy_loss: 0.0490 - val_color_constancy: 9.5950e-04 - val_exposure_control_loss: 0.1745\n",
            "Epoch 45/100\n",
            "48/48 [==============================] - ETA: 0s - total_loss: 0.2223 - illumination_smoothness_loss: 1.3947e-04 - spatial_constancy_loss: 0.0497 - color_constancy: 0.0046 - exposure_control_loss: 0.1675"
          ]
        },
        {
          "output_type": "stream",
          "name": "stderr",
          "text": [
            "WARNING:tensorflow:Compiled the loaded model, but the compiled metrics have yet to be built. `model.compile_metrics` will be empty until you train or evaluate the model.\n",
            "\u001b[34m\u001b[1mwandb\u001b[0m: Adding directory to artifact (./checkpoint)... Done. 0.0s\n"
          ]
        },
        {
          "output_type": "stream",
          "name": "stdout",
          "text": [
            "\b\b\b\b\b\b\b\b\b\b\b\b\b\b\b\b\b\b\b\b\b\b\b\b\b\b\b\b\b\b\b\b\b\b\b\b\b\b\b\b\b\b\b\b\b\b\b\b\b\b\b\b\b\b\b\b\b\b\b\b\b\b\b\b\b\b\b\b\b\b\b\b\b\b\b\b\b\b\b\b\b\b\b\b\b\b\b\b\b\b\b\b\b\b\b\b\b\b\b\b\b\b\b\b\b\b\b\b\b\b\b\b\b\b\b\b\b\b\b\b\b\b\b\b\b\b\b\b\b\b\b\b\b\b\b\b\b\b\b\b\b\b\b\b\b\b\b\b\b\b\b\b\b\b\b\b\b\b\b\b\b\b\b\b\b\b\b\b\b\b\b\b\b\b\b\b\b\b\b\b\b\b\b\b\b\b\b\b\b\b\b\b\b\b\b\b\b\b\b\b\b\b\b\r48/48 [==============================] - 9s 180ms/step - total_loss: 0.2226 - illumination_smoothness_loss: 1.3872e-04 - spatial_constancy_loss: 0.0493 - color_constancy: 0.0045 - exposure_control_loss: 0.1683 - val_total_loss: 0.2262 - val_illumination_smoothness_loss: 1.0944e-04 - val_spatial_constancy_loss: 0.0486 - val_color_constancy: 9.5786e-04 - val_exposure_control_loss: 0.1749\n",
            "Epoch 46/100\n",
            "48/48 [==============================] - ETA: 0s - total_loss: 0.2222 - illumination_smoothness_loss: 1.3711e-04 - spatial_constancy_loss: 0.0498 - color_constancy: 0.0046 - exposure_control_loss: 0.1674"
          ]
        },
        {
          "output_type": "stream",
          "name": "stderr",
          "text": [
            "WARNING:tensorflow:Compiled the loaded model, but the compiled metrics have yet to be built. `model.compile_metrics` will be empty until you train or evaluate the model.\n",
            "\u001b[34m\u001b[1mwandb\u001b[0m: Adding directory to artifact (./checkpoint)... Done. 0.0s\n"
          ]
        },
        {
          "output_type": "stream",
          "name": "stdout",
          "text": [
            "\b\b\b\b\b\b\b\b\b\b\b\b\b\b\b\b\b\b\b\b\b\b\b\b\b\b\b\b\b\b\b\b\b\b\b\b\b\b\b\b\b\b\b\b\b\b\b\b\b\b\b\b\b\b\b\b\b\b\b\b\b\b\b\b\b\b\b\b\b\b\b\b\b\b\b\b\b\b\b\b\b\b\b\b\b\b\b\b\b\b\b\b\b\b\b\b\b\b\b\b\b\b\b\b\b\b\b\b\b\b\b\b\b\b\b\b\b\b\b\b\b\b\b\b\b\b\b\b\b\b\b\b\b\b\b\b\b\b\b\b\b\b\b\b\b\b\b\b\b\b\b\b\b\b\b\b\b\b\b\b\b\b\b\b\b\b\b\b\b\b\b\b\b\b\b\b\b\b\b\b\b\b\b\b\b\b\b\b\b\b\b\b\b\b\b\b\b\b\b\b\b\b\b\r48/48 [==============================] - 8s 162ms/step - total_loss: 0.2225 - illumination_smoothness_loss: 1.3639e-04 - spatial_constancy_loss: 0.0494 - color_constancy: 0.0045 - exposure_control_loss: 0.1682 - val_total_loss: 0.2262 - val_illumination_smoothness_loss: 1.1115e-04 - val_spatial_constancy_loss: 0.0489 - val_color_constancy: 9.5835e-04 - val_exposure_control_loss: 0.1746\n",
            "Epoch 47/100\n",
            "48/48 [==============================] - ETA: 0s - total_loss: 0.2221 - illumination_smoothness_loss: 1.3487e-04 - spatial_constancy_loss: 0.0498 - color_constancy: 0.0046 - exposure_control_loss: 0.1673"
          ]
        },
        {
          "output_type": "stream",
          "name": "stderr",
          "text": [
            "WARNING:tensorflow:Compiled the loaded model, but the compiled metrics have yet to be built. `model.compile_metrics` will be empty until you train or evaluate the model.\n",
            "\u001b[34m\u001b[1mwandb\u001b[0m: Adding directory to artifact (./checkpoint)... Done. 0.0s\n"
          ]
        },
        {
          "output_type": "stream",
          "name": "stdout",
          "text": [
            "\b\b\b\b\b\b\b\b\b\b\b\b\b\b\b\b\b\b\b\b\b\b\b\b\b\b\b\b\b\b\b\b\b\b\b\b\b\b\b\b\b\b\b\b\b\b\b\b\b\b\b\b\b\b\b\b\b\b\b\b\b\b\b\b\b\b\b\b\b\b\b\b\b\b\b\b\b\b\b\b\b\b\b\b\b\b\b\b\b\b\b\b\b\b\b\b\b\b\b\b\b\b\b\b\b\b\b\b\b\b\b\b\b\b\b\b\b\b\b\b\b\b\b\b\b\b\b\b\b\b\b\b\b\b\b\b\b\b\b\b\b\b\b\b\b\b\b\b\b\b\b\b\b\b\b\b\b\b\b\b\b\b\b\b\b\b\b\b\b\b\b\b\b\b\b\b\b\b\b\b\b\b\b\b\b\b\b\b\b\b\b\b\b\b\b\b\b\b\b\b\b\b\b\r48/48 [==============================] - 9s 182ms/step - total_loss: 0.2224 - illumination_smoothness_loss: 1.3406e-04 - spatial_constancy_loss: 0.0494 - color_constancy: 0.0045 - exposure_control_loss: 0.1681 - val_total_loss: 0.2260 - val_illumination_smoothness_loss: 1.0321e-04 - val_spatial_constancy_loss: 0.0484 - val_color_constancy: 9.5880e-04 - val_exposure_control_loss: 0.1750\n",
            "Epoch 48/100\n",
            "48/48 [==============================] - ETA: 0s - total_loss: 0.2220 - illumination_smoothness_loss: 1.3267e-04 - spatial_constancy_loss: 0.0499 - color_constancy: 0.0046 - exposure_control_loss: 0.1672"
          ]
        },
        {
          "output_type": "stream",
          "name": "stderr",
          "text": [
            "WARNING:tensorflow:Compiled the loaded model, but the compiled metrics have yet to be built. `model.compile_metrics` will be empty until you train or evaluate the model.\n",
            "\u001b[34m\u001b[1mwandb\u001b[0m: Adding directory to artifact (./checkpoint)... Done. 0.0s\n"
          ]
        },
        {
          "output_type": "stream",
          "name": "stdout",
          "text": [
            "\b\b\b\b\b\b\b\b\b\b\b\b\b\b\b\b\b\b\b\b\b\b\b\b\b\b\b\b\b\b\b\b\b\b\b\b\b\b\b\b\b\b\b\b\b\b\b\b\b\b\b\b\b\b\b\b\b\b\b\b\b\b\b\b\b\b\b\b\b\b\b\b\b\b\b\b\b\b\b\b\b\b\b\b\b\b\b\b\b\b\b\b\b\b\b\b\b\b\b\b\b\b\b\b\b\b\b\b\b\b\b\b\b\b\b\b\b\b\b\b\b\b\b\b\b\b\b\b\b\b\b\b\b\b\b\b\b\b\b\b\b\b\b\b\b\b\b\b\b\b\b\b\b\b\b\b\b\b\b\b\b\b\b\b\b\b\b\b\b\b\b\b\b\b\b\b\b\b\b\b\b\b\b\b\b\b\b\b\b\b\b\b\b\b\b\b\b\b\b\b\b\b\b\r48/48 [==============================] - 9s 184ms/step - total_loss: 0.2224 - illumination_smoothness_loss: 1.3185e-04 - spatial_constancy_loss: 0.0495 - color_constancy: 0.0046 - exposure_control_loss: 0.1680 - val_total_loss: 0.2259 - val_illumination_smoothness_loss: 1.0215e-04 - val_spatial_constancy_loss: 0.0484 - val_color_constancy: 9.6123e-04 - val_exposure_control_loss: 0.1750\n",
            "Epoch 49/100\n",
            "48/48 [==============================] - ETA: 0s - total_loss: 0.2220 - illumination_smoothness_loss: 1.3142e-04 - spatial_constancy_loss: 0.0499 - color_constancy: 0.0046 - exposure_control_loss: 0.1672"
          ]
        },
        {
          "output_type": "stream",
          "name": "stderr",
          "text": [
            "WARNING:tensorflow:Compiled the loaded model, but the compiled metrics have yet to be built. `model.compile_metrics` will be empty until you train or evaluate the model.\n",
            "\u001b[34m\u001b[1mwandb\u001b[0m: Adding directory to artifact (./checkpoint)... Done. 0.0s\n"
          ]
        },
        {
          "output_type": "stream",
          "name": "stdout",
          "text": [
            "\b\b\b\b\b\b\b\b\b\b\b\b\b\b\b\b\b\b\b\b\b\b\b\b\b\b\b\b\b\b\b\b\b\b\b\b\b\b\b\b\b\b\b\b\b\b\b\b\b\b\b\b\b\b\b\b\b\b\b\b\b\b\b\b\b\b\b\b\b\b\b\b\b\b\b\b\b\b\b\b\b\b\b\b\b\b\b\b\b\b\b\b\b\b\b\b\b\b\b\b\b\b\b\b\b\b\b\b\b\b\b\b\b\b\b\b\b\b\b\b\b\b\b\b\b\b\b\b\b\b\b\b\b\b\b\b\b\b\b\b\b\b\b\b\b\b\b\b\b\b\b\b\b\b\b\b\b\b\b\b\b\b\b\b\b\b\b\b\b\b\b\b\b\b\b\b\b\b\b\b\b\b\b\b\b\b\b\b\b\b\b\b\b\b\b\b\b\b\b\b\b\b\b\r48/48 [==============================] - 8s 164ms/step - total_loss: 0.2223 - illumination_smoothness_loss: 1.3050e-04 - spatial_constancy_loss: 0.0494 - color_constancy: 0.0046 - exposure_control_loss: 0.1680 - val_total_loss: 0.2258 - val_illumination_smoothness_loss: 9.2912e-05 - val_spatial_constancy_loss: 0.0477 - val_color_constancy: 9.5366e-04 - val_exposure_control_loss: 0.1758\n",
            "Epoch 50/100\n",
            "48/48 [==============================] - ETA: 0s - total_loss: 0.2219 - illumination_smoothness_loss: 1.2920e-04 - spatial_constancy_loss: 0.0500 - color_constancy: 0.0046 - exposure_control_loss: 0.1670"
          ]
        },
        {
          "output_type": "stream",
          "name": "stderr",
          "text": [
            "WARNING:tensorflow:Compiled the loaded model, but the compiled metrics have yet to be built. `model.compile_metrics` will be empty until you train or evaluate the model.\n",
            "\u001b[34m\u001b[1mwandb\u001b[0m: Adding directory to artifact (./checkpoint)... Done. 0.0s\n"
          ]
        },
        {
          "output_type": "stream",
          "name": "stdout",
          "text": [
            "\b\b\b\b\b\b\b\b\b\b\b\b\b\b\b\b\b\b\b\b\b\b\b\b\b\b\b\b\b\b\b\b\b\b\b\b\b\b\b\b\b\b\b\b\b\b\b\b\b\b\b\b\b\b\b\b\b\b\b\b\b\b\b\b\b\b\b\b\b\b\b\b\b\b\b\b\b\b\b\b\b\b\b\b\b\b\b\b\b\b\b\b\b\b\b\b\b\b\b\b\b\b\b\b\b\b\b\b\b\b\b\b\b\b\b\b\b\b\b\b\b\b\b\b\b\b\b\b\b\b\b\b\b\b\b\b\b\b\b\b\b\b\b\b\b\b\b\b\b\b\b\b\b\b\b\b\b\b\b\b\b\b\b\b\b\b\b\b\b\b\b\b\b\b\b\b\b\b\b\b\b\b\b\b\b\b\b\b\b\b\b\b\b\b\b\b\b\b\b\b\b\b\b\r48/48 [==============================] - 8s 165ms/step - total_loss: 0.2222 - illumination_smoothness_loss: 1.2832e-04 - spatial_constancy_loss: 0.0495 - color_constancy: 0.0046 - exposure_control_loss: 0.1678 - val_total_loss: 0.2258 - val_illumination_smoothness_loss: 9.7998e-05 - val_spatial_constancy_loss: 0.0483 - val_color_constancy: 9.6280e-04 - val_exposure_control_loss: 0.1751\n",
            "Epoch 51/100\n",
            "48/48 [==============================] - ETA: 0s - total_loss: 0.2218 - illumination_smoothness_loss: 1.2833e-04 - spatial_constancy_loss: 0.0500 - color_constancy: 0.0046 - exposure_control_loss: 0.1670"
          ]
        },
        {
          "output_type": "stream",
          "name": "stderr",
          "text": [
            "WARNING:tensorflow:Compiled the loaded model, but the compiled metrics have yet to be built. `model.compile_metrics` will be empty until you train or evaluate the model.\n",
            "\u001b[34m\u001b[1mwandb\u001b[0m: Adding directory to artifact (./checkpoint)... Done. 0.0s\n"
          ]
        },
        {
          "output_type": "stream",
          "name": "stdout",
          "text": [
            "\b\b\b\b\b\b\b\b\b\b\b\b\b\b\b\b\b\b\b\b\b\b\b\b\b\b\b\b\b\b\b\b\b\b\b\b\b\b\b\b\b\b\b\b\b\b\b\b\b\b\b\b\b\b\b\b\b\b\b\b\b\b\b\b\b\b\b\b\b\b\b\b\b\b\b\b\b\b\b\b\b\b\b\b\b\b\b\b\b\b\b\b\b\b\b\b\b\b\b\b\b\b\b\b\b\b\b\b\b\b\b\b\b\b\b\b\b\b\b\b\b\b\b\b\b\b\b\b\b\b\b\b\b\b\b\b\b\b\b\b\b\b\b\b\b\b\b\b\b\b\b\b\b\b\b\b\b\b\b\b\b\b\b\b\b\b\b\b\b\b\b\b\b\b\b\b\b\b\b\b\b\b\b\b\b\b\b\b\b\b\b\b\b\b\b\b\b\b\b\b\b\b\b\r48/48 [==============================] - 8s 168ms/step - total_loss: 0.2222 - illumination_smoothness_loss: 1.2735e-04 - spatial_constancy_loss: 0.0495 - color_constancy: 0.0046 - exposure_control_loss: 0.1678 - val_total_loss: 0.2257 - val_illumination_smoothness_loss: 9.1368e-05 - val_spatial_constancy_loss: 0.0479 - val_color_constancy: 9.6624e-04 - val_exposure_control_loss: 0.1754\n",
            "Epoch 52/100\n",
            "48/48 [==============================] - ETA: 0s - total_loss: 0.2218 - illumination_smoothness_loss: 1.2759e-04 - spatial_constancy_loss: 0.0499 - color_constancy: 0.0046 - exposure_control_loss: 0.1670"
          ]
        },
        {
          "output_type": "stream",
          "name": "stderr",
          "text": [
            "WARNING:tensorflow:Compiled the loaded model, but the compiled metrics have yet to be built. `model.compile_metrics` will be empty until you train or evaluate the model.\n",
            "\u001b[34m\u001b[1mwandb\u001b[0m: Adding directory to artifact (./checkpoint)... Done. 0.0s\n"
          ]
        },
        {
          "output_type": "stream",
          "name": "stdout",
          "text": [
            "\b\b\b\b\b\b\b\b\b\b\b\b\b\b\b\b\b\b\b\b\b\b\b\b\b\b\b\b\b\b\b\b\b\b\b\b\b\b\b\b\b\b\b\b\b\b\b\b\b\b\b\b\b\b\b\b\b\b\b\b\b\b\b\b\b\b\b\b\b\b\b\b\b\b\b\b\b\b\b\b\b\b\b\b\b\b\b\b\b\b\b\b\b\b\b\b\b\b\b\b\b\b\b\b\b\b\b\b\b\b\b\b\b\b\b\b\b\b\b\b\b\b\b\b\b\b\b\b\b\b\b\b\b\b\b\b\b\b\b\b\b\b\b\b\b\b\b\b\b\b\b\b\b\b\b\b\b\b\b\b\b\b\b\b\b\b\b\b\b\b\b\b\b\b\b\b\b\b\b\b\b\b\b\b\b\b\b\b\b\b\b\b\b\b\b\b\b\b\b\b\b\b\b\r48/48 [==============================] - 8s 173ms/step - total_loss: 0.2221 - illumination_smoothness_loss: 1.2664e-04 - spatial_constancy_loss: 0.0495 - color_constancy: 0.0046 - exposure_control_loss: 0.1678 - val_total_loss: 0.2257 - val_illumination_smoothness_loss: 9.2760e-05 - val_spatial_constancy_loss: 0.0478 - val_color_constancy: 9.6224e-04 - val_exposure_control_loss: 0.1755\n",
            "Epoch 53/100\n",
            "48/48 [==============================] - ETA: 0s - total_loss: 0.2217 - illumination_smoothness_loss: 1.2632e-04 - spatial_constancy_loss: 0.0501 - color_constancy: 0.0046 - exposure_control_loss: 0.1668"
          ]
        },
        {
          "output_type": "stream",
          "name": "stderr",
          "text": [
            "WARNING:tensorflow:Compiled the loaded model, but the compiled metrics have yet to be built. `model.compile_metrics` will be empty until you train or evaluate the model.\n",
            "\u001b[34m\u001b[1mwandb\u001b[0m: Adding directory to artifact (./checkpoint)... Done. 0.0s\n"
          ]
        },
        {
          "output_type": "stream",
          "name": "stdout",
          "text": [
            "\b\b\b\b\b\b\b\b\b\b\b\b\b\b\b\b\b\b\b\b\b\b\b\b\b\b\b\b\b\b\b\b\b\b\b\b\b\b\b\b\b\b\b\b\b\b\b\b\b\b\b\b\b\b\b\b\b\b\b\b\b\b\b\b\b\b\b\b\b\b\b\b\b\b\b\b\b\b\b\b\b\b\b\b\b\b\b\b\b\b\b\b\b\b\b\b\b\b\b\b\b\b\b\b\b\b\b\b\b\b\b\b\b\b\b\b\b\b\b\b\b\b\b\b\b\b\b\b\b\b\b\b\b\b\b\b\b\b\b\b\b\b\b\b\b\b\b\b\b\b\b\b\b\b\b\b\b\b\b\b\b\b\b\b\b\b\b\b\b\b\b\b\b\b\b\b\b\b\b\b\b\b\b\b\b\b\b\b\b\b\b\b\b\b\b\b\b\b\b\b\b\b\b\r48/48 [==============================] - 8s 172ms/step - total_loss: 0.2221 - illumination_smoothness_loss: 1.2541e-04 - spatial_constancy_loss: 0.0497 - color_constancy: 0.0046 - exposure_control_loss: 0.1676 - val_total_loss: 0.2256 - val_illumination_smoothness_loss: 9.7050e-05 - val_spatial_constancy_loss: 0.0483 - val_color_constancy: 9.6381e-04 - val_exposure_control_loss: 0.1750\n",
            "Epoch 54/100\n",
            "48/48 [==============================] - ETA: 0s - total_loss: 0.2217 - illumination_smoothness_loss: 1.2493e-04 - spatial_constancy_loss: 0.0500 - color_constancy: 0.0046 - exposure_control_loss: 0.1668"
          ]
        },
        {
          "output_type": "stream",
          "name": "stderr",
          "text": [
            "WARNING:tensorflow:Compiled the loaded model, but the compiled metrics have yet to be built. `model.compile_metrics` will be empty until you train or evaluate the model.\n",
            "\u001b[34m\u001b[1mwandb\u001b[0m: Adding directory to artifact (./checkpoint)... Done. 0.0s\n"
          ]
        },
        {
          "output_type": "stream",
          "name": "stdout",
          "text": [
            "\b\b\b\b\b\b\b\b\b\b\b\b\b\b\b\b\b\b\b\b\b\b\b\b\b\b\b\b\b\b\b\b\b\b\b\b\b\b\b\b\b\b\b\b\b\b\b\b\b\b\b\b\b\b\b\b\b\b\b\b\b\b\b\b\b\b\b\b\b\b\b\b\b\b\b\b\b\b\b\b\b\b\b\b\b\b\b\b\b\b\b\b\b\b\b\b\b\b\b\b\b\b\b\b\b\b\b\b\b\b\b\b\b\b\b\b\b\b\b\b\b\b\b\b\b\b\b\b\b\b\b\b\b\b\b\b\b\b\b\b\b\b\b\b\b\b\b\b\b\b\b\b\b\b\b\b\b\b\b\b\b\b\b\b\b\b\b\b\b\b\b\b\b\b\b\b\b\b\b\b\b\b\b\b\b\b\b\b\b\b\b\b\b\b\b\b\b\b\b\b\b\b\b\r48/48 [==============================] - 9s 184ms/step - total_loss: 0.2220 - illumination_smoothness_loss: 1.2397e-04 - spatial_constancy_loss: 0.0496 - color_constancy: 0.0046 - exposure_control_loss: 0.1676 - val_total_loss: 0.2256 - val_illumination_smoothness_loss: 9.3058e-05 - val_spatial_constancy_loss: 0.0479 - val_color_constancy: 9.5944e-04 - val_exposure_control_loss: 0.1753\n",
            "Epoch 55/100\n",
            "48/48 [==============================] - ETA: 0s - total_loss: 0.2216 - illumination_smoothness_loss: 1.2355e-04 - spatial_constancy_loss: 0.0501 - color_constancy: 0.0046 - exposure_control_loss: 0.1667"
          ]
        },
        {
          "output_type": "stream",
          "name": "stderr",
          "text": [
            "WARNING:tensorflow:Compiled the loaded model, but the compiled metrics have yet to be built. `model.compile_metrics` will be empty until you train or evaluate the model.\n",
            "\u001b[34m\u001b[1mwandb\u001b[0m: Adding directory to artifact (./checkpoint)... Done. 0.0s\n"
          ]
        },
        {
          "output_type": "stream",
          "name": "stdout",
          "text": [
            "\b\b\b\b\b\b\b\b\b\b\b\b\b\b\b\b\b\b\b\b\b\b\b\b\b\b\b\b\b\b\b\b\b\b\b\b\b\b\b\b\b\b\b\b\b\b\b\b\b\b\b\b\b\b\b\b\b\b\b\b\b\b\b\b\b\b\b\b\b\b\b\b\b\b\b\b\b\b\b\b\b\b\b\b\b\b\b\b\b\b\b\b\b\b\b\b\b\b\b\b\b\b\b\b\b\b\b\b\b\b\b\b\b\b\b\b\b\b\b\b\b\b\b\b\b\b\b\b\b\b\b\b\b\b\b\b\b\b\b\b\b\b\b\b\b\b\b\b\b\b\b\b\b\b\b\b\b\b\b\b\b\b\b\b\b\b\b\b\b\b\b\b\b\b\b\b\b\b\b\b\b\b\b\b\b\b\b\b\b\b\b\b\b\b\b\b\b\b\b\b\b\b\b\r48/48 [==============================] - 8s 166ms/step - total_loss: 0.2219 - illumination_smoothness_loss: 1.2256e-04 - spatial_constancy_loss: 0.0497 - color_constancy: 0.0046 - exposure_control_loss: 0.1675 - val_total_loss: 0.2254 - val_illumination_smoothness_loss: 8.9979e-05 - val_spatial_constancy_loss: 0.0477 - val_color_constancy: 9.5717e-04 - val_exposure_control_loss: 0.1755\n",
            "Epoch 56/100\n",
            "48/48 [==============================] - ETA: 0s - total_loss: 0.2215 - illumination_smoothness_loss: 1.2332e-04 - spatial_constancy_loss: 0.0501 - color_constancy: 0.0046 - exposure_control_loss: 0.1667"
          ]
        },
        {
          "output_type": "stream",
          "name": "stderr",
          "text": [
            "WARNING:tensorflow:Compiled the loaded model, but the compiled metrics have yet to be built. `model.compile_metrics` will be empty until you train or evaluate the model.\n",
            "\u001b[34m\u001b[1mwandb\u001b[0m: Adding directory to artifact (./checkpoint)... Done. 0.0s\n"
          ]
        },
        {
          "output_type": "stream",
          "name": "stdout",
          "text": [
            "\b\b\b\b\b\b\b\b\b\b\b\b\b\b\b\b\b\b\b\b\b\b\b\b\b\b\b\b\b\b\b\b\b\b\b\b\b\b\b\b\b\b\b\b\b\b\b\b\b\b\b\b\b\b\b\b\b\b\b\b\b\b\b\b\b\b\b\b\b\b\b\b\b\b\b\b\b\b\b\b\b\b\b\b\b\b\b\b\b\b\b\b\b\b\b\b\b\b\b\b\b\b\b\b\b\b\b\b\b\b\b\b\b\b\b\b\b\b\b\b\b\b\b\b\b\b\b\b\b\b\b\b\b\b\b\b\b\b\b\b\b\b\b\b\b\b\b\b\b\b\b\b\b\b\b\b\b\b\b\b\b\b\b\b\b\b\b\b\b\b\b\b\b\b\b\b\b\b\b\b\b\b\b\b\b\b\b\b\b\b\b\b\b\b\b\b\b\b\b\b\b\b\b\r48/48 [==============================] - 8s 161ms/step - total_loss: 0.2219 - illumination_smoothness_loss: 1.2233e-04 - spatial_constancy_loss: 0.0497 - color_constancy: 0.0046 - exposure_control_loss: 0.1675 - val_total_loss: 0.2254 - val_illumination_smoothness_loss: 9.0171e-05 - val_spatial_constancy_loss: 0.0477 - val_color_constancy: 9.6164e-04 - val_exposure_control_loss: 0.1755\n",
            "Epoch 57/100\n",
            "48/48 [==============================] - ETA: 0s - total_loss: 0.2215 - illumination_smoothness_loss: 1.2267e-04 - spatial_constancy_loss: 0.0502 - color_constancy: 0.0046 - exposure_control_loss: 0.1665"
          ]
        },
        {
          "output_type": "stream",
          "name": "stderr",
          "text": [
            "WARNING:tensorflow:Compiled the loaded model, but the compiled metrics have yet to be built. `model.compile_metrics` will be empty until you train or evaluate the model.\n",
            "\u001b[34m\u001b[1mwandb\u001b[0m: Adding directory to artifact (./checkpoint)... Done. 0.0s\n"
          ]
        },
        {
          "output_type": "stream",
          "name": "stdout",
          "text": [
            "\b\b\b\b\b\b\b\b\b\b\b\b\b\b\b\b\b\b\b\b\b\b\b\b\b\b\b\b\b\b\b\b\b\b\b\b\b\b\b\b\b\b\b\b\b\b\b\b\b\b\b\b\b\b\b\b\b\b\b\b\b\b\b\b\b\b\b\b\b\b\b\b\b\b\b\b\b\b\b\b\b\b\b\b\b\b\b\b\b\b\b\b\b\b\b\b\b\b\b\b\b\b\b\b\b\b\b\b\b\b\b\b\b\b\b\b\b\b\b\b\b\b\b\b\b\b\b\b\b\b\b\b\b\b\b\b\b\b\b\b\b\b\b\b\b\b\b\b\b\b\b\b\b\b\b\b\b\b\b\b\b\b\b\b\b\b\b\b\b\b\b\b\b\b\b\b\b\b\b\b\b\b\b\b\b\b\b\b\b\b\b\b\b\b\b\b\b\b\b\b\b\b\b\r48/48 [==============================] - 9s 178ms/step - total_loss: 0.2218 - illumination_smoothness_loss: 1.2168e-04 - spatial_constancy_loss: 0.0497 - color_constancy: 0.0046 - exposure_control_loss: 0.1673 - val_total_loss: 0.2254 - val_illumination_smoothness_loss: 9.2016e-05 - val_spatial_constancy_loss: 0.0480 - val_color_constancy: 9.6572e-04 - val_exposure_control_loss: 0.1751\n",
            "Epoch 58/100\n",
            "48/48 [==============================] - ETA: 0s - total_loss: 0.2214 - illumination_smoothness_loss: 1.2169e-04 - spatial_constancy_loss: 0.0501 - color_constancy: 0.0046 - exposure_control_loss: 0.1666"
          ]
        },
        {
          "output_type": "stream",
          "name": "stderr",
          "text": [
            "WARNING:tensorflow:Compiled the loaded model, but the compiled metrics have yet to be built. `model.compile_metrics` will be empty until you train or evaluate the model.\n",
            "\u001b[34m\u001b[1mwandb\u001b[0m: Adding directory to artifact (./checkpoint)... Done. 0.0s\n"
          ]
        },
        {
          "output_type": "stream",
          "name": "stdout",
          "text": [
            "\b\b\b\b\b\b\b\b\b\b\b\b\b\b\b\b\b\b\b\b\b\b\b\b\b\b\b\b\b\b\b\b\b\b\b\b\b\b\b\b\b\b\b\b\b\b\b\b\b\b\b\b\b\b\b\b\b\b\b\b\b\b\b\b\b\b\b\b\b\b\b\b\b\b\b\b\b\b\b\b\b\b\b\b\b\b\b\b\b\b\b\b\b\b\b\b\b\b\b\b\b\b\b\b\b\b\b\b\b\b\b\b\b\b\b\b\b\b\b\b\b\b\b\b\b\b\b\b\b\b\b\b\b\b\b\b\b\b\b\b\b\b\b\b\b\b\b\b\b\b\b\b\b\b\b\b\b\b\b\b\b\b\b\b\b\b\b\b\b\b\b\b\b\b\b\b\b\b\b\b\b\b\b\b\b\b\b\b\b\b\b\b\b\b\b\b\b\b\b\b\b\b\b\r48/48 [==============================] - 9s 182ms/step - total_loss: 0.2218 - illumination_smoothness_loss: 1.2065e-04 - spatial_constancy_loss: 0.0497 - color_constancy: 0.0046 - exposure_control_loss: 0.1674 - val_total_loss: 0.2253 - val_illumination_smoothness_loss: 8.7344e-05 - val_spatial_constancy_loss: 0.0476 - val_color_constancy: 9.6457e-04 - val_exposure_control_loss: 0.1755\n",
            "Epoch 59/100\n",
            "48/48 [==============================] - ETA: 0s - total_loss: 0.2214 - illumination_smoothness_loss: 1.2253e-04 - spatial_constancy_loss: 0.0502 - color_constancy: 0.0046 - exposure_control_loss: 0.1664"
          ]
        },
        {
          "output_type": "stream",
          "name": "stderr",
          "text": [
            "WARNING:tensorflow:Compiled the loaded model, but the compiled metrics have yet to be built. `model.compile_metrics` will be empty until you train or evaluate the model.\n",
            "\u001b[34m\u001b[1mwandb\u001b[0m: Adding directory to artifact (./checkpoint)... Done. 0.0s\n"
          ]
        },
        {
          "output_type": "stream",
          "name": "stdout",
          "text": [
            "\b\b\b\b\b\b\b\b\b\b\b\b\b\b\b\b\b\b\b\b\b\b\b\b\b\b\b\b\b\b\b\b\b\b\b\b\b\b\b\b\b\b\b\b\b\b\b\b\b\b\b\b\b\b\b\b\b\b\b\b\b\b\b\b\b\b\b\b\b\b\b\b\b\b\b\b\b\b\b\b\b\b\b\b\b\b\b\b\b\b\b\b\b\b\b\b\b\b\b\b\b\b\b\b\b\b\b\b\b\b\b\b\b\b\b\b\b\b\b\b\b\b\b\b\b\b\b\b\b\b\b\b\b\b\b\b\b\b\b\b\b\b\b\b\b\b\b\b\b\b\b\b\b\b\b\b\b\b\b\b\b\b\b\b\b\b\b\b\b\b\b\b\b\b\b\b\b\b\b\b\b\b\b\b\b\b\b\b\b\b\b\b\b\b\b\b\b\b\b\b\b\b\b\r48/48 [==============================] - 8s 163ms/step - total_loss: 0.2217 - illumination_smoothness_loss: 1.2146e-04 - spatial_constancy_loss: 0.0498 - color_constancy: 0.0046 - exposure_control_loss: 0.1672 - val_total_loss: 0.2252 - val_illumination_smoothness_loss: 8.6098e-05 - val_spatial_constancy_loss: 0.0473 - val_color_constancy: 9.5837e-04 - val_exposure_control_loss: 0.1757\n",
            "Epoch 60/100\n",
            "48/48 [==============================] - ETA: 0s - total_loss: 0.2213 - illumination_smoothness_loss: 1.2133e-04 - spatial_constancy_loss: 0.0502 - color_constancy: 0.0046 - exposure_control_loss: 0.1664"
          ]
        },
        {
          "output_type": "stream",
          "name": "stderr",
          "text": [
            "WARNING:tensorflow:Compiled the loaded model, but the compiled metrics have yet to be built. `model.compile_metrics` will be empty until you train or evaluate the model.\n",
            "\u001b[34m\u001b[1mwandb\u001b[0m: Adding directory to artifact (./checkpoint)... Done. 0.0s\n"
          ]
        },
        {
          "output_type": "stream",
          "name": "stdout",
          "text": [
            "\b\b\b\b\b\b\b\b\b\b\b\b\b\b\b\b\b\b\b\b\b\b\b\b\b\b\b\b\b\b\b\b\b\b\b\b\b\b\b\b\b\b\b\b\b\b\b\b\b\b\b\b\b\b\b\b\b\b\b\b\b\b\b\b\b\b\b\b\b\b\b\b\b\b\b\b\b\b\b\b\b\b\b\b\b\b\b\b\b\b\b\b\b\b\b\b\b\b\b\b\b\b\b\b\b\b\b\b\b\b\b\b\b\b\b\b\b\b\b\b\b\b\b\b\b\b\b\b\b\b\b\b\b\b\b\b\b\b\b\b\b\b\b\b\b\b\b\b\b\b\b\b\b\b\b\b\b\b\b\b\b\b\b\b\b\b\b\b\b\b\b\b\b\b\b\b\b\b\b\b\b\b\b\b\b\b\b\b\b\b\b\b\b\b\b\b\b\b\b\b\b\b\b\r48/48 [==============================] - 8s 161ms/step - total_loss: 0.2217 - illumination_smoothness_loss: 1.2024e-04 - spatial_constancy_loss: 0.0497 - color_constancy: 0.0046 - exposure_control_loss: 0.1672 - val_total_loss: 0.2251 - val_illumination_smoothness_loss: 8.4268e-05 - val_spatial_constancy_loss: 0.0473 - val_color_constancy: 9.6458e-04 - val_exposure_control_loss: 0.1756\n",
            "Epoch 61/100\n",
            "48/48 [==============================] - ETA: 0s - total_loss: 0.2213 - illumination_smoothness_loss: 1.2260e-04 - spatial_constancy_loss: 0.0502 - color_constancy: 0.0047 - exposure_control_loss: 0.1663"
          ]
        },
        {
          "output_type": "stream",
          "name": "stderr",
          "text": [
            "WARNING:tensorflow:Compiled the loaded model, but the compiled metrics have yet to be built. `model.compile_metrics` will be empty until you train or evaluate the model.\n",
            "\u001b[34m\u001b[1mwandb\u001b[0m: Adding directory to artifact (./checkpoint)... Done. 0.0s\n"
          ]
        },
        {
          "output_type": "stream",
          "name": "stdout",
          "text": [
            "\b\b\b\b\b\b\b\b\b\b\b\b\b\b\b\b\b\b\b\b\b\b\b\b\b\b\b\b\b\b\b\b\b\b\b\b\b\b\b\b\b\b\b\b\b\b\b\b\b\b\b\b\b\b\b\b\b\b\b\b\b\b\b\b\b\b\b\b\b\b\b\b\b\b\b\b\b\b\b\b\b\b\b\b\b\b\b\b\b\b\b\b\b\b\b\b\b\b\b\b\b\b\b\b\b\b\b\b\b\b\b\b\b\b\b\b\b\b\b\b\b\b\b\b\b\b\b\b\b\b\b\b\b\b\b\b\b\b\b\b\b\b\b\b\b\b\b\b\b\b\b\b\b\b\b\b\b\b\b\b\b\b\b\b\b\b\b\b\b\b\b\b\b\b\b\b\b\b\b\b\b\b\b\b\b\b\b\b\b\b\b\b\b\b\b\b\b\b\b\b\b\b\b\r48/48 [==============================] - 8s 170ms/step - total_loss: 0.2217 - illumination_smoothness_loss: 1.2147e-04 - spatial_constancy_loss: 0.0498 - color_constancy: 0.0046 - exposure_control_loss: 0.1672 - val_total_loss: 0.2251 - val_illumination_smoothness_loss: 8.4369e-05 - val_spatial_constancy_loss: 0.0473 - val_color_constancy: 9.7144e-04 - val_exposure_control_loss: 0.1755\n",
            "Epoch 62/100\n",
            "48/48 [==============================] - ETA: 0s - total_loss: 0.2212 - illumination_smoothness_loss: 1.2160e-04 - spatial_constancy_loss: 0.0502 - color_constancy: 0.0047 - exposure_control_loss: 0.1663"
          ]
        },
        {
          "output_type": "stream",
          "name": "stderr",
          "text": [
            "WARNING:tensorflow:Compiled the loaded model, but the compiled metrics have yet to be built. `model.compile_metrics` will be empty until you train or evaluate the model.\n",
            "\u001b[34m\u001b[1mwandb\u001b[0m: Adding directory to artifact (./checkpoint)... Done. 0.0s\n"
          ]
        },
        {
          "output_type": "stream",
          "name": "stdout",
          "text": [
            "\b\b\b\b\b\b\b\b\b\b\b\b\b\b\b\b\b\b\b\b\b\b\b\b\b\b\b\b\b\b\b\b\b\b\b\b\b\b\b\b\b\b\b\b\b\b\b\b\b\b\b\b\b\b\b\b\b\b\b\b\b\b\b\b\b\b\b\b\b\b\b\b\b\b\b\b\b\b\b\b\b\b\b\b\b\b\b\b\b\b\b\b\b\b\b\b\b\b\b\b\b\b\b\b\b\b\b\b\b\b\b\b\b\b\b\b\b\b\b\b\b\b\b\b\b\b\b\b\b\b\b\b\b\b\b\b\b\b\b\b\b\b\b\b\b\b\b\b\b\b\b\b\b\b\b\b\b\b\b\b\b\b\b\b\b\b\b\b\b\b\b\b\b\b\b\b\b\b\b\b\b\b\b\b\b\b\b\b\b\b\b\b\b\b\b\b\b\b\b\b\b\b\b\r48/48 [==============================] - 9s 184ms/step - total_loss: 0.2216 - illumination_smoothness_loss: 1.2045e-04 - spatial_constancy_loss: 0.0498 - color_constancy: 0.0046 - exposure_control_loss: 0.1671 - val_total_loss: 0.2249 - val_illumination_smoothness_loss: 7.9760e-05 - val_spatial_constancy_loss: 0.0472 - val_color_constancy: 9.6608e-04 - val_exposure_control_loss: 0.1757\n",
            "Epoch 63/100\n",
            "48/48 [==============================] - ETA: 0s - total_loss: 0.2211 - illumination_smoothness_loss: 1.2005e-04 - spatial_constancy_loss: 0.0502 - color_constancy: 0.0047 - exposure_control_loss: 0.1662"
          ]
        },
        {
          "output_type": "stream",
          "name": "stderr",
          "text": [
            "WARNING:tensorflow:Compiled the loaded model, but the compiled metrics have yet to be built. `model.compile_metrics` will be empty until you train or evaluate the model.\n",
            "\u001b[34m\u001b[1mwandb\u001b[0m: Adding directory to artifact (./checkpoint)... Done. 0.0s\n"
          ]
        },
        {
          "output_type": "stream",
          "name": "stdout",
          "text": [
            "\b\b\b\b\b\b\b\b\b\b\b\b\b\b\b\b\b\b\b\b\b\b\b\b\b\b\b\b\b\b\b\b\b\b\b\b\b\b\b\b\b\b\b\b\b\b\b\b\b\b\b\b\b\b\b\b\b\b\b\b\b\b\b\b\b\b\b\b\b\b\b\b\b\b\b\b\b\b\b\b\b\b\b\b\b\b\b\b\b\b\b\b\b\b\b\b\b\b\b\b\b\b\b\b\b\b\b\b\b\b\b\b\b\b\b\b\b\b\b\b\b\b\b\b\b\b\b\b\b\b\b\b\b\b\b\b\b\b\b\b\b\b\b\b\b\b\b\b\b\b\b\b\b\b\b\b\b\b\b\b\b\b\b\b\b\b\b\b\b\b\b\b\b\b\b\b\b\b\b\b\b\b\b\b\b\b\b\b\b\b\b\b\b\b\b\b\b\b\b\b\b\b\b\r48/48 [==============================] - 8s 167ms/step - total_loss: 0.2215 - illumination_smoothness_loss: 1.1893e-04 - spatial_constancy_loss: 0.0498 - color_constancy: 0.0046 - exposure_control_loss: 0.1670 - val_total_loss: 0.2249 - val_illumination_smoothness_loss: 7.9981e-05 - val_spatial_constancy_loss: 0.0472 - val_color_constancy: 9.6808e-04 - val_exposure_control_loss: 0.1756\n",
            "Epoch 64/100\n",
            "48/48 [==============================] - ETA: 0s - total_loss: 0.2211 - illumination_smoothness_loss: 1.1960e-04 - spatial_constancy_loss: 0.0503 - color_constancy: 0.0047 - exposure_control_loss: 0.1661"
          ]
        },
        {
          "output_type": "stream",
          "name": "stderr",
          "text": [
            "WARNING:tensorflow:Compiled the loaded model, but the compiled metrics have yet to be built. `model.compile_metrics` will be empty until you train or evaluate the model.\n",
            "\u001b[34m\u001b[1mwandb\u001b[0m: Adding directory to artifact (./checkpoint)... Done. 0.0s\n"
          ]
        },
        {
          "output_type": "stream",
          "name": "stdout",
          "text": [
            "\b\b\b\b\b\b\b\b\b\b\b\b\b\b\b\b\b\b\b\b\b\b\b\b\b\b\b\b\b\b\b\b\b\b\b\b\b\b\b\b\b\b\b\b\b\b\b\b\b\b\b\b\b\b\b\b\b\b\b\b\b\b\b\b\b\b\b\b\b\b\b\b\b\b\b\b\b\b\b\b\b\b\b\b\b\b\b\b\b\b\b\b\b\b\b\b\b\b\b\b\b\b\b\b\b\b\b\b\b\b\b\b\b\b\b\b\b\b\b\b\b\b\b\b\b\b\b\b\b\b\b\b\b\b\b\b\b\b\b\b\b\b\b\b\b\b\b\b\b\b\b\b\b\b\b\b\b\b\b\b\b\b\b\b\b\b\b\b\b\b\b\b\b\b\b\b\b\b\b\b\b\b\b\b\b\b\b\b\b\b\b\b\b\b\b\b\b\b\b\b\b\b\b\r48/48 [==============================] - 8s 164ms/step - total_loss: 0.2214 - illumination_smoothness_loss: 1.1850e-04 - spatial_constancy_loss: 0.0499 - color_constancy: 0.0046 - exposure_control_loss: 0.1669 - val_total_loss: 0.2248 - val_illumination_smoothness_loss: 8.0327e-05 - val_spatial_constancy_loss: 0.0472 - val_color_constancy: 9.6928e-04 - val_exposure_control_loss: 0.1755\n",
            "Epoch 65/100\n",
            "48/48 [==============================] - ETA: 0s - total_loss: 0.2210 - illumination_smoothness_loss: 1.1909e-04 - spatial_constancy_loss: 0.0503 - color_constancy: 0.0047 - exposure_control_loss: 0.1660"
          ]
        },
        {
          "output_type": "stream",
          "name": "stderr",
          "text": [
            "WARNING:tensorflow:Compiled the loaded model, but the compiled metrics have yet to be built. `model.compile_metrics` will be empty until you train or evaluate the model.\n",
            "\u001b[34m\u001b[1mwandb\u001b[0m: Adding directory to artifact (./checkpoint)... Done. 0.0s\n"
          ]
        },
        {
          "output_type": "stream",
          "name": "stdout",
          "text": [
            "\b\b\b\b\b\b\b\b\b\b\b\b\b\b\b\b\b\b\b\b\b\b\b\b\b\b\b\b\b\b\b\b\b\b\b\b\b\b\b\b\b\b\b\b\b\b\b\b\b\b\b\b\b\b\b\b\b\b\b\b\b\b\b\b\b\b\b\b\b\b\b\b\b\b\b\b\b\b\b\b\b\b\b\b\b\b\b\b\b\b\b\b\b\b\b\b\b\b\b\b\b\b\b\b\b\b\b\b\b\b\b\b\b\b\b\b\b\b\b\b\b\b\b\b\b\b\b\b\b\b\b\b\b\b\b\b\b\b\b\b\b\b\b\b\b\b\b\b\b\b\b\b\b\b\b\b\b\b\b\b\b\b\b\b\b\b\b\b\b\b\b\b\b\b\b\b\b\b\b\b\b\b\b\b\b\b\b\b\b\b\b\b\b\b\b\b\b\b\b\b\b\b\b\r48/48 [==============================] - 8s 169ms/step - total_loss: 0.2214 - illumination_smoothness_loss: 1.1798e-04 - spatial_constancy_loss: 0.0499 - color_constancy: 0.0046 - exposure_control_loss: 0.1668 - val_total_loss: 0.2248 - val_illumination_smoothness_loss: 7.9243e-05 - val_spatial_constancy_loss: 0.0471 - val_color_constancy: 9.7060e-04 - val_exposure_control_loss: 0.1756\n",
            "Epoch 66/100\n",
            "48/48 [==============================] - ETA: 0s - total_loss: 0.2210 - illumination_smoothness_loss: 1.1866e-04 - spatial_constancy_loss: 0.0503 - color_constancy: 0.0047 - exposure_control_loss: 0.1660"
          ]
        },
        {
          "output_type": "stream",
          "name": "stderr",
          "text": [
            "WARNING:tensorflow:Compiled the loaded model, but the compiled metrics have yet to be built. `model.compile_metrics` will be empty until you train or evaluate the model.\n",
            "\u001b[34m\u001b[1mwandb\u001b[0m: Adding directory to artifact (./checkpoint)... Done. 0.0s\n"
          ]
        },
        {
          "output_type": "stream",
          "name": "stdout",
          "text": [
            "\b\b\b\b\b\b\b\b\b\b\b\b\b\b\b\b\b\b\b\b\b\b\b\b\b\b\b\b\b\b\b\b\b\b\b\b\b\b\b\b\b\b\b\b\b\b\b\b\b\b\b\b\b\b\b\b\b\b\b\b\b\b\b\b\b\b\b\b\b\b\b\b\b\b\b\b\b\b\b\b\b\b\b\b\b\b\b\b\b\b\b\b\b\b\b\b\b\b\b\b\b\b\b\b\b\b\b\b\b\b\b\b\b\b\b\b\b\b\b\b\b\b\b\b\b\b\b\b\b\b\b\b\b\b\b\b\b\b\b\b\b\b\b\b\b\b\b\b\b\b\b\b\b\b\b\b\b\b\b\b\b\b\b\b\b\b\b\b\b\b\b\b\b\b\b\b\b\b\b\b\b\b\b\b\b\b\b\b\b\b\b\b\b\b\b\b\b\b\b\b\b\b\b\r48/48 [==============================] - 8s 169ms/step - total_loss: 0.2213 - illumination_smoothness_loss: 1.1755e-04 - spatial_constancy_loss: 0.0499 - color_constancy: 0.0046 - exposure_control_loss: 0.1668 - val_total_loss: 0.2247 - val_illumination_smoothness_loss: 7.8966e-05 - val_spatial_constancy_loss: 0.0471 - val_color_constancy: 9.7171e-04 - val_exposure_control_loss: 0.1755\n",
            "Epoch 67/100\n",
            "48/48 [==============================] - ETA: 0s - total_loss: 0.2209 - illumination_smoothness_loss: 1.1845e-04 - spatial_constancy_loss: 0.0503 - color_constancy: 0.0047 - exposure_control_loss: 0.1659"
          ]
        },
        {
          "output_type": "stream",
          "name": "stderr",
          "text": [
            "WARNING:tensorflow:Compiled the loaded model, but the compiled metrics have yet to be built. `model.compile_metrics` will be empty until you train or evaluate the model.\n",
            "\u001b[34m\u001b[1mwandb\u001b[0m: Adding directory to artifact (./checkpoint)... Done. 0.0s\n"
          ]
        },
        {
          "output_type": "stream",
          "name": "stdout",
          "text": [
            "\b\b\b\b\b\b\b\b\b\b\b\b\b\b\b\b\b\b\b\b\b\b\b\b\b\b\b\b\b\b\b\b\b\b\b\b\b\b\b\b\b\b\b\b\b\b\b\b\b\b\b\b\b\b\b\b\b\b\b\b\b\b\b\b\b\b\b\b\b\b\b\b\b\b\b\b\b\b\b\b\b\b\b\b\b\b\b\b\b\b\b\b\b\b\b\b\b\b\b\b\b\b\b\b\b\b\b\b\b\b\b\b\b\b\b\b\b\b\b\b\b\b\b\b\b\b\b\b\b\b\b\b\b\b\b\b\b\b\b\b\b\b\b\b\b\b\b\b\b\b\b\b\b\b\b\b\b\b\b\b\b\b\b\b\b\b\b\b\b\b\b\b\b\b\b\b\b\b\b\b\b\b\b\b\b\b\b\b\b\b\b\b\b\b\b\b\b\b\b\b\b\b\b\r48/48 [==============================] - 9s 183ms/step - total_loss: 0.2213 - illumination_smoothness_loss: 1.1734e-04 - spatial_constancy_loss: 0.0499 - color_constancy: 0.0046 - exposure_control_loss: 0.1667 - val_total_loss: 0.2247 - val_illumination_smoothness_loss: 7.8943e-05 - val_spatial_constancy_loss: 0.0471 - val_color_constancy: 9.7358e-04 - val_exposure_control_loss: 0.1755\n",
            "Epoch 68/100\n",
            "48/48 [==============================] - ETA: 0s - total_loss: 0.2209 - illumination_smoothness_loss: 1.1785e-04 - spatial_constancy_loss: 0.0504 - color_constancy: 0.0047 - exposure_control_loss: 0.1658"
          ]
        },
        {
          "output_type": "stream",
          "name": "stderr",
          "text": [
            "WARNING:tensorflow:Compiled the loaded model, but the compiled metrics have yet to be built. `model.compile_metrics` will be empty until you train or evaluate the model.\n",
            "\u001b[34m\u001b[1mwandb\u001b[0m: Adding directory to artifact (./checkpoint)... Done. 0.0s\n"
          ]
        },
        {
          "output_type": "stream",
          "name": "stdout",
          "text": [
            "\b\b\b\b\b\b\b\b\b\b\b\b\b\b\b\b\b\b\b\b\b\b\b\b\b\b\b\b\b\b\b\b\b\b\b\b\b\b\b\b\b\b\b\b\b\b\b\b\b\b\b\b\b\b\b\b\b\b\b\b\b\b\b\b\b\b\b\b\b\b\b\b\b\b\b\b\b\b\b\b\b\b\b\b\b\b\b\b\b\b\b\b\b\b\b\b\b\b\b\b\b\b\b\b\b\b\b\b\b\b\b\b\b\b\b\b\b\b\b\b\b\b\b\b\b\b\b\b\b\b\b\b\b\b\b\b\b\b\b\b\b\b\b\b\b\b\b\b\b\b\b\b\b\b\b\b\b\b\b\b\b\b\b\b\b\b\b\b\b\b\b\b\b\b\b\b\b\b\b\b\b\b\b\b\b\b\b\b\b\b\b\b\b\b\b\b\b\b\b\b\b\b\b\r48/48 [==============================] - 9s 183ms/step - total_loss: 0.2212 - illumination_smoothness_loss: 1.1672e-04 - spatial_constancy_loss: 0.0500 - color_constancy: 0.0047 - exposure_control_loss: 0.1666 - val_total_loss: 0.2246 - val_illumination_smoothness_loss: 7.6071e-05 - val_spatial_constancy_loss: 0.0469 - val_color_constancy: 9.7240e-04 - val_exposure_control_loss: 0.1757\n",
            "Epoch 69/100\n",
            "48/48 [==============================] - ETA: 0s - total_loss: 0.2208 - illumination_smoothness_loss: 1.1725e-04 - spatial_constancy_loss: 0.0504 - color_constancy: 0.0047 - exposure_control_loss: 0.1658"
          ]
        },
        {
          "output_type": "stream",
          "name": "stderr",
          "text": [
            "WARNING:tensorflow:Compiled the loaded model, but the compiled metrics have yet to be built. `model.compile_metrics` will be empty until you train or evaluate the model.\n",
            "\u001b[34m\u001b[1mwandb\u001b[0m: Adding directory to artifact (./checkpoint)... Done. 0.0s\n"
          ]
        },
        {
          "output_type": "stream",
          "name": "stdout",
          "text": [
            "\b\b\b\b\b\b\b\b\b\b\b\b\b\b\b\b\b\b\b\b\b\b\b\b\b\b\b\b\b\b\b\b\b\b\b\b\b\b\b\b\b\b\b\b\b\b\b\b\b\b\b\b\b\b\b\b\b\b\b\b\b\b\b\b\b\b\b\b\b\b\b\b\b\b\b\b\b\b\b\b\b\b\b\b\b\b\b\b\b\b\b\b\b\b\b\b\b\b\b\b\b\b\b\b\b\b\b\b\b\b\b\b\b\b\b\b\b\b\b\b\b\b\b\b\b\b\b\b\b\b\b\b\b\b\b\b\b\b\b\b\b\b\b\b\b\b\b\b\b\b\b\b\b\b\b\b\b\b\b\b\b\b\b\b\b\b\b\b\b\b\b\b\b\b\b\b\b\b\b\b\b\b\b\b\b\b\b\b\b\b\b\b\b\b\b\b\b\b\b\b\b\b\b\r48/48 [==============================] - 8s 172ms/step - total_loss: 0.2212 - illumination_smoothness_loss: 1.1617e-04 - spatial_constancy_loss: 0.0499 - color_constancy: 0.0047 - exposure_control_loss: 0.1666 - val_total_loss: 0.2246 - val_illumination_smoothness_loss: 8.0505e-05 - val_spatial_constancy_loss: 0.0472 - val_color_constancy: 9.7551e-04 - val_exposure_control_loss: 0.1753\n",
            "Epoch 70/100\n",
            "48/48 [==============================] - ETA: 0s - total_loss: 0.2208 - illumination_smoothness_loss: 1.1718e-04 - spatial_constancy_loss: 0.0504 - color_constancy: 0.0047 - exposure_control_loss: 0.1657"
          ]
        },
        {
          "output_type": "stream",
          "name": "stderr",
          "text": [
            "WARNING:tensorflow:Compiled the loaded model, but the compiled metrics have yet to be built. `model.compile_metrics` will be empty until you train or evaluate the model.\n",
            "\u001b[34m\u001b[1mwandb\u001b[0m: Adding directory to artifact (./checkpoint)... Done. 0.0s\n"
          ]
        },
        {
          "output_type": "stream",
          "name": "stdout",
          "text": [
            "\b\b\b\b\b\b\b\b\b\b\b\b\b\b\b\b\b\b\b\b\b\b\b\b\b\b\b\b\b\b\b\b\b\b\b\b\b\b\b\b\b\b\b\b\b\b\b\b\b\b\b\b\b\b\b\b\b\b\b\b\b\b\b\b\b\b\b\b\b\b\b\b\b\b\b\b\b\b\b\b\b\b\b\b\b\b\b\b\b\b\b\b\b\b\b\b\b\b\b\b\b\b\b\b\b\b\b\b\b\b\b\b\b\b\b\b\b\b\b\b\b\b\b\b\b\b\b\b\b\b\b\b\b\b\b\b\b\b\b\b\b\b\b\b\b\b\b\b\b\b\b\b\b\b\b\b\b\b\b\b\b\b\b\b\b\b\b\b\b\b\b\b\b\b\b\b\b\b\b\b\b\b\b\b\b\b\b\b\b\b\b\b\b\b\b\b\b\b\b\b\b\b\b\r48/48 [==============================] - 8s 172ms/step - total_loss: 0.2211 - illumination_smoothness_loss: 1.1608e-04 - spatial_constancy_loss: 0.0500 - color_constancy: 0.0047 - exposure_control_loss: 0.1665 - val_total_loss: 0.2246 - val_illumination_smoothness_loss: 7.9239e-05 - val_spatial_constancy_loss: 0.0470 - val_color_constancy: 9.7713e-04 - val_exposure_control_loss: 0.1755\n",
            "Epoch 71/100\n",
            "48/48 [==============================] - ETA: 0s - total_loss: 0.2207 - illumination_smoothness_loss: 1.1678e-04 - spatial_constancy_loss: 0.0504 - color_constancy: 0.0047 - exposure_control_loss: 0.1656"
          ]
        },
        {
          "output_type": "stream",
          "name": "stderr",
          "text": [
            "WARNING:tensorflow:Compiled the loaded model, but the compiled metrics have yet to be built. `model.compile_metrics` will be empty until you train or evaluate the model.\n",
            "\u001b[34m\u001b[1mwandb\u001b[0m: Adding directory to artifact (./checkpoint)... Done. 0.0s\n"
          ]
        },
        {
          "output_type": "stream",
          "name": "stdout",
          "text": [
            "\b\b\b\b\b\b\b\b\b\b\b\b\b\b\b\b\b\b\b\b\b\b\b\b\b\b\b\b\b\b\b\b\b\b\b\b\b\b\b\b\b\b\b\b\b\b\b\b\b\b\b\b\b\b\b\b\b\b\b\b\b\b\b\b\b\b\b\b\b\b\b\b\b\b\b\b\b\b\b\b\b\b\b\b\b\b\b\b\b\b\b\b\b\b\b\b\b\b\b\b\b\b\b\b\b\b\b\b\b\b\b\b\b\b\b\b\b\b\b\b\b\b\b\b\b\b\b\b\b\b\b\b\b\b\b\b\b\b\b\b\b\b\b\b\b\b\b\b\b\b\b\b\b\b\b\b\b\b\b\b\b\b\b\b\b\b\b\b\b\b\b\b\b\b\b\b\b\b\b\b\b\b\b\b\b\b\b\b\b\b\b\b\b\b\b\b\b\b\b\b\b\b\b\r48/48 [==============================] - 8s 169ms/step - total_loss: 0.2211 - illumination_smoothness_loss: 1.1568e-04 - spatial_constancy_loss: 0.0500 - color_constancy: 0.0047 - exposure_control_loss: 0.1664 - val_total_loss: 0.2245 - val_illumination_smoothness_loss: 7.8883e-05 - val_spatial_constancy_loss: 0.0469 - val_color_constancy: 9.7490e-04 - val_exposure_control_loss: 0.1755\n",
            "Epoch 72/100\n",
            "48/48 [==============================] - ETA: 0s - total_loss: 0.2207 - illumination_smoothness_loss: 1.1590e-04 - spatial_constancy_loss: 0.0504 - color_constancy: 0.0047 - exposure_control_loss: 0.1656"
          ]
        },
        {
          "output_type": "stream",
          "name": "stderr",
          "text": [
            "WARNING:tensorflow:Compiled the loaded model, but the compiled metrics have yet to be built. `model.compile_metrics` will be empty until you train or evaluate the model.\n",
            "\u001b[34m\u001b[1mwandb\u001b[0m: Adding directory to artifact (./checkpoint)... Done. 0.0s\n"
          ]
        },
        {
          "output_type": "stream",
          "name": "stdout",
          "text": [
            "\b\b\b\b\b\b\b\b\b\b\b\b\b\b\b\b\b\b\b\b\b\b\b\b\b\b\b\b\b\b\b\b\b\b\b\b\b\b\b\b\b\b\b\b\b\b\b\b\b\b\b\b\b\b\b\b\b\b\b\b\b\b\b\b\b\b\b\b\b\b\b\b\b\b\b\b\b\b\b\b\b\b\b\b\b\b\b\b\b\b\b\b\b\b\b\b\b\b\b\b\b\b\b\b\b\b\b\b\b\b\b\b\b\b\b\b\b\b\b\b\b\b\b\b\b\b\b\b\b\b\b\b\b\b\b\b\b\b\b\b\b\b\b\b\b\b\b\b\b\b\b\b\b\b\b\b\b\b\b\b\b\b\b\b\b\b\b\b\b\b\b\b\b\b\b\b\b\b\b\b\b\b\b\b\b\b\b\b\b\b\b\b\b\b\b\b\b\b\b\b\b\b\b\r48/48 [==============================] - 8s 170ms/step - total_loss: 0.2210 - illumination_smoothness_loss: 1.1480e-04 - spatial_constancy_loss: 0.0500 - color_constancy: 0.0047 - exposure_control_loss: 0.1664 - val_total_loss: 0.2245 - val_illumination_smoothness_loss: 7.8912e-05 - val_spatial_constancy_loss: 0.0469 - val_color_constancy: 9.7852e-04 - val_exposure_control_loss: 0.1755\n",
            "Epoch 73/100\n",
            "48/48 [==============================] - ETA: 0s - total_loss: 0.2207 - illumination_smoothness_loss: 1.1597e-04 - spatial_constancy_loss: 0.0505 - color_constancy: 0.0047 - exposure_control_loss: 0.1655"
          ]
        },
        {
          "output_type": "stream",
          "name": "stderr",
          "text": [
            "WARNING:tensorflow:Compiled the loaded model, but the compiled metrics have yet to be built. `model.compile_metrics` will be empty until you train or evaluate the model.\n",
            "\u001b[34m\u001b[1mwandb\u001b[0m: Adding directory to artifact (./checkpoint)... Done. 0.0s\n"
          ]
        },
        {
          "output_type": "stream",
          "name": "stdout",
          "text": [
            "\b\b\b\b\b\b\b\b\b\b\b\b\b\b\b\b\b\b\b\b\b\b\b\b\b\b\b\b\b\b\b\b\b\b\b\b\b\b\b\b\b\b\b\b\b\b\b\b\b\b\b\b\b\b\b\b\b\b\b\b\b\b\b\b\b\b\b\b\b\b\b\b\b\b\b\b\b\b\b\b\b\b\b\b\b\b\b\b\b\b\b\b\b\b\b\b\b\b\b\b\b\b\b\b\b\b\b\b\b\b\b\b\b\b\b\b\b\b\b\b\b\b\b\b\b\b\b\b\b\b\b\b\b\b\b\b\b\b\b\b\b\b\b\b\b\b\b\b\b\b\b\b\b\b\b\b\b\b\b\b\b\b\b\b\b\b\b\b\b\b\b\b\b\b\b\b\b\b\b\b\b\b\b\b\b\b\b\b\b\b\b\b\b\b\b\b\b\b\b\b\b\b\b\r48/48 [==============================] - 8s 164ms/step - total_loss: 0.2210 - illumination_smoothness_loss: 1.1487e-04 - spatial_constancy_loss: 0.0500 - color_constancy: 0.0047 - exposure_control_loss: 0.1664 - val_total_loss: 0.2245 - val_illumination_smoothness_loss: 7.9481e-05 - val_spatial_constancy_loss: 0.0469 - val_color_constancy: 9.7766e-04 - val_exposure_control_loss: 0.1754\n",
            "Epoch 74/100\n",
            "48/48 [==============================] - ETA: 0s - total_loss: 0.2206 - illumination_smoothness_loss: 1.1489e-04 - spatial_constancy_loss: 0.0504 - color_constancy: 0.0047 - exposure_control_loss: 0.1655"
          ]
        },
        {
          "output_type": "stream",
          "name": "stderr",
          "text": [
            "WARNING:tensorflow:Compiled the loaded model, but the compiled metrics have yet to be built. `model.compile_metrics` will be empty until you train or evaluate the model.\n",
            "\u001b[34m\u001b[1mwandb\u001b[0m: Adding directory to artifact (./checkpoint)... Done. 0.0s\n"
          ]
        },
        {
          "output_type": "stream",
          "name": "stdout",
          "text": [
            "\b\b\b\b\b\b\b\b\b\b\b\b\b\b\b\b\b\b\b\b\b\b\b\b\b\b\b\b\b\b\b\b\b\b\b\b\b\b\b\b\b\b\b\b\b\b\b\b\b\b\b\b\b\b\b\b\b\b\b\b\b\b\b\b\b\b\b\b\b\b\b\b\b\b\b\b\b\b\b\b\b\b\b\b\b\b\b\b\b\b\b\b\b\b\b\b\b\b\b\b\b\b\b\b\b\b\b\b\b\b\b\b\b\b\b\b\b\b\b\b\b\b\b\b\b\b\b\b\b\b\b\b\b\b\b\b\b\b\b\b\b\b\b\b\b\b\b\b\b\b\b\b\b\b\b\b\b\b\b\b\b\b\b\b\b\b\b\b\b\b\b\b\b\b\b\b\b\b\b\b\b\b\b\b\b\b\b\b\b\b\b\b\b\b\b\b\b\b\b\b\b\b\b\r48/48 [==============================] - 8s 166ms/step - total_loss: 0.2209 - illumination_smoothness_loss: 1.1378e-04 - spatial_constancy_loss: 0.0500 - color_constancy: 0.0047 - exposure_control_loss: 0.1663 - val_total_loss: 0.2244 - val_illumination_smoothness_loss: 7.7710e-05 - val_spatial_constancy_loss: 0.0469 - val_color_constancy: 9.7859e-04 - val_exposure_control_loss: 0.1754\n",
            "Epoch 75/100\n",
            "48/48 [==============================] - ETA: 0s - total_loss: 0.2206 - illumination_smoothness_loss: 1.1451e-04 - spatial_constancy_loss: 0.0505 - color_constancy: 0.0047 - exposure_control_loss: 0.1654"
          ]
        },
        {
          "output_type": "stream",
          "name": "stderr",
          "text": [
            "WARNING:tensorflow:Compiled the loaded model, but the compiled metrics have yet to be built. `model.compile_metrics` will be empty until you train or evaluate the model.\n",
            "\u001b[34m\u001b[1mwandb\u001b[0m: Adding directory to artifact (./checkpoint)... Done. 0.0s\n"
          ]
        },
        {
          "output_type": "stream",
          "name": "stdout",
          "text": [
            "\b\b\b\b\b\b\b\b\b\b\b\b\b\b\b\b\b\b\b\b\b\b\b\b\b\b\b\b\b\b\b\b\b\b\b\b\b\b\b\b\b\b\b\b\b\b\b\b\b\b\b\b\b\b\b\b\b\b\b\b\b\b\b\b\b\b\b\b\b\b\b\b\b\b\b\b\b\b\b\b\b\b\b\b\b\b\b\b\b\b\b\b\b\b\b\b\b\b\b\b\b\b\b\b\b\b\b\b\b\b\b\b\b\b\b\b\b\b\b\b\b\b\b\b\b\b\b\b\b\b\b\b\b\b\b\b\b\b\b\b\b\b\b\b\b\b\b\b\b\b\b\b\b\b\b\b\b\b\b\b\b\b\b\b\b\b\b\b\b\b\b\b\b\b\b\b\b\b\b\b\b\b\b\b\b\b\b\b\b\b\b\b\b\b\b\b\b\b\b\b\b\b\b\r48/48 [==============================] - 8s 172ms/step - total_loss: 0.2209 - illumination_smoothness_loss: 1.1339e-04 - spatial_constancy_loss: 0.0501 - color_constancy: 0.0047 - exposure_control_loss: 0.1662 - val_total_loss: 0.2244 - val_illumination_smoothness_loss: 7.7415e-05 - val_spatial_constancy_loss: 0.0469 - val_color_constancy: 9.8014e-04 - val_exposure_control_loss: 0.1754\n",
            "Epoch 76/100\n",
            "48/48 [==============================] - ETA: 0s - total_loss: 0.2205 - illumination_smoothness_loss: 1.1380e-04 - spatial_constancy_loss: 0.0505 - color_constancy: 0.0047 - exposure_control_loss: 0.1654"
          ]
        },
        {
          "output_type": "stream",
          "name": "stderr",
          "text": [
            "WARNING:tensorflow:Compiled the loaded model, but the compiled metrics have yet to be built. `model.compile_metrics` will be empty until you train or evaluate the model.\n",
            "\u001b[34m\u001b[1mwandb\u001b[0m: Adding directory to artifact (./checkpoint)... Done. 0.0s\n"
          ]
        },
        {
          "output_type": "stream",
          "name": "stdout",
          "text": [
            "\b\b\b\b\b\b\b\b\b\b\b\b\b\b\b\b\b\b\b\b\b\b\b\b\b\b\b\b\b\b\b\b\b\b\b\b\b\b\b\b\b\b\b\b\b\b\b\b\b\b\b\b\b\b\b\b\b\b\b\b\b\b\b\b\b\b\b\b\b\b\b\b\b\b\b\b\b\b\b\b\b\b\b\b\b\b\b\b\b\b\b\b\b\b\b\b\b\b\b\b\b\b\b\b\b\b\b\b\b\b\b\b\b\b\b\b\b\b\b\b\b\b\b\b\b\b\b\b\b\b\b\b\b\b\b\b\b\b\b\b\b\b\b\b\b\b\b\b\b\b\b\b\b\b\b\b\b\b\b\b\b\b\b\b\b\b\b\b\b\b\b\b\b\b\b\b\b\b\b\b\b\b\b\b\b\b\b\b\b\b\b\b\b\b\b\b\b\b\b\b\b\b\b\r48/48 [==============================] - 8s 175ms/step - total_loss: 0.2209 - illumination_smoothness_loss: 1.1269e-04 - spatial_constancy_loss: 0.0500 - color_constancy: 0.0047 - exposure_control_loss: 0.1662 - val_total_loss: 0.2244 - val_illumination_smoothness_loss: 7.7868e-05 - val_spatial_constancy_loss: 0.0469 - val_color_constancy: 9.8138e-04 - val_exposure_control_loss: 0.1754\n",
            "Epoch 77/100\n",
            "48/48 [==============================] - ETA: 0s - total_loss: 0.2205 - illumination_smoothness_loss: 1.1349e-04 - spatial_constancy_loss: 0.0505 - color_constancy: 0.0047 - exposure_control_loss: 0.1653"
          ]
        },
        {
          "output_type": "stream",
          "name": "stderr",
          "text": [
            "WARNING:tensorflow:Compiled the loaded model, but the compiled metrics have yet to be built. `model.compile_metrics` will be empty until you train or evaluate the model.\n",
            "\u001b[34m\u001b[1mwandb\u001b[0m: Adding directory to artifact (./checkpoint)... Done. 0.0s\n"
          ]
        },
        {
          "output_type": "stream",
          "name": "stdout",
          "text": [
            "\b\b\b\b\b\b\b\b\b\b\b\b\b\b\b\b\b\b\b\b\b\b\b\b\b\b\b\b\b\b\b\b\b\b\b\b\b\b\b\b\b\b\b\b\b\b\b\b\b\b\b\b\b\b\b\b\b\b\b\b\b\b\b\b\b\b\b\b\b\b\b\b\b\b\b\b\b\b\b\b\b\b\b\b\b\b\b\b\b\b\b\b\b\b\b\b\b\b\b\b\b\b\b\b\b\b\b\b\b\b\b\b\b\b\b\b\b\b\b\b\b\b\b\b\b\b\b\b\b\b\b\b\b\b\b\b\b\b\b\b\b\b\b\b\b\b\b\b\b\b\b\b\b\b\b\b\b\b\b\b\b\b\b\b\b\b\b\b\b\b\b\b\b\b\b\b\b\b\b\b\b\b\b\b\b\b\b\b\b\b\b\b\b\b\b\b\b\b\b\b\b\b\b\r48/48 [==============================] - 8s 169ms/step - total_loss: 0.2208 - illumination_smoothness_loss: 1.1237e-04 - spatial_constancy_loss: 0.0501 - color_constancy: 0.0047 - exposure_control_loss: 0.1662 - val_total_loss: 0.2243 - val_illumination_smoothness_loss: 7.7436e-05 - val_spatial_constancy_loss: 0.0469 - val_color_constancy: 9.8290e-04 - val_exposure_control_loss: 0.1754\n",
            "Epoch 78/100\n",
            "48/48 [==============================] - ETA: 0s - total_loss: 0.2204 - illumination_smoothness_loss: 1.1288e-04 - spatial_constancy_loss: 0.0505 - color_constancy: 0.0047 - exposure_control_loss: 0.1653"
          ]
        },
        {
          "output_type": "stream",
          "name": "stderr",
          "text": [
            "WARNING:tensorflow:Compiled the loaded model, but the compiled metrics have yet to be built. `model.compile_metrics` will be empty until you train or evaluate the model.\n",
            "\u001b[34m\u001b[1mwandb\u001b[0m: Adding directory to artifact (./checkpoint)... Done. 0.0s\n"
          ]
        },
        {
          "output_type": "stream",
          "name": "stdout",
          "text": [
            "\b\b\b\b\b\b\b\b\b\b\b\b\b\b\b\b\b\b\b\b\b\b\b\b\b\b\b\b\b\b\b\b\b\b\b\b\b\b\b\b\b\b\b\b\b\b\b\b\b\b\b\b\b\b\b\b\b\b\b\b\b\b\b\b\b\b\b\b\b\b\b\b\b\b\b\b\b\b\b\b\b\b\b\b\b\b\b\b\b\b\b\b\b\b\b\b\b\b\b\b\b\b\b\b\b\b\b\b\b\b\b\b\b\b\b\b\b\b\b\b\b\b\b\b\b\b\b\b\b\b\b\b\b\b\b\b\b\b\b\b\b\b\b\b\b\b\b\b\b\b\b\b\b\b\b\b\b\b\b\b\b\b\b\b\b\b\b\b\b\b\b\b\b\b\b\b\b\b\b\b\b\b\b\b\b\b\b\b\b\b\b\b\b\b\b\b\b\b\b\b\b\b\b\r48/48 [==============================] - 9s 182ms/step - total_loss: 0.2208 - illumination_smoothness_loss: 1.1176e-04 - spatial_constancy_loss: 0.0501 - color_constancy: 0.0047 - exposure_control_loss: 0.1661 - val_total_loss: 0.2243 - val_illumination_smoothness_loss: 7.7202e-05 - val_spatial_constancy_loss: 0.0469 - val_color_constancy: 9.8393e-04 - val_exposure_control_loss: 0.1753\n",
            "Epoch 79/100\n",
            "48/48 [==============================] - ETA: 0s - total_loss: 0.2204 - illumination_smoothness_loss: 1.1246e-04 - spatial_constancy_loss: 0.0505 - color_constancy: 0.0047 - exposure_control_loss: 0.1652"
          ]
        },
        {
          "output_type": "stream",
          "name": "stderr",
          "text": [
            "WARNING:tensorflow:Compiled the loaded model, but the compiled metrics have yet to be built. `model.compile_metrics` will be empty until you train or evaluate the model.\n",
            "\u001b[34m\u001b[1mwandb\u001b[0m: Adding directory to artifact (./checkpoint)... Done. 0.0s\n"
          ]
        },
        {
          "output_type": "stream",
          "name": "stdout",
          "text": [
            "\b\b\b\b\b\b\b\b\b\b\b\b\b\b\b\b\b\b\b\b\b\b\b\b\b\b\b\b\b\b\b\b\b\b\b\b\b\b\b\b\b\b\b\b\b\b\b\b\b\b\b\b\b\b\b\b\b\b\b\b\b\b\b\b\b\b\b\b\b\b\b\b\b\b\b\b\b\b\b\b\b\b\b\b\b\b\b\b\b\b\b\b\b\b\b\b\b\b\b\b\b\b\b\b\b\b\b\b\b\b\b\b\b\b\b\b\b\b\b\b\b\b\b\b\b\b\b\b\b\b\b\b\b\b\b\b\b\b\b\b\b\b\b\b\b\b\b\b\b\b\b\b\b\b\b\b\b\b\b\b\b\b\b\b\b\b\b\b\b\b\b\b\b\b\b\b\b\b\b\b\b\b\b\b\b\b\b\b\b\b\b\b\b\b\b\b\b\b\b\b\b\b\b\r48/48 [==============================] - 9s 181ms/step - total_loss: 0.2208 - illumination_smoothness_loss: 1.1134e-04 - spatial_constancy_loss: 0.0501 - color_constancy: 0.0047 - exposure_control_loss: 0.1661 - val_total_loss: 0.2243 - val_illumination_smoothness_loss: 7.7183e-05 - val_spatial_constancy_loss: 0.0469 - val_color_constancy: 9.8459e-04 - val_exposure_control_loss: 0.1753\n",
            "Epoch 80/100\n",
            "48/48 [==============================] - ETA: 0s - total_loss: 0.2204 - illumination_smoothness_loss: 1.1195e-04 - spatial_constancy_loss: 0.0505 - color_constancy: 0.0047 - exposure_control_loss: 0.1652"
          ]
        },
        {
          "output_type": "stream",
          "name": "stderr",
          "text": [
            "WARNING:tensorflow:Compiled the loaded model, but the compiled metrics have yet to be built. `model.compile_metrics` will be empty until you train or evaluate the model.\n",
            "\u001b[34m\u001b[1mwandb\u001b[0m: Adding directory to artifact (./checkpoint)... Done. 0.0s\n"
          ]
        },
        {
          "output_type": "stream",
          "name": "stdout",
          "text": [
            "\b\b\b\b\b\b\b\b\b\b\b\b\b\b\b\b\b\b\b\b\b\b\b\b\b\b\b\b\b\b\b\b\b\b\b\b\b\b\b\b\b\b\b\b\b\b\b\b\b\b\b\b\b\b\b\b\b\b\b\b\b\b\b\b\b\b\b\b\b\b\b\b\b\b\b\b\b\b\b\b\b\b\b\b\b\b\b\b\b\b\b\b\b\b\b\b\b\b\b\b\b\b\b\b\b\b\b\b\b\b\b\b\b\b\b\b\b\b\b\b\b\b\b\b\b\b\b\b\b\b\b\b\b\b\b\b\b\b\b\b\b\b\b\b\b\b\b\b\b\b\b\b\b\b\b\b\b\b\b\b\b\b\b\b\b\b\b\b\b\b\b\b\b\b\b\b\b\b\b\b\b\b\b\b\b\b\b\b\b\b\b\b\b\b\b\b\b\b\b\b\b\b\b\r48/48 [==============================] - 8s 166ms/step - total_loss: 0.2207 - illumination_smoothness_loss: 1.1084e-04 - spatial_constancy_loss: 0.0501 - color_constancy: 0.0047 - exposure_control_loss: 0.1661 - val_total_loss: 0.2242 - val_illumination_smoothness_loss: 7.6775e-05 - val_spatial_constancy_loss: 0.0470 - val_color_constancy: 9.8737e-04 - val_exposure_control_loss: 0.1753\n",
            "Epoch 81/100\n",
            "48/48 [==============================] - ETA: 0s - total_loss: 0.2204 - illumination_smoothness_loss: 1.1157e-04 - spatial_constancy_loss: 0.0506 - color_constancy: 0.0047 - exposure_control_loss: 0.1652"
          ]
        },
        {
          "output_type": "stream",
          "name": "stderr",
          "text": [
            "WARNING:tensorflow:Compiled the loaded model, but the compiled metrics have yet to be built. `model.compile_metrics` will be empty until you train or evaluate the model.\n",
            "\u001b[34m\u001b[1mwandb\u001b[0m: Adding directory to artifact (./checkpoint)... Done. 0.0s\n"
          ]
        },
        {
          "output_type": "stream",
          "name": "stdout",
          "text": [
            "\b\b\b\b\b\b\b\b\b\b\b\b\b\b\b\b\b\b\b\b\b\b\b\b\b\b\b\b\b\b\b\b\b\b\b\b\b\b\b\b\b\b\b\b\b\b\b\b\b\b\b\b\b\b\b\b\b\b\b\b\b\b\b\b\b\b\b\b\b\b\b\b\b\b\b\b\b\b\b\b\b\b\b\b\b\b\b\b\b\b\b\b\b\b\b\b\b\b\b\b\b\b\b\b\b\b\b\b\b\b\b\b\b\b\b\b\b\b\b\b\b\b\b\b\b\b\b\b\b\b\b\b\b\b\b\b\b\b\b\b\b\b\b\b\b\b\b\b\b\b\b\b\b\b\b\b\b\b\b\b\b\b\b\b\b\b\b\b\b\b\b\b\b\b\b\b\b\b\b\b\b\b\b\b\b\b\b\b\b\b\b\b\b\b\b\b\b\b\b\b\b\b\b\r48/48 [==============================] - 8s 176ms/step - total_loss: 0.2207 - illumination_smoothness_loss: 1.1045e-04 - spatial_constancy_loss: 0.0501 - color_constancy: 0.0047 - exposure_control_loss: 0.1660 - val_total_loss: 0.2242 - val_illumination_smoothness_loss: 7.5493e-05 - val_spatial_constancy_loss: 0.0469 - val_color_constancy: 9.8712e-04 - val_exposure_control_loss: 0.1753\n",
            "Epoch 82/100\n",
            "48/48 [==============================] - ETA: 0s - total_loss: 0.2203 - illumination_smoothness_loss: 1.1037e-04 - spatial_constancy_loss: 0.0506 - color_constancy: 0.0047 - exposure_control_loss: 0.1652"
          ]
        },
        {
          "output_type": "stream",
          "name": "stderr",
          "text": [
            "WARNING:tensorflow:Compiled the loaded model, but the compiled metrics have yet to be built. `model.compile_metrics` will be empty until you train or evaluate the model.\n",
            "\u001b[34m\u001b[1mwandb\u001b[0m: Adding directory to artifact (./checkpoint)... Done. 0.0s\n"
          ]
        },
        {
          "output_type": "stream",
          "name": "stdout",
          "text": [
            "\b\b\b\b\b\b\b\b\b\b\b\b\b\b\b\b\b\b\b\b\b\b\b\b\b\b\b\b\b\b\b\b\b\b\b\b\b\b\b\b\b\b\b\b\b\b\b\b\b\b\b\b\b\b\b\b\b\b\b\b\b\b\b\b\b\b\b\b\b\b\b\b\b\b\b\b\b\b\b\b\b\b\b\b\b\b\b\b\b\b\b\b\b\b\b\b\b\b\b\b\b\b\b\b\b\b\b\b\b\b\b\b\b\b\b\b\b\b\b\b\b\b\b\b\b\b\b\b\b\b\b\b\b\b\b\b\b\b\b\b\b\b\b\b\b\b\b\b\b\b\b\b\b\b\b\b\b\b\b\b\b\b\b\b\b\b\b\b\b\b\b\b\b\b\b\b\b\b\b\b\b\b\b\b\b\b\b\b\b\b\b\b\b\b\b\b\b\b\b\b\b\b\b\r48/48 [==============================] - 9s 183ms/step - total_loss: 0.2207 - illumination_smoothness_loss: 1.0928e-04 - spatial_constancy_loss: 0.0501 - color_constancy: 0.0047 - exposure_control_loss: 0.1660 - val_total_loss: 0.2242 - val_illumination_smoothness_loss: 7.6102e-05 - val_spatial_constancy_loss: 0.0470 - val_color_constancy: 9.8781e-04 - val_exposure_control_loss: 0.1752\n",
            "Epoch 83/100\n",
            "48/48 [==============================] - ETA: 0s - total_loss: 0.2203 - illumination_smoothness_loss: 1.1007e-04 - spatial_constancy_loss: 0.0506 - color_constancy: 0.0047 - exposure_control_loss: 0.1652"
          ]
        },
        {
          "output_type": "stream",
          "name": "stderr",
          "text": [
            "WARNING:tensorflow:Compiled the loaded model, but the compiled metrics have yet to be built. `model.compile_metrics` will be empty until you train or evaluate the model.\n",
            "\u001b[34m\u001b[1mwandb\u001b[0m: Adding directory to artifact (./checkpoint)... Done. 0.0s\n"
          ]
        },
        {
          "output_type": "stream",
          "name": "stdout",
          "text": [
            "\b\b\b\b\b\b\b\b\b\b\b\b\b\b\b\b\b\b\b\b\b\b\b\b\b\b\b\b\b\b\b\b\b\b\b\b\b\b\b\b\b\b\b\b\b\b\b\b\b\b\b\b\b\b\b\b\b\b\b\b\b\b\b\b\b\b\b\b\b\b\b\b\b\b\b\b\b\b\b\b\b\b\b\b\b\b\b\b\b\b\b\b\b\b\b\b\b\b\b\b\b\b\b\b\b\b\b\b\b\b\b\b\b\b\b\b\b\b\b\b\b\b\b\b\b\b\b\b\b\b\b\b\b\b\b\b\b\b\b\b\b\b\b\b\b\b\b\b\b\b\b\b\b\b\b\b\b\b\b\b\b\b\b\b\b\b\b\b\b\b\b\b\b\b\b\b\b\b\b\b\b\b\b\b\b\b\b\b\b\b\b\b\b\b\b\b\b\b\b\b\b\b\b\r48/48 [==============================] - 8s 165ms/step - total_loss: 0.2206 - illumination_smoothness_loss: 1.0898e-04 - spatial_constancy_loss: 0.0501 - color_constancy: 0.0047 - exposure_control_loss: 0.1660 - val_total_loss: 0.2242 - val_illumination_smoothness_loss: 7.6408e-05 - val_spatial_constancy_loss: 0.0470 - val_color_constancy: 9.8671e-04 - val_exposure_control_loss: 0.1752\n",
            "Epoch 84/100\n",
            "48/48 [==============================] - ETA: 0s - total_loss: 0.2203 - illumination_smoothness_loss: 1.0969e-04 - spatial_constancy_loss: 0.0506 - color_constancy: 0.0047 - exposure_control_loss: 0.1651"
          ]
        },
        {
          "output_type": "stream",
          "name": "stderr",
          "text": [
            "WARNING:tensorflow:Compiled the loaded model, but the compiled metrics have yet to be built. `model.compile_metrics` will be empty until you train or evaluate the model.\n",
            "\u001b[34m\u001b[1mwandb\u001b[0m: Adding directory to artifact (./checkpoint)... Done. 0.0s\n"
          ]
        },
        {
          "output_type": "stream",
          "name": "stdout",
          "text": [
            "\b\b\b\b\b\b\b\b\b\b\b\b\b\b\b\b\b\b\b\b\b\b\b\b\b\b\b\b\b\b\b\b\b\b\b\b\b\b\b\b\b\b\b\b\b\b\b\b\b\b\b\b\b\b\b\b\b\b\b\b\b\b\b\b\b\b\b\b\b\b\b\b\b\b\b\b\b\b\b\b\b\b\b\b\b\b\b\b\b\b\b\b\b\b\b\b\b\b\b\b\b\b\b\b\b\b\b\b\b\b\b\b\b\b\b\b\b\b\b\b\b\b\b\b\b\b\b\b\b\b\b\b\b\b\b\b\b\b\b\b\b\b\b\b\b\b\b\b\b\b\b\b\b\b\b\b\b\b\b\b\b\b\b\b\b\b\b\b\b\b\b\b\b\b\b\b\b\b\b\b\b\b\b\b\b\b\b\b\b\b\b\b\b\b\b\b\b\b\b\b\b\b\b\r48/48 [==============================] - 9s 179ms/step - total_loss: 0.2206 - illumination_smoothness_loss: 1.0862e-04 - spatial_constancy_loss: 0.0502 - color_constancy: 0.0047 - exposure_control_loss: 0.1659 - val_total_loss: 0.2241 - val_illumination_smoothness_loss: 7.7272e-05 - val_spatial_constancy_loss: 0.0470 - val_color_constancy: 9.8661e-04 - val_exposure_control_loss: 0.1751\n",
            "Epoch 85/100\n",
            "48/48 [==============================] - ETA: 0s - total_loss: 0.2202 - illumination_smoothness_loss: 1.0875e-04 - spatial_constancy_loss: 0.0506 - color_constancy: 0.0047 - exposure_control_loss: 0.1651"
          ]
        },
        {
          "output_type": "stream",
          "name": "stderr",
          "text": [
            "WARNING:tensorflow:Compiled the loaded model, but the compiled metrics have yet to be built. `model.compile_metrics` will be empty until you train or evaluate the model.\n",
            "\u001b[34m\u001b[1mwandb\u001b[0m: Adding directory to artifact (./checkpoint)... Done. 0.0s\n"
          ]
        },
        {
          "output_type": "stream",
          "name": "stdout",
          "text": [
            "\b\b\b\b\b\b\b\b\b\b\b\b\b\b\b\b\b\b\b\b\b\b\b\b\b\b\b\b\b\b\b\b\b\b\b\b\b\b\b\b\b\b\b\b\b\b\b\b\b\b\b\b\b\b\b\b\b\b\b\b\b\b\b\b\b\b\b\b\b\b\b\b\b\b\b\b\b\b\b\b\b\b\b\b\b\b\b\b\b\b\b\b\b\b\b\b\b\b\b\b\b\b\b\b\b\b\b\b\b\b\b\b\b\b\b\b\b\b\b\b\b\b\b\b\b\b\b\b\b\b\b\b\b\b\b\b\b\b\b\b\b\b\b\b\b\b\b\b\b\b\b\b\b\b\b\b\b\b\b\b\b\b\b\b\b\b\b\b\b\b\b\b\b\b\b\b\b\b\b\b\b\b\b\b\b\b\b\b\b\b\b\b\b\b\b\b\b\b\b\b\b\b\b\r48/48 [==============================] - 9s 177ms/step - total_loss: 0.2206 - illumination_smoothness_loss: 1.0767e-04 - spatial_constancy_loss: 0.0501 - color_constancy: 0.0047 - exposure_control_loss: 0.1659 - val_total_loss: 0.2241 - val_illumination_smoothness_loss: 7.4929e-05 - val_spatial_constancy_loss: 0.0470 - val_color_constancy: 9.8861e-04 - val_exposure_control_loss: 0.1751\n",
            "Epoch 86/100\n",
            "48/48 [==============================] - ETA: 0s - total_loss: 0.2202 - illumination_smoothness_loss: 1.0864e-04 - spatial_constancy_loss: 0.0506 - color_constancy: 0.0048 - exposure_control_loss: 0.1651"
          ]
        },
        {
          "output_type": "stream",
          "name": "stderr",
          "text": [
            "WARNING:tensorflow:Compiled the loaded model, but the compiled metrics have yet to be built. `model.compile_metrics` will be empty until you train or evaluate the model.\n",
            "\u001b[34m\u001b[1mwandb\u001b[0m: Adding directory to artifact (./checkpoint)... Done. 0.0s\n"
          ]
        },
        {
          "output_type": "stream",
          "name": "stdout",
          "text": [
            "\b\b\b\b\b\b\b\b\b\b\b\b\b\b\b\b\b\b\b\b\b\b\b\b\b\b\b\b\b\b\b\b\b\b\b\b\b\b\b\b\b\b\b\b\b\b\b\b\b\b\b\b\b\b\b\b\b\b\b\b\b\b\b\b\b\b\b\b\b\b\b\b\b\b\b\b\b\b\b\b\b\b\b\b\b\b\b\b\b\b\b\b\b\b\b\b\b\b\b\b\b\b\b\b\b\b\b\b\b\b\b\b\b\b\b\b\b\b\b\b\b\b\b\b\b\b\b\b\b\b\b\b\b\b\b\b\b\b\b\b\b\b\b\b\b\b\b\b\b\b\b\b\b\b\b\b\b\b\b\b\b\b\b\b\b\b\b\b\b\b\b\b\b\b\b\b\b\b\b\b\b\b\b\b\b\b\b\b\b\b\b\b\b\b\b\b\b\b\b\b\b\b\b\r48/48 [==============================] - 8s 167ms/step - total_loss: 0.2206 - illumination_smoothness_loss: 1.0757e-04 - spatial_constancy_loss: 0.0502 - color_constancy: 0.0047 - exposure_control_loss: 0.1659 - val_total_loss: 0.2241 - val_illumination_smoothness_loss: 7.6518e-05 - val_spatial_constancy_loss: 0.0470 - val_color_constancy: 9.8824e-04 - val_exposure_control_loss: 0.1751\n",
            "Epoch 87/100\n",
            "48/48 [==============================] - ETA: 0s - total_loss: 0.2202 - illumination_smoothness_loss: 1.0805e-04 - spatial_constancy_loss: 0.0506 - color_constancy: 0.0048 - exposure_control_loss: 0.1650"
          ]
        },
        {
          "output_type": "stream",
          "name": "stderr",
          "text": [
            "WARNING:tensorflow:Compiled the loaded model, but the compiled metrics have yet to be built. `model.compile_metrics` will be empty until you train or evaluate the model.\n",
            "\u001b[34m\u001b[1mwandb\u001b[0m: Adding directory to artifact (./checkpoint)... Done. 0.0s\n"
          ]
        },
        {
          "output_type": "stream",
          "name": "stdout",
          "text": [
            "\b\b\b\b\b\b\b\b\b\b\b\b\b\b\b\b\b\b\b\b\b\b\b\b\b\b\b\b\b\b\b\b\b\b\b\b\b\b\b\b\b\b\b\b\b\b\b\b\b\b\b\b\b\b\b\b\b\b\b\b\b\b\b\b\b\b\b\b\b\b\b\b\b\b\b\b\b\b\b\b\b\b\b\b\b\b\b\b\b\b\b\b\b\b\b\b\b\b\b\b\b\b\b\b\b\b\b\b\b\b\b\b\b\b\b\b\b\b\b\b\b\b\b\b\b\b\b\b\b\b\b\b\b\b\b\b\b\b\b\b\b\b\b\b\b\b\b\b\b\b\b\b\b\b\b\b\b\b\b\b\b\b\b\b\b\b\b\b\b\b\b\b\b\b\b\b\b\b\b\b\b\b\b\b\b\b\b\b\b\b\b\b\b\b\b\b\b\b\b\b\b\b\b\r48/48 [==============================] - 8s 165ms/step - total_loss: 0.2205 - illumination_smoothness_loss: 1.0698e-04 - spatial_constancy_loss: 0.0502 - color_constancy: 0.0047 - exposure_control_loss: 0.1659 - val_total_loss: 0.2240 - val_illumination_smoothness_loss: 7.4502e-05 - val_spatial_constancy_loss: 0.0469 - val_color_constancy: 9.8558e-04 - val_exposure_control_loss: 0.1752\n",
            "Epoch 88/100\n",
            "48/48 [==============================] - ETA: 0s - total_loss: 0.2202 - illumination_smoothness_loss: 1.0772e-04 - spatial_constancy_loss: 0.0506 - color_constancy: 0.0048 - exposure_control_loss: 0.1650"
          ]
        },
        {
          "output_type": "stream",
          "name": "stderr",
          "text": [
            "WARNING:tensorflow:Compiled the loaded model, but the compiled metrics have yet to be built. `model.compile_metrics` will be empty until you train or evaluate the model.\n",
            "\u001b[34m\u001b[1mwandb\u001b[0m: Adding directory to artifact (./checkpoint)... Done. 0.0s\n"
          ]
        },
        {
          "output_type": "stream",
          "name": "stdout",
          "text": [
            "\b\b\b\b\b\b\b\b\b\b\b\b\b\b\b\b\b\b\b\b\b\b\b\b\b\b\b\b\b\b\b\b\b\b\b\b\b\b\b\b\b\b\b\b\b\b\b\b\b\b\b\b\b\b\b\b\b\b\b\b\b\b\b\b\b\b\b\b\b\b\b\b\b\b\b\b\b\b\b\b\b\b\b\b\b\b\b\b\b\b\b\b\b\b\b\b\b\b\b\b\b\b\b\b\b\b\b\b\b\b\b\b\b\b\b\b\b\b\b\b\b\b\b\b\b\b\b\b\b\b\b\b\b\b\b\b\b\b\b\b\b\b\b\b\b\b\b\b\b\b\b\b\b\b\b\b\b\b\b\b\b\b\b\b\b\b\b\b\b\b\b\b\b\b\b\b\b\b\b\b\b\b\b\b\b\b\b\b\b\b\b\b\b\b\b\b\b\b\b\b\b\b\b\r48/48 [==============================] - 8s 171ms/step - total_loss: 0.2205 - illumination_smoothness_loss: 1.0668e-04 - spatial_constancy_loss: 0.0502 - color_constancy: 0.0047 - exposure_control_loss: 0.1658 - val_total_loss: 0.2240 - val_illumination_smoothness_loss: 7.7118e-05 - val_spatial_constancy_loss: 0.0470 - val_color_constancy: 9.8860e-04 - val_exposure_control_loss: 0.1750\n",
            "Epoch 89/100\n",
            "48/48 [==============================] - ETA: 0s - total_loss: 0.2202 - illumination_smoothness_loss: 1.0784e-04 - spatial_constancy_loss: 0.0506 - color_constancy: 0.0048 - exposure_control_loss: 0.1650"
          ]
        },
        {
          "output_type": "stream",
          "name": "stderr",
          "text": [
            "WARNING:tensorflow:Compiled the loaded model, but the compiled metrics have yet to be built. `model.compile_metrics` will be empty until you train or evaluate the model.\n",
            "\u001b[34m\u001b[1mwandb\u001b[0m: Adding directory to artifact (./checkpoint)... Done. 0.0s\n"
          ]
        },
        {
          "output_type": "stream",
          "name": "stdout",
          "text": [
            "\b\b\b\b\b\b\b\b\b\b\b\b\b\b\b\b\b\b\b\b\b\b\b\b\b\b\b\b\b\b\b\b\b\b\b\b\b\b\b\b\b\b\b\b\b\b\b\b\b\b\b\b\b\b\b\b\b\b\b\b\b\b\b\b\b\b\b\b\b\b\b\b\b\b\b\b\b\b\b\b\b\b\b\b\b\b\b\b\b\b\b\b\b\b\b\b\b\b\b\b\b\b\b\b\b\b\b\b\b\b\b\b\b\b\b\b\b\b\b\b\b\b\b\b\b\b\b\b\b\b\b\b\b\b\b\b\b\b\b\b\b\b\b\b\b\b\b\b\b\b\b\b\b\b\b\b\b\b\b\b\b\b\b\b\b\b\b\b\b\b\b\b\b\b\b\b\b\b\b\b\b\b\b\b\b\b\b\b\b\b\b\b\b\b\b\b\b\b\b\b\b\b\b\r48/48 [==============================] - 9s 196ms/step - total_loss: 0.2205 - illumination_smoothness_loss: 1.0676e-04 - spatial_constancy_loss: 0.0502 - color_constancy: 0.0047 - exposure_control_loss: 0.1658 - val_total_loss: 0.2240 - val_illumination_smoothness_loss: 7.4876e-05 - val_spatial_constancy_loss: 0.0469 - val_color_constancy: 9.8763e-04 - val_exposure_control_loss: 0.1751\n",
            "Epoch 90/100\n",
            "48/48 [==============================] - ETA: 0s - total_loss: 0.2201 - illumination_smoothness_loss: 1.0763e-04 - spatial_constancy_loss: 0.0506 - color_constancy: 0.0048 - exposure_control_loss: 0.1650"
          ]
        },
        {
          "output_type": "stream",
          "name": "stderr",
          "text": [
            "WARNING:tensorflow:Compiled the loaded model, but the compiled metrics have yet to be built. `model.compile_metrics` will be empty until you train or evaluate the model.\n",
            "\u001b[34m\u001b[1mwandb\u001b[0m: Adding directory to artifact (./checkpoint)... Done. 0.0s\n"
          ]
        },
        {
          "output_type": "stream",
          "name": "stdout",
          "text": [
            "\b\b\b\b\b\b\b\b\b\b\b\b\b\b\b\b\b\b\b\b\b\b\b\b\b\b\b\b\b\b\b\b\b\b\b\b\b\b\b\b\b\b\b\b\b\b\b\b\b\b\b\b\b\b\b\b\b\b\b\b\b\b\b\b\b\b\b\b\b\b\b\b\b\b\b\b\b\b\b\b\b\b\b\b\b\b\b\b\b\b\b\b\b\b\b\b\b\b\b\b\b\b\b\b\b\b\b\b\b\b\b\b\b\b\b\b\b\b\b\b\b\b\b\b\b\b\b\b\b\b\b\b\b\b\b\b\b\b\b\b\b\b\b\b\b\b\b\b\b\b\b\b\b\b\b\b\b\b\b\b\b\b\b\b\b\b\b\b\b\b\b\b\b\b\b\b\b\b\b\b\b\b\b\b\b\b\b\b\b\b\b\b\b\b\b\b\b\b\b\b\b\b\b\r48/48 [==============================] - 9s 178ms/step - total_loss: 0.2205 - illumination_smoothness_loss: 1.0659e-04 - spatial_constancy_loss: 0.0502 - color_constancy: 0.0047 - exposure_control_loss: 0.1658 - val_total_loss: 0.2240 - val_illumination_smoothness_loss: 7.7214e-05 - val_spatial_constancy_loss: 0.0469 - val_color_constancy: 9.8801e-04 - val_exposure_control_loss: 0.1750\n",
            "Epoch 91/100\n",
            "48/48 [==============================] - ETA: 0s - total_loss: 0.2201 - illumination_smoothness_loss: 1.0740e-04 - spatial_constancy_loss: 0.0506 - color_constancy: 0.0048 - exposure_control_loss: 0.1650"
          ]
        },
        {
          "output_type": "stream",
          "name": "stderr",
          "text": [
            "WARNING:tensorflow:Compiled the loaded model, but the compiled metrics have yet to be built. `model.compile_metrics` will be empty until you train or evaluate the model.\n",
            "\u001b[34m\u001b[1mwandb\u001b[0m: Adding directory to artifact (./checkpoint)... Done. 0.0s\n"
          ]
        },
        {
          "output_type": "stream",
          "name": "stdout",
          "text": [
            "\b\b\b\b\b\b\b\b\b\b\b\b\b\b\b\b\b\b\b\b\b\b\b\b\b\b\b\b\b\b\b\b\b\b\b\b\b\b\b\b\b\b\b\b\b\b\b\b\b\b\b\b\b\b\b\b\b\b\b\b\b\b\b\b\b\b\b\b\b\b\b\b\b\b\b\b\b\b\b\b\b\b\b\b\b\b\b\b\b\b\b\b\b\b\b\b\b\b\b\b\b\b\b\b\b\b\b\b\b\b\b\b\b\b\b\b\b\b\b\b\b\b\b\b\b\b\b\b\b\b\b\b\b\b\b\b\b\b\b\b\b\b\b\b\b\b\b\b\b\b\b\b\b\b\b\b\b\b\b\b\b\b\b\b\b\b\b\b\b\b\b\b\b\b\b\b\b\b\b\b\b\b\b\b\b\b\b\b\b\b\b\b\b\b\b\b\b\b\b\b\b\b\b\r48/48 [==============================] - 8s 168ms/step - total_loss: 0.2205 - illumination_smoothness_loss: 1.0634e-04 - spatial_constancy_loss: 0.0502 - color_constancy: 0.0047 - exposure_control_loss: 0.1658 - val_total_loss: 0.2240 - val_illumination_smoothness_loss: 7.5376e-05 - val_spatial_constancy_loss: 0.0469 - val_color_constancy: 9.8624e-04 - val_exposure_control_loss: 0.1751\n",
            "Epoch 92/100\n",
            "48/48 [==============================] - ETA: 0s - total_loss: 0.2201 - illumination_smoothness_loss: 1.0722e-04 - spatial_constancy_loss: 0.0507 - color_constancy: 0.0048 - exposure_control_loss: 0.1649"
          ]
        },
        {
          "output_type": "stream",
          "name": "stderr",
          "text": [
            "WARNING:tensorflow:Compiled the loaded model, but the compiled metrics have yet to be built. `model.compile_metrics` will be empty until you train or evaluate the model.\n",
            "\u001b[34m\u001b[1mwandb\u001b[0m: Adding directory to artifact (./checkpoint)... Done. 0.0s\n"
          ]
        },
        {
          "output_type": "stream",
          "name": "stdout",
          "text": [
            "\b\b\b\b\b\b\b\b\b\b\b\b\b\b\b\b\b\b\b\b\b\b\b\b\b\b\b\b\b\b\b\b\b\b\b\b\b\b\b\b\b\b\b\b\b\b\b\b\b\b\b\b\b\b\b\b\b\b\b\b\b\b\b\b\b\b\b\b\b\b\b\b\b\b\b\b\b\b\b\b\b\b\b\b\b\b\b\b\b\b\b\b\b\b\b\b\b\b\b\b\b\b\b\b\b\b\b\b\b\b\b\b\b\b\b\b\b\b\b\b\b\b\b\b\b\b\b\b\b\b\b\b\b\b\b\b\b\b\b\b\b\b\b\b\b\b\b\b\b\b\b\b\b\b\b\b\b\b\b\b\b\b\b\b\b\b\b\b\b\b\b\b\b\b\b\b\b\b\b\b\b\b\b\b\b\b\b\b\b\b\b\b\b\b\b\b\b\b\b\b\b\b\b\r48/48 [==============================] - 8s 177ms/step - total_loss: 0.2204 - illumination_smoothness_loss: 1.0618e-04 - spatial_constancy_loss: 0.0502 - color_constancy: 0.0047 - exposure_control_loss: 0.1657 - val_total_loss: 0.2240 - val_illumination_smoothness_loss: 7.6881e-05 - val_spatial_constancy_loss: 0.0469 - val_color_constancy: 9.8603e-04 - val_exposure_control_loss: 0.1751\n",
            "Epoch 93/100\n",
            "48/48 [==============================] - ETA: 0s - total_loss: 0.2201 - illumination_smoothness_loss: 1.0612e-04 - spatial_constancy_loss: 0.0506 - color_constancy: 0.0048 - exposure_control_loss: 0.1650"
          ]
        },
        {
          "output_type": "stream",
          "name": "stderr",
          "text": [
            "WARNING:tensorflow:Compiled the loaded model, but the compiled metrics have yet to be built. `model.compile_metrics` will be empty until you train or evaluate the model.\n",
            "\u001b[34m\u001b[1mwandb\u001b[0m: Adding directory to artifact (./checkpoint)... Done. 0.0s\n"
          ]
        },
        {
          "output_type": "stream",
          "name": "stdout",
          "text": [
            "\b\b\b\b\b\b\b\b\b\b\b\b\b\b\b\b\b\b\b\b\b\b\b\b\b\b\b\b\b\b\b\b\b\b\b\b\b\b\b\b\b\b\b\b\b\b\b\b\b\b\b\b\b\b\b\b\b\b\b\b\b\b\b\b\b\b\b\b\b\b\b\b\b\b\b\b\b\b\b\b\b\b\b\b\b\b\b\b\b\b\b\b\b\b\b\b\b\b\b\b\b\b\b\b\b\b\b\b\b\b\b\b\b\b\b\b\b\b\b\b\b\b\b\b\b\b\b\b\b\b\b\b\b\b\b\b\b\b\b\b\b\b\b\b\b\b\b\b\b\b\b\b\b\b\b\b\b\b\b\b\b\b\b\b\b\b\b\b\b\b\b\b\b\b\b\b\b\b\b\b\b\b\b\b\b\b\b\b\b\b\b\b\b\b\b\b\b\b\b\b\b\b\b\r48/48 [==============================] - 9s 186ms/step - total_loss: 0.2204 - illumination_smoothness_loss: 1.0511e-04 - spatial_constancy_loss: 0.0502 - color_constancy: 0.0047 - exposure_control_loss: 0.1658 - val_total_loss: 0.2239 - val_illumination_smoothness_loss: 7.7678e-05 - val_spatial_constancy_loss: 0.0469 - val_color_constancy: 9.8839e-04 - val_exposure_control_loss: 0.1749\n",
            "Epoch 94/100\n",
            "48/48 [==============================] - ETA: 0s - total_loss: 0.2201 - illumination_smoothness_loss: 1.0725e-04 - spatial_constancy_loss: 0.0507 - color_constancy: 0.0048 - exposure_control_loss: 0.1649"
          ]
        },
        {
          "output_type": "stream",
          "name": "stderr",
          "text": [
            "WARNING:tensorflow:Compiled the loaded model, but the compiled metrics have yet to be built. `model.compile_metrics` will be empty until you train or evaluate the model.\n",
            "\u001b[34m\u001b[1mwandb\u001b[0m: Adding directory to artifact (./checkpoint)... Done. 0.0s\n"
          ]
        },
        {
          "output_type": "stream",
          "name": "stdout",
          "text": [
            "\b\b\b\b\b\b\b\b\b\b\b\b\b\b\b\b\b\b\b\b\b\b\b\b\b\b\b\b\b\b\b\b\b\b\b\b\b\b\b\b\b\b\b\b\b\b\b\b\b\b\b\b\b\b\b\b\b\b\b\b\b\b\b\b\b\b\b\b\b\b\b\b\b\b\b\b\b\b\b\b\b\b\b\b\b\b\b\b\b\b\b\b\b\b\b\b\b\b\b\b\b\b\b\b\b\b\b\b\b\b\b\b\b\b\b\b\b\b\b\b\b\b\b\b\b\b\b\b\b\b\b\b\b\b\b\b\b\b\b\b\b\b\b\b\b\b\b\b\b\b\b\b\b\b\b\b\b\b\b\b\b\b\b\b\b\b\b\b\b\b\b\b\b\b\b\b\b\b\b\b\b\b\b\b\b\b\b\b\b\b\b\b\b\b\b\b\b\b\b\b\b\b\b\r48/48 [==============================] - 8s 174ms/step - total_loss: 0.2204 - illumination_smoothness_loss: 1.0621e-04 - spatial_constancy_loss: 0.0502 - color_constancy: 0.0047 - exposure_control_loss: 0.1657 - val_total_loss: 0.2240 - val_illumination_smoothness_loss: 7.7215e-05 - val_spatial_constancy_loss: 0.0469 - val_color_constancy: 9.8688e-04 - val_exposure_control_loss: 0.1750\n",
            "Epoch 95/100\n",
            "48/48 [==============================] - ETA: 0s - total_loss: 0.2201 - illumination_smoothness_loss: 1.0598e-04 - spatial_constancy_loss: 0.0506 - color_constancy: 0.0048 - exposure_control_loss: 0.1649"
          ]
        },
        {
          "output_type": "stream",
          "name": "stderr",
          "text": [
            "WARNING:tensorflow:Compiled the loaded model, but the compiled metrics have yet to be built. `model.compile_metrics` will be empty until you train or evaluate the model.\n",
            "\u001b[34m\u001b[1mwandb\u001b[0m: Adding directory to artifact (./checkpoint)... Done. 0.0s\n"
          ]
        },
        {
          "output_type": "stream",
          "name": "stdout",
          "text": [
            "\b\b\b\b\b\b\b\b\b\b\b\b\b\b\b\b\b\b\b\b\b\b\b\b\b\b\b\b\b\b\b\b\b\b\b\b\b\b\b\b\b\b\b\b\b\b\b\b\b\b\b\b\b\b\b\b\b\b\b\b\b\b\b\b\b\b\b\b\b\b\b\b\b\b\b\b\b\b\b\b\b\b\b\b\b\b\b\b\b\b\b\b\b\b\b\b\b\b\b\b\b\b\b\b\b\b\b\b\b\b\b\b\b\b\b\b\b\b\b\b\b\b\b\b\b\b\b\b\b\b\b\b\b\b\b\b\b\b\b\b\b\b\b\b\b\b\b\b\b\b\b\b\b\b\b\b\b\b\b\b\b\b\b\b\b\b\b\b\b\b\b\b\b\b\b\b\b\b\b\b\b\b\b\b\b\b\b\b\b\b\b\b\b\b\b\b\b\b\b\b\b\b\b\r48/48 [==============================] - 8s 174ms/step - total_loss: 0.2204 - illumination_smoothness_loss: 1.0496e-04 - spatial_constancy_loss: 0.0502 - color_constancy: 0.0047 - exposure_control_loss: 0.1657 - val_total_loss: 0.2239 - val_illumination_smoothness_loss: 7.7284e-05 - val_spatial_constancy_loss: 0.0469 - val_color_constancy: 9.8726e-04 - val_exposure_control_loss: 0.1749\n",
            "Epoch 96/100\n",
            "48/48 [==============================] - ETA: 0s - total_loss: 0.2200 - illumination_smoothness_loss: 1.0671e-04 - spatial_constancy_loss: 0.0507 - color_constancy: 0.0048 - exposure_control_loss: 0.1648"
          ]
        },
        {
          "output_type": "stream",
          "name": "stderr",
          "text": [
            "WARNING:tensorflow:Compiled the loaded model, but the compiled metrics have yet to be built. `model.compile_metrics` will be empty until you train or evaluate the model.\n",
            "\u001b[34m\u001b[1mwandb\u001b[0m: Adding directory to artifact (./checkpoint)... Done. 0.0s\n"
          ]
        },
        {
          "output_type": "stream",
          "name": "stdout",
          "text": [
            "\b\b\b\b\b\b\b\b\b\b\b\b\b\b\b\b\b\b\b\b\b\b\b\b\b\b\b\b\b\b\b\b\b\b\b\b\b\b\b\b\b\b\b\b\b\b\b\b\b\b\b\b\b\b\b\b\b\b\b\b\b\b\b\b\b\b\b\b\b\b\b\b\b\b\b\b\b\b\b\b\b\b\b\b\b\b\b\b\b\b\b\b\b\b\b\b\b\b\b\b\b\b\b\b\b\b\b\b\b\b\b\b\b\b\b\b\b\b\b\b\b\b\b\b\b\b\b\b\b\b\b\b\b\b\b\b\b\b\b\b\b\b\b\b\b\b\b\b\b\b\b\b\b\b\b\b\b\b\b\b\b\b\b\b\b\b\b\b\b\b\b\b\b\b\b\b\b\b\b\b\b\b\b\b\b\b\b\b\b\b\b\b\b\b\b\b\b\b\b\b\b\b\b\r48/48 [==============================] - 8s 170ms/step - total_loss: 0.2204 - illumination_smoothness_loss: 1.0566e-04 - spatial_constancy_loss: 0.0502 - color_constancy: 0.0047 - exposure_control_loss: 0.1656 - val_total_loss: 0.2239 - val_illumination_smoothness_loss: 7.6276e-05 - val_spatial_constancy_loss: 0.0468 - val_color_constancy: 9.8560e-04 - val_exposure_control_loss: 0.1751\n",
            "Epoch 97/100\n",
            "48/48 [==============================] - ETA: 0s - total_loss: 0.2200 - illumination_smoothness_loss: 1.0559e-04 - spatial_constancy_loss: 0.0507 - color_constancy: 0.0048 - exposure_control_loss: 0.1649"
          ]
        },
        {
          "output_type": "stream",
          "name": "stderr",
          "text": [
            "WARNING:tensorflow:Compiled the loaded model, but the compiled metrics have yet to be built. `model.compile_metrics` will be empty until you train or evaluate the model.\n",
            "\u001b[34m\u001b[1mwandb\u001b[0m: Adding directory to artifact (./checkpoint)... Done. 0.0s\n"
          ]
        },
        {
          "output_type": "stream",
          "name": "stdout",
          "text": [
            "\b\b\b\b\b\b\b\b\b\b\b\b\b\b\b\b\b\b\b\b\b\b\b\b\b\b\b\b\b\b\b\b\b\b\b\b\b\b\b\b\b\b\b\b\b\b\b\b\b\b\b\b\b\b\b\b\b\b\b\b\b\b\b\b\b\b\b\b\b\b\b\b\b\b\b\b\b\b\b\b\b\b\b\b\b\b\b\b\b\b\b\b\b\b\b\b\b\b\b\b\b\b\b\b\b\b\b\b\b\b\b\b\b\b\b\b\b\b\b\b\b\b\b\b\b\b\b\b\b\b\b\b\b\b\b\b\b\b\b\b\b\b\b\b\b\b\b\b\b\b\b\b\b\b\b\b\b\b\b\b\b\b\b\b\b\b\b\b\b\b\b\b\b\b\b\b\b\b\b\b\b\b\b\b\b\b\b\b\b\b\b\b\b\b\b\b\b\b\b\b\b\b\b\r48/48 [==============================] - 9s 183ms/step - total_loss: 0.2204 - illumination_smoothness_loss: 1.0458e-04 - spatial_constancy_loss: 0.0502 - color_constancy: 0.0047 - exposure_control_loss: 0.1657 - val_total_loss: 0.2239 - val_illumination_smoothness_loss: 7.7784e-05 - val_spatial_constancy_loss: 0.0469 - val_color_constancy: 9.8698e-04 - val_exposure_control_loss: 0.1749\n",
            "Epoch 98/100\n",
            "48/48 [==============================] - ETA: 0s - total_loss: 0.2200 - illumination_smoothness_loss: 1.0621e-04 - spatial_constancy_loss: 0.0507 - color_constancy: 0.0048 - exposure_control_loss: 0.1648"
          ]
        },
        {
          "output_type": "stream",
          "name": "stderr",
          "text": [
            "WARNING:tensorflow:Compiled the loaded model, but the compiled metrics have yet to be built. `model.compile_metrics` will be empty until you train or evaluate the model.\n",
            "\u001b[34m\u001b[1mwandb\u001b[0m: Adding directory to artifact (./checkpoint)... Done. 0.0s\n"
          ]
        },
        {
          "output_type": "stream",
          "name": "stdout",
          "text": [
            "\b\b\b\b\b\b\b\b\b\b\b\b\b\b\b\b\b\b\b\b\b\b\b\b\b\b\b\b\b\b\b\b\b\b\b\b\b\b\b\b\b\b\b\b\b\b\b\b\b\b\b\b\b\b\b\b\b\b\b\b\b\b\b\b\b\b\b\b\b\b\b\b\b\b\b\b\b\b\b\b\b\b\b\b\b\b\b\b\b\b\b\b\b\b\b\b\b\b\b\b\b\b\b\b\b\b\b\b\b\b\b\b\b\b\b\b\b\b\b\b\b\b\b\b\b\b\b\b\b\b\b\b\b\b\b\b\b\b\b\b\b\b\b\b\b\b\b\b\b\b\b\b\b\b\b\b\b\b\b\b\b\b\b\b\b\b\b\b\b\b\b\b\b\b\b\b\b\b\b\b\b\b\b\b\b\b\b\b\b\b\b\b\b\b\b\b\b\b\b\b\b\b\b\r48/48 [==============================] - 9s 185ms/step - total_loss: 0.2203 - illumination_smoothness_loss: 1.0516e-04 - spatial_constancy_loss: 0.0503 - color_constancy: 0.0047 - exposure_control_loss: 0.1656 - val_total_loss: 0.2239 - val_illumination_smoothness_loss: 7.5830e-05 - val_spatial_constancy_loss: 0.0468 - val_color_constancy: 9.8331e-04 - val_exposure_control_loss: 0.1751\n",
            "Epoch 99/100\n",
            "48/48 [==============================] - ETA: 0s - total_loss: 0.2200 - illumination_smoothness_loss: 1.0514e-04 - spatial_constancy_loss: 0.0507 - color_constancy: 0.0048 - exposure_control_loss: 0.1648"
          ]
        },
        {
          "output_type": "stream",
          "name": "stderr",
          "text": [
            "WARNING:tensorflow:Compiled the loaded model, but the compiled metrics have yet to be built. `model.compile_metrics` will be empty until you train or evaluate the model.\n",
            "\u001b[34m\u001b[1mwandb\u001b[0m: Adding directory to artifact (./checkpoint)... Done. 0.0s\n"
          ]
        },
        {
          "output_type": "stream",
          "name": "stdout",
          "text": [
            "\b\b\b\b\b\b\b\b\b\b\b\b\b\b\b\b\b\b\b\b\b\b\b\b\b\b\b\b\b\b\b\b\b\b\b\b\b\b\b\b\b\b\b\b\b\b\b\b\b\b\b\b\b\b\b\b\b\b\b\b\b\b\b\b\b\b\b\b\b\b\b\b\b\b\b\b\b\b\b\b\b\b\b\b\b\b\b\b\b\b\b\b\b\b\b\b\b\b\b\b\b\b\b\b\b\b\b\b\b\b\b\b\b\b\b\b\b\b\b\b\b\b\b\b\b\b\b\b\b\b\b\b\b\b\b\b\b\b\b\b\b\b\b\b\b\b\b\b\b\b\b\b\b\b\b\b\b\b\b\b\b\b\b\b\b\b\b\b\b\b\b\b\b\b\b\b\b\b\b\b\b\b\b\b\b\b\b\b\b\b\b\b\b\b\b\b\b\b\b\b\b\b\b\r48/48 [==============================] - 9s 179ms/step - total_loss: 0.2203 - illumination_smoothness_loss: 1.0416e-04 - spatial_constancy_loss: 0.0502 - color_constancy: 0.0047 - exposure_control_loss: 0.1657 - val_total_loss: 0.2239 - val_illumination_smoothness_loss: 7.9487e-05 - val_spatial_constancy_loss: 0.0469 - val_color_constancy: 9.8550e-04 - val_exposure_control_loss: 0.1749\n",
            "Epoch 100/100\n",
            "48/48 [==============================] - ETA: 0s - total_loss: 0.2200 - illumination_smoothness_loss: 1.0564e-04 - spatial_constancy_loss: 0.0507 - color_constancy: 0.0048 - exposure_control_loss: 0.1647"
          ]
        },
        {
          "output_type": "stream",
          "name": "stderr",
          "text": [
            "WARNING:tensorflow:Compiled the loaded model, but the compiled metrics have yet to be built. `model.compile_metrics` will be empty until you train or evaluate the model.\n",
            "\u001b[34m\u001b[1mwandb\u001b[0m: Adding directory to artifact (./checkpoint)... Done. 0.0s\n"
          ]
        },
        {
          "output_type": "stream",
          "name": "stdout",
          "text": [
            "\b\b\b\b\b\b\b\b\b\b\b\b\b\b\b\b\b\b\b\b\b\b\b\b\b\b\b\b\b\b\b\b\b\b\b\b\b\b\b\b\b\b\b\b\b\b\b\b\b\b\b\b\b\b\b\b\b\b\b\b\b\b\b\b\b\b\b\b\b\b\b\b\b\b\b\b\b\b\b\b\b\b\b\b\b\b\b\b\b\b\b\b\b\b\b\b\b\b\b\b\b\b\b\b\b\b\b\b\b\b\b\b\b\b\b\b\b\b\b\b\b\b\b\b\b\b\b\b\b\b\b\b\b\b\b\b\b\b\b\b\b\b\b\b\b\b\b\b\b\b\b\b\b\b\b\b\b\b\b\b\b\b\b\b\b\b\b\b\b\b\b\b\b\b\b\b\b\b\b\b\b\b\b\b\b\b\b\b\b\b\b\b\b\b\b\b\b\b\b\b\b\b\b\r48/48 [==============================] - 8s 172ms/step - total_loss: 0.2203 - illumination_smoothness_loss: 1.0461e-04 - spatial_constancy_loss: 0.0503 - color_constancy: 0.0047 - exposure_control_loss: 0.1656 - val_total_loss: 0.2239 - val_illumination_smoothness_loss: 7.7164e-05 - val_spatial_constancy_loss: 0.0468 - val_color_constancy: 9.8159e-04 - val_exposure_control_loss: 0.1751\n"
          ]
        },
        {
          "output_type": "execute_result",
          "data": {
            "text/plain": [
              "<keras.src.callbacks.History at 0x7d03e26a2080>"
            ]
          },
          "metadata": {},
          "execution_count": 5
        }
      ],
      "source": [
        "callbacks = [\n",
        "    WandbMetricsLogger(log_freq=\"batch\"),\n",
        "    WandbModelCheckpoint(\n",
        "        filepath=\"checkpoint\",\n",
        "        monitor=\"val_loss\",\n",
        "        save_best_only=False,\n",
        "        save_weights_only=False,\n",
        "        initial_value_threshold=None,\n",
        "    )\n",
        "]\n",
        "\n",
        "model.fit(\n",
        "    train_dataset,\n",
        "    validation_data=val_dataset,\n",
        "    epochs=100,\n",
        "    callbacks=callbacks,\n",
        ")"
      ]
    },
    {
      "cell_type": "code",
      "execution_count": null,
      "metadata": {
        "vscode": {
          "languageId": "python"
        },
        "id": "zNeKfZY-BHrr",
        "colab": {
          "base_uri": "https://localhost:8080/",
          "height": 572,
          "referenced_widgets": [
            "eb31c7230e2b44ae9c6106aba77d47b7",
            "bb8123e6322f4c9d9bff995673e0e6f7",
            "e39f0a10938b4f0794c4090bc5bf16f9",
            "2efd1661febe49b99aacb26040c8808c",
            "ab0623a52e7c4675be5ee5196f164dca",
            "70fb0e09fa484ca2b582cecba5fe9dfb",
            "ad096dc5dce34f33a970c66c83b7fc2d",
            "26f5e165950b4af384383cff84a3c21f"
          ]
        },
        "outputId": "d7c11e58-b5a1-44b8-d93b-4fd27dd59a2e"
      },
      "outputs": [
        {
          "output_type": "display_data",
          "data": {
            "text/plain": [
              "VBox(children=(Label(value='51.956 MB of 51.956 MB uploaded\\r'), FloatProgress(value=1.0, max=1.0)))"
            ],
            "application/vnd.jupyter.widget-view+json": {
              "version_major": 2,
              "version_minor": 0,
              "model_id": "eb31c7230e2b44ae9c6106aba77d47b7"
            }
          },
          "metadata": {}
        },
        {
          "output_type": "display_data",
          "data": {
            "text/plain": [
              "<IPython.core.display.HTML object>"
            ],
            "text/html": [
              "<style>\n",
              "    table.wandb td:nth-child(1) { padding: 0 10px; text-align: left ; width: auto;} td:nth-child(2) {text-align: left ; width: 100%}\n",
              "    .wandb-row { display: flex; flex-direction: row; flex-wrap: wrap; justify-content: flex-start; width: 100% }\n",
              "    .wandb-col { display: flex; flex-direction: column; flex-basis: 100%; flex: 1; padding: 10px; }\n",
              "    </style>\n",
              "<div class=\"wandb-row\"><div class=\"wandb-col\"><h3>Run history:</h3><br/><table class=\"wandb\"><tr><td>batch/batch_step</td><td>▁▁▁▁▂▂▂▂▂▃▃▃▃▃▃▄▄▄▄▄▅▅▅▅▅▅▆▆▆▆▆▆▇▇▇▇▇███</td></tr><tr><td>batch/color_constancy</td><td>▁▁▁▂▂▆█▅▆█▆█▅▆█▅▆█▅▆▅▆█▅▆█▅▆█▅█▅▆█▅▆█▅▆█</td></tr><tr><td>batch/exposure_control_loss</td><td>█▇▇█▅▂▄▁▂▄▂▄▁▂▄▁▂▄▁▂▁▂▄▁▂▄▁▂▄▁▄▁▂▄▁▂▄▁▂▄</td></tr><tr><td>batch/illumination_smoothness_loss</td><td>█▆▂▂▂▂▁▁▁▁▁▁▁▁▁▁▁▁▁▁▁▁▁▁▁▁▁▁▁▁▁▁▁▁▁▁▁▁▁▁</td></tr><tr><td>batch/learning_rate</td><td>▁▁▁▁▁▁▁▁▁▁▁▁▁▁▁▁▁▁▁▁▁▁▁▁▁▁▁▁▁▁▁▁▁▁▁▁▁▁▁▁</td></tr><tr><td>batch/spatial_constancy_loss</td><td>▁▁▁▁▂█▄▇█▄█▄██▄██▄████▄██▄██▄█▄██▄██▄██▄</td></tr><tr><td>batch/total_loss</td><td>█▇▅▅▃▂▃▁▂▃▂▃▁▂▃▁▂▃▁▂▁▂▂▁▂▂▁▂▂▁▂▁▂▂▁▂▂▁▂▂</td></tr><tr><td>epoch/color_constancy</td><td>▁▁▁▁▃███████████████████████████████████</td></tr><tr><td>epoch/epoch</td><td>▁▁▁▁▂▂▂▂▂▃▃▃▃▃▃▄▄▄▄▄▅▅▅▅▅▅▆▆▆▆▆▇▇▇▇▇▇███</td></tr><tr><td>epoch/exposure_control_loss</td><td>██▇▇▅▁▁▁▁▁▁▁▁▁▁▁▁▁▁▁▁▁▁▁▁▁▁▁▁▁▁▁▁▁▁▁▁▁▁▁</td></tr><tr><td>epoch/illumination_smoothness_loss</td><td>█▃▂▂▂▁▁▁▁▁▁▁▁▁▁▁▁▁▁▁▁▁▁▁▁▁▁▁▁▁▁▁▁▁▁▁▁▁▁▁</td></tr><tr><td>epoch/learning_rate</td><td>▁▁▁▁▁▁▁▁▁▁▁▁▁▁▁▁▁▁▁▁▁▁▁▁▁▁▁▁▁▁▁▁▁▁▁▁▁▁▁▁</td></tr><tr><td>epoch/spatial_constancy_loss</td><td>▁▁▁▁▂▇██████████████████████████████████</td></tr><tr><td>epoch/total_loss</td><td>█▅▄▄▃▁▁▁▁▁▁▁▁▁▁▁▁▁▁▁▁▁▁▁▁▁▁▁▁▁▁▁▁▁▁▁▁▁▁▁</td></tr><tr><td>epoch/val_color_constancy</td><td>▁▁▂▂▅███████████████████████████████████</td></tr><tr><td>epoch/val_exposure_control_loss</td><td>██▇▇▅▁▁▁▁▁▁▁▁▁▁▁▁▁▁▁▁▁▁▁▁▁▁▁▁▁▁▁▁▁▁▁▁▁▁▁</td></tr><tr><td>epoch/val_illumination_smoothness_loss</td><td>█▃▂▂▂▁▁▁▁▁▁▁▁▁▁▁▁▁▁▁▁▁▁▁▁▁▁▁▁▁▁▁▁▁▁▁▁▁▁▁</td></tr><tr><td>epoch/val_spatial_constancy_loss</td><td>▁▁▁▁▂▇██████████████████████████████████</td></tr><tr><td>epoch/val_total_loss</td><td>█▅▄▄▃▁▁▁▁▁▁▁▁▁▁▁▁▁▁▁▁▁▁▁▁▁▁▁▁▁▁▁▁▁▁▁▁▁▁▁</td></tr></table><br/></div><div class=\"wandb-col\"><h3>Run summary:</h3><br/><table class=\"wandb\"><tr><td>batch/batch_step</td><td>4799</td></tr><tr><td>batch/color_constancy</td><td>0.00301</td></tr><tr><td>batch/exposure_control_loss</td><td>0.20521</td></tr><tr><td>batch/illumination_smoothness_loss</td><td>6e-05</td></tr><tr><td>batch/learning_rate</td><td>0.0001</td></tr><tr><td>batch/spatial_constancy_loss</td><td>0.02902</td></tr><tr><td>batch/total_loss</td><td>0.23684</td></tr><tr><td>epoch/color_constancy</td><td>0.00301</td></tr><tr><td>epoch/epoch</td><td>99</td></tr><tr><td>epoch/exposure_control_loss</td><td>0.20521</td></tr><tr><td>epoch/illumination_smoothness_loss</td><td>6e-05</td></tr><tr><td>epoch/learning_rate</td><td>0.0001</td></tr><tr><td>epoch/spatial_constancy_loss</td><td>0.02902</td></tr><tr><td>epoch/total_loss</td><td>0.23684</td></tr><tr><td>epoch/val_color_constancy</td><td>0.00098</td></tr><tr><td>epoch/val_exposure_control_loss</td><td>0.17507</td></tr><tr><td>epoch/val_illumination_smoothness_loss</td><td>8e-05</td></tr><tr><td>epoch/val_spatial_constancy_loss</td><td>0.04679</td></tr><tr><td>epoch/val_total_loss</td><td>0.22389</td></tr></table><br/></div></div>"
            ]
          },
          "metadata": {}
        },
        {
          "output_type": "display_data",
          "data": {
            "text/plain": [
              "<IPython.core.display.HTML object>"
            ],
            "text/html": [
              " View run <strong style=\"color:#cdcd00\">genial-smoke-8</strong> at: <a href='https://wandb.ai/konthorn/low-light-enhancement/runs/8jz0cmsm' target=\"_blank\">https://wandb.ai/konthorn/low-light-enhancement/runs/8jz0cmsm</a><br/> View job at <a href='https://wandb.ai/konthorn/low-light-enhancement/jobs/QXJ0aWZhY3RDb2xsZWN0aW9uOjEyNTgzMDgyMw==/version_details/v0' target=\"_blank\">https://wandb.ai/konthorn/low-light-enhancement/jobs/QXJ0aWZhY3RDb2xsZWN0aW9uOjEyNTgzMDgyMw==/version_details/v0</a><br/>Synced 5 W&B file(s), 0 media file(s), 506 artifact file(s) and 1 other file(s)"
            ]
          },
          "metadata": {}
        },
        {
          "output_type": "display_data",
          "data": {
            "text/plain": [
              "<IPython.core.display.HTML object>"
            ],
            "text/html": [
              "Find logs at: <code>./wandb/run-20231226_220323-8jz0cmsm/logs</code>"
            ]
          },
          "metadata": {}
        }
      ],
      "source": [
        "wandb.finish()"
      ]
    }
  ],
  "metadata": {
    "kernelspec": {
      "display_name": "Python 3",
      "name": "python3"
    },
    "colab": {
      "provenance": [],
      "gpuType": "T4",
      "toc_visible": true
    },
    "accelerator": "GPU",
    "widgets": {
      "application/vnd.jupyter.widget-state+json": {
        "eb31c7230e2b44ae9c6106aba77d47b7": {
          "model_module": "@jupyter-widgets/controls",
          "model_name": "VBoxModel",
          "model_module_version": "1.5.0",
          "state": {
            "_dom_classes": [],
            "_model_module": "@jupyter-widgets/controls",
            "_model_module_version": "1.5.0",
            "_model_name": "VBoxModel",
            "_view_count": null,
            "_view_module": "@jupyter-widgets/controls",
            "_view_module_version": "1.5.0",
            "_view_name": "VBoxView",
            "box_style": "",
            "children": [
              "IPY_MODEL_bb8123e6322f4c9d9bff995673e0e6f7",
              "IPY_MODEL_e39f0a10938b4f0794c4090bc5bf16f9"
            ],
            "layout": "IPY_MODEL_2efd1661febe49b99aacb26040c8808c"
          }
        },
        "bb8123e6322f4c9d9bff995673e0e6f7": {
          "model_module": "@jupyter-widgets/controls",
          "model_name": "LabelModel",
          "model_module_version": "1.5.0",
          "state": {
            "_dom_classes": [],
            "_model_module": "@jupyter-widgets/controls",
            "_model_module_version": "1.5.0",
            "_model_name": "LabelModel",
            "_view_count": null,
            "_view_module": "@jupyter-widgets/controls",
            "_view_module_version": "1.5.0",
            "_view_name": "LabelView",
            "description": "",
            "description_tooltip": null,
            "layout": "IPY_MODEL_ab0623a52e7c4675be5ee5196f164dca",
            "placeholder": "​",
            "style": "IPY_MODEL_70fb0e09fa484ca2b582cecba5fe9dfb",
            "value": "52.115 MB of 52.115 MB uploaded\r"
          }
        },
        "e39f0a10938b4f0794c4090bc5bf16f9": {
          "model_module": "@jupyter-widgets/controls",
          "model_name": "FloatProgressModel",
          "model_module_version": "1.5.0",
          "state": {
            "_dom_classes": [],
            "_model_module": "@jupyter-widgets/controls",
            "_model_module_version": "1.5.0",
            "_model_name": "FloatProgressModel",
            "_view_count": null,
            "_view_module": "@jupyter-widgets/controls",
            "_view_module_version": "1.5.0",
            "_view_name": "ProgressView",
            "bar_style": "",
            "description": "",
            "description_tooltip": null,
            "layout": "IPY_MODEL_ad096dc5dce34f33a970c66c83b7fc2d",
            "max": 1,
            "min": 0,
            "orientation": "horizontal",
            "style": "IPY_MODEL_26f5e165950b4af384383cff84a3c21f",
            "value": 1
          }
        },
        "2efd1661febe49b99aacb26040c8808c": {
          "model_module": "@jupyter-widgets/base",
          "model_name": "LayoutModel",
          "model_module_version": "1.2.0",
          "state": {
            "_model_module": "@jupyter-widgets/base",
            "_model_module_version": "1.2.0",
            "_model_name": "LayoutModel",
            "_view_count": null,
            "_view_module": "@jupyter-widgets/base",
            "_view_module_version": "1.2.0",
            "_view_name": "LayoutView",
            "align_content": null,
            "align_items": null,
            "align_self": null,
            "border": null,
            "bottom": null,
            "display": null,
            "flex": null,
            "flex_flow": null,
            "grid_area": null,
            "grid_auto_columns": null,
            "grid_auto_flow": null,
            "grid_auto_rows": null,
            "grid_column": null,
            "grid_gap": null,
            "grid_row": null,
            "grid_template_areas": null,
            "grid_template_columns": null,
            "grid_template_rows": null,
            "height": null,
            "justify_content": null,
            "justify_items": null,
            "left": null,
            "margin": null,
            "max_height": null,
            "max_width": null,
            "min_height": null,
            "min_width": null,
            "object_fit": null,
            "object_position": null,
            "order": null,
            "overflow": null,
            "overflow_x": null,
            "overflow_y": null,
            "padding": null,
            "right": null,
            "top": null,
            "visibility": null,
            "width": null
          }
        },
        "ab0623a52e7c4675be5ee5196f164dca": {
          "model_module": "@jupyter-widgets/base",
          "model_name": "LayoutModel",
          "model_module_version": "1.2.0",
          "state": {
            "_model_module": "@jupyter-widgets/base",
            "_model_module_version": "1.2.0",
            "_model_name": "LayoutModel",
            "_view_count": null,
            "_view_module": "@jupyter-widgets/base",
            "_view_module_version": "1.2.0",
            "_view_name": "LayoutView",
            "align_content": null,
            "align_items": null,
            "align_self": null,
            "border": null,
            "bottom": null,
            "display": null,
            "flex": null,
            "flex_flow": null,
            "grid_area": null,
            "grid_auto_columns": null,
            "grid_auto_flow": null,
            "grid_auto_rows": null,
            "grid_column": null,
            "grid_gap": null,
            "grid_row": null,
            "grid_template_areas": null,
            "grid_template_columns": null,
            "grid_template_rows": null,
            "height": null,
            "justify_content": null,
            "justify_items": null,
            "left": null,
            "margin": null,
            "max_height": null,
            "max_width": null,
            "min_height": null,
            "min_width": null,
            "object_fit": null,
            "object_position": null,
            "order": null,
            "overflow": null,
            "overflow_x": null,
            "overflow_y": null,
            "padding": null,
            "right": null,
            "top": null,
            "visibility": null,
            "width": null
          }
        },
        "70fb0e09fa484ca2b582cecba5fe9dfb": {
          "model_module": "@jupyter-widgets/controls",
          "model_name": "DescriptionStyleModel",
          "model_module_version": "1.5.0",
          "state": {
            "_model_module": "@jupyter-widgets/controls",
            "_model_module_version": "1.5.0",
            "_model_name": "DescriptionStyleModel",
            "_view_count": null,
            "_view_module": "@jupyter-widgets/base",
            "_view_module_version": "1.2.0",
            "_view_name": "StyleView",
            "description_width": ""
          }
        },
        "ad096dc5dce34f33a970c66c83b7fc2d": {
          "model_module": "@jupyter-widgets/base",
          "model_name": "LayoutModel",
          "model_module_version": "1.2.0",
          "state": {
            "_model_module": "@jupyter-widgets/base",
            "_model_module_version": "1.2.0",
            "_model_name": "LayoutModel",
            "_view_count": null,
            "_view_module": "@jupyter-widgets/base",
            "_view_module_version": "1.2.0",
            "_view_name": "LayoutView",
            "align_content": null,
            "align_items": null,
            "align_self": null,
            "border": null,
            "bottom": null,
            "display": null,
            "flex": null,
            "flex_flow": null,
            "grid_area": null,
            "grid_auto_columns": null,
            "grid_auto_flow": null,
            "grid_auto_rows": null,
            "grid_column": null,
            "grid_gap": null,
            "grid_row": null,
            "grid_template_areas": null,
            "grid_template_columns": null,
            "grid_template_rows": null,
            "height": null,
            "justify_content": null,
            "justify_items": null,
            "left": null,
            "margin": null,
            "max_height": null,
            "max_width": null,
            "min_height": null,
            "min_width": null,
            "object_fit": null,
            "object_position": null,
            "order": null,
            "overflow": null,
            "overflow_x": null,
            "overflow_y": null,
            "padding": null,
            "right": null,
            "top": null,
            "visibility": null,
            "width": null
          }
        },
        "26f5e165950b4af384383cff84a3c21f": {
          "model_module": "@jupyter-widgets/controls",
          "model_name": "ProgressStyleModel",
          "model_module_version": "1.5.0",
          "state": {
            "_model_module": "@jupyter-widgets/controls",
            "_model_module_version": "1.5.0",
            "_model_name": "ProgressStyleModel",
            "_view_count": null,
            "_view_module": "@jupyter-widgets/base",
            "_view_module_version": "1.2.0",
            "_view_name": "StyleView",
            "bar_color": null,
            "description_width": ""
          }
        }
      }
    }
  },
  "nbformat": 4,
  "nbformat_minor": 0
}